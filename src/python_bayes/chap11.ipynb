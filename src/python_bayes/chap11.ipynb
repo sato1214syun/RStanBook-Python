{
 "cells": [
  {
   "cell_type": "markdown",
   "metadata": {},
   "source": [
    "# Chapter11 離散値を取るパラメータを使う\n",
    "\n",
    "Stan最大の弱点は離散パラメータを扱えないことである。その問題の解決策を説明する。基本的には、場合の数を数え上げて離散パラメータを消去した形で対数尤度を表現することで対処する。\n",
    "\n",
    "## 11.1 離散パラメータを扱うテクニック\n",
    "\n",
    "離散パラメータを消去した形で対数尤度を表現するには、以下の方法がある。\n",
    "- target([4.3節参照](./chap04.ipynb#43-Stanのlp__とtarget))を使う方法\n",
    "- 和の対数を安定かつ高速に計算するlog_sum_exp関数を使う方法\n",
    "\n",
    "### 11.1.1 log_sum_exp関数\n",
    "\n",
    "log_sum_exp関数は以下のように使う\n",
    "\n",
    "```\n",
    "log_sum_exp(引数, ...)\n",
    "```\n",
    "\n",
    "引数は複数のreal型変数や、vector型・row_vector型・matrix型・配列のいずれかを取ることもできる。\n",
    "\n",
    "\n",
    "- real型変数を二つとる場合の使用例と定義\n",
    "  ```\n",
    "  log_sum_exp(real x, real y)\n",
    "  ```\n",
    "  $$\n",
    "  \\mathrm{\\log\\_sum\\_exp}(x, y) = \\log(\\exp(x) + \\exp(y))\n",
    "  $$\n",
    "\n",
    "- vector型変数をとる場合の使用例と定義\n",
    "  ```\n",
    "  log_sum_exp(vector x)\n",
    "  ```\n",
    "  $$\n",
    "  \\mathrm{\\log\\_sum\\_exp}\\left(\\left(\n",
    "    \\begin{array}{c}\n",
    "      x_1 \\\\ \\vdots \\\\ x_K\n",
    "    \\end{array}\n",
    "  \\right)\\right) = \\log \\left(\\sum_{k=1}^K \\exp(x_k) \\right)\n",
    "  $$\n",
    "\n",
    "この右辺が、log sum of exponentials になっているのでlog_sum_exp関数。また$\\exp(x_k)=u_k$と置き換えると以下の表現となる。\n",
    "\n",
    "$$\n",
    "\\mathrm{\\log\\_sum\\_exp}\\left(\\left(\n",
    "\\begin{array}{c}\n",
    "    \\log{u_1} \\\\ \\vdots \\\\ \\log{u_K}\n",
    "\\end{array}\n",
    "\\right)\\right) = \\log \\left(\\sum_{k=1}^K u_k \\right)\n",
    "$$\n",
    "\n",
    "この式を右辺から左辺への変形と見ると、$\\log$の引数である$\\Sigma$(足し算)を左辺では$\\Sigma$の各項の$\\log$を取ったベクトルに変換している。これは、$u_k$のいずれかが小さい値の積(例えば$a_k, b_k$)である場合に、\n",
    "- 右辺: $u_k = a_k \\times b_k$\n",
    "\n",
    "となる一方で、\n",
    "- 左辺: $\\log{u_k} = \\log{(a_k \\times b_k)} = \\log{a_k} + \\log{b_k}$\n",
    "\n",
    "と和で計算できるため、数値計算が安定するというメリットがある。このため$\\log$の引数に$\\Sigma$がある場合によく使われるが、$\\Sigma$の各項が正でなければ使えない点に注意。\n",
    "\n",
    "### 11.1.2 周辺化消去\n",
    "\n",
    "[9.5.1項](./chap09.ipynb#951)の説明にあるように、Stanではint型は宣言できない。そこでモデル式を変形し離散パラメータを消去する必要がある。その方法の一つとして、周辺化消去(summing out, marginalizing out)がある。具体的には、「場合の数をすべて数え上げて各々の場合の確率を算出して和をとることで、離散パラメータを消去する」という方法。以下に周辺化消去の例を二つ挙げる。\n",
    "\n",
    "- ベルヌーイ分布に従う離散パラメータ(コイントス)\n",
    "  ある高校に通う生徒を対象にした、喫煙したことがあるかのアンケートを考える。喫煙経験がある回答者もNoと答える場合があるだろう。そこで、回答者には隠れてコインを投げてもらい。表なら正直に回答してもらい、裏なら常にYesと回答してもらうとする。そして、100人分の回答データが得られたとする。\n",
    "  \n",
    "  \\\n",
    "  データファイル11.1 [data-coin.txt](chap11/input/data-coin.txt)\n",
    "  - $Y=1$はYesで$Y=0$はNoと回答したことを表す。\n",
    "  - コインの表が出る確率は0.5\n",
    "  - このデータから生徒が喫煙する確率$q$を推定する\n",
    "  \n",
    "  \\\n",
    "  モデル式11-1\n",
    "  $$\n",
    "  \\begin{align}\n",
    "  coin[n] &\\sim \\mathrm{Bernoulli}(0.5) &n = 1, \\ldots, N \\nonumber \\\\\n",
    "  \\theta[1] &= q \\nonumber \\\\\n",
    "  \\theta[2] &= 1.0 \\nonumber \\\\\n",
    "  Y[n] &\\sim \\mathrm{Bernoulli}(\\theta[coin[n] + 1]) &n = 1, \\ldots, N \\nonumber \\\\\n",
    "  \\end{align}\n",
    "  $$\n",
    "\n",
    "  - $N$: アンケートに答えた人数\n",
    "  - $n$: 生徒のインデックス\n",
    "  - $coin[n]$: 表なら0、裏なら1を取る確率変数\n",
    "  - $\\theta$: 生徒が喫煙経験あり(Yes)と回答する確率。コインが表なら確率$\\theta[1]=q$でYes、裏なら確率$\\theta[2]=1.0$で(常に)Yes\n",
    "  \\\n",
    "  このケースでは、$coin[n]$が離散パラメータ(int型)となる。ここでコイントスの「場合の数」を数え上げて和を取ることで、int型を消去する。\n",
    "\n",
    "  ![図11.1](chap11/output/fig11-1.png)\n",
    "  図11.1 一人にアンケートした場合の回答のメカニズム\n",
    "\n",
    "  図11.1で示されるように、一人にアンケートを取った場合は、コインが表の場合と裏の場合の二通りがあり確率$p(y|q)$は両方の確率の和と等しい。これは以下の式で表され、この式は積分すると1となるため確率分布である。\n",
    "\n",
    "  $$\n",
    "  p(y|q) = 0.5 \\times \\mathrm{Bernoulli}(y|q) + 0.5 \\times \\mathrm{Bernoulli}(y|1.0)\n",
    "  $$\n",
    "  \n",
    "  このように途中のコイントスの結果(離散パラメータ)を知らなくても裏と表の場合分けの確率が分かれば、最終的な確率が求められる。以上により一人にアンケートした場合の尤度は以下となる。\n",
    "\n",
    "  $$\n",
    "  p(Y|q) = 0.5 \\times \\mathrm{Bermoulli}(Y|q) + 0.5 \\times \\mathrm{Bernouli}(Y|1.0)\n",
    "  $$\n",
    "\n",
    "  この式をStanで実装するには対数をとって、対数尤度を求めて、targetを使った記法で足せばいい。対数尤度に前項のlog_sum_exp関数を使うと以下になる。\n",
    "\n",
    "  $$\n",
    "  \\begin{align}\n",
    "  \\log p(Y|q) = \\mathrm{log\\_sum\\_exp}(&\\log{0.5} + \\log{\\mathrm{Bernoulli}(Y|q)}, \\nonumber \\\\\n",
    "  &\\log{0.5} + \\log{\\mathrm{Bernoulli}(Y|1.0)}) \\nonumber\n",
    "  \\end{align}\n",
    "  $$\n",
    "\n",
    "  Stanモデルの実装例[model11-1.stan](chap11/model/model11-1.stan)\n",
    "  \n",
    "  modelブロックが上式に対応している。$\\log{\\mathrm{Bernoulli}}$の代わりにbernoulli_lpmf関数を使用している。(lpmfはlog probability mass functionの略)"
   ]
  },
  {
   "cell_type": "code",
   "execution_count": 7,
   "metadata": {},
   "outputs": [
    {
     "name": "stderr",
     "output_type": "stream",
     "text": [
      "11:18:08 - cmdstanpy - INFO - CmdStan start processing\n"
     ]
    },
    {
     "data": {
      "application/vnd.jupyter.widget-view+json": {
       "model_id": "f905bb7db63b43ccb4bad3f6aed649ff",
       "version_major": 2,
       "version_minor": 0
      },
      "text/plain": [
       "chain 1 |          | 00:00 Status"
      ]
     },
     "metadata": {},
     "output_type": "display_data"
    },
    {
     "data": {
      "application/vnd.jupyter.widget-view+json": {
       "model_id": "4f26f2d583454f248afed08d35f49feb",
       "version_major": 2,
       "version_minor": 0
      },
      "text/plain": [
       "chain 2 |          | 00:00 Status"
      ]
     },
     "metadata": {},
     "output_type": "display_data"
    },
    {
     "data": {
      "application/vnd.jupyter.widget-view+json": {
       "model_id": "c0c0f018056b46cf80112480447c8c20",
       "version_major": 2,
       "version_minor": 0
      },
      "text/plain": [
       "chain 3 |          | 00:00 Status"
      ]
     },
     "metadata": {},
     "output_type": "display_data"
    },
    {
     "data": {
      "application/vnd.jupyter.widget-view+json": {
       "model_id": "5a411cdad4fc4e24bd8cb8d2adf5a91e",
       "version_major": 2,
       "version_minor": 0
      },
      "text/plain": [
       "chain 4 |          | 00:00 Status"
      ]
     },
     "metadata": {},
     "output_type": "display_data"
    },
    {
     "name": "stdout",
     "output_type": "stream",
     "text": [
      "                                                                                                                                                                                                                                                                                                                                "
     ]
    },
    {
     "name": "stderr",
     "output_type": "stream",
     "text": [
      "11:18:08 - cmdstanpy - INFO - CmdStan done processing.\n"
     ]
    },
    {
     "name": "stdout",
     "output_type": "stream",
     "text": [
      "\n"
     ]
    },
    {
     "data": {
      "text/html": [
       "<div>\n",
       "<style scoped>\n",
       "    .dataframe tbody tr th:only-of-type {\n",
       "        vertical-align: middle;\n",
       "    }\n",
       "\n",
       "    .dataframe tbody tr th {\n",
       "        vertical-align: top;\n",
       "    }\n",
       "\n",
       "    .dataframe thead th {\n",
       "        text-align: right;\n",
       "    }\n",
       "</style>\n",
       "<table border=\"1\" class=\"dataframe\">\n",
       "  <thead>\n",
       "    <tr style=\"text-align: right;\">\n",
       "      <th></th>\n",
       "      <th>Mean</th>\n",
       "      <th>MCSE</th>\n",
       "      <th>StdDev</th>\n",
       "      <th>2%</th>\n",
       "      <th>50%</th>\n",
       "      <th>97%</th>\n",
       "      <th>N_Eff</th>\n",
       "      <th>N_Eff/s</th>\n",
       "      <th>R_hat</th>\n",
       "    </tr>\n",
       "  </thead>\n",
       "  <tbody>\n",
       "    <tr>\n",
       "      <th>lp__</th>\n",
       "      <td>-69.761200</td>\n",
       "      <td>0.035153</td>\n",
       "      <td>0.938991</td>\n",
       "      <td>-72.600400</td>\n",
       "      <td>-69.399700</td>\n",
       "      <td>-69.080500</td>\n",
       "      <td>713.501</td>\n",
       "      <td>4459.38</td>\n",
       "      <td>1.00091</td>\n",
       "    </tr>\n",
       "    <tr>\n",
       "      <th>q</th>\n",
       "      <td>0.198501</td>\n",
       "      <td>0.003089</td>\n",
       "      <td>0.092628</td>\n",
       "      <td>0.026012</td>\n",
       "      <td>0.196153</td>\n",
       "      <td>0.378385</td>\n",
       "      <td>899.432</td>\n",
       "      <td>5621.45</td>\n",
       "      <td>1.00240</td>\n",
       "    </tr>\n",
       "  </tbody>\n",
       "</table>\n",
       "</div>"
      ],
      "text/plain": [
       "           Mean      MCSE    StdDev         2%        50%        97%    N_Eff  \\\n",
       "lp__ -69.761200  0.035153  0.938991 -72.600400 -69.399700 -69.080500  713.501   \n",
       "q      0.198501  0.003089  0.092628   0.026012   0.196153   0.378385  899.432   \n",
       "\n",
       "      N_Eff/s    R_hat  \n",
       "lp__  4459.38  1.00091  \n",
       "q     5621.45  1.00240  "
      ]
     },
     "execution_count": 7,
     "metadata": {},
     "output_type": "execute_result"
    }
   ],
   "source": [
    "import polars as pl\n",
    "from cmdstanpy import CmdStanModel\n",
    "\n",
    "\"\"\"モデル11-1の実行\"\"\"\n",
    "coin_df = pl.read_csv(\"./chap11/input/data-coin.txt\")\n",
    "\n",
    "data = {\n",
    "    \"N\": coin_df.shape[0],\n",
    "    \"Y\": coin_df[\"Y\"].to_list(),\n",
    "}\n",
    "\n",
    "sm = CmdStanModel(stan_file=\"./chap11/model/model11-1.stan\")\n",
    "fit = sm.sample(data=data, seed=1234)\n",
    "\n",
    "fit.summary(percentiles=(2, 50, 97))"
   ]
  },
  {
   "cell_type": "markdown",
   "metadata": {},
   "source": [
    "- ポアソン分布に従う離散パラメータ\n",
    "  ここでは、喫煙のアンケートに対して単純なコイントスではなく以下の操作を行ったとする。\n",
    "  1. 未知のパラメータ$\\lambda$のポアソン分布から乱数を発生させる\n",
    "  2. ポアソン分布から出力された値$m$の枚数のコインを一度に投げ、そのうち表が出た枚数を記録して$Y$とする\n",
    "  3. この乱数を発生させて$Y$を記録する一連の動作を100回繰り返してデータを得る\n",
    "  \n",
    "  ここで、$Y$の最大値は9であった。また、コイントスで表が出る確率は0.5とし。このデータから$\\lambda$を推定する。\n",
    "  \n",
    "  \\\n",
    "  データファイル11.2 [data-poisson-binomial.txt](chap11/input/data-poisson-binomial.txt)\n",
    "  \n",
    "  モデル式11-2\n",
    "  $$\n",
    "  \\begin{align}\n",
    "  m[n] &\\sim \\mathrm{Poisson}(\\lambda) &n = 1, \\ldots, N \\nonumber \\\\\n",
    "  Y[n] &\\sim \\mathrm{Binomial}(m[n], 0.5) &n = 1, \\ldots, N \\nonumber\n",
    "  \\end{align}\n",
    "  $$\n",
    "\n",
    "  ここで、$N$は記録の数、$n$はそのインデックス。n回目の試行時のコインの枚数$m[n]$は記録が残っていないため離散パラメータとなる。前の例のようにmの場合の数を数え上げて和を取って消去する。まずは一つ分の記録の尤度を考えると以下となる。右辺の各行が$m = 0, 1, 2, \\ldots$の場合を表す。\n",
    "\n",
    "  $$\n",
    "  \\begin{align}\n",
    "  p(Y|\\lambda) = &\\mathrm{Poisson}(0|\\lambda) \\times \\mathrm{Binomial}(Y|0, 0.5) + \\nonumber \\\\\n",
    "  &\\mathrm{Poisson}(1|\\lambda) \\times \\mathrm{Binomial}(Y|1, 0.5) + \\nonumber \\\\\n",
    "  &\\mathrm{Poisson}(2|\\lambda) \\times \\mathrm{Binomial}(Y|2, 0.5) + \\nonumber \\\\\n",
    "  &\\cdots \\nonumber\n",
    "  \\end{align}\n",
    "  $$\n",
    "  \n",
    "  場合の数は無限個だが、ここで以下の2つの条件を考慮する\n",
    "  1. $Y$の最大値は9なので、$m$については高々40までを考慮すればよい。\\\n",
    "  なぜなら$\\mathrm{Binomial}(9|40, 0.5)$の場合は、$\\mathrm{Binomial}(9|m, 0.5)$($m=12\\sim25$くらいの場合)と比べ非常に小さいので[<sup>2)</sup>](#fn2)、$m \\gt 40$の場合は無視してよい。\n",
    "  2. $m \\lt Y$の場合には$\\mathrm{Binomial}(Y|m, 0.5)$は0となる\n",
    "  \n",
    "  \\\n",
    "  以上を整理すると、尤度は以下の式となる。\n",
    "  $$\n",
    "  p(Y|\\lambda) = \\sum_{m=Y}^{40}[\\mathrm{Poisson}(m|\\lambda) \\times \\mathrm{Binomial}(Y|m, 0.5)]\n",
    "  $$\n",
    "\n",
    "  実装に必要な対数尤度は、上式の対数を取ってlog_sum_exp関数を使う。\n",
    "  $$\n",
    "  \\begin{align}\n",
    "  \\log{p(Y|\\lambda)} &= \\log{\\left(\\sum_{m=Y}^{40}[\\mathrm{Poisson}(m|\\lambda) \\times \\mathrm{Binomial}(Y|m, 0.5)] \\right)} \\nonumber \\\\\n",
    "  &= \\mathrm{log\\_sum\\_exp} \\left(\\left(\n",
    "    \\begin{array}{ll}\n",
    "    \\log{\\mathrm{Poisson}(Y|\\lambda)} & + \\log{\\mathrm{Binomial}(Y|Y, 0.5)} \\\\\n",
    "    \\log{\\mathrm{Poisson}(Y+1|\\lambda)} & + \\log{\\mathrm{Binomial}(Y|Y+1, 0.5)} \\\\ \n",
    "    &\\vdots \\\\ \n",
    "    \\log{\\mathrm{Poisson}(40|\\lambda)} & + \\log{\\mathrm{Binomial}(Y|40, 0.5)} \\\\ \n",
    "    \\end{array}\n",
    "  \\right)\\right) \\nonumber \\\\\n",
    "  \\end{align}\n",
    "  $$\n",
    "\n",
    "  この対数尤度をN個の記録に拡張するには単純にfor文でN回繰り返す。\n",
    "\n",
    "  \\\n",
    "  モデル式11-2の実装例 [model11-2.stan](chap11/model/model11-2.stan)\n",
    "\n",
    ">[<sup>2)</sup>](#fn2-back) $\\mathrm{Binomial}(9|40, 0.5)$は$2.5 \\times 10^{-4}$ほど。Rではdbinom(9, size=40, prob=0.5)で計算できる。"
   ]
  },
  {
   "cell_type": "code",
   "execution_count": 10,
   "metadata": {},
   "outputs": [
    {
     "name": "stdout",
     "output_type": "stream",
     "text": [
      "Binominal(9|12, 0.5)の確率は5.371094e-02\n",
      "Binominal(9|13, 0.5)の確率は8.728027e-02\n",
      "Binominal(9|14, 0.5)の確率は1.221924e-01\n",
      "Binominal(9|15, 0.5)の確率は1.527405e-01\n",
      "Binominal(9|16, 0.5)の確率は1.745605e-01\n",
      "Binominal(9|17, 0.5)の確率は1.854706e-01\n",
      "Binominal(9|18, 0.5)の確率は1.854706e-01\n",
      "Binominal(9|19, 0.5)の確率は1.761971e-01\n",
      "Binominal(9|20, 0.5)の確率は1.601791e-01\n",
      "Binominal(9|21, 0.5)の確率は1.401567e-01\n",
      "Binominal(9|22, 0.5)の確率は1.185942e-01\n",
      "Binominal(9|23, 0.5)の確率は9.741664e-02\n",
      "Binominal(9|24, 0.5)の確率は7.793331e-02\n",
      "Binominal(9|25, 0.5)の確率は6.088540e-02\n",
      "Binominal(9|40, 0.5)の確率は2.486912e-04\n"
     ]
    }
   ],
   "source": [
    "from scipy.stats import binom\n",
    "\n",
    "\"\"\"Binominal(9|40, 0.5)の検証\"\"\"\n",
    "x, n, p = 9, 40, 0.5\n",
    "binom.pmf(x, n, p)\n",
    "\n",
    "for m in range(12, 26):\n",
    "    print(f\"Binominal({x}|{m}, {p})の確率は{binom.pmf(x, m, p):e}\")  # noqa: T201\n",
    "\n",
    "print(f\"Binominal({x}|{n}, {p})の確率は{binom.pmf(x, n, p):e}\")  # noqa: T201"
   ]
  },
  {
   "cell_type": "code",
   "execution_count": 12,
   "metadata": {},
   "outputs": [
    {
     "name": "stderr",
     "output_type": "stream",
     "text": [
      "19:27:59 - cmdstanpy - INFO - CmdStan start processing\n"
     ]
    },
    {
     "data": {
      "application/vnd.jupyter.widget-view+json": {
       "model_id": "12035c23e5344418b8271de1ab484e9d",
       "version_major": 2,
       "version_minor": 0
      },
      "text/plain": [
       "chain 1 |          | 00:00 Status"
      ]
     },
     "metadata": {},
     "output_type": "display_data"
    },
    {
     "data": {
      "application/vnd.jupyter.widget-view+json": {
       "model_id": "335e01bfb7ee4132b5ba87ea66bee3e1",
       "version_major": 2,
       "version_minor": 0
      },
      "text/plain": [
       "chain 2 |          | 00:00 Status"
      ]
     },
     "metadata": {},
     "output_type": "display_data"
    },
    {
     "data": {
      "application/vnd.jupyter.widget-view+json": {
       "model_id": "84045ded7f064914a35ab6938c8217b2",
       "version_major": 2,
       "version_minor": 0
      },
      "text/plain": [
       "chain 3 |          | 00:00 Status"
      ]
     },
     "metadata": {},
     "output_type": "display_data"
    },
    {
     "data": {
      "application/vnd.jupyter.widget-view+json": {
       "model_id": "8a03372f2108439197169c6dc78c42a0",
       "version_major": 2,
       "version_minor": 0
      },
      "text/plain": [
       "chain 4 |          | 00:00 Status"
      ]
     },
     "metadata": {},
     "output_type": "display_data"
    },
    {
     "name": "stdout",
     "output_type": "stream",
     "text": [
      "                                                                                                                                                                                                                                                                                                                                "
     ]
    },
    {
     "name": "stderr",
     "output_type": "stream",
     "text": [
      "19:28:01 - cmdstanpy - INFO - CmdStan done processing.\n"
     ]
    },
    {
     "name": "stdout",
     "output_type": "stream",
     "text": [
      "\n"
     ]
    },
    {
     "data": {
      "text/html": [
       "<div>\n",
       "<style scoped>\n",
       "    .dataframe tbody tr th:only-of-type {\n",
       "        vertical-align: middle;\n",
       "    }\n",
       "\n",
       "    .dataframe tbody tr th {\n",
       "        vertical-align: top;\n",
       "    }\n",
       "\n",
       "    .dataframe thead th {\n",
       "        text-align: right;\n",
       "    }\n",
       "</style>\n",
       "<table border=\"1\" class=\"dataframe\">\n",
       "  <thead>\n",
       "    <tr style=\"text-align: right;\">\n",
       "      <th></th>\n",
       "      <th>Mean</th>\n",
       "      <th>MCSE</th>\n",
       "      <th>StdDev</th>\n",
       "      <th>2%</th>\n",
       "      <th>50%</th>\n",
       "      <th>97%</th>\n",
       "      <th>N_Eff</th>\n",
       "      <th>N_Eff/s</th>\n",
       "      <th>R_hat</th>\n",
       "    </tr>\n",
       "  </thead>\n",
       "  <tbody>\n",
       "    <tr>\n",
       "      <th>lp__</th>\n",
       "      <td>-211.9760</td>\n",
       "      <td>0.016077</td>\n",
       "      <td>0.680485</td>\n",
       "      <td>-214.14600</td>\n",
       "      <td>-211.7050</td>\n",
       "      <td>-211.4680</td>\n",
       "      <td>1791.54</td>\n",
       "      <td>427.372</td>\n",
       "      <td>1.00034</td>\n",
       "    </tr>\n",
       "    <tr>\n",
       "      <th>lambda</th>\n",
       "      <td>9.5832</td>\n",
       "      <td>0.011563</td>\n",
       "      <td>0.441039</td>\n",
       "      <td>8.70902</td>\n",
       "      <td>9.5731</td>\n",
       "      <td>10.4213</td>\n",
       "      <td>1454.77</td>\n",
       "      <td>347.035</td>\n",
       "      <td>1.00065</td>\n",
       "    </tr>\n",
       "  </tbody>\n",
       "</table>\n",
       "</div>"
      ],
      "text/plain": [
       "            Mean      MCSE    StdDev         2%       50%       97%    N_Eff  \\\n",
       "lp__   -211.9760  0.016077  0.680485 -214.14600 -211.7050 -211.4680  1791.54   \n",
       "lambda    9.5832  0.011563  0.441039    8.70902    9.5731   10.4213  1454.77   \n",
       "\n",
       "        N_Eff/s    R_hat  \n",
       "lp__    427.372  1.00034  \n",
       "lambda  347.035  1.00065  "
      ]
     },
     "execution_count": 12,
     "metadata": {},
     "output_type": "execute_result"
    }
   ],
   "source": [
    "import polars as pl\n",
    "from cmdstanpy import CmdStanModel\n",
    "\n",
    "\"\"\"モデル式11-2の実行\"\"\"\n",
    "poisson_binominal_df = pl.read_csv(\"./chap11/input/data-poisson-binomial.txt\")\n",
    "\n",
    "data = {\n",
    "    \"N\": poisson_binominal_df.shape[0],\n",
    "    \"M_max\": 40,\n",
    "    \"Y\": poisson_binominal_df[\"Y\"].to_list(),\n",
    "}\n",
    "\n",
    "sm = CmdStanModel(stan_file=\"./chap11/model/model11-2.stan\")\n",
    "fit = sm.sample(data=data, seed=1234)\n",
    "\n",
    "fit.summary(percentiles=(2, 50, 97))"
   ]
  },
  {
   "cell_type": "markdown",
   "metadata": {},
   "source": [
    "### 11.1.3 公式の活用\n",
    "\n",
    "周辺化消去は、一般的に組み合わせ爆発などによって場合の数が非常に多くなるときは使えない。例えば前項の「ポアソン分布に従う離散パラメータ」の例題でいうと、データYの最大値が9よりもっと大きな値の場合には、mについて非常に大きな値を考慮する必要があり、現実的な時間内に推定できない。しかし、公式の活用によって離散パラメータを消去できることがしばしばある。実は前項の「ポアソン分布に従う離散パラメータ」の例題もその一例である。モデル式は以下となる。\n",
    "\n",
    "モデル式11-3\n",
    "$$\n",
    "\\begin{align}\n",
    "m &\\sim \\mathrm{Poisson}(\\lambda) \\nonumber \\\\\n",
    "Y &\\sim \\mathrm{Biromial}(m, p) \\nonumber\n",
    "\\end{align}\n",
    "$$\n",
    "このモデル式はmを消去して以下のように書き直す事ができる。\n",
    "\n",
    "モデル式11-4\n",
    "$$\n",
    "Y \\sim \\mathrm{Poisson}(\\lambda p)\n",
    "$$\n",
    "以下は証明。\n",
    "$$\n",
    "\\begin{align}\n",
    "  &\\sum_{m=0}^{\\infty} [\\mathrm{Poisson}(m|\\lambda) \\times \\mathrm{Binomial}(Y|m, p)] \\nonumber \\\\\n",
    "= &\\sum_{m=Y}^{\\infty} \\left[ \\frac{\\lambda^{m} e^{-\\lambda}}{m!} \\times \\frac{m!}{Y! (m-Y)!}p^{Y} (1 - p)^{m - Y} \\right] \\nonumber \\\\\n",
    "= &\\frac{p^{Y} e^{-\\lambda}}{Y!} \\sum_{m=Y}^{\\infty} \\left[\\frac{\\lambda^{m}}{(m-Y)!}(1-p)^{m-Y}\\right] \\nonumber \\\\\n",
    "= &\\frac{p^{Y} e^{-\\lambda}}{Y!} \\sum_{\\xi=0}^{\\infty} \\left[\\frac{\\lambda^{\\xi+Y}}{\\xi!} (1-p)^{\\xi} \\right]\n",
    "=  \\frac{(\\lambda p)^{Y} e^{-\\lambda}}{Y!} \\sum_{\\xi=0}^{\\infty} \\left[\\frac{\\lambda^{\\xi}}{\\xi!} (1 - p)^{\\xi} \\right] \\nonumber \\\\\n",
    "= &\\frac{(\\lambda p)^{Y} e^{-\\lambda}}{Y!} e^{\\lambda(1 - p)}\n",
    "=  \\frac{(\\lambda p)^{Y} e^{-(\\lambda p)}}{Y!} \\nonumber\n",
    "\\end{align}\n",
    "$$\n",
    "\n",
    "この公式を使ってモデル式11-2を実装すると、以下となる。\n",
    "\n",
    "[model11-2b.stan](chap11/model/model11-2b.stan)\n",
    "\n",
    "\n",
    "人口などの離散値を扱う場合には有限とはいえ場合の数が多く，Stanでは現実的に実行不可能なことがある。そのような場合には、例えば二項分布やポアソン分布を正規分布などの連続値を生成する分布で近似する選択肢もある。"
   ]
  },
  {
   "cell_type": "code",
   "execution_count": 14,
   "metadata": {},
   "outputs": [
    {
     "name": "stderr",
     "output_type": "stream",
     "text": [
      "20:24:03 - cmdstanpy - INFO - compiling stan file /Users/sean/Documents/myscript/python-bayes/src/python_bayes/chap11/model/model11-2b.stan to exe file /Users/sean/Documents/myscript/python-bayes/src/python_bayes/chap11/model/model11-2b\n",
      "20:24:07 - cmdstanpy - INFO - compiled model executable: /Users/sean/Documents/myscript/python-bayes/src/python_bayes/chap11/model/model11-2b\n",
      "20:24:07 - cmdstanpy - INFO - CmdStan start processing\n"
     ]
    },
    {
     "data": {
      "application/vnd.jupyter.widget-view+json": {
       "model_id": "ff2416246ef44f6eb4fc3b3093c756e7",
       "version_major": 2,
       "version_minor": 0
      },
      "text/plain": [
       "chain 1 |          | 00:00 Status"
      ]
     },
     "metadata": {},
     "output_type": "display_data"
    },
    {
     "data": {
      "application/vnd.jupyter.widget-view+json": {
       "model_id": "8f68d83fb608411993ee73aaa8665e93",
       "version_major": 2,
       "version_minor": 0
      },
      "text/plain": [
       "chain 2 |          | 00:00 Status"
      ]
     },
     "metadata": {},
     "output_type": "display_data"
    },
    {
     "data": {
      "application/vnd.jupyter.widget-view+json": {
       "model_id": "7274dac0ddb946cd89b6c96fde3f54c3",
       "version_major": 2,
       "version_minor": 0
      },
      "text/plain": [
       "chain 3 |          | 00:00 Status"
      ]
     },
     "metadata": {},
     "output_type": "display_data"
    },
    {
     "data": {
      "application/vnd.jupyter.widget-view+json": {
       "model_id": "0518e5f4fbf741ad93a5cf6b6e20e240",
       "version_major": 2,
       "version_minor": 0
      },
      "text/plain": [
       "chain 4 |          | 00:00 Status"
      ]
     },
     "metadata": {},
     "output_type": "display_data"
    },
    {
     "name": "stdout",
     "output_type": "stream",
     "text": [
      "                                                                                                                                                                                                                                                                                                                                "
     ]
    },
    {
     "name": "stderr",
     "output_type": "stream",
     "text": [
      "20:24:07 - cmdstanpy - INFO - CmdStan done processing.\n"
     ]
    },
    {
     "name": "stdout",
     "output_type": "stream",
     "text": [
      "\n"
     ]
    },
    {
     "data": {
      "text/html": [
       "<div>\n",
       "<style scoped>\n",
       "    .dataframe tbody tr th:only-of-type {\n",
       "        vertical-align: middle;\n",
       "    }\n",
       "\n",
       "    .dataframe tbody tr th {\n",
       "        vertical-align: top;\n",
       "    }\n",
       "\n",
       "    .dataframe thead th {\n",
       "        text-align: right;\n",
       "    }\n",
       "</style>\n",
       "<table border=\"1\" class=\"dataframe\">\n",
       "  <thead>\n",
       "    <tr style=\"text-align: right;\">\n",
       "      <th></th>\n",
       "      <th>Mean</th>\n",
       "      <th>MCSE</th>\n",
       "      <th>StdDev</th>\n",
       "      <th>2%</th>\n",
       "      <th>50%</th>\n",
       "      <th>97%</th>\n",
       "      <th>N_Eff</th>\n",
       "      <th>N_Eff/s</th>\n",
       "      <th>R_hat</th>\n",
       "    </tr>\n",
       "  </thead>\n",
       "  <tbody>\n",
       "    <tr>\n",
       "      <th>lp__</th>\n",
       "      <td>273.12900</td>\n",
       "      <td>0.016023</td>\n",
       "      <td>0.699633</td>\n",
       "      <td>270.84400</td>\n",
       "      <td>273.40300</td>\n",
       "      <td>273.6280</td>\n",
       "      <td>1906.52</td>\n",
       "      <td>30262.2</td>\n",
       "      <td>0.999978</td>\n",
       "    </tr>\n",
       "    <tr>\n",
       "      <th>lambda</th>\n",
       "      <td>9.59054</td>\n",
       "      <td>0.011741</td>\n",
       "      <td>0.437853</td>\n",
       "      <td>8.71781</td>\n",
       "      <td>9.57441</td>\n",
       "      <td>10.4172</td>\n",
       "      <td>1390.80</td>\n",
       "      <td>22076.2</td>\n",
       "      <td>1.003680</td>\n",
       "    </tr>\n",
       "  </tbody>\n",
       "</table>\n",
       "</div>"
      ],
      "text/plain": [
       "             Mean      MCSE    StdDev         2%        50%       97%  \\\n",
       "lp__    273.12900  0.016023  0.699633  270.84400  273.40300  273.6280   \n",
       "lambda    9.59054  0.011741  0.437853    8.71781    9.57441   10.4172   \n",
       "\n",
       "          N_Eff  N_Eff/s     R_hat  \n",
       "lp__    1906.52  30262.2  0.999978  \n",
       "lambda  1390.80  22076.2  1.003680  "
      ]
     },
     "execution_count": 14,
     "metadata": {},
     "output_type": "execute_result"
    }
   ],
   "source": [
    "import polars as pl\n",
    "from cmdstanpy import CmdStanModel\n",
    "\n",
    "\"\"\"モデル式11-2aの実行\"\"\"\n",
    "poisson_binominal_df = pl.read_csv(\"./chap11/input/data-poisson-binomial.txt\")\n",
    "\n",
    "data = {\n",
    "    \"N\": poisson_binominal_df.shape[0],\n",
    "    \"Y\": poisson_binominal_df[\"Y\"].to_list(),\n",
    "}\n",
    "\n",
    "sm = CmdStanModel(stan_file=\"./chap11/model/model11-2b.stan\")\n",
    "fit = sm.sample(data=data, seed=1234)\n",
    "\n",
    "fit.summary(percentiles=(2, 50, 97))"
   ]
  },
  {
   "cell_type": "markdown",
   "metadata": {},
   "source": [
    "## 11.2 混合正規分布\n",
    "\n",
    "この節では架空の会社における、社員の能力測定の結果である実数値Scoreのデータを扱う。\n",
    "\n",
    "データファイル11.3 [data-mix1.txt](chap11/input/data-mix1.txt)\n",
    "\n",
    "データ(100人)はScoreの低い怠け者グループと、Scoreの高いがんばりやグループの二つのグループで構成されている事がわかっているとする。実際にY列の値のヒストグラムとkdeを重ねると図11.2となり、二つの正規分布を混ぜた混合正規分布が見られる。\n",
    "\n",
    "混合正規分布は確率$a$で1つ目の正規分布から生成され、確率$1-a$で2つ目の正規分布から生成されたと考える分布。\n",
    "\n",
    "$$\n",
    "\\mathrm{Normal\\_Mixture}(y|a,\\mu_1, \\mu_2, \\sigma_1, \\sigma_2) = a \\times \\mathrm{N}(y|\\mu_1,\\sigma_1) + (1 - a) \\times \\mathrm{N}(y|\\mu_2,\\sigma_2)\n",
    "$$\n",
    "\n",
    "この式は(11.2)式([11.1.2項参照](#1112-周辺化消去))の0.5が$a$になり、ベルヌーイ分布が正規分布に変わったもの。\n",
    "$$\n",
    "p(y|q) = 0.5 \\times \\mathrm{Bernoulli}(y|q) + 0.5 \\times \\mathrm{Bernoulli}(y|1.0)\n",
    "$$\n",
    "\n",
    "混合正規分布を使ってモデル式にすると以下になる。\n",
    "\n",
    "モデル式11-5\n",
    "$$\n",
    "Y[n] \\sim \\mathrm{Normal\\_Mixture}(a, \\mu_1, \\mu_2, \\sigma_1, \\sigma_2) \\qquad n=1, \\ldots, N\n",
    "$$\n",
    "\n",
    "- $N$: 社員の人数\n",
    "- $n$: 社員のインデックス\n",
    "- データから$a, \\mu_1, \\mu_2, \\sigma_1, \\sigma_2$を推定する\n",
    "\n",
    "実装例 [model11-5.stan](chap11/model/model11-5.stan)\n",
    "\n",
    "[model11-1.stan](chap11/model/model11-1.stan)(ベルヌーイ分布の場合)とほぼ同じ。\n",
    "- normal_ldpf(Y|mu, sigma)は$\\log \\mathrm{Normal}(Y|\\mu, \\sigma)$と等価\n",
    "- log1m(a)関数はlog(1 - a)をより安定に計算するための便利な関数\n",
    "\n",
    "[model11-5.stan](chap11/model/model11-5.stan)はmuとsigmaについてほぼ無情報であり、局所最適値を数多く持つモデルであるため、初期値によってはなかなか収束しない。"
   ]
  },
  {
   "cell_type": "code",
   "execution_count": 30,
   "metadata": {},
   "outputs": [
    {
     "data": {
      "image/png": "[encoded data removed]",
      "text/plain": [
       "<Figure size 640x480 with 1 Axes>"
      ]
     },
     "metadata": {},
     "output_type": "display_data"
    }
   ],
   "source": [
    "import matplotlib.pyplot as plt\n",
    "import seaborn as sns\n",
    "\n",
    "\"\"\"図11.2\"\"\"\n",
    "mix1 = pl.read_csv(\"./chap11/input/data-mix1.txt\")\n",
    "sns.histplot(mix1[\"Y\"], kde=True, bins=30)\n",
    "plt.show()"
   ]
  },
  {
   "cell_type": "code",
   "execution_count": 40,
   "metadata": {},
   "outputs": [
    {
     "name": "stderr",
     "output_type": "stream",
     "text": [
      "21:49:09 - cmdstanpy - INFO - CmdStan start processing\n"
     ]
    },
    {
     "data": {
      "application/vnd.jupyter.widget-view+json": {
       "model_id": "1ec6967012694e47837bb7ee78e13deb",
       "version_major": 2,
       "version_minor": 0
      },
      "text/plain": [
       "chain 1 |          | 00:00 Status"
      ]
     },
     "metadata": {},
     "output_type": "display_data"
    },
    {
     "data": {
      "application/vnd.jupyter.widget-view+json": {
       "model_id": "ad0c9e6b8b794377878b58ba28957cee",
       "version_major": 2,
       "version_minor": 0
      },
      "text/plain": [
       "chain 2 |          | 00:00 Status"
      ]
     },
     "metadata": {},
     "output_type": "display_data"
    },
    {
     "data": {
      "application/vnd.jupyter.widget-view+json": {
       "model_id": "51a3980c762a416c86a918adc7839897",
       "version_major": 2,
       "version_minor": 0
      },
      "text/plain": [
       "chain 3 |          | 00:00 Status"
      ]
     },
     "metadata": {},
     "output_type": "display_data"
    },
    {
     "data": {
      "application/vnd.jupyter.widget-view+json": {
       "model_id": "d89fe70dc3b44b53bb2dcff73173dad1",
       "version_major": 2,
       "version_minor": 0
      },
      "text/plain": [
       "chain 4 |          | 00:00 Status"
      ]
     },
     "metadata": {},
     "output_type": "display_data"
    },
    {
     "name": "stdout",
     "output_type": "stream",
     "text": [
      "                                                                                                                                                                                                                                                                                                                                "
     ]
    },
    {
     "name": "stderr",
     "output_type": "stream",
     "text": [
      "21:49:10 - cmdstanpy - INFO - CmdStan done processing.\n",
      "21:49:10 - cmdstanpy - WARNING - Non-fatal error during sampling:\n",
      "Exception: normal_lpdf: Location parameter is inf, but must be finite! (in '/Users/sean/Documents/myscript/python-bayes/src/python_bayes/chap11/model/model11-5.stan', line 14, column 4 to line 17, column 6)\n",
      "Exception: normal_lpdf: Location parameter is inf, but must be finite! (in '/Users/sean/Documents/myscript/python-bayes/src/python_bayes/chap11/model/model11-5.stan', line 14, column 4 to line 17, column 6)\n",
      "Consider re-running with show_console=True if the above output is unclear!\n"
     ]
    },
    {
     "name": "stdout",
     "output_type": "stream",
     "text": [
      "\n"
     ]
    },
    {
     "data": {
      "text/html": [
       "<div>\n",
       "<style scoped>\n",
       "    .dataframe tbody tr th:only-of-type {\n",
       "        vertical-align: middle;\n",
       "    }\n",
       "\n",
       "    .dataframe tbody tr th {\n",
       "        vertical-align: top;\n",
       "    }\n",
       "\n",
       "    .dataframe thead th {\n",
       "        text-align: right;\n",
       "    }\n",
       "</style>\n",
       "<table border=\"1\" class=\"dataframe\">\n",
       "  <thead>\n",
       "    <tr style=\"text-align: right;\">\n",
       "      <th></th>\n",
       "      <th>Mean</th>\n",
       "      <th>MCSE</th>\n",
       "      <th>StdDev</th>\n",
       "      <th>2%</th>\n",
       "      <th>50%</th>\n",
       "      <th>97%</th>\n",
       "      <th>N_Eff</th>\n",
       "      <th>N_Eff/s</th>\n",
       "      <th>R_hat</th>\n",
       "    </tr>\n",
       "  </thead>\n",
       "  <tbody>\n",
       "    <tr>\n",
       "      <th>lp__</th>\n",
       "      <td>-248.328000</td>\n",
       "      <td>0.044923</td>\n",
       "      <td>1.698930</td>\n",
       "      <td>-252.814000</td>\n",
       "      <td>-247.977000</td>\n",
       "      <td>-246.123000</td>\n",
       "      <td>1430.28</td>\n",
       "      <td>3036.68</td>\n",
       "      <td>1.00324</td>\n",
       "    </tr>\n",
       "    <tr>\n",
       "      <th>a</th>\n",
       "      <td>0.542198</td>\n",
       "      <td>0.001750</td>\n",
       "      <td>0.075634</td>\n",
       "      <td>0.368863</td>\n",
       "      <td>0.546956</td>\n",
       "      <td>0.674460</td>\n",
       "      <td>1867.16</td>\n",
       "      <td>3964.24</td>\n",
       "      <td>1.00143</td>\n",
       "    </tr>\n",
       "    <tr>\n",
       "      <th>mu[1]</th>\n",
       "      <td>-0.054055</td>\n",
       "      <td>0.004752</td>\n",
       "      <td>0.231717</td>\n",
       "      <td>-0.517069</td>\n",
       "      <td>-0.060391</td>\n",
       "      <td>0.404995</td>\n",
       "      <td>2378.19</td>\n",
       "      <td>5049.24</td>\n",
       "      <td>1.00093</td>\n",
       "    </tr>\n",
       "    <tr>\n",
       "      <th>mu[2]</th>\n",
       "      <td>5.729340</td>\n",
       "      <td>0.016743</td>\n",
       "      <td>0.662781</td>\n",
       "      <td>4.164090</td>\n",
       "      <td>5.801520</td>\n",
       "      <td>6.796390</td>\n",
       "      <td>1567.02</td>\n",
       "      <td>3327.00</td>\n",
       "      <td>1.00206</td>\n",
       "    </tr>\n",
       "    <tr>\n",
       "      <th>sigma[1]</th>\n",
       "      <td>1.292370</td>\n",
       "      <td>0.003962</td>\n",
       "      <td>0.186254</td>\n",
       "      <td>0.947665</td>\n",
       "      <td>1.277780</td>\n",
       "      <td>1.675480</td>\n",
       "      <td>2210.23</td>\n",
       "      <td>4692.63</td>\n",
       "      <td>1.00125</td>\n",
       "    </tr>\n",
       "    <tr>\n",
       "      <th>sigma[2]</th>\n",
       "      <td>2.483140</td>\n",
       "      <td>0.011583</td>\n",
       "      <td>0.480602</td>\n",
       "      <td>1.678380</td>\n",
       "      <td>2.423340</td>\n",
       "      <td>3.522090</td>\n",
       "      <td>1721.63</td>\n",
       "      <td>3655.27</td>\n",
       "      <td>1.00206</td>\n",
       "    </tr>\n",
       "  </tbody>\n",
       "</table>\n",
       "</div>"
      ],
      "text/plain": [
       "                Mean      MCSE    StdDev          2%         50%         97%  \\\n",
       "lp__     -248.328000  0.044923  1.698930 -252.814000 -247.977000 -246.123000   \n",
       "a           0.542198  0.001750  0.075634    0.368863    0.546956    0.674460   \n",
       "mu[1]      -0.054055  0.004752  0.231717   -0.517069   -0.060391    0.404995   \n",
       "mu[2]       5.729340  0.016743  0.662781    4.164090    5.801520    6.796390   \n",
       "sigma[1]    1.292370  0.003962  0.186254    0.947665    1.277780    1.675480   \n",
       "sigma[2]    2.483140  0.011583  0.480602    1.678380    2.423340    3.522090   \n",
       "\n",
       "            N_Eff  N_Eff/s    R_hat  \n",
       "lp__      1430.28  3036.68  1.00324  \n",
       "a         1867.16  3964.24  1.00143  \n",
       "mu[1]     2378.19  5049.24  1.00093  \n",
       "mu[2]     1567.02  3327.00  1.00206  \n",
       "sigma[1]  2210.23  4692.63  1.00125  \n",
       "sigma[2]  1721.63  3655.27  1.00206  "
      ]
     },
     "execution_count": 40,
     "metadata": {},
     "output_type": "execute_result"
    }
   ],
   "source": [
    "import polars as pl\n",
    "from cmdstanpy import CmdStanModel\n",
    "\n",
    "\"\"\"モデル式11-5実行例\"\"\"\n",
    "data_mix1_df = pl.read_csv(\"./chap11/input/data-mix1.txt\")\n",
    "\n",
    "data = {\n",
    "    \"N\": data_mix1_df.shape[0],\n",
    "    \"Y\": data_mix1_df[\"Y\"].to_list(),\n",
    "}\n",
    "\n",
    "sm = CmdStanModel(stan_file=\"./chap11/model/model11-5.stan\")\n",
    "fit = sm.sample(data=data, seed=1220)  # seed=1234だとパラメータがinfに発散する!\n",
    "fit.summary(percentiles=(2, 50, 97))"
   ]
  },
  {
   "cell_type": "markdown",
   "metadata": {},
   "source": [
    "次にK個の正規分布を混ぜた混合正規分布を使ってあてはめる場合を考える．ここでは別の社員200人分の実数値Scoreのデータを扱う。\n",
    "\n",
    "データファイル11.4 [data-mix2.txt](chap11/input/data-mix2.txt)\n",
    "\n",
    "先程と同様にY列の値のヒストグラムと密度関数を重ねて描くと図11.3となる。正規分布をK個混ぜた混合正規分布は以下になる。\n",
    "$$\n",
    "\\mathrm{Normal\\_Mixture}(y|\\vec{a}, \\vec{\\mu}, \\vec{\\sigma}) = \\sum_{k=1}^K a_k \\mathrm{Normal}(y|\\mu_k,\\sigma_k)\n",
    "$$\n",
    "\n",
    "ここで$\\vec{a}$の各要素は[0, 1]の範囲で合計すると1となる、つまり$\\vec{a}$はsimplexである。この分布を使ってモデル式を書くと以下になる。\n",
    "\n",
    "モデル式11-6\n",
    "$$\n",
    "Y[n] \\sim \\mathrm{Normal\\_Mixture}(\\vec{a}, \\vec{\\mu}, \\vec{\\sigma}) \\qquad n = 1, \\ldots, N\n",
    "$$\n",
    "\n",
    "実装に必要な対数尤度は上記の混合正規分布の対数をとってlog_sum_exp関数を使うと、以下となる。\n",
    "\n",
    "$$\n",
    "\\begin{align}\n",
    "\\log{\\mathrm{Normal\\_Mixture}(y|\\vec{a}, \\vec{\\mu}, \\vec{\\sigma})} = \\log&{\\left[\\sum_{k=1}^K a_k \\mathrm{Normal}(y|\\mu_k, \\sigma_k) \\right]} \\nonumber \\\\\n",
    "= \\mathrm{log\\_sum\\_exp} &\\left[\\left(\n",
    "    \\begin{array}{c}\n",
    "      \\log{\\{a_1 \\mathrm{Normal}(y|\\mu_1, \\sigma_1)\\}} \\\\\n",
    "      \\vdots \\\\\n",
    "      \\log{\\{a_k \\mathrm{Normal}(y|\\mu_k, \\sigma_k)\\}}\n",
    "    \\end{array}\n",
    "\\right)\\right] \\nonumber \\\\\n",
    "= \\mathrm{log\\_sum\\_exp} &\\left[\\left(\n",
    "    \\begin{array}{c}\n",
    "      \\log{\\{a_1 + \\mathrm{normal\\_lpdf}(y|\\mu_1, \\sigma_1)\\}} \\\\\n",
    "      \\vdots \\\\\n",
    "      \\log{\\{a_k + \\mathrm{normal\\_lpdf}(y|\\mu_k, \\sigma_k)\\}}\n",
    "    \\end{array}\n",
    "\\right)\\right] \\nonumber\n",
    "\\end{align}\n",
    "$$\n",
    "\n",
    "実装例 [model11-6.stan](chap11/model/model11-6.stan)\n",
    "\n",
    "ここでは仮に混ざっている正規分布の個数$K=5$としたが、$K$を増やすと局所最適が増えMCMCが収束しにくくなる。\n",
    "\n",
    "- functionsブロック\n",
    "  functionsブロックでは、ユーザーが独自関数を定義できる。これを使うとmdoel11-6は以下のように書ける。\n",
    "\n",
    "  [model11-6b.stan](chap11/model/model11-6b.stan)\n",
    "\n",
    "  2行目で関数の名前とその引数と返値の型を定義している。6行目のreturn関数で値を返している。このコードのように「〇〇_Ipdf」(確率密度関数の場合)または「〇〇_lpmf」(確率質量関数の場合)という関数名にすると、「〇〇」という確率分布があらかじめStanに用意されているかのように使うことができる。modelブロックの18行目ではfunctionsブロックで定義した関数を使っている。18行目は内部的には、\n",
    "  ```\n",
    "  target += normal_mixture_lpdf(Y[n] | K, a, mu, sigma);\n",
    "  ```\n",
    "  と等価である。なお、functionsブロックはdataブロックよりも前に書くので、dataブロックで言する変数を使うことができない。関数の引数でvectorの長さ(ここではK)を渡すか、num_elements 関数・rows 関数・cols関数などで動的に長さを取得する必要がある。\n",
    "\n",
    "  functionsブロックは柔軟性が高いが乱用すると可読性が落ちる。基本的にはこの節のように独自の確率分布を定義すると見通しがよくなる場合や、modelブロックやgenerated quantitiesブロックで同じコードを繰り返すのを避ける場合に限って使うとよいだろう。functionsブロックの他の応用例についてはStanのマニュアルの「User-Defined Functions」の章を参照。"
   ]
  },
  {
   "cell_type": "code",
   "execution_count": 41,
   "metadata": {},
   "outputs": [
    {
     "data": {
      "image/png": "[encoded data removed]",
      "text/plain": [
       "<Figure size 640x480 with 1 Axes>"
      ]
     },
     "metadata": {},
     "output_type": "display_data"
    }
   ],
   "source": [
    "import matplotlib.pyplot as plt\n",
    "import seaborn as sns\n",
    "\n",
    "\"\"\"図11.3\"\"\"\n",
    "mix2 = pl.read_csv(\"./chap11/input/data-mix2.txt\")\n",
    "sns.histplot(mix2[\"Y\"], kde=True, bins=30)\n",
    "plt.show()"
   ]
  },
  {
   "cell_type": "code",
   "execution_count": 46,
   "metadata": {},
   "outputs": [
    {
     "name": "stderr",
     "output_type": "stream",
     "text": [
      "22:23:36 - cmdstanpy - INFO - CmdStan start processing\n"
     ]
    },
    {
     "data": {
      "application/vnd.jupyter.widget-view+json": {
       "model_id": "1ba65a9e437e43a4abd6b7af413c8dcc",
       "version_major": 2,
       "version_minor": 0
      },
      "text/plain": [
       "chain 1 |          | 00:00 Status"
      ]
     },
     "metadata": {},
     "output_type": "display_data"
    },
    {
     "data": {
      "application/vnd.jupyter.widget-view+json": {
       "model_id": "374ccccb5b5844009e82620a4679345b",
       "version_major": 2,
       "version_minor": 0
      },
      "text/plain": [
       "chain 2 |          | 00:00 Status"
      ]
     },
     "metadata": {},
     "output_type": "display_data"
    },
    {
     "data": {
      "application/vnd.jupyter.widget-view+json": {
       "model_id": "f2724dd0c4a5451989f57c9e8eeb0bf4",
       "version_major": 2,
       "version_minor": 0
      },
      "text/plain": [
       "chain 3 |          | 00:00 Status"
      ]
     },
     "metadata": {},
     "output_type": "display_data"
    },
    {
     "data": {
      "application/vnd.jupyter.widget-view+json": {
       "model_id": "e6bdb953b6644b9482e5dca4ada22cc9",
       "version_major": 2,
       "version_minor": 0
      },
      "text/plain": [
       "chain 4 |          | 00:00 Status"
      ]
     },
     "metadata": {},
     "output_type": "display_data"
    },
    {
     "name": "stdout",
     "output_type": "stream",
     "text": [
      "                                                                                                                                                                                                                                                                                                                                "
     ]
    },
    {
     "name": "stderr",
     "output_type": "stream",
     "text": [
      "22:23:43 - cmdstanpy - INFO - CmdStan done processing.\n",
      "22:23:43 - cmdstanpy - WARNING - Non-fatal error during sampling:\n",
      "Exception: gamma_lpdf: Random variable[2] is inf, but must be positive finite! (in '/Users/sean/Documents/myscript/python-bayes/src/python_bayes/chap11/model/model11-6.stan', line 16, column 2 to column 26)\n",
      "\tException: normal_lpdf: Location parameter is inf, but must be finite! (in '/Users/sean/Documents/myscript/python-bayes/src/python_bayes/chap11/model/model11-6.stan', line 20, column 6 to column 62)\n",
      "Exception: gamma_lpdf: Random variable[2] is inf, but must be positive finite! (in '/Users/sean/Documents/myscript/python-bayes/src/python_bayes/chap11/model/model11-6.stan', line 16, column 2 to column 26)\n",
      "Exception: gamma_lpdf: Random variable[2] is inf, but must be positive finite! (in '/Users/sean/Documents/myscript/python-bayes/src/python_bayes/chap11/model/model11-6.stan', line 16, column 2 to column 26)\n",
      "Exception: gamma_lpdf: Random variable[2] is inf, but must be positive finite! (in '/Users/sean/Documents/myscript/python-bayes/src/python_bayes/chap11/model/model11-6.stan', line 16, column 2 to column 26)\n",
      "Consider re-running with show_console=True if the above output is unclear!\n"
     ]
    },
    {
     "name": "stdout",
     "output_type": "stream",
     "text": [
      "\n",
      "                Mean      MCSE    StdDev          2%         50%         97%  \\\n",
      "lp__     -601.443000  0.173164  3.560110 -611.050000 -600.841000 -596.304000   \n",
      "a[1]        0.170401  0.000510  0.026988    0.119144    0.168612    0.225152   \n",
      "a[2]        0.098768  0.001274  0.029738    0.052079    0.096336    0.151060   \n",
      "a[3]        0.310798  0.002186  0.070603    0.173465    0.309388    0.443468   \n",
      "a[4]        0.263431  0.003531  0.082312    0.101248    0.264238    0.419233   \n",
      "a[5]        0.156603  0.002534  0.051442    0.090607    0.146401    0.295819   \n",
      "mu[1]      10.013300  0.003273  0.177583    9.643780   10.011700   10.353100   \n",
      "mu[2]      16.116900  0.033059  0.575308   15.322700   16.061900   17.159700   \n",
      "mu[3]      20.874000  0.003001  0.139225   20.623600   20.860800   21.171900   \n",
      "mu[4]      23.468600  0.022373  0.683832   22.095400   23.454300   24.692700   \n",
      "mu[5]      30.741100  0.066822  1.318420   26.199300   31.077200   32.204800   \n",
      "sigma[1]    0.981703  0.002208  0.125708    0.762305    0.968039    1.257830   \n",
      "sigma[2]    1.306580  0.027223  0.529005    0.709842    1.185000    2.697710   \n",
      "sigma[3]    0.665820  0.004292  0.148386    0.412674    0.651365    0.978669   \n",
      "sigma[4]    1.757910  0.016941  0.505308    0.785588    1.747770    2.700570   \n",
      "sigma[5]    2.739590  0.036739  0.798776    1.757730    2.538580    4.875870   \n",
      "s_mu        9.800250  0.113070  4.739610    4.688020    8.546790   20.989800   \n",
      "\n",
      "              N_Eff    N_Eff/s     R_hat  \n",
      "lp__       422.6820   40.56450  1.004490  \n",
      "a[1]      2795.4300  268.27500  0.999738  \n",
      "a[2]       544.7050   52.27500  1.013100  \n",
      "a[3]      1043.1200  100.10700  1.003640  \n",
      "a[4]       543.5600   52.16510  1.004550  \n",
      "a[5]       411.9530   39.53490  1.001700  \n",
      "mu[1]     2944.0700  282.54000  0.999894  \n",
      "mu[2]      302.8480   29.06410  1.021570  \n",
      "mu[3]     2151.7400  206.50100  1.004420  \n",
      "mu[4]      934.1970   89.65420  1.004500  \n",
      "mu[5]      389.2880   37.35970  1.003000  \n",
      "sigma[1]  3241.4500  311.07900  0.999909  \n",
      "sigma[2]   377.6190   36.23990  1.013690  \n",
      "sigma[3]  1195.0600  114.68900  1.005650  \n",
      "sigma[4]   889.6980   85.38370  1.003690  \n",
      "sigma[5]   472.7250   45.36700  1.001790  \n",
      "s_mu      1757.1407  168.63154  1.002230  \n"
     ]
    },
    {
     "name": "stderr",
     "output_type": "stream",
     "text": [
      "22:23:43 - cmdstanpy - INFO - CmdStan start processing\n"
     ]
    },
    {
     "data": {
      "application/vnd.jupyter.widget-view+json": {
       "model_id": "d55990e96abe49969c832d092a96ad36",
       "version_major": 2,
       "version_minor": 0
      },
      "text/plain": [
       "chain 1 |          | 00:00 Status"
      ]
     },
     "metadata": {},
     "output_type": "display_data"
    },
    {
     "data": {
      "application/vnd.jupyter.widget-view+json": {
       "model_id": "6158d20f63fd4afa9646776f2a82818d",
       "version_major": 2,
       "version_minor": 0
      },
      "text/plain": [
       "chain 2 |          | 00:00 Status"
      ]
     },
     "metadata": {},
     "output_type": "display_data"
    },
    {
     "data": {
      "application/vnd.jupyter.widget-view+json": {
       "model_id": "6bc73aa39ca0401f9290e9034981cca4",
       "version_major": 2,
       "version_minor": 0
      },
      "text/plain": [
       "chain 3 |          | 00:00 Status"
      ]
     },
     "metadata": {},
     "output_type": "display_data"
    },
    {
     "data": {
      "application/vnd.jupyter.widget-view+json": {
       "model_id": "b81f8148db934becbe0602a2b95f561b",
       "version_major": 2,
       "version_minor": 0
      },
      "text/plain": [
       "chain 4 |          | 00:00 Status"
      ]
     },
     "metadata": {},
     "output_type": "display_data"
    },
    {
     "name": "stdout",
     "output_type": "stream",
     "text": [
      "                                                                                                                                                                                                                                                                                                                                "
     ]
    },
    {
     "name": "stderr",
     "output_type": "stream",
     "text": [
      "22:23:50 - cmdstanpy - INFO - CmdStan done processing.\n",
      "22:23:50 - cmdstanpy - WARNING - Non-fatal error during sampling:\n",
      "Exception: gamma_lpdf: Random variable[2] is inf, but must be positive finite! (in '/Users/sean/Documents/myscript/python-bayes/src/python_bayes/chap11/model/model11-6.stan', line 16, column 2 to column 26)\n",
      "\tException: normal_lpdf: Location parameter is inf, but must be finite! (in '/Users/sean/Documents/myscript/python-bayes/src/python_bayes/chap11/model/model11-6.stan', line 20, column 6 to column 62)\n",
      "Exception: gamma_lpdf: Random variable[2] is inf, but must be positive finite! (in '/Users/sean/Documents/myscript/python-bayes/src/python_bayes/chap11/model/model11-6.stan', line 16, column 2 to column 26)\n",
      "Exception: gamma_lpdf: Random variable[2] is inf, but must be positive finite! (in '/Users/sean/Documents/myscript/python-bayes/src/python_bayes/chap11/model/model11-6.stan', line 16, column 2 to column 26)\n",
      "Exception: gamma_lpdf: Random variable[2] is inf, but must be positive finite! (in '/Users/sean/Documents/myscript/python-bayes/src/python_bayes/chap11/model/model11-6.stan', line 16, column 2 to column 26)\n",
      "Consider re-running with show_console=True if the above output is unclear!\n"
     ]
    },
    {
     "name": "stdout",
     "output_type": "stream",
     "text": [
      "\n",
      "                Mean      MCSE    StdDev          2%         50%         97%  \\\n",
      "lp__     -601.443000  0.173164  3.560110 -611.050000 -600.841000 -596.304000   \n",
      "a[1]        0.170401  0.000510  0.026988    0.119144    0.168612    0.225152   \n",
      "a[2]        0.098768  0.001274  0.029738    0.052079    0.096336    0.151060   \n",
      "a[3]        0.310798  0.002186  0.070603    0.173465    0.309388    0.443468   \n",
      "a[4]        0.263431  0.003531  0.082312    0.101248    0.264238    0.419233   \n",
      "a[5]        0.156603  0.002534  0.051442    0.090607    0.146401    0.295819   \n",
      "mu[1]      10.013300  0.003273  0.177583    9.643780   10.011700   10.353100   \n",
      "mu[2]      16.116900  0.033059  0.575308   15.322700   16.061900   17.159700   \n",
      "mu[3]      20.874000  0.003001  0.139225   20.623600   20.860800   21.171900   \n",
      "mu[4]      23.468600  0.022373  0.683832   22.095400   23.454300   24.692700   \n",
      "mu[5]      30.741100  0.066822  1.318420   26.199300   31.077200   32.204800   \n",
      "sigma[1]    0.981703  0.002208  0.125708    0.762305    0.968039    1.257830   \n",
      "sigma[2]    1.306580  0.027223  0.529005    0.709842    1.185000    2.697710   \n",
      "sigma[3]    0.665820  0.004292  0.148386    0.412674    0.651365    0.978669   \n",
      "sigma[4]    1.757910  0.016941  0.505308    0.785588    1.747770    2.700570   \n",
      "sigma[5]    2.739590  0.036739  0.798776    1.757730    2.538580    4.875870   \n",
      "s_mu        9.800250  0.113070  4.739610    4.688020    8.546790   20.989800   \n",
      "\n",
      "              N_Eff   N_Eff/s     R_hat  \n",
      "lp__       422.6820   39.5363  1.004490  \n",
      "a[1]      2795.4300  261.4750  0.999738  \n",
      "a[2]       544.7050   50.9499  1.013100  \n",
      "a[3]      1043.1200   97.5696  1.003640  \n",
      "a[4]       543.5600   50.8428  1.004550  \n",
      "a[5]       411.9530   38.5327  1.001700  \n",
      "mu[1]     2944.0700  275.3780  0.999894  \n",
      "mu[2]      302.8480   28.3274  1.021570  \n",
      "mu[3]     2151.7400  201.2660  1.004420  \n",
      "mu[4]      934.1970   87.3816  1.004500  \n",
      "mu[5]      389.2880   36.4127  1.003000  \n",
      "sigma[1]  3241.4500  303.1940  0.999909  \n",
      "sigma[2]   377.6190   35.3212  1.013690  \n",
      "sigma[3]  1195.0600  111.7820  1.005650  \n",
      "sigma[4]   889.6980   83.2194  1.003690  \n",
      "sigma[5]   472.7250   44.2171  1.001790  \n",
      "s_mu      1757.1407  164.3570  1.002230  \n"
     ]
    }
   ],
   "source": [
    "import numpy as np\n",
    "import polars as pl\n",
    "from cmdstanpy import CmdStanModel\n",
    "\n",
    "\"\"\"\"\"\"\n",
    "mix2 = pl.read_csv(\"./chap11/input/data-mix2.txt\")\n",
    "K = 5\n",
    "data = {\n",
    "    \"N\": mix2.shape[0],\n",
    "    \"K\": K,\n",
    "    \"Y\": mix2[\"Y\"].to_list(),\n",
    "}\n",
    "inits = {\n",
    "    \"a\": np.full(K, 1 / K),\n",
    "    \"mu\": np.linspace(10, 40, K),\n",
    "    \"sigma\": np.ones(K),\n",
    "    \"s_mu\": 20,\n",
    "}\n",
    "\n",
    "\n",
    "sm = CmdStanModel(stan_file=\"./chap11/model/model11-6.stan\")\n",
    "fit = sm.sample(data=data, inits=inits, seed=1234)\n",
    "print(fit.summary(percentiles=(2, 50, 97)))  # noqa: T201\n",
    "\n",
    "sm_b = CmdStanModel(stan_file=\"./chap11/model/model11-6b.stan\")\n",
    "fit_b = sm.sample(data=data, inits=inits, seed=1234)\n",
    "print(fit_b.summary(percentiles=(2, 50, 97)))  # noqa: T201"
   ]
  },
  {
   "cell_type": "markdown",
   "metadata": {},
   "source": [
    "## 11.3 ゼロ過剰ポアソン分布\n",
    "\n",
    "ある飲食店への来店回数をアンケートで取得した架空データを扱う。\n",
    "\n",
    "データファイル11.5 [data-ZIP.txt](chap11/input/data-ZIP.txt)\n",
    "\n",
    "それぞれの列の説明は以下である。\n",
    "- $Sex$: 性別(0=男性、1=女性)\n",
    "- $Sake$: お酒を飲むか(0=飲まない、1＝飲む)\n",
    "- $Age$: 年齢\n",
    "- $Y$: 来店回数(応答変数)\n",
    "\n",
    "単純に重回帰してみる\n",
    "またその予測分布を確認する\n",
    "\n",
    "重回帰分析のレポートを見ると、Sexの係数が負の値、Sakeの係数が正の値、年齢が正の値になっているため、「男性でお酒を飲んで年齢が高い人の来店回数が多そうだ」という結果になった。しかし、決定係数が0.143と低い。また予測分布がマイナス値になるといった結果は現実と合わない。そこで[3.2節](./chap03.ipynb#32-)の統計モデリング手順に従って解析をやり直す。"
   ]
  },
  {
   "cell_type": "code",
   "execution_count": 11,
   "metadata": {},
   "outputs": [
    {
     "name": "stdout",
     "output_type": "stream",
     "text": [
      "                            OLS Regression Results                            \n",
      "==============================================================================\n",
      "Dep. Variable:                      Y   R-squared:                       0.143\n",
      "Model:                            OLS   Adj. R-squared:                  0.130\n",
      "Method:                 Least Squares   F-statistic:                     10.91\n",
      "Date:                Tue, 16 Jan 2024   Prob (F-statistic):           1.16e-06\n",
      "Time:                        10:51:59   Log-Likelihood:                -548.29\n",
      "No. Observations:                 200   AIC:                             1105.\n",
      "Df Residuals:                     196   BIC:                             1118.\n",
      "Df Model:                           3                                         \n",
      "Covariance Type:            nonrobust                                         \n",
      "==============================================================================\n",
      "                 coef    std err          t      P>|t|      [0.025      0.975]\n",
      "------------------------------------------------------------------------------\n",
      "Intercept      2.2040      1.018      2.165      0.032       0.197       4.211\n",
      "Sex           -1.3228      0.551     -2.402      0.017      -2.409      -0.237\n",
      "Sake           2.6568      0.585      4.538      0.000       1.502       3.811\n",
      "Age            0.0462      0.026      1.783      0.076      -0.005       0.097\n",
      "==============================================================================\n",
      "Omnibus:                       12.268   Durbin-Watson:                   2.075\n",
      "Prob(Omnibus):                  0.002   Jarque-Bera (JB):               11.891\n",
      "Skew:                           0.544   Prob(JB):                      0.00262\n",
      "Kurtosis:                       2.507   Cond. No.                         147.\n",
      "==============================================================================\n",
      "\n",
      "Notes:\n",
      "[1] Standard Errors assume that the covariance matrix of the errors is correctly specified.\n"
     ]
    },
    {
     "data": {
      "image/png": "[encoded data removed]",
      "text/plain": [
       "<Figure size 640x480 with 1 Axes>"
      ]
     },
     "metadata": {},
     "output_type": "display_data"
    }
   ],
   "source": [
    "import matplotlib.pyplot as plt\n",
    "import polars as pl\n",
    "import seaborn as sns\n",
    "import statsmodels.api as sm\n",
    "\n",
    "\"\"\"重回帰\"\"\"\n",
    "\n",
    "zip_df = pl.read_csv(\"./chap11/input//data-ZIP.txt\")\n",
    "X = zip_df.select(\n",
    "    [\n",
    "        pl.lit(1).alias(\"Intercept\"),  # 切片項を追加\n",
    "        pl.col(\"Sex\"),\n",
    "        pl.col(\"Sake\"),\n",
    "        pl.col(\"Age\"),\n",
    "    ],\n",
    ")\n",
    "Y = zip_df[\"Y\"]\n",
    "\n",
    "mod = sm.OLS(Y.to_pandas(), X.to_pandas())\n",
    "result = mod.fit()\n",
    "print(result.summary())  # noqa: T201\n",
    "\n",
    "sns.histplot(result.fittedvalues, kde=True, bins=30)\n",
    "plt.show()"
   ]
  },
  {
   "cell_type": "markdown",
   "metadata": {},
   "source": [
    "### 11.3.1 解析の目的とデータの分布の確認\n",
    "\n",
    "目的は以下の3つに設定する。\n",
    "- リピーターになりそうな人を知りたい\n",
    "- 説明変数でリピーターになるかをどれほど予測できるか知りたい\n",
    "- それぞれの説明変数がリピーターになるかにどれほど影響しているか知りたい\n",
    "\n",
    "データの分布を確認するために散布図行列を用いる(図11.4)"
   ]
  },
  {
   "cell_type": "code",
   "execution_count": 7,
   "metadata": {},
   "outputs": [
    {
     "data": {
      "text/plain": [
       "<seaborn.axisgrid.PairGrid at 0x288cdae10>"
      ]
     },
     "execution_count": 7,
     "metadata": {},
     "output_type": "execute_result"
    },
    {
     "data": {
      "image/png": "[encoded data removed]",
      "text/plain": [
       "<Figure size 1000x1000 with 24 Axes>"
      ]
     },
     "metadata": {},
     "output_type": "display_data"
    }
   ],
   "source": [
    "import matplotlib.pyplot as plt\n",
    "import numpy as np\n",
    "import pandas as pd\n",
    "import polars as pl\n",
    "import seaborn as sns\n",
    "\n",
    "\"\"\"図11.4\"\"\"\n",
    "\n",
    "\n",
    "class Dispatcher:\n",
    "    def __init__(self, fontsize=20, alpha=0.6, cmap=\"RdBu\", threshold=10):\n",
    "        self.fontsize = fontsize\n",
    "        self.alpha = alpha\n",
    "        self.cmap = plt.get_cmap(cmap)\n",
    "\n",
    "        # 離散値 / 連続値とみなす閾値\n",
    "        self.threshold = threshold\n",
    "\n",
    "    def comb(self, x_series, y_series, label=None, color=None):\n",
    "        \"\"\"下三角部分のプロット.\"\"\"\n",
    "        x_nunique = x_series.nunique()\n",
    "        y_nunique = y_series.nunique()\n",
    "\n",
    "        if x_nunique < self.threshold and y_nunique < self.threshold:\n",
    "            # 離散値 x 離散値のプロット\n",
    "            return self._dd_plot(x_series, y_series, label=label, color=color)\n",
    "\n",
    "        elif x_nunique < self.threshold or y_nunique < self.threshold:\n",
    "            # 離散値 x 連続値のプロット\n",
    "            return self._dc_plot(x_series, y_series, label=label, color=color)\n",
    "\n",
    "        else:\n",
    "            # 連続値 x 連続値のプロット\n",
    "            return plt.scatter(x_series, y_series, label=label, color=color)\n",
    "\n",
    "    def _dd_plot(self, x_series, y_series, label=None, color=None):\n",
    "        \"\"\"離散値 x 離散値のプロット.\"\"\"\n",
    "        # x, y 各組み合わせの個数を集計\n",
    "        total = y_series.groupby([x_series, y_series]).count()\n",
    "\n",
    "        # x, y軸をプロットする位置を取得\n",
    "        xloc = total.index.codes[0]\n",
    "        yloc = total.index.codes[1]\n",
    "        values = total.values\n",
    "\n",
    "        ax = plt.gca()\n",
    "        for xp, yp, vp in zip(xloc, yloc, values, strict=False):\n",
    "            ax.annotate(vp, (xp, yp), fontsize=self.fontsize, ha=\"center\", va=\"center\")\n",
    "\n",
    "        # 組み合わせの個数を散布図としてプロット\n",
    "        size = values / (values.max() * 1.1) * 100 * 20\n",
    "        ax.scatter(xloc, yloc, s=size, label=label, color=color)\n",
    "        ax.set_ylim(yloc[0] - 0.5, yloc[-1] + 0.5)\n",
    "\n",
    "    def _dc_plot(self, x_series, y_series, label=None, color=None):\n",
    "        \"\"\"離散値 x 連続値のプロット.\"\"\"\n",
    "        if y_series.nunique() < x_series.nunique():\n",
    "            # y軸が離散値の場合は、x, yを入替\n",
    "            # 水平方向に箱ひげ図をプロット\n",
    "            x_series, y_series = y_series, x_series\n",
    "            vert = False\n",
    "        else:\n",
    "            vert = True\n",
    "\n",
    "        xlab, xun = pd.factorize(x_series)\n",
    "\n",
    "        # 箱ひげ図用のデータの準備\n",
    "        data = []\n",
    "        for i, g in y_series.groupby(xlab):\n",
    "            data.append(g)\n",
    "\n",
    "        ax = plt.gca()\n",
    "        ax.boxplot(data, positions=np.arange(len(data)), vert=vert)\n",
    "\n",
    "        # 散布図をプロット\n",
    "        xloc = xlab + np.random.normal(scale=0.05, size=len(xlab))\n",
    "        if not vert:\n",
    "            y_series, xloc = xloc, y_series\n",
    "\n",
    "        ax.scatter(xloc, y_series, label=label, color=color, alpha=self.alpha)\n",
    "\n",
    "    def diag(self, series, label=None, color=None):\n",
    "        \"\"\"対角部分のプロット.\"\"\"\n",
    "        ax = series.plot.hist()\n",
    "        ax = series.plot.kde(grid=False, ax=ax.twinx())\n",
    "        ax.yaxis.set_visible(False)\n",
    "\n",
    "    def ellipse(self, x_series, y_series, label=None, color=None):\n",
    "        \"\"\"上三角部分のプロット.\"\"\"\n",
    "        from matplotlib.patches import Ellipse\n",
    "\n",
    "        # 相関係数を楕円としてプロット\n",
    "        r = x_series.corr(y_series)\n",
    "        c = self.cmap(0.5 * (r + 1))\n",
    "\n",
    "        ax = plt.gca()\n",
    "        ax.axis(\"off\")\n",
    "        ax.add_artist(\n",
    "            Ellipse(\n",
    "                xy=[0.5, 0.5],\n",
    "                width=np.sqrt(1 + r),\n",
    "                height=np.sqrt(1 - r),\n",
    "                angle=45,\n",
    "                facecolor=c,\n",
    "                edgecolor=\"none\",\n",
    "                transform=ax.transAxes,\n",
    "            ),\n",
    "        )\n",
    "        ax.text(\n",
    "            0.5,\n",
    "            0.5,\n",
    "            f\"{r * 100:.0f}\",\n",
    "            fontsize=self.fontsize,\n",
    "            ha=\"center\",\n",
    "            va=\"center\",\n",
    "            transform=ax.transAxes,\n",
    "        )\n",
    "\n",
    "\n",
    "zip_df = pl.read_csv(\"./chap11/input//data-ZIP.txt\")\n",
    "g = sns.PairGrid(zip_df.to_pandas(), diag_sharey=False)\n",
    "\n",
    "d = Dispatcher()\n",
    "# 対角成分\n",
    "g.map_diag(d.diag)\n",
    "# 下三角成分\n",
    "g.map_lower(d.comb)\n",
    "# 上三角成分\n",
    "g.map_upper(d.ellipse)"
   ]
  },
  {
   "cell_type": "markdown",
   "metadata": {},
   "source": [
    "### 11.3.2 メカニズムの想像\n",
    "\n",
    "来店回数Yの分布が特徴的なので、その分布がどのようなメカニズムで生成されたかを考えるのが重要である。まず1人が来店するメカニズムを考える。\n",
    "\n",
    "ここでは、初来店とリピートは別物と考え、以下のように確率分布を設定する\n",
    "- 初来店するかどうか: 来店確率$q$のベルヌーイ分布に従う\n",
    "- リピーターになって複数回来店する回数: 平均$\\lambda$のポアソン分布に従う\n",
    "\n",
    "つまり、確率$q$で表になるコインを投げ、\n",
    "- 裏が出たら来店回数は0\n",
    "- 表が出たら来店回数は平均入のポアソン分布に従って生成される\n",
    "\n",
    "と考える。\n",
    "そして、$q$にはロジスティック回帰を、$\\lambda$にはポアソン回帰をして、説明変数の影響を分けて推定する。\n",
    "ベルヌーイ分布で0が出るか1が出るかは離散パラメータになるので、これをStanで実装するには周辺化消去する必要がある。すると来店回数の分布は以下の式で表現できる。\n",
    "\n",
    "$$\n",
    "\\mathrm{ZIP}(y|q,\\lambda) =\n",
    "\\begin{cases}\n",
    "  \\mathrm{Bernoulli}(0|q) + \\mathrm{Bernoulli}(1|q) \\times \\mathrm{Poisson}(y=0|\\lambda) &if &y=0 \\\\\n",
    "  \\mathrm{Bermoulli}(1|q) \\times \\mathrm{Poisson}(y|\\lambda) & if &y \\geq 1\n",
    "\\end{cases}\n",
    "$$\n",
    "\n",
    "特に$y = 0$の場合について説明すると、ベルヌーイ分布で0が出る確率 + ベルヌーイ分布はで1が出て、ポアソン分布で0が出る確率。\n",
    "\n",
    "$\\mathrm{ZIP}(y|q, \\lambda)$は$y$はベルヌーイ分布とポアソン分布を混ぜた一つの確率分布で、ゼロ過剰ポアソン分布(Zero-inflated Poisson分布、ZIP分布)と呼ばれる。今回来店回数はこの分布に従うと考える。\n",
    "\n",
    "### 11.3.3 モデル式の記述\n",
    "\n",
    "モデル式11-7\n",
    "$$\n",
    "\\begin{align}\n",
    "  q[n] &= \\mathrm{inv\\_logit}((\\bold{X}\\vec{b_1})[n]) &n = 1, \\ldots, N \\nonumber \\\\\n",
    "  \\lambda[n] &= (\\bold{X}\\vec{b_2})[n] &n = 1, \\ldots, N \\nonumber \\\\\n",
    "  Y[n] &\\sim \\mathrm{ZIP}(q[n], \\lambda[n]) &n = 1, \\ldots, N \\nonumber \n",
    "\\end{align}\n",
    "$$\n",
    "\n",
    "パラメータは以下となる。\n",
    "- $N$: 人数\n",
    "- $n$: 人のインデックス\n",
    "- $X$: $N$行$(1 + 3)$列の行列。「切片項（常に1の値）の列」と「人ごとの説明変数のデータ」を横に並べた行列。\n",
    "- $\\vec{b_1}, \\vec{b_2}$: 回帰係数。$X$と同様に長さ4のベクトル\n",
    "\n",
    "来店確率を表すためにロジスティック関数(inv_logit)を使っている。$\\vec{b_1}$と$\\vec{b_2}$をデータから推定する。\n",
    "\n",
    "### 11.3.4 Stanで実装\n",
    "\n",
    "モデル式11-7の実装例\n",
    "[model11-7.stan](chap11/model/model11-7.stan)\n",
    "\n",
    "functionsブロック内でZIP分布を定義\n",
    "\n",
    "実行コードは以下となる"
   ]
  },
  {
   "cell_type": "code",
   "execution_count": 14,
   "metadata": {},
   "outputs": [
    {
     "name": "stderr",
     "output_type": "stream",
     "text": [
      "11:03:33 - cmdstanpy - INFO - CmdStan start processing\n"
     ]
    },
    {
     "data": {
      "application/vnd.jupyter.widget-view+json": {
       "model_id": "378133a9d1a340d2bf96ef41a8232d5f",
       "version_major": 2,
       "version_minor": 0
      },
      "text/plain": [
       "chain 1 |          | 00:00 Status"
      ]
     },
     "metadata": {},
     "output_type": "display_data"
    },
    {
     "data": {
      "application/vnd.jupyter.widget-view+json": {
       "model_id": "672de623c8614ad3881f28dd31e3fdff",
       "version_major": 2,
       "version_minor": 0
      },
      "text/plain": [
       "chain 2 |          | 00:00 Status"
      ]
     },
     "metadata": {},
     "output_type": "display_data"
    },
    {
     "data": {
      "application/vnd.jupyter.widget-view+json": {
       "model_id": "e713baef221548f9b2e5f38522020b9b",
       "version_major": 2,
       "version_minor": 0
      },
      "text/plain": [
       "chain 3 |          | 00:00 Status"
      ]
     },
     "metadata": {},
     "output_type": "display_data"
    },
    {
     "data": {
      "application/vnd.jupyter.widget-view+json": {
       "model_id": "b5dae33a40a94c4c8bc4c21f6e6bec4b",
       "version_major": 2,
       "version_minor": 0
      },
      "text/plain": [
       "chain 4 |          | 00:00 Status"
      ]
     },
     "metadata": {},
     "output_type": "display_data"
    },
    {
     "name": "stdout",
     "output_type": "stream",
     "text": [
      "                                                                                                                                                                                                                                                                                                                                "
     ]
    },
    {
     "name": "stderr",
     "output_type": "stream",
     "text": [
      "11:03:37 - cmdstanpy - INFO - CmdStan done processing.\n"
     ]
    },
    {
     "name": "stdout",
     "output_type": "stream",
     "text": [
      "\n",
      "qとlambdaの順位関係数(2.5%/25%/50%/75%/97.5%)\n",
      "[-0.80722223 -0.69607001 -0.64964589 -0.60256913 -0.4414537 ]\n"
     ]
    },
    {
     "data": {
      "text/html": [
       "<div>\n",
       "<style scoped>\n",
       "    .dataframe tbody tr th:only-of-type {\n",
       "        vertical-align: middle;\n",
       "    }\n",
       "\n",
       "    .dataframe tbody tr th {\n",
       "        vertical-align: top;\n",
       "    }\n",
       "\n",
       "    .dataframe thead th {\n",
       "        text-align: right;\n",
       "    }\n",
       "</style>\n",
       "<table border=\"1\" class=\"dataframe\">\n",
       "  <thead>\n",
       "    <tr style=\"text-align: right;\">\n",
       "      <th></th>\n",
       "      <th>Mean</th>\n",
       "      <th>MCSE</th>\n",
       "      <th>StdDev</th>\n",
       "      <th>5%</th>\n",
       "      <th>50%</th>\n",
       "      <th>95%</th>\n",
       "      <th>N_Eff</th>\n",
       "      <th>N_Eff/s</th>\n",
       "      <th>R_hat</th>\n",
       "    </tr>\n",
       "  </thead>\n",
       "  <tbody>\n",
       "    <tr>\n",
       "      <th>lp__</th>\n",
       "      <td>-399.631000</td>\n",
       "      <td>0.055224</td>\n",
       "      <td>2.074460</td>\n",
       "      <td>-403.649000</td>\n",
       "      <td>-399.288000</td>\n",
       "      <td>-396.90100</td>\n",
       "      <td>1411.08</td>\n",
       "      <td>211.176</td>\n",
       "      <td>1.002910</td>\n",
       "    </tr>\n",
       "    <tr>\n",
       "      <th>b[1,1]</th>\n",
       "      <td>0.936189</td>\n",
       "      <td>0.013311</td>\n",
       "      <td>0.692821</td>\n",
       "      <td>-0.212396</td>\n",
       "      <td>0.925741</td>\n",
       "      <td>2.10223</td>\n",
       "      <td>2709.20</td>\n",
       "      <td>405.447</td>\n",
       "      <td>0.999418</td>\n",
       "    </tr>\n",
       "    <tr>\n",
       "      <th>b[1,2]</th>\n",
       "      <td>1.603210</td>\n",
       "      <td>0.007105</td>\n",
       "      <td>0.429351</td>\n",
       "      <td>0.908993</td>\n",
       "      <td>1.592050</td>\n",
       "      <td>2.32319</td>\n",
       "      <td>3651.50</td>\n",
       "      <td>546.468</td>\n",
       "      <td>0.999725</td>\n",
       "    </tr>\n",
       "    <tr>\n",
       "      <th>b[1,3]</th>\n",
       "      <td>3.349890</td>\n",
       "      <td>0.024265</td>\n",
       "      <td>0.920156</td>\n",
       "      <td>2.152460</td>\n",
       "      <td>3.236010</td>\n",
       "      <td>4.88351</td>\n",
       "      <td>1437.97</td>\n",
       "      <td>215.201</td>\n",
       "      <td>1.001440</td>\n",
       "    </tr>\n",
       "    <tr>\n",
       "      <th>b[1,4]</th>\n",
       "      <td>-0.364415</td>\n",
       "      <td>0.003686</td>\n",
       "      <td>0.186086</td>\n",
       "      <td>-0.676741</td>\n",
       "      <td>-0.359779</td>\n",
       "      <td>-0.06141</td>\n",
       "      <td>2548.60</td>\n",
       "      <td>381.412</td>\n",
       "      <td>0.999495</td>\n",
       "    </tr>\n",
       "    <tr>\n",
       "      <th>...</th>\n",
       "      <td>...</td>\n",
       "      <td>...</td>\n",
       "      <td>...</td>\n",
       "      <td>...</td>\n",
       "      <td>...</td>\n",
       "      <td>...</td>\n",
       "      <td>...</td>\n",
       "      <td>...</td>\n",
       "      <td>...</td>\n",
       "    </tr>\n",
       "    <tr>\n",
       "      <th>lambda[196]</th>\n",
       "      <td>2.377650</td>\n",
       "      <td>0.001191</td>\n",
       "      <td>0.071494</td>\n",
       "      <td>2.258130</td>\n",
       "      <td>2.379330</td>\n",
       "      <td>2.49274</td>\n",
       "      <td>3605.65</td>\n",
       "      <td>539.606</td>\n",
       "      <td>0.999602</td>\n",
       "    </tr>\n",
       "    <tr>\n",
       "      <th>lambda[197]</th>\n",
       "      <td>2.539390</td>\n",
       "      <td>0.001404</td>\n",
       "      <td>0.081179</td>\n",
       "      <td>2.405300</td>\n",
       "      <td>2.539410</td>\n",
       "      <td>2.67404</td>\n",
       "      <td>3343.03</td>\n",
       "      <td>500.303</td>\n",
       "      <td>1.000160</td>\n",
       "    </tr>\n",
       "    <tr>\n",
       "      <th>lambda[198]</th>\n",
       "      <td>2.539390</td>\n",
       "      <td>0.001404</td>\n",
       "      <td>0.081179</td>\n",
       "      <td>2.405300</td>\n",
       "      <td>2.539410</td>\n",
       "      <td>2.67404</td>\n",
       "      <td>3343.03</td>\n",
       "      <td>500.303</td>\n",
       "      <td>1.000160</td>\n",
       "    </tr>\n",
       "    <tr>\n",
       "      <th>lambda[199]</th>\n",
       "      <td>2.377650</td>\n",
       "      <td>0.001191</td>\n",
       "      <td>0.071494</td>\n",
       "      <td>2.258130</td>\n",
       "      <td>2.379330</td>\n",
       "      <td>2.49274</td>\n",
       "      <td>3605.65</td>\n",
       "      <td>539.606</td>\n",
       "      <td>0.999602</td>\n",
       "    </tr>\n",
       "    <tr>\n",
       "      <th>lambda[200]</th>\n",
       "      <td>1.793420</td>\n",
       "      <td>0.001492</td>\n",
       "      <td>0.090705</td>\n",
       "      <td>1.644580</td>\n",
       "      <td>1.794970</td>\n",
       "      <td>1.93901</td>\n",
       "      <td>3694.50</td>\n",
       "      <td>552.903</td>\n",
       "      <td>1.000480</td>\n",
       "    </tr>\n",
       "  </tbody>\n",
       "</table>\n",
       "<p>609 rows × 9 columns</p>\n",
       "</div>"
      ],
      "text/plain": [
       "                   Mean      MCSE    StdDev          5%         50%  \\\n",
       "lp__        -399.631000  0.055224  2.074460 -403.649000 -399.288000   \n",
       "b[1,1]         0.936189  0.013311  0.692821   -0.212396    0.925741   \n",
       "b[1,2]         1.603210  0.007105  0.429351    0.908993    1.592050   \n",
       "b[1,3]         3.349890  0.024265  0.920156    2.152460    3.236010   \n",
       "b[1,4]        -0.364415  0.003686  0.186086   -0.676741   -0.359779   \n",
       "...                 ...       ...       ...         ...         ...   \n",
       "lambda[196]    2.377650  0.001191  0.071494    2.258130    2.379330   \n",
       "lambda[197]    2.539390  0.001404  0.081179    2.405300    2.539410   \n",
       "lambda[198]    2.539390  0.001404  0.081179    2.405300    2.539410   \n",
       "lambda[199]    2.377650  0.001191  0.071494    2.258130    2.379330   \n",
       "lambda[200]    1.793420  0.001492  0.090705    1.644580    1.794970   \n",
       "\n",
       "                   95%    N_Eff  N_Eff/s     R_hat  \n",
       "lp__        -396.90100  1411.08  211.176  1.002910  \n",
       "b[1,1]         2.10223  2709.20  405.447  0.999418  \n",
       "b[1,2]         2.32319  3651.50  546.468  0.999725  \n",
       "b[1,3]         4.88351  1437.97  215.201  1.001440  \n",
       "b[1,4]        -0.06141  2548.60  381.412  0.999495  \n",
       "...                ...      ...      ...       ...  \n",
       "lambda[196]    2.49274  3605.65  539.606  0.999602  \n",
       "lambda[197]    2.67404  3343.03  500.303  1.000160  \n",
       "lambda[198]    2.67404  3343.03  500.303  1.000160  \n",
       "lambda[199]    2.49274  3605.65  539.606  0.999602  \n",
       "lambda[200]    1.93901  3694.50  552.903  1.000480  \n",
       "\n",
       "[609 rows x 9 columns]"
      ]
     },
     "execution_count": 14,
     "metadata": {},
     "output_type": "execute_result"
    }
   ],
   "source": [
    "import numpy as np\n",
    "import polars as pl\n",
    "from cmdstanpy import CmdStanModel\n",
    "from scipy import stats\n",
    "\n",
    "\"\"\"重回帰\"\"\"\n",
    "\n",
    "zip_df = pl.read_csv(\"./chap11/input//data-ZIP.txt\")\n",
    "X = zip_df.select(\n",
    "    [\n",
    "        pl.lit(1).alias(\"Intercept\"),\n",
    "        pl.col(\"Sex\"),\n",
    "        pl.col(\"Sake\"),\n",
    "        pl.col(\"Age\") / 10,\n",
    "    ],\n",
    ")\n",
    "Y = zip_df[\"Y\"]\n",
    "data = {\n",
    "    \"N\": X.shape[0],\n",
    "    \"D\": X.shape[1],\n",
    "    \"Y\": Y.to_numpy(),\n",
    "    \"X\": X.to_numpy(),\n",
    "}\n",
    "sm = CmdStanModel(stan_file=\"./chap11/model/model11-7.stan\")\n",
    "fit = sm.sample(data=data, seed=123)\n",
    "var_lambda = fit.stan_variables()[\"lambda\"]\n",
    "\n",
    "N_mcmc = fit.q.size\n",
    "r = [stats.spearmanr(a, b)[0] for a, b in zip(var_lambda, fit.q, strict=False)]\n",
    "\n",
    "percentile = np.percentile(r, (2.5, 25, 50, 75, 97.5))\n",
    "print(  # noqa: T201\n",
    "    f\"qとlambdaの順位関係数(2.5%/25%/50%/75%/97.5%)\\n{percentile}\",\n",
    ")\n",
    "fit.summary()"
   ]
  },
  {
   "cell_type": "markdown",
   "metadata": {},
   "source": [
    "### 11.3.5 推定結果の解釈\n",
    "\n",
    "- b[1,]: 来店確率に関わる回帰係数$\\vec{b_1}$\n",
    "- b[2,]: リピーターが何回来店するかに関わる回帰係数$\\vec{b_1}$\n",
    "- b[,1] ~ b[,4]: 切片項の列・Sex 列・Sake列・Age列に掛かる回帰係数。Ageはスケーリングのため1/10したので、元の年齢で考える場合は10倍すること。\n",
    "- 来店確率が高いのは「女性でお酒を飲んで年齢が低い人」\n",
    "- リピーターになって多数来店するのは「男性でお酒を飲まなくて年齢が高い人」\n",
    "\n",
    "という解釈ができる。\n",
    "\n",
    "また、来店確率qとリピート来店回数のパラメータlambdaについて順位相関係数の中央値と95%ベイズ信頼区間を計算すると、-0.65(-0.80～-0.47)となり、来店確率が高いこととリピーターで多数来店することの間にはかなり大きな負の相関がある事がわかる。\n",
    "\n",
    "単純に重回帰するより多くのことがわかった。\n",
    "\n",
    "## 11.4 Latent Dirichlet Allocation\n",
    "\n",
    "Latent Dirichlet Allocation(LDA)は自然言語処理の分野で考案されたモデル。\n",
    "\n",
    "この節では、あるスーパーマーケットのネットショップにおいて、顧客がどの商品を購入したかを記録した架空データを扱う。 \n",
    "\n",
    "データファイル11.6 [data-lda.txt](./chap11/input/data-lda.txt)\n",
    "\n",
    "顧客は50人、商品は120個とする。\n",
    "\n",
    "### 11.4.1 解析の目的とデータの分布の確認\n",
    "\n",
    "目的\n",
    "- 購入履歴から顧客の特徴を抽出したい\n",
    "- 商品をグルーピングしたい\n",
    "\n",
    "データ分布の確認として、以下を実施する\n",
    "- 商品と顧客のクロス集計を可視化する(図11.5)。\n",
    "- 顧客ごとの購入品数と商品ごとの購入者数を算出し、それらのヒストグラムを描く(図11.6)。\n"
   ]
  },
  {
   "cell_type": "code",
   "execution_count": 20,
   "metadata": {},
   "outputs": [
    {
     "data": {
      "image/png": "[encoded data removed]",
      "text/plain": [
       "<Figure size 1075.2x480 with 2 Axes>"
      ]
     },
     "metadata": {},
     "output_type": "display_data"
    }
   ],
   "source": [
    "import matplotlib.pyplot as plt\n",
    "import polars as pl\n",
    "\n",
    "\"\"\"図11.5\"\"\"\n",
    "lda = pl.read_csv(\"./chap11/input/data-lda.txt\")\n",
    "\n",
    "# pivotを用いてクロス集計する(polarsにはクロス集計機能がないので).\n",
    "pivot_data = lda.pivot(  # noqa: PD010\n",
    "    \"PersonID\",\n",
    "    \"PersonID\",\n",
    "    \"ItemID\",\n",
    "    \"count\",\n",
    ").fill_null(0)\n",
    "\n",
    "# pivotしたデータの列を商品番号順にソートする(先頭はPersonID列).\n",
    "col_names = [pivot_data.columns[0], *sorted(pivot_data.columns[1:], key=int)]\n",
    "cross_data = pivot_data[col_names]\n",
    "\n",
    "im = plt.matshow(\n",
    "    cross_data[:, 1:],\n",
    "    cmap=\"binary\",\n",
    "    aspect=\"equal\",\n",
    ")\n",
    "\n",
    "plt.colorbar(im, fraction=0.02, pad=0.03)\n",
    "plt.setp(plt.gca(), xlabel=\"ItemID\", ylabel=\"PersonID\")\n",
    "plt.show()"
   ]
  },
  {
   "cell_type": "code",
   "execution_count": 29,
   "metadata": {},
   "outputs": [
    {
     "data": {
      "image/png": "[encoded data removed]",
      "text/plain": [
       "<Figure size 800x300 with 2 Axes>"
      ]
     },
     "metadata": {},
     "output_type": "display_data"
    }
   ],
   "source": [
    "import matplotlib.pyplot as plt\n",
    "import numpy as np\n",
    "\n",
    "\"\"\"図11.6\"\"\"\n",
    "lda = pl.read_csv(\"./chap11/input/data-lda.txt\")\n",
    "\n",
    "_, (ax1, ax2) = plt.subplots(1, 2, figsize=(8, 3))\n",
    "ax1.hist(lda.group_by(\"PersonID\").count()[\"count\"], bins=30)\n",
    "plt.setp(\n",
    "    ax1,\n",
    "    xticks=np.arange(10, 41, 10),\n",
    "    xlim=(10, 40),\n",
    "    xlabel=\"count by PersonID\",\n",
    "    ylabel=\"count\",\n",
    ")\n",
    "ax2.hist(lda.group_by(\"ItemID\").count()[\"count\"], bins=45)\n",
    "plt.setp(ax2, xlabel=\"count by ItemID\", ylabel=\"count\")\n",
    "plt.show()"
   ]
  },
  {
   "cell_type": "markdown",
   "metadata": {},
   "source": [
    "### 11.4.2 メカニズムの想像\n",
    "\n",
    "顧客数をN＝50，商品数を1＝120として、LDAモデルに基づいたメカニズムを考える。\n",
    "\n",
    "顧客1人に限ってメカニズムを想像する。\n",
    "以下のサイコロを用意する。\n",
    "- 生鮮食品・保存食品・日用品・衣料・健康美容品・飲料のタグが付いた6面サイコロ\n",
    "  顧客ごとに確率が異なる\n",
    "- 上記各タグに特化した(6種類の)120面サイコロ(120は全てのタグ全部込みの商品数)\n",
    "  顧客ごとに共通のサイコロだが、特化したタグごとに、各120個の商品の出現確率は異なる\n",
    "\n",
    "商品を購入する際には下記の手順で商品を選ぶ\n",
    "1. 上記の6つのタグ名が書いてある6面サイコ口を振る\n",
    "2. 1.で出たタグの120面サイコロを振り、出た商品を購入する\n",
    "3. 新しい商品を購入する際には1.から繰り返す。\n",
    "\n",
    "![図11.7](./chap11/output/fig11-7.png)\n",
    "図11.7 LDAの戦略\n",
    "\n",
    "![図11.8](./chap11/output/fig11-8.png)\n",
    "図11.8 K面サイコロの例(ここではK=6)\n",
    "\n",
    "![図11.9](./chap11/output/fig11-9.png)\n",
    "図11.9 タグごとに特化した形を持つI面サイコロの例(ここではI = 120)\n",
    "\n",
    "この顧客ごとにある6面サイコロの各面の出現確率を推定することが顧客の特徴を推定することになる。LDAは120個の商品の購買情報から6個の成分のバランスに情報を圧縮するモデルと解釈できる。\n",
    "\n",
    "さらに、タグに特化した120面サイコロの各面の出現確率も推定する。すると、どの商品が出やすいかでタグを特徴づけることができる。これまでは説明のため、タグの内容を「生鮮食品」などあらかじめ与えたが、本来はその逆である。例えば、推定された出やすいトップ20の商品名から、「このタグは生鮮食品である」と解釈するのだ。\n",
    "\n",
    "実際にはタグの数は6と決めず、複数試して十分な大きさに指定する。タグの数が少ないと、十分にグループが分割できない。高度なモデル(ノンパラメトリックベイズモデル)[15]においては、このタグの数すらも推定することができるが本書の範囲を超える。\n",
    "\n",
    "### 11.4.3 モデル式の記述\n",
    "\n",
    "1人の顧客が1つの商品を購入する場合を考える。n番目の顧客がy番目の商品を購入する場合のメカニズムを指揮にすると以下になる。\n",
    "$$\n",
    "\\begin{align}\n",
    "dice &\\sim \\mathrm{Categorical}(\\overrightarrow{\\theta[n]}) \\nonumber \\\\\n",
    "y &\\sim \\mathrm{Categorical}(\\overrightarrow{\\phi[dice]}) \\nonumber\n",
    "\\end{align}\n",
    "$$\n",
    "\n",
    "- $\\vec{\\theta}$: 長さKのベクトル\n",
    "- $\\vec{\\phi}$: 長さIのベクトル\n",
    "\n",
    "このメカニズムをイラストにすると図11.10となる。\n",
    "\n",
    "![図11.10](chap11/output/fig11-10.png)\n",
    "図11.10 n番目の顧客がy番目の商品を購入するメカニズム\n",
    "\n",
    "この図で、購入商品yに至るルートはK個ある。例えば一番上のルートだと確率は下記となる。他のルートも同様。\n",
    "$$\n",
    "\\mathrm{Categorical}(1 | \\overrightarrow{\\theta[n]}) \\times \\mathrm{Categorical}(y | \\overrightarrow{\\phi[1]}) = \\theta[n, 1] \\times \\phi[1, y]\n",
    "$$\n",
    "\n",
    "それぞれのルートは排他的であるので、n番目の顧客がy番目の商品を購入する確率分布はこれらの確率の和となる。\n",
    "\n",
    "$$\n",
    "\\begin{align}\n",
    "p(y|\\overrightarrow{\\theta[n]}, \\overrightarrow{\\phi[1]}, \\dots, \\overrightarrow{\\phi[K]})\n",
    "&= \\sum_{k=1}^{K}[\\mathrm{Categorical}(k | \\overrightarrow{\\theta[n]}) \\times \\mathrm{Categorical}(y | \\overrightarrow{\\phi[k]})] \\nonumber \\\\\n",
    "&=\\sum_{k=1}^{K}\\,[\\theta[n, k] \\times \\phi[k, y]] \\nonumber\n",
    "\\end{align}\n",
    "$$\n",
    "\n",
    "これはnで決まる一つのK面サイコロ$\\overrightarrow{\\theta[n]}$と、K個の1面サイコロ$\\overrightarrow{\\phi[1]}, \\ldots, \\overrightarrow{\\phi[K]}$を与えた時に、$y$を生成する確率分布となっている($y$について和をとると1になる)。この分布を仮にCateCate分布と呼ぶことにしよう。\n",
    "\n",
    "このCateCate分布を使うと、データファイル11.6を1行ずつ独立に生成するモデル式は以下のように表現できる。\n",
    "\n",
    "モデル式11-8\n",
    "$$\n",
    "ItemID[e] \\sim \\mathrm{CateCate}(\\overrightarrow{\\theta[PersonID[e]]}, \\overrightarrow{\\phi[1]}, \\ldots, \\overrightarrow{\\phi[K]}) \\qquad e = 1, \\ldots, E\n",
    "$$\n",
    "\n",
    "ここで各パラメータは以下である。\n",
    "- E: 全購入イベント数\n",
    "- e: イベントのインデックス\n",
    "- $\\overrightarrow{\\theta[1]}, \\ldots, \\overrightarrow{\\theta[N]}$: N個のK面サイコロ\n",
    "- $\\overrightarrow{\\phi[1]}, \\ldots, \\overrightarrow{\\phi[K]}$: K個のI面サイコロ\n",
    "\n",
    "この各サイコロの各面の出現確率を推定するが、制約がまったくないとうまく推定できない場合がある。その場合は弱情報事前分布を設定する必要がある([10.2.3項](./chap10.ipynb#1023-確率などの範囲のパラメータ))。\n",
    "\n",
    "タグ「飲料」の場合、「刺し身」や「唐揚げ」ではなく「お茶」が選ばれやすいように、$\\overrightarrow{\\phi[k]}$はタグに関連した要素だけが比較的出現確率が高いと考えられるので、ディリクレ分布を$\\overrightarrow{\\phi[k]}$の事前情報分布として設定するのがよいだろう。\n",
    "\n",
    "### 11.4.4 Rでシミュレーション\n",
    "\n",
    "シミュレーションを行い結果を見る。"
   ]
  },
  {
   "cell_type": "code",
   "execution_count": 2,
   "metadata": {},
   "outputs": [
    {
     "data": {
      "text/html": [
       "<div><style>\n",
       ".dataframe > thead > tr,\n",
       ".dataframe > tbody > tr {\n",
       "  text-align: right;\n",
       "  white-space: pre-wrap;\n",
       "}\n",
       "</style>\n",
       "<small>shape: (458, 2)</small><table border=\"1\" class=\"dataframe\"><thead><tr><th>PersonID</th><th>ItemID</th></tr><tr><td>i64</td><td>i64</td></tr></thead><tbody><tr><td>0</td><td>85</td></tr><tr><td>0</td><td>110</td></tr><tr><td>0</td><td>15</td></tr><tr><td>0</td><td>77</td></tr><tr><td>0</td><td>15</td></tr><tr><td>0</td><td>24</td></tr><tr><td>0</td><td>70</td></tr><tr><td>1</td><td>31</td></tr><tr><td>1</td><td>101</td></tr><tr><td>1</td><td>39</td></tr><tr><td>1</td><td>67</td></tr><tr><td>1</td><td>67</td></tr><tr><td>&hellip;</td><td>&hellip;</td></tr><tr><td>48</td><td>79</td></tr><tr><td>48</td><td>99</td></tr><tr><td>48</td><td>118</td></tr><tr><td>48</td><td>79</td></tr><tr><td>48</td><td>118</td></tr><tr><td>48</td><td>15</td></tr><tr><td>48</td><td>42</td></tr><tr><td>49</td><td>3</td></tr><tr><td>49</td><td>26</td></tr><tr><td>49</td><td>118</td></tr><tr><td>49</td><td>21</td></tr><tr><td>49</td><td>108</td></tr></tbody></table></div>"
      ],
      "text/plain": [
       "shape: (458, 2)\n",
       "┌──────────┬────────┐\n",
       "│ PersonID ┆ ItemID │\n",
       "│ ---      ┆ ---    │\n",
       "│ i64      ┆ i64    │\n",
       "╞══════════╪════════╡\n",
       "│ 0        ┆ 85     │\n",
       "│ 0        ┆ 110    │\n",
       "│ 0        ┆ 15     │\n",
       "│ 0        ┆ 77     │\n",
       "│ …        ┆ …      │\n",
       "│ 49       ┆ 26     │\n",
       "│ 49       ┆ 118    │\n",
       "│ 49       ┆ 21     │\n",
       "│ 49       ┆ 108    │\n",
       "└──────────┴────────┘"
      ]
     },
     "execution_count": 2,
     "metadata": {},
     "output_type": "execute_result"
    }
   ],
   "source": [
    "import numpy as np\n",
    "import polars as pl\n",
    "\n",
    "N = 50\n",
    "I = 120\n",
    "K = 6\n",
    "\n",
    "random_gen = np.random.default_rng(123)\n",
    "\n",
    "alpha0 = np.full(K, 0.8)\n",
    "alpha1 = np.full(I, 0.2)\n",
    "theta = random_gen.dirichlet(alpha0, N)\n",
    "phi = random_gen.dirichlet(alpha1, K)\n",
    "\n",
    "num_items_by_n = np.round(np.exp(random_gen.normal(2.0, 0.5, N))).astype(int)\n",
    "\n",
    "d = pl.DataFrame()\n",
    "for n in range(N):\n",
    "    z = random_gen.choice(np.arange(K), num_items_by_n[n], replace=True, p=theta[n])\n",
    "    item = [random_gen.choice(np.arange(I), 1, replace=True, p=phi[k])[0] for k in z]\n",
    "    d = pl.concat(\n",
    "        [d, pl.DataFrame({\"PersonID\": np.repeat(n, len(item)), \"ItemID\": item})],\n",
    "    )\n",
    "d"
   ]
  },
  {
   "cell_type": "markdown",
   "metadata": {},
   "source": [
    "### 11.4.5 Stanで実装\n",
    "\n",
    "モデル11-8の実装例 [model11-8.stan](./chap11/model/model11-8.stan)\n",
    "\n",
    "このモデルはパラメータの数が多く、Stanの標準の推定アルゴリズムNUTSでは推定に時間がかかるため、ADVI(Automatic Differentiation Variational Inference, 変分ベイズ法の一実装)の機能を利用して推定する。ADVIは事後分布を近似した分布を変分ベイズで求め、最終的にはその分布から乱数サンプルを発生させて返す。"
   ]
  },
  {
   "cell_type": "code",
   "execution_count": 23,
   "metadata": {},
   "outputs": [
    {
     "name": "stderr",
     "output_type": "stream",
     "text": [
      "/var/folders/f5/_tj1zvq95fx0wllynn0tpq800000gn/T/ipykernel_93272/4115264421.py:74: UserWarning: This figure includes Axes that are not compatible with tight_layout, so results might be incorrect.\n",
      "  gs2.tight_layout(fig, rect=[0.6, None, None, None])\n"
     ]
    },
    {
     "data": {
      "image/png": "[encoded data removed]",
      "text/plain": [
       "<Figure size 1000x400 with 8 Axes>"
      ]
     },
     "metadata": {},
     "output_type": "display_data"
    }
   ],
   "source": [
    "import matplotlib.pyplot as plt\n",
    "import numpy as np\n",
    "import polars as pl\n",
    "from cmdstanpy import CmdStanModel\n",
    "from matplotlib import gridspec\n",
    "\n",
    "\"\"\"ADVIを用いた推定\"\"\"\n",
    "lda = pl.read_csv(\"./chap11/input/data-lda.txt\")\n",
    "N = 50\n",
    "I = 120\n",
    "K = 6\n",
    "data = {\n",
    "    \"E\": lda.shape[0],\n",
    "    \"N\": N,\n",
    "    \"I\": I,\n",
    "    \"K\": K,\n",
    "    \"PersonID\": lda[\"PersonID\"].to_list(),\n",
    "    \"ItemID\": lda[\"ItemID\"].to_list(),\n",
    "    \"Alpha\": np.repeat(0.5, I),\n",
    "}\n",
    "sm = CmdStanModel(stan_file=\"./chap11/model/model11-8.stan\")\n",
    "\n",
    "# NUTS (No U-Turn Sampler) 時間がかかる\n",
    "# fit_nuts = sm.sample(data=data, seed=123)  # noqa: ERA001\n",
    "\n",
    "# ADVI (Automatic Differentiation Variational Inference)\n",
    "fit_vb = sm.variational(data=data, seed=123)\n",
    "\n",
    "\"\"\"図11.11\"\"\"\n",
    "probs = (10, 25, 50, 75, 90)\n",
    "MCMC_samples = pl.DataFrame(fit_vb.variational_sample_pd)\n",
    "\n",
    "\"\"\"左図\"\"\"\n",
    "idx = np.array([[k + 1, i + 1] for k, i in np.ndindex(K, I)])\n",
    "\n",
    "sorted_col_name = [f\"phi[{k},{i}]\" for k, i in idx]\n",
    "phi = MCMC_samples.select(r\"^phi\\[.*\\]$\")\n",
    "phi = phi[sorted_col_name]\n",
    "d_qua = np.percentile(phi, probs, axis=0).T\n",
    "d_qua = pl.DataFrame(\n",
    "    np.hstack((idx, d_qua)),\n",
    "    schema=[\"tag\", \"item\"] + [f\"p{p}\" for p in probs],\n",
    ")\n",
    "\n",
    "fig = plt.figure(figsize=(10, 4))\n",
    "gs1 = gridspec.GridSpec(2, 3)\n",
    "ax = None\n",
    "for i, pos in enumerate(np.ndindex(2, 3)):\n",
    "    ax = fig.add_subplot(gs1[pos], sharex=ax)\n",
    "    ax.invert_yaxis()\n",
    "    ax.hlines(\"item\", 0, \"p50\", data=d_qua.filter(pl.col(\"tag\") == i + 1))\n",
    "    if pos[0] == 0:\n",
    "        plt.setp(ax.get_xticklabels(), visible=False)\n",
    "    else:\n",
    "        plt.setp(ax, xlabel=\"phi[k,y]\")\n",
    "    if pos[1] == 0:\n",
    "        plt.setp(ax, yticks=[1, *list(np.arange(20, 121, 20))], ylabel=\"ItemID\")\n",
    "    else:\n",
    "        plt.setp(ax.get_yticklabels(), visible=False)\n",
    "    plt.setp(ax, title=i + 1)\n",
    "gs1.tight_layout(fig, rect=[None, None, 0.6, None])\n",
    "\n",
    "\"\"\"右図\"\"\"\n",
    "idx2 = np.array([[n + 1, k + 1] for n, k in np.ndindex(N, K)])\n",
    "sorted_col_name2 = [f\"theta[{n},{k}]\" for n, k in idx2]\n",
    "theta = MCMC_samples.select(r\"^theta\\[.*\\]$\")\n",
    "theta = theta[sorted_col_name2]\n",
    "\n",
    "d_qua2 = np.percentile(theta, probs, axis=0).T\n",
    "d_qua2 = pl.DataFrame(\n",
    "    np.hstack((idx2, d_qua2)),\n",
    "    schema=[\"person\", \"tag\"] + [f\"p{p}\" for p in probs],\n",
    ")\n",
    "\n",
    "gs2 = gridspec.GridSpec(2, 1)\n",
    "ax = None\n",
    "for i, person in enumerate([1, 50]):\n",
    "    ax = fig.add_subplot(gs2[i], sharex=ax)\n",
    "    ax.invert_yaxis()\n",
    "    sub = d_qua2.filter(pl.col(\"person\") == person)\n",
    "    ax.barh(\n",
    "        \"tag\",\n",
    "        \"p50\",\n",
    "        data=sub,\n",
    "        xerr=(sub[\"p25\"], sub[\"p75\"]),\n",
    "        color=\"w\",\n",
    "        edgecolor=\"k\",\n",
    "    )\n",
    "    if i == 0:\n",
    "        plt.setp(ax.get_xticklabels(), visible=False)\n",
    "    else:\n",
    "        plt.setp(ax, xlabel=\"theta[n,k]\")\n",
    "    plt.setp(ax, title=person, ylabel=\"tag\")\n",
    "gs2.tight_layout(fig, rect=[0.6, None, None, None])\n",
    "\n",
    "plt.show()"
   ]
  },
  {
   "cell_type": "markdown",
   "metadata": {},
   "source": [
    "## 補足と文献案内\n",
    "\n",
    "ゼロ過剰ポアソン分布は、逆にゼロだけ頻度が少ない場合には対応できない。その場合、ハードルモデル(hurdle model)を使用するとよい。例えば、ポアソン分布を使ったハードルモデルはベルヌーイ分布と切断ポアソン分布を混ぜた確率分布。(Stanのマニュアルの「Finite Mixtures」の章を参照)\n",
    "\n",
    "トピックモデルやその拡張については\n",
    "- [15] 岩田具治.(2015).トピックモデル.講談社.\n",
    "- [22] 佐藤一誠.(2015).トピックモデルによる統計的潜在意味解析.コロナ社.\n",
    "\n",
    "を参照。\n",
    "\n",
    "## 練習問題\n",
    "\n",
    "(1)「~」の代わりにtargetを使った記法を使ってmodel8-4b.stanを書き直し、実行せよ。\n",
    "\n",
    "以下のように書き直す\n",
    "```diff\n",
    " model {\n",
    "-  a ~ normal(a0, s_a);\n",
    "-  b ~ normal(b0, s_b);\n",
    "-  Y ~ normal(a[KID] + b[KID] .* X, s_Y);\n",
    "+  target += normal_lpdf(a | a0, s_a);\n",
    "+  target += normal_lpdf(b | b0, s_b);\n",
    "+  target += normal_lpdf(Y | a[KID] + b[KID] .* X, s_Y);\n",
    " }\n",
    "```"
   ]
  },
  {
   "cell_type": "code",
   "execution_count": 25,
   "metadata": {},
   "outputs": [
    {
     "name": "stderr",
     "output_type": "stream",
     "text": [
      "21:20:55 - cmdstanpy - INFO - compiling stan file /Users/sean/Documents/myscript/python-bayes/src/python_bayes/chap11/exercise/ex1.stan to exe file /Users/sean/Documents/myscript/python-bayes/src/python_bayes/chap11/exercise/ex1\n",
      "21:21:05 - cmdstanpy - INFO - compiled model executable: /Users/sean/Documents/myscript/python-bayes/src/python_bayes/chap11/exercise/ex1\n",
      "21:21:05 - cmdstanpy - INFO - CmdStan start processing\n"
     ]
    },
    {
     "data": {
      "application/vnd.jupyter.widget-view+json": {
       "model_id": "a7fd67ec549648c49eeb9debc5713604",
       "version_major": 2,
       "version_minor": 0
      },
      "text/plain": [
       "chain 1 |          | 00:00 Status"
      ]
     },
     "metadata": {},
     "output_type": "display_data"
    },
    {
     "data": {
      "application/vnd.jupyter.widget-view+json": {
       "model_id": "b1287f145fd14616807666a1f5ad62bf",
       "version_major": 2,
       "version_minor": 0
      },
      "text/plain": [
       "chain 2 |          | 00:00 Status"
      ]
     },
     "metadata": {},
     "output_type": "display_data"
    },
    {
     "data": {
      "application/vnd.jupyter.widget-view+json": {
       "model_id": "35e2b9dcda03443f8bac6376850906f4",
       "version_major": 2,
       "version_minor": 0
      },
      "text/plain": [
       "chain 3 |          | 00:00 Status"
      ]
     },
     "metadata": {},
     "output_type": "display_data"
    },
    {
     "data": {
      "application/vnd.jupyter.widget-view+json": {
       "model_id": "2fcf0a2ba68147f180a3365e809b16c5",
       "version_major": 2,
       "version_minor": 0
      },
      "text/plain": [
       "chain 4 |          | 00:00 Status"
      ]
     },
     "metadata": {},
     "output_type": "display_data"
    },
    {
     "name": "stderr",
     "output_type": "stream",
     "text": [
      "0.01s - Debugger warning: It seems that frozen modules are being used, which may\n",
      "0.00s - make the debugger miss breakpoints. Please pass -Xfrozen_modules=off\n",
      "0.00s - to python to disable frozen modules.\n",
      "0.00s - Note: Debugging will proceed. Set PYDEVD_DISABLE_FILE_VALIDATION=1 to disable this validation.\n"
     ]
    },
    {
     "name": "stdout",
     "output_type": "stream",
     "text": [
      "                                                                                                                                                                                                                                                                                                                                "
     ]
    },
    {
     "name": "stderr",
     "output_type": "stream",
     "text": [
      "21:21:06 - cmdstanpy - INFO - CmdStan done processing.\n",
      "21:21:07 - cmdstanpy - WARNING - Some chains may have failed to converge.\n",
      "\tChain 1 had 8 divergent transitions (0.8%)\n",
      "\tChain 2 had 11 divergent transitions (1.1%)\n",
      "\tChain 3 had 8 divergent transitions (0.8%)\n",
      "\tChain 4 had 5 divergent transitions (0.5%)\n",
      "\tUse the \"diagnose()\" method on the CmdStanMCMC object to see further information.\n"
     ]
    },
    {
     "name": "stdout",
     "output_type": "stream",
     "text": [
      "\n"
     ]
    },
    {
     "data": {
      "text/html": [
       "<div>\n",
       "<style scoped>\n",
       "    .dataframe tbody tr th:only-of-type {\n",
       "        vertical-align: middle;\n",
       "    }\n",
       "\n",
       "    .dataframe tbody tr th {\n",
       "        vertical-align: top;\n",
       "    }\n",
       "\n",
       "    .dataframe thead th {\n",
       "        text-align: right;\n",
       "    }\n",
       "</style>\n",
       "<table border=\"1\" class=\"dataframe\">\n",
       "  <thead>\n",
       "    <tr style=\"text-align: right;\">\n",
       "      <th></th>\n",
       "      <th>Mean</th>\n",
       "      <th>MCSE</th>\n",
       "      <th>StdDev</th>\n",
       "      <th>5%</th>\n",
       "      <th>50%</th>\n",
       "      <th>95%</th>\n",
       "      <th>N_Eff</th>\n",
       "      <th>N_Eff/s</th>\n",
       "      <th>R_hat</th>\n",
       "    </tr>\n",
       "  </thead>\n",
       "  <tbody>\n",
       "    <tr>\n",
       "      <th>lp__</th>\n",
       "      <td>-217.58500</td>\n",
       "      <td>0.136214</td>\n",
       "      <td>3.525620</td>\n",
       "      <td>-224.117000</td>\n",
       "      <td>-217.24000</td>\n",
       "      <td>-212.46600</td>\n",
       "      <td>669.92900</td>\n",
       "      <td>899.23300</td>\n",
       "      <td>1.004090</td>\n",
       "    </tr>\n",
       "    <tr>\n",
       "      <th>a0</th>\n",
       "      <td>398.12300</td>\n",
       "      <td>14.107500</td>\n",
       "      <td>233.826000</td>\n",
       "      <td>231.914000</td>\n",
       "      <td>371.66400</td>\n",
       "      <td>622.53000</td>\n",
       "      <td>274.71700</td>\n",
       "      <td>368.74700</td>\n",
       "      <td>1.018710</td>\n",
       "    </tr>\n",
       "    <tr>\n",
       "      <th>b0</th>\n",
       "      <td>11.73380</td>\n",
       "      <td>0.244176</td>\n",
       "      <td>8.165680</td>\n",
       "      <td>0.756618</td>\n",
       "      <td>12.17700</td>\n",
       "      <td>21.99740</td>\n",
       "      <td>1118.35000</td>\n",
       "      <td>1501.14000</td>\n",
       "      <td>1.001820</td>\n",
       "    </tr>\n",
       "    <tr>\n",
       "      <th>a[1]</th>\n",
       "      <td>384.09200</td>\n",
       "      <td>0.382202</td>\n",
       "      <td>15.402200</td>\n",
       "      <td>357.921000</td>\n",
       "      <td>384.53000</td>\n",
       "      <td>408.85700</td>\n",
       "      <td>1623.99000</td>\n",
       "      <td>2179.85000</td>\n",
       "      <td>1.005610</td>\n",
       "    </tr>\n",
       "    <tr>\n",
       "      <th>a[2]</th>\n",
       "      <td>334.25900</td>\n",
       "      <td>0.421346</td>\n",
       "      <td>18.034400</td>\n",
       "      <td>304.630000</td>\n",
       "      <td>333.83000</td>\n",
       "      <td>363.94400</td>\n",
       "      <td>1831.99000</td>\n",
       "      <td>2459.05000</td>\n",
       "      <td>1.002010</td>\n",
       "    </tr>\n",
       "    <tr>\n",
       "      <th>a[3]</th>\n",
       "      <td>323.09800</td>\n",
       "      <td>0.847296</td>\n",
       "      <td>32.536700</td>\n",
       "      <td>268.429000</td>\n",
       "      <td>323.72900</td>\n",
       "      <td>374.34300</td>\n",
       "      <td>1474.61000</td>\n",
       "      <td>1979.34000</td>\n",
       "      <td>0.999927</td>\n",
       "    </tr>\n",
       "    <tr>\n",
       "      <th>a[4]</th>\n",
       "      <td>498.80200</td>\n",
       "      <td>5.775960</td>\n",
       "      <td>142.109000</td>\n",
       "      <td>324.554000</td>\n",
       "      <td>471.15900</td>\n",
       "      <td>771.46600</td>\n",
       "      <td>605.33500</td>\n",
       "      <td>812.53100</td>\n",
       "      <td>1.006170</td>\n",
       "    </tr>\n",
       "    <tr>\n",
       "      <th>b[1]</th>\n",
       "      <td>7.69943</td>\n",
       "      <td>0.024239</td>\n",
       "      <td>0.953712</td>\n",
       "      <td>6.152600</td>\n",
       "      <td>7.68201</td>\n",
       "      <td>9.32272</td>\n",
       "      <td>1548.18000</td>\n",
       "      <td>2078.09000</td>\n",
       "      <td>1.003790</td>\n",
       "    </tr>\n",
       "    <tr>\n",
       "      <th>b[2]</th>\n",
       "      <td>19.44860</td>\n",
       "      <td>0.031811</td>\n",
       "      <td>1.336770</td>\n",
       "      <td>17.293900</td>\n",
       "      <td>19.46080</td>\n",
       "      <td>21.69580</td>\n",
       "      <td>1765.88000</td>\n",
       "      <td>2370.31000</td>\n",
       "      <td>1.001930</td>\n",
       "    </tr>\n",
       "    <tr>\n",
       "      <th>b[3]</th>\n",
       "      <td>12.02370</td>\n",
       "      <td>0.041718</td>\n",
       "      <td>1.605120</td>\n",
       "      <td>9.478620</td>\n",
       "      <td>11.99820</td>\n",
       "      <td>14.69990</td>\n",
       "      <td>1480.38000</td>\n",
       "      <td>1987.09000</td>\n",
       "      <td>0.999826</td>\n",
       "    </tr>\n",
       "    <tr>\n",
       "      <th>b[4]</th>\n",
       "      <td>9.06989</td>\n",
       "      <td>0.232306</td>\n",
       "      <td>5.734250</td>\n",
       "      <td>-1.855300</td>\n",
       "      <td>10.09420</td>\n",
       "      <td>16.21920</td>\n",
       "      <td>609.30400</td>\n",
       "      <td>817.85700</td>\n",
       "      <td>1.005740</td>\n",
       "    </tr>\n",
       "    <tr>\n",
       "      <th>s_a</th>\n",
       "      <td>215.21276</td>\n",
       "      <td>22.218830</td>\n",
       "      <td>455.176450</td>\n",
       "      <td>20.694400</td>\n",
       "      <td>114.04800</td>\n",
       "      <td>625.87200</td>\n",
       "      <td>419.67879</td>\n",
       "      <td>563.32723</td>\n",
       "      <td>1.007050</td>\n",
       "    </tr>\n",
       "    <tr>\n",
       "      <th>s_b</th>\n",
       "      <td>12.09201</td>\n",
       "      <td>0.441020</td>\n",
       "      <td>14.343260</td>\n",
       "      <td>3.731760</td>\n",
       "      <td>8.40969</td>\n",
       "      <td>30.56180</td>\n",
       "      <td>1057.73143</td>\n",
       "      <td>1419.77373</td>\n",
       "      <td>1.004940</td>\n",
       "    </tr>\n",
       "    <tr>\n",
       "      <th>s_Y</th>\n",
       "      <td>28.31854</td>\n",
       "      <td>0.090770</td>\n",
       "      <td>3.914930</td>\n",
       "      <td>22.818900</td>\n",
       "      <td>27.87610</td>\n",
       "      <td>35.23690</td>\n",
       "      <td>1860.40551</td>\n",
       "      <td>2497.18860</td>\n",
       "      <td>1.001320</td>\n",
       "    </tr>\n",
       "  </tbody>\n",
       "</table>\n",
       "</div>"
      ],
      "text/plain": [
       "           Mean       MCSE      StdDev          5%        50%        95%  \\\n",
       "lp__ -217.58500   0.136214    3.525620 -224.117000 -217.24000 -212.46600   \n",
       "a0    398.12300  14.107500  233.826000  231.914000  371.66400  622.53000   \n",
       "b0     11.73380   0.244176    8.165680    0.756618   12.17700   21.99740   \n",
       "a[1]  384.09200   0.382202   15.402200  357.921000  384.53000  408.85700   \n",
       "a[2]  334.25900   0.421346   18.034400  304.630000  333.83000  363.94400   \n",
       "a[3]  323.09800   0.847296   32.536700  268.429000  323.72900  374.34300   \n",
       "a[4]  498.80200   5.775960  142.109000  324.554000  471.15900  771.46600   \n",
       "b[1]    7.69943   0.024239    0.953712    6.152600    7.68201    9.32272   \n",
       "b[2]   19.44860   0.031811    1.336770   17.293900   19.46080   21.69580   \n",
       "b[3]   12.02370   0.041718    1.605120    9.478620   11.99820   14.69990   \n",
       "b[4]    9.06989   0.232306    5.734250   -1.855300   10.09420   16.21920   \n",
       "s_a   215.21276  22.218830  455.176450   20.694400  114.04800  625.87200   \n",
       "s_b    12.09201   0.441020   14.343260    3.731760    8.40969   30.56180   \n",
       "s_Y    28.31854   0.090770    3.914930   22.818900   27.87610   35.23690   \n",
       "\n",
       "           N_Eff     N_Eff/s     R_hat  \n",
       "lp__   669.92900   899.23300  1.004090  \n",
       "a0     274.71700   368.74700  1.018710  \n",
       "b0    1118.35000  1501.14000  1.001820  \n",
       "a[1]  1623.99000  2179.85000  1.005610  \n",
       "a[2]  1831.99000  2459.05000  1.002010  \n",
       "a[3]  1474.61000  1979.34000  0.999927  \n",
       "a[4]   605.33500   812.53100  1.006170  \n",
       "b[1]  1548.18000  2078.09000  1.003790  \n",
       "b[2]  1765.88000  2370.31000  1.001930  \n",
       "b[3]  1480.38000  1987.09000  0.999826  \n",
       "b[4]   609.30400   817.85700  1.005740  \n",
       "s_a    419.67879   563.32723  1.007050  \n",
       "s_b   1057.73143  1419.77373  1.004940  \n",
       "s_Y   1860.40551  2497.18860  1.001320  "
      ]
     },
     "execution_count": 25,
     "metadata": {},
     "output_type": "execute_result"
    }
   ],
   "source": [
    "import polars as pl\n",
    "from cmdstanpy import CmdStanModel\n",
    "\n",
    "salary2_df = pl.read_csv(\"./chap08/input/data-salary-2.txt\")\n",
    "\n",
    "data = {\n",
    "    \"N\": salary2_df.shape[0],\n",
    "    \"K\": salary2_df[\"KID\"].max(),\n",
    "    \"X\": salary2_df[\"X\"].to_list(),\n",
    "    \"Y\": salary2_df[\"Y\"].to_list(),\n",
    "    \"KID\": salary2_df[\"KID\"].to_list(),\n",
    "}\n",
    "\n",
    "sm = CmdStanModel(stan_file=\"./chap11/exercise/ex1.stan\")\n",
    "fit = sm.sample(data=data, seed=1234)\n",
    "\n",
    "fit.summary()"
   ]
  },
  {
   "cell_type": "markdown",
   "metadata": {},
   "source": [
    "(2) 11.1.2項のベルヌーイ分布（コイントス）の例題において、コインの代わりにサイコロを振って、「1」の目が出た時のみ正直に答えるとしてmodel11-1.stanを修正して実行せよ。ただし、サイコロの各日の出る確率は1/6とする。喫煙する確率の推定された中央値と95%ベイズ信頼区間を答えよ.\n",
    "\n",
    "修正箇所\n",
    "```diff\n",
    " model {\n",
    "   for (n in 1:N)\n",
    "     target += log_sum_exp(\n",
    "-      log(0.5) + bernoulli_lpmf(Y[n] | q),\n",
    "-      log(0.5) + bernoulli_lpmf(Y[n] | 1)\n",
    "+      log(1.0/6) + bernoulli_lpmf(Y[n] | q),\n",
    "+      log(5.0/6) + bernoulli_lpmf(Y[n] | 1)\n",
    "     );\n",
    " }\n",
    "```"
   ]
  },
  {
   "cell_type": "code",
   "execution_count": 26,
   "metadata": {},
   "outputs": [
    {
     "name": "stderr",
     "output_type": "stream",
     "text": [
      "21:25:30 - cmdstanpy - INFO - compiling stan file /Users/sean/Documents/myscript/python-bayes/src/python_bayes/chap11/exercise/ex2.stan to exe file /Users/sean/Documents/myscript/python-bayes/src/python_bayes/chap11/exercise/ex2\n",
      "21:25:34 - cmdstanpy - INFO - compiled model executable: /Users/sean/Documents/myscript/python-bayes/src/python_bayes/chap11/exercise/ex2\n",
      "21:25:35 - cmdstanpy - INFO - CmdStan start processing\n"
     ]
    },
    {
     "data": {
      "application/vnd.jupyter.widget-view+json": {
       "model_id": "422cd3962e714304898e4c4b587cca1c",
       "version_major": 2,
       "version_minor": 0
      },
      "text/plain": [
       "chain 1 |          | 00:00 Status"
      ]
     },
     "metadata": {},
     "output_type": "display_data"
    },
    {
     "data": {
      "application/vnd.jupyter.widget-view+json": {
       "model_id": "bd4fbe5b26f645699a76ef5a1f4d9bbe",
       "version_major": 2,
       "version_minor": 0
      },
      "text/plain": [
       "chain 2 |          | 00:00 Status"
      ]
     },
     "metadata": {},
     "output_type": "display_data"
    },
    {
     "data": {
      "application/vnd.jupyter.widget-view+json": {
       "model_id": "99f40335dcc54829abcf81066f6978bd",
       "version_major": 2,
       "version_minor": 0
      },
      "text/plain": [
       "chain 3 |          | 00:00 Status"
      ]
     },
     "metadata": {},
     "output_type": "display_data"
    },
    {
     "data": {
      "application/vnd.jupyter.widget-view+json": {
       "model_id": "c8661c4150044921b40593f45b2e7b31",
       "version_major": 2,
       "version_minor": 0
      },
      "text/plain": [
       "chain 4 |          | 00:00 Status"
      ]
     },
     "metadata": {},
     "output_type": "display_data"
    },
    {
     "name": "stdout",
     "output_type": "stream",
     "text": [
      "                                                                                                                                                                                                                                                                                                                                "
     ]
    },
    {
     "name": "stderr",
     "output_type": "stream",
     "text": [
      "21:25:35 - cmdstanpy - INFO - CmdStan done processing.\n"
     ]
    },
    {
     "name": "stdout",
     "output_type": "stream",
     "text": [
      "\n"
     ]
    },
    {
     "data": {
      "text/html": [
       "<div>\n",
       "<style scoped>\n",
       "    .dataframe tbody tr th:only-of-type {\n",
       "        vertical-align: middle;\n",
       "    }\n",
       "\n",
       "    .dataframe tbody tr th {\n",
       "        vertical-align: top;\n",
       "    }\n",
       "\n",
       "    .dataframe thead th {\n",
       "        text-align: right;\n",
       "    }\n",
       "</style>\n",
       "<table border=\"1\" class=\"dataframe\">\n",
       "  <thead>\n",
       "    <tr style=\"text-align: right;\">\n",
       "      <th></th>\n",
       "      <th>Mean</th>\n",
       "      <th>MCSE</th>\n",
       "      <th>StdDev</th>\n",
       "      <th>2%</th>\n",
       "      <th>50%</th>\n",
       "      <th>97%</th>\n",
       "      <th>N_Eff</th>\n",
       "      <th>N_Eff/s</th>\n",
       "      <th>R_hat</th>\n",
       "    </tr>\n",
       "  </thead>\n",
       "  <tbody>\n",
       "    <tr>\n",
       "      <th>lp__</th>\n",
       "      <td>-87.528000</td>\n",
       "      <td>0.023304</td>\n",
       "      <td>0.735785</td>\n",
       "      <td>-90.002900</td>\n",
       "      <td>-87.246300</td>\n",
       "      <td>-87.002700</td>\n",
       "      <td>996.831</td>\n",
       "      <td>5246.48</td>\n",
       "      <td>1.00485</td>\n",
       "    </tr>\n",
       "    <tr>\n",
       "      <th>q</th>\n",
       "      <td>0.031715</td>\n",
       "      <td>0.000700</td>\n",
       "      <td>0.030086</td>\n",
       "      <td>0.000811</td>\n",
       "      <td>0.022718</td>\n",
       "      <td>0.106852</td>\n",
       "      <td>1848.180</td>\n",
       "      <td>9727.25</td>\n",
       "      <td>1.00130</td>\n",
       "    </tr>\n",
       "  </tbody>\n",
       "</table>\n",
       "</div>"
      ],
      "text/plain": [
       "           Mean      MCSE    StdDev         2%        50%        97%  \\\n",
       "lp__ -87.528000  0.023304  0.735785 -90.002900 -87.246300 -87.002700   \n",
       "q      0.031715  0.000700  0.030086   0.000811   0.022718   0.106852   \n",
       "\n",
       "         N_Eff  N_Eff/s    R_hat  \n",
       "lp__   996.831  5246.48  1.00485  \n",
       "q     1848.180  9727.25  1.00130  "
      ]
     },
     "execution_count": 26,
     "metadata": {},
     "output_type": "execute_result"
    }
   ],
   "source": [
    "import polars as pl\n",
    "from cmdstanpy import CmdStanModel\n",
    "\n",
    "\"\"\"モデル11-1の実行\"\"\"\n",
    "coin_df = pl.read_csv(\"./chap11/input/data-coin.txt\")\n",
    "\n",
    "data = {\n",
    "    \"N\": coin_df.shape[0],\n",
    "    \"Y\": coin_df[\"Y\"].to_list(),\n",
    "}\n",
    "\n",
    "sm = CmdStanModel(stan_file=\"./chap11/exercise/ex2.stan\")\n",
    "fit = sm.sample(data=data, seed=1234)\n",
    "\n",
    "fit.summary(percentiles=(2, 50, 97))"
   ]
  },
  {
   "cell_type": "markdown",
   "metadata": {},
   "source": [
    "(3) 11.1.2項のベルヌーイ布(コイントス)の例題において、コインを2枚投げて両方とも「表」が出た時のみ正直に答えるとする。以下の二つの場合を考え、model11-1.stanを修正して実行せよ。そして、喫煙する確率のの推定された中央値と95％ベイズ信頼区間を答えよ。\n",
    "\n",
    "  - A) コインのうち1枚は表が出る確率は0.5とし、もう1枚は表が出る確率は0.4とする。\n",
    "  - B) コインのうち1枚は表が出る確率は0.5とし、もう1枚は表が出る確率はp-coinとし、p-coin の事前分布は無情報事前分布とする。\n",
    "\n",
    "修正箇所A\n",
    "```diff\n",
    " model {\n",
    "   for (n in 1:N)\n",
    "     target += log_sum_exp(\n",
    "-      log(0.5) + bernoulli_lpmf(Y[n] | q),\n",
    "-      log(0.5) + bernoulli_lpmf(Y[n] | 1)\n",
    "+      log(0.2) + bernoulli_lpmf(Y[n] | q),\n",
    "+      log(0.8) + bernoulli_lpmf(Y[n] | 1)\n",
    "     );\n",
    " }\n",
    "```\n",
    "\n",
    "修正箇所B\n",
    "```diff\n",
    " parameters {\n",
    "-  real<lower=0, upper=1> q;\n",
    "+  real<lower=0, upper=1> p_coin;\n",
    " }\n",
    "\n",
    " model {\n",
    "-  for (n in 1:N)\n",
    "-    target += log_sum_exp(\n",
    "-      log(0.5) + bernoulli_lpmf(Y[n] | q),\n",
    "-      log(0.5) + bernoulli_lpmf(Y[n] | 1)\n",
    "-    );\n",
    "+  for (n in 1:N) {\n",
    "+    vector[3] lp;\n",
    "+    lp[1] = log(0.5) + log(p_coin) + bernoulli_lpmf(Y[n] | q);\n",
    "+    lp[2] = log(0.5) + log1m(p_coin) + bernoulli_lpmf(Y[n] | 1);\n",
    "+    lp[3] = log(0.5) + bernoulli_lpmf(Y[n] | 1);\n",
    "+    target += log_sum_exp(lp);\n",
    "+  }\n",
    " }\n",
    "```"
   ]
  },
  {
   "cell_type": "code",
   "execution_count": 29,
   "metadata": {},
   "outputs": [
    {
     "name": "stderr",
     "output_type": "stream",
     "text": [
      "22:34:30 - cmdstanpy - INFO - CmdStan start processing\n"
     ]
    },
    {
     "data": {
      "application/vnd.jupyter.widget-view+json": {
       "model_id": "eae8b83f298649e4949b4f44307c3071",
       "version_major": 2,
       "version_minor": 0
      },
      "text/plain": [
       "chain 1 |          | 00:00 Status"
      ]
     },
     "metadata": {},
     "output_type": "display_data"
    },
    {
     "data": {
      "application/vnd.jupyter.widget-view+json": {
       "model_id": "2c4e712e31924298a1261a1953182cb7",
       "version_major": 2,
       "version_minor": 0
      },
      "text/plain": [
       "chain 2 |          | 00:00 Status"
      ]
     },
     "metadata": {},
     "output_type": "display_data"
    },
    {
     "data": {
      "application/vnd.jupyter.widget-view+json": {
       "model_id": "e0592d09be5d4b409234e5ff05d76b5e",
       "version_major": 2,
       "version_minor": 0
      },
      "text/plain": [
       "chain 3 |          | 00:00 Status"
      ]
     },
     "metadata": {},
     "output_type": "display_data"
    },
    {
     "data": {
      "application/vnd.jupyter.widget-view+json": {
       "model_id": "5605a32538af433a9d5585aa05caed8d",
       "version_major": 2,
       "version_minor": 0
      },
      "text/plain": [
       "chain 4 |          | 00:00 Status"
      ]
     },
     "metadata": {},
     "output_type": "display_data"
    },
    {
     "name": "stdout",
     "output_type": "stream",
     "text": [
      "                                                                                                                                                                                                                                                                                                                                "
     ]
    },
    {
     "name": "stderr",
     "output_type": "stream",
     "text": [
      "22:34:31 - cmdstanpy - INFO - CmdStan done processing.\n"
     ]
    },
    {
     "name": "stdout",
     "output_type": "stream",
     "text": [
      "\n",
      "           Mean      MCSE    StdDev         2%        50%        97%  \\\n",
      "lp__ -82.602300  0.027769  0.764277 -84.988400 -82.308600 -82.056900   \n",
      "q      0.035678  0.000806  0.032966   0.000946   0.026202   0.115976   \n",
      "\n",
      "         N_Eff  N_Eff/s    R_hat  \n",
      "lp__   757.502  1183.60  1.00932  \n",
      "q     1674.220  2615.97  1.00338  \n"
     ]
    },
    {
     "name": "stderr",
     "output_type": "stream",
     "text": [
      "22:34:31 - cmdstanpy - INFO - CmdStan start processing\n"
     ]
    },
    {
     "data": {
      "application/vnd.jupyter.widget-view+json": {
       "model_id": "554db4743b1d4a5f99f07ee3225ef85c",
       "version_major": 2,
       "version_minor": 0
      },
      "text/plain": [
       "chain 1 |          | 00:00 Status"
      ]
     },
     "metadata": {},
     "output_type": "display_data"
    },
    {
     "data": {
      "application/vnd.jupyter.widget-view+json": {
       "model_id": "0db8f6da192942f3a849581a8e50669a",
       "version_major": 2,
       "version_minor": 0
      },
      "text/plain": [
       "chain 2 |          | 00:00 Status"
      ]
     },
     "metadata": {},
     "output_type": "display_data"
    },
    {
     "data": {
      "application/vnd.jupyter.widget-view+json": {
       "model_id": "e1cbb3a18c014b8597fa0c90877d757e",
       "version_major": 2,
       "version_minor": 0
      },
      "text/plain": [
       "chain 3 |          | 00:00 Status"
      ]
     },
     "metadata": {},
     "output_type": "display_data"
    },
    {
     "data": {
      "application/vnd.jupyter.widget-view+json": {
       "model_id": "e9afc047a9384b61803e8bf47c518b3a",
       "version_major": 2,
       "version_minor": 0
      },
      "text/plain": [
       "chain 4 |          | 00:00 Status"
      ]
     },
     "metadata": {},
     "output_type": "display_data"
    },
    {
     "name": "stdout",
     "output_type": "stream",
     "text": [
      "                                                                                                                                                                                                                                                                                                                                "
     ]
    },
    {
     "name": "stderr",
     "output_type": "stream",
     "text": [
      "22:34:32 - cmdstanpy - INFO - CmdStan done processing.\n"
     ]
    },
    {
     "name": "stdout",
     "output_type": "stream",
     "text": [
      "\n",
      "             Mean      MCSE    StdDev         2%        50%        97%  \\\n",
      "lp__   -72.925900  0.042922  1.204790 -76.417000 -72.559300 -71.759200   \n",
      "q        0.131021  0.002331  0.087266   0.004742   0.120102   0.312447   \n",
      "p_coin   0.871608  0.002454  0.090607   0.659901   0.884809   0.994055   \n",
      "\n",
      "           N_Eff   N_Eff/s    R_hat  \n",
      "lp__     787.896   615.063  1.00371  \n",
      "q       1401.850  1094.340  1.00055  \n",
      "p_coin  1363.750  1064.600  1.00253  \n"
     ]
    }
   ],
   "source": [
    "import polars as pl\n",
    "from cmdstanpy import CmdStanModel\n",
    "\n",
    "\"\"\"モデル11-1の実行\"\"\"\n",
    "coin_df = pl.read_csv(\"./chap11/input/data-coin.txt\")\n",
    "\n",
    "data = {\n",
    "    \"N\": coin_df.shape[0],\n",
    "    \"Y\": coin_df[\"Y\"].to_list(),\n",
    "}\n",
    "\n",
    "sm1 = CmdStanModel(stan_file=\"./chap11/exercise/ex3_A.stan\")\n",
    "fit1 = sm1.sample(data=data, seed=1234)\n",
    "print(fit1.summary(percentiles=(2, 50, 97)))  # noqa: T201\n",
    "\n",
    "sm2 = CmdStanModel(stan_file=\"./chap11/exercise/ex3_B.stan\")\n",
    "fit2 = sm2.sample(data=data, seed=1234)\n",
    "print(fit2.summary(percentiles=(2, 50, 97)))  # noqa: T201"
   ]
  },
  {
   "cell_type": "markdown",
   "metadata": {},
   "source": [
    "(4) 以下のモデル式11-9の尤度とモデル式11-10の尤度は等価である。\n",
    "\n",
    "  モデル式11-9\n",
    "  $$\n",
    "  \\begin{align}\n",
    "  m &\\sim \\mathrm{Poisson}(\\lambda) \\nonumber \\\\\n",
    "  {\\vec{Y}} &\\sim \\mathrm{Multinomial}(m, \\vec{p}) \\nonumber\n",
    "  \\end{align}\n",
    "  $$\n",
    "  \n",
    "  モデル式11-10\n",
    "  $$\n",
    "  Y_{k} \\sim \\mathrm{Poisson}(\\lambda p_{k}) \\qquad k = 1, \\ldots, K-1\n",
    "  $$\n",
    "  \n",
    "  ここでMultinomialは多項分布であり、$\\vec{p}$はK-simplexを表し、$\\vec{Y}$は長さ$K$で要素が非負の整数値で合計が$m$となるベクトルを表す。データ$\\vec{Y}$から$\\lambda$と$\\vec{p}$を推定する。$K＝3$の場合について等価であることを証明せよ。\\\n",
    "  (ヒント: $Y_3 = 1 - Y_1 - Y_2,\\ p_3 = 1 - p_1 - p_2$であることを利用する)\n",
    "\n",
    "  証明\n",
    "\n",
    "$$\n",
    "\\begin{align}\n",
    "&\\sum_{m=0}^\\infty \\left[\n",
    "  \\mathrm{Poisson}(m|\\lambda)\n",
    "  \\times \\mathrm{Multinomial}(\\vec{Y}|m, \\vec{p})\n",
    "\\right] \\nonumber \\\\\n",
    "&= \\sum_{m = 0}^\\infty \\left[\n",
    "  \\frac{\\lambda^m e^{-\\lambda}}{m!}\n",
    "  \\times \\frac{m!}{Y_1! Y_2! Y_3!} p_1^{Y_1}p_2^{Y_2}p_3^{Y_3}\n",
    "\\right] \\nonumber \\\\\n",
    "&= \\sum_{m = Y_1 + Y_2}^\\infty \\left[\n",
    "  \\frac{\\lambda^m e^{-\\lambda}}{m!}\n",
    "  \\times \\frac{m!}{Y_1! Y_2! (m - Y_1 - Y_2)!} p_1^{Y_1} p_2^{Y_2} p_3^{m - Y_1 - Y_2}\n",
    "\\right] \\nonumber \\\\\n",
    "&= \\frac{p_1^{Y_1} p_2^{Y_2} e^{-\\lambda}}{Y_1! Y_2!}\n",
    "  \\sum_{m = Y_1 + Y_2}^{\\infty} \\left[\n",
    "    \\frac{\\lambda^m}{(m - Y_1 - Y_2)!} p_3^{m - Y_1 - Y_2}\n",
    "  \\right] \\nonumber \\\\\n",
    "&= \\frac{p_1^{Y_1} p_2^{Y_2} e^{-\\lambda}}{Y_1! Y_2!}\n",
    "  \\sum_{\\xi = 0}^{\\infty} \\left[\n",
    "    \\frac{\\lambda^{\\xi + Y_1 + Y_2}}{\\xi!} p_3^\\xi\n",
    "  \\right] \\nonumber \\\\\n",
    "&= \\frac{(\\lambda p_1)^{Y_1} (\\lambda p_2)^{Y_2} e^{-\\lambda}}{Y_1! Y_2!}\n",
    "  \\sum_{\\xi = 0}^{\\infty} \\left[\n",
    "    \\frac{\\lambda^\\xi}{\\xi!} p_3^\\xi\n",
    "  \\right] \\nonumber \\\\\n",
    "&= \\frac{(\\lambda p_1)^{Y_1} (\\lambda p_2)^{Y_2} e^{-\\lambda}}{Y_1! Y_2!} e^{(\\lambda p_3)}\n",
    " = \\frac{(\\lambda p_1)^{Y_1}(\\lambda p_2)^{Y_2} e^{-\\lambda}}{Y_1! Y_2!} e^{\\lambda(1 - p_1 - p_2)}\n",
    "\\nonumber \\\\\n",
    "&= \\frac{(\\lambda p_1)^{Y_1} e^{-(\\lambda p_1)}}{Y_1!}\n",
    "   \\frac{(\\lambda p_2)^{Y_2} e^{-(\\lambda p_2)}}{Y_2!} \n",
    "\\nonumber \\\\\n",
    "\\end{align}\n",
    "$$"
   ]
  },
  {
   "cell_type": "markdown",
   "metadata": {},
   "source": [
    "(5) functionsブロックを利用してmodel11-1.stanを書き直し、実行せよ。"
   ]
  },
  {
   "cell_type": "code",
   "execution_count": 28,
   "metadata": {},
   "outputs": [
    {
     "name": "stderr",
     "output_type": "stream",
     "text": [
      "22:33:47 - cmdstanpy - INFO - compiling stan file /Users/sean/Documents/myscript/python-bayes/src/python_bayes/chap11/exercise/ex5.stan to exe file /Users/sean/Documents/myscript/python-bayes/src/python_bayes/chap11/exercise/ex5\n",
      "22:34:03 - cmdstanpy - INFO - compiled model executable: /Users/sean/Documents/myscript/python-bayes/src/python_bayes/chap11/exercise/ex5\n",
      "22:34:03 - cmdstanpy - INFO - CmdStan start processing\n"
     ]
    },
    {
     "data": {
      "application/vnd.jupyter.widget-view+json": {
       "model_id": "5970897f2b9f4b7da812ba73478dae12",
       "version_major": 2,
       "version_minor": 0
      },
      "text/plain": [
       "chain 1 |          | 00:00 Status"
      ]
     },
     "metadata": {},
     "output_type": "display_data"
    },
    {
     "data": {
      "application/vnd.jupyter.widget-view+json": {
       "model_id": "54a52ec579454a8fa87758cf247f8771",
       "version_major": 2,
       "version_minor": 0
      },
      "text/plain": [
       "chain 2 |          | 00:00 Status"
      ]
     },
     "metadata": {},
     "output_type": "display_data"
    },
    {
     "data": {
      "application/vnd.jupyter.widget-view+json": {
       "model_id": "3f7f84929882457a8792e334281a67f5",
       "version_major": 2,
       "version_minor": 0
      },
      "text/plain": [
       "chain 3 |          | 00:00 Status"
      ]
     },
     "metadata": {},
     "output_type": "display_data"
    },
    {
     "data": {
      "application/vnd.jupyter.widget-view+json": {
       "model_id": "36a443d9f5fb4c739392f30c7e88365f",
       "version_major": 2,
       "version_minor": 0
      },
      "text/plain": [
       "chain 4 |          | 00:00 Status"
      ]
     },
     "metadata": {},
     "output_type": "display_data"
    },
    {
     "name": "stdout",
     "output_type": "stream",
     "text": [
      "                                                                                                                                                                                                                                                                                                                                "
     ]
    },
    {
     "name": "stderr",
     "output_type": "stream",
     "text": [
      "22:34:03 - cmdstanpy - INFO - CmdStan done processing.\n"
     ]
    },
    {
     "name": "stdout",
     "output_type": "stream",
     "text": [
      "\n",
      "           Mean      MCSE    StdDev         2%        50%        97%    N_Eff  \\\n",
      "lp__ -69.761200  0.035153  0.938991 -72.600400 -69.399700 -69.080500  713.501   \n",
      "q      0.198501  0.003089  0.092628   0.026012   0.196153   0.378385  899.432   \n",
      "\n",
      "      N_Eff/s    R_hat  \n",
      "lp__  1651.62  1.00091  \n",
      "q     2082.02  1.00240  \n"
     ]
    }
   ],
   "source": [
    "import polars as pl\n",
    "from cmdstanpy import CmdStanModel\n",
    "\n",
    "\"\"\"モデル11-1の実行\"\"\"\n",
    "coin_df = pl.read_csv(\"./chap11/input/data-coin.txt\")\n",
    "\n",
    "data = {\n",
    "    \"N\": coin_df.shape[0],\n",
    "    \"Y\": coin_df[\"Y\"].to_list(),\n",
    "}\n",
    "\n",
    "sm = CmdStanModel(stan_file=\"./chap11/exercise/ex5.stan\")\n",
    "fit = sm.sample(data=data, seed=1234)\n",
    "fit.summary(percentiles=(2, 50, 97))"
   ]
  },
  {
   "cell_type": "markdown",
   "metadata": {},
   "source": [
    "(6) model11-8.stanは、ある人が同じ商品を複数回購入している場合、そのたびにCateCate分布を呼び出し、同じ値の尤度を複数回計算するので効率が悪い。データの渡し方とStanコードを工夫して効率化せよ。\\\n",
    "  (ヒント: R側で商品を購入した回数を集計する)"
   ]
  },
  {
   "cell_type": "code",
   "execution_count": 9,
   "metadata": {},
   "outputs": [
    {
     "name": "stderr",
     "output_type": "stream",
     "text": [
      "23:13:03 - cmdstanpy - INFO - Chain [1] start processing\n",
      "23:13:05 - cmdstanpy - INFO - Chain [1] done processing\n"
     ]
    }
   ],
   "source": [
    "import numpy as np\n",
    "import polars as pl\n",
    "from cmdstanpy import CmdStanModel\n",
    "\n",
    "\"\"\"モデル11-8の実行\"\"\"\n",
    "lda = pl.read_csv(\"./chap11/input/data-lda.txt\")\n",
    "N = 50\n",
    "I = 120\n",
    "K = 6\n",
    "\n",
    "# 同一人物が同じ商品を重複して買っている回数をカウントしてデータに追加する。重複行は削除する。\n",
    "lda_with_freq = (\n",
    "    lda.group_by([\"PersonID\", \"ItemID\"], maintain_order=True)\n",
    "    .count()\n",
    "    .with_columns(pl.col(\"count\").alias(\"Freq\"))\n",
    ")\n",
    "\n",
    "data = {\n",
    "    \"E\": lda_with_freq.shape[0],\n",
    "    \"N\": N,\n",
    "    \"I\": I,\n",
    "    \"K\": K,\n",
    "    \"PersonID\": lda_with_freq[\"PersonID\"].to_list(),\n",
    "    \"ItemID\": lda_with_freq[\"ItemID\"].to_list(),\n",
    "    \"Freq\": lda_with_freq[\"Freq\"].to_list(),\n",
    "    \"Alpha\": np.repeat(0.5, I),\n",
    "}\n",
    "\n",
    "sm = CmdStanModel(stan_file=\"./chap11/exercise/ex6.stan\")\n",
    "fit_vb = sm.variational(data=data, seed=123)"
   ]
  }
 ],
 "metadata": {
  "kernelspec": {
   "display_name": ".venv",
   "language": "python",
   "name": "python3"
  },
  "language_info": {
   "codemirror_mode": {
    "name": "ipython",
    "version": 3
   },
   "file_extension": ".py",
   "mimetype": "text/x-python",
   "name": "python",
   "nbconvert_exporter": "python",
   "pygments_lexer": "ipython3",
   "version": "3.12.0"
  }
 },
 "nbformat": 4,
 "nbformat_minor": 2
}
