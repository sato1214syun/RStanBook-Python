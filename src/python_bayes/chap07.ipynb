{
 "cells": [
  {
   "cell_type": "markdown",
   "metadata": {},
   "source": [
    "# Chapter 7 回帰分析の悩みどころ\n",
    "\n",
    "## 7.1 交互作用\n",
    "\n",
    "交互作用とは、回帰分析において説明変数同士の掛け算などの項を考慮すること。\n",
    "\n",
    "例えば5.1節のモデルに説明変数の交互作用の項を追加すると、\n",
    "$$\n",
    "\\begin{align}\n",
    "&\\mu[n] = b_1 + b_2 A[n] + b_3 Score[n] &n = 1, \\ldots, N \\nonumber \\\\\n",
    "&\\mathrm{に交互作用の項を追加} \\nonumber \\\\\n",
    "&\\mu[n] = b_1 + b_2 A[n] + b_3 Score[n] + b_4A[n]Score[n] &n = 1, \\ldots, N \\nonumber \\\\\n",
    "&\\mathrm{式変形すると} \\nonumber \\\\\n",
    "&\\mu[n] = b_1 + b_2 A[n] + (b_3 + b_4A[n]) Score[n] &n = 1, \\ldots, N \\nonumber \\\\\n",
    "\\end{align}\n",
    "$$\n",
    "となる。アルバイトが好きかどうか$A[n]$によって、$Score$が増えた時の傾きが変わることになる。この交互作用の解釈は一般的にはかなり複雑になるため、重回帰では交互作用を考慮しない倍が多い。(前もって交互作用を確認できている場合、交互作用を知ることが目的の場合を除く)\n",
    "\n",
    "また、説明変数$A[n]$のかわりに4つのクラブへの所属状況$c_j[n] \\ j=1, \\ldots, 4$を考える場合。交互作用の項は以下になる。\n",
    "$$\n",
    "(b_3 + b_4 C_1[n] + b_5 C_2[n] + b_6 C_3[n] + b_7 C_4[n])Score[n]\n",
    "$$\n",
    "このとき、サンプル数の少ないクラブに掛かっている係数$b$は推定に失敗する。そこで$b_4 \\sim b_7$は類似しているというゆるい制約を入れる方法がある。8章の階層モデルで説明。\n",
    "\n",
    "## 7.2 対数を取るか否か\n",
    "\n",
    "対数によって変数変換すると解釈がしやすいケースがある。例えば変数の対数を取ってから回帰を行うなど手法が当てはめられる。\n",
    "\n",
    "対数を取ると、説明変数と応答変数の関係が何倍という物差しで解釈できる。\n",
    "\n",
    "以下に関東近辺の架空の賃貸物件のデータ(data-rental.txt)について、横軸に部屋の広さ、縦軸に2年間のトータル費用をとって散布図にしたものを示す。左は非対数、右は両対数グラフ。"
   ]
  },
  {
   "cell_type": "code",
   "execution_count": 1,
   "metadata": {},
   "outputs": [
    {
     "data": {
      "image/png": "[encoded data removed]",
      "text/plain": [
       "<Figure size 800x300 with 2 Axes>"
      ]
     },
     "metadata": {},
     "output_type": "display_data"
    }
   ],
   "source": [
    "import numpy as np\n",
    "import polars as pl\n",
    "import seaborn as sns\n",
    "from matplotlib import pyplot as plt\n",
    "\n",
    "\"\"\"散布図.\"\"\"\n",
    "rental = pl.read_csv(\"chap07/input/data-rental.txt\")\n",
    "\n",
    "_, (ax1, ax2) = plt.subplots(1, 2, figsize=(8, 3))\n",
    "plt.subplots_adjust(wspace=0.4, hspace=0.6)\n",
    "sns.scatterplot(rental, x=\"Area\", y=\"Y\", ax=ax1)\n",
    "plt.setp(ax1, xticks=np.arange(20, 120, 20), yticks=np.arange(500, 2000, 500))\n",
    "sns.scatterplot(rental, x=\"Area\", y=\"Y\", ax=ax2)\n",
    "xticks = (1, 2, 5, 10, 20, 50, 100)\n",
    "yticks = (200, 500, 1000, 2000)\n",
    "plt.setp(\n",
    "    ax2,\n",
    "    xscale=\"log\",\n",
    "    yscale=\"log\",\n",
    "    xticks=xticks,\n",
    "    xticklabels=xticks,\n",
    "    yticks=yticks,\n",
    "    yticklabels=yticks,\n",
    "    xlim=(9, 120),\n",
    ")\n",
    "plt.show()"
   ]
  },
  {
   "cell_type": "markdown",
   "metadata": {},
   "source": [
    "下記の二通りのモデルで単回帰してみる。\n",
    "\n",
    "- Nは物件数\n",
    "- nは物件のインデックス\n",
    "\n",
    "モデル式 7-1 ([model7-1.stan](chap07/model/model7-1.stan))\n",
    "$$\n",
    "\\begin{align}\n",
    "&\\mu[n] = b_1 + b_2 Area[n] &n=1, \\ldots, N \\nonumber \\\\\n",
    "&Y[n] \\sim \\mathrm{Normal }(\\mu[n], \\sigma_Y) &n=1, \\ldots, N \\nonumber\n",
    "\\end{align}\n",
    "$$\n",
    "\n",
    "非対数のグラフに直線を当てはめて、正規分布に従うノイズを仮定したモデル。\n",
    "\n",
    "モデル式 7-2 ([model7-2.stan](chap07/model/model7-2.stan))\n",
    "$$\n",
    "\\begin{align}\n",
    "&\\mu[n] = b_1 + b_2 \\log_{10} (Area[n]) &n=1, \\ldots, N \\nonumber \\\\\n",
    "&log_{10}(Y[n]) \\sim \\mathrm{Normal }(\\mu[n], \\sigma_Y) &n=1, \\ldots, N \\nonumber\n",
    "\\end{align}\n",
    "$$\n",
    "\n",
    "両対数のグラフに直線を当てはめて正規分布に従うノイズを仮定したモデル。\n",
    "\n",
    "両モデルをStanで実装し、推定を行い、次に、\n",
    "- 予測分布\n",
    "- 実測値と予測値のプロット\n",
    "- 推定されたノイズの分布\n",
    "\n",
    "を確認する"
   ]
  },
  {
   "cell_type": "code",
   "execution_count": 2,
   "metadata": {},
   "outputs": [
    {
     "name": "stderr",
     "output_type": "stream",
     "text": [
      "07:05:29 - cmdstanpy - INFO - CmdStan start processing\n"
     ]
    },
    {
     "data": {
      "application/vnd.jupyter.widget-view+json": {
       "model_id": "cf0a070220f149608c730acb5fcb8032",
       "version_major": 2,
       "version_minor": 0
      },
      "text/plain": [
       "chain 1 |          | 00:00 Status"
      ]
     },
     "metadata": {},
     "output_type": "display_data"
    },
    {
     "data": {
      "application/vnd.jupyter.widget-view+json": {
       "model_id": "90b05a986e8e4ac6be7d5dfa6e8295d6",
       "version_major": 2,
       "version_minor": 0
      },
      "text/plain": [
       "chain 2 |          | 00:00 Status"
      ]
     },
     "metadata": {},
     "output_type": "display_data"
    },
    {
     "data": {
      "application/vnd.jupyter.widget-view+json": {
       "model_id": "cedec44666204dd986475140d55d73e9",
       "version_major": 2,
       "version_minor": 0
      },
      "text/plain": [
       "chain 3 |          | 00:00 Status"
      ]
     },
     "metadata": {},
     "output_type": "display_data"
    },
    {
     "data": {
      "application/vnd.jupyter.widget-view+json": {
       "model_id": "4ecaaadcaf7c4a908e98763800b4e960",
       "version_major": 2,
       "version_minor": 0
      },
      "text/plain": [
       "chain 4 |          | 00:00 Status"
      ]
     },
     "metadata": {},
     "output_type": "display_data"
    },
    {
     "name": "stdout",
     "output_type": "stream",
     "text": [
      "                                                                                                                                                                                                                                                                                                                                "
     ]
    },
    {
     "name": "stderr",
     "output_type": "stream",
     "text": [
      "07:05:30 - cmdstanpy - INFO - CmdStan done processing.\n"
     ]
    },
    {
     "name": "stdout",
     "output_type": "stream",
     "text": [
      "\n"
     ]
    },
    {
     "name": "stderr",
     "output_type": "stream",
     "text": [
      "07:05:30 - cmdstanpy - INFO - CmdStan start processing\n"
     ]
    },
    {
     "data": {
      "application/vnd.jupyter.widget-view+json": {
       "model_id": "81afd3c9b9814b20a4c50f92ab1cb22a",
       "version_major": 2,
       "version_minor": 0
      },
      "text/plain": [
       "chain 1 |          | 00:00 Status"
      ]
     },
     "metadata": {},
     "output_type": "display_data"
    },
    {
     "data": {
      "application/vnd.jupyter.widget-view+json": {
       "model_id": "ef75947880ac41e8b3598c5e9fd1b451",
       "version_major": 2,
       "version_minor": 0
      },
      "text/plain": [
       "chain 2 |          | 00:00 Status"
      ]
     },
     "metadata": {},
     "output_type": "display_data"
    },
    {
     "data": {
      "application/vnd.jupyter.widget-view+json": {
       "model_id": "06fb5d5dc41746f48cbaa80a2f218e2d",
       "version_major": 2,
       "version_minor": 0
      },
      "text/plain": [
       "chain 3 |          | 00:00 Status"
      ]
     },
     "metadata": {},
     "output_type": "display_data"
    },
    {
     "data": {
      "application/vnd.jupyter.widget-view+json": {
       "model_id": "31c35dca8df14e258c8c964481f79cf5",
       "version_major": 2,
       "version_minor": 0
      },
      "text/plain": [
       "chain 4 |          | 00:00 Status"
      ]
     },
     "metadata": {},
     "output_type": "display_data"
    },
    {
     "name": "stdout",
     "output_type": "stream",
     "text": [
      "                                                                                                                                                                                                                                                                                                                                "
     ]
    },
    {
     "name": "stderr",
     "output_type": "stream",
     "text": [
      "07:05:31 - cmdstanpy - INFO - CmdStan done processing.\n",
      "07:05:31 - cmdstanpy - WARNING - Non-fatal error during sampling:\n",
      "Exception: normal_lpdf: Scale parameter is 0, but must be positive! (in '/Users/sean/Documents/myscript/python-bayes/src/python_bayes/chap07/model/model7-2.stan', line 23, column 4 to column 30)\n",
      "\tException: normal_lpdf: Scale parameter is 0, but must be positive! (in '/Users/sean/Documents/myscript/python-bayes/src/python_bayes/chap07/model/model7-2.stan', line 23, column 4 to column 30)\n",
      "Consider re-running with show_console=True if the above output is unclear!\n"
     ]
    },
    {
     "name": "stdout",
     "output_type": "stream",
     "text": [
      "\n"
     ]
    }
   ],
   "source": [
    "import numpy as np\n",
    "import polars as pl\n",
    "from cmdstanpy import CmdStanModel\n",
    "\n",
    "\"\"\"推定\"\"\"\n",
    "rental = pl.read_csv(\"chap07/input/data-rental.txt\")\n",
    "\n",
    "N_new = 50\n",
    "Area_new = np.linspace(10, 120, N_new)\n",
    "data1 = {\n",
    "    \"N\": rental.shape[0],\n",
    "    \"Area\": rental[\"Area\"].to_list(),\n",
    "    \"Y\": rental[\"Y\"].to_list(),\n",
    "    \"N_new\": N_new,\n",
    "    \"Area_new\": Area_new,\n",
    "}\n",
    "sm1 = CmdStanModel(\n",
    "    stan_file=\"chap07/model/model7-1.stan\",\n",
    "    cpp_options={\"STAN_THREADS\": \"TRUE\"},\n",
    ")\n",
    "fit1 = sm1.sample(data=data1, seed=1234)\n",
    "\n",
    "data2 = {\n",
    "    \"N\": rental.shape[0],\n",
    "    \"Area\": rental[\"Area\"].log10().to_list(),\n",
    "    \"Y\": rental[\"Y\"].log10().to_list(),\n",
    "    \"N_new\": N_new,\n",
    "    \"Area_new\": np.log10(Area_new),\n",
    "}\n",
    "sm2 = CmdStanModel(\n",
    "    stan_file=\"chap07/model/model7-2.stan\",\n",
    "    cpp_options={\"STAN_THREADS\": \"TRUE\"},\n",
    ")\n",
    "fit2 = sm2.sample(data=data2, seed=1234)"
   ]
  },
  {
   "cell_type": "code",
   "execution_count": 53,
   "metadata": {},
   "outputs": [
    {
     "data": {
      "image/png": "[encoded data removed]",
      "text/plain": [
       "<Figure size 800x300 with 2 Axes>"
      ]
     },
     "metadata": {},
     "output_type": "display_data"
    }
   ],
   "source": [
    "import seaborn as sns\n",
    "from matplotlib import pyplot as plt\n",
    "\n",
    "\"\"\"予測分布\"\"\"\n",
    "def calc_quantiles(y_pred: np.ndarray, prob: list[int]) -> pl.DataFrame:\n",
    "    \"\"\"入力された数値のリストから分位数を計算.\"\"\"\n",
    "    return pl.DataFrame(\n",
    "        np.percentile(y_pred, prob, axis=0).T,\n",
    "        schema=[f\"p{p}\" for p in prob],\n",
    "    )\n",
    "\n",
    "\n",
    "ms1 = {\n",
    "    \"y_pred\": fit1.y_pred,\n",
    "    \"y_new\": fit1.y_new,\n",
    "}\n",
    "\n",
    "ms2 = {\n",
    "    \"y_pred\": np.power(10, fit2.y_pred),\n",
    "    \"y_new\": np.power(10, fit2.y_new),\n",
    "}\n",
    "_, axes = plt.subplots(1, 2, figsize=(8, 3), sharex=True, sharey=True)\n",
    "for ms, ax in zip([ms1, ms2], axes, strict=True):\n",
    "    d_est = calc_quantiles(ms[\"y_new\"], [10, 25, 50, 75, 90])\n",
    "    ax.fill_between(Area_new, d_est[\"p10\"], d_est[\"p90\"], alpha=0.2)\n",
    "    ax.fill_between(Area_new, d_est[\"p25\"], d_est[\"p75\"], alpha=0.4)\n",
    "    ax.plot(Area_new, d_est[\"p50\"], color=\"k\")\n",
    "    sns.scatterplot(rental, x=\"Area\", y=\"Y\", ax=ax, alpha=0.3)\n",
    "plt.show()"
   ]
  },
  {
   "cell_type": "code",
   "execution_count": 4,
   "metadata": {},
   "outputs": [
    {
     "data": {
      "image/png": "[encoded data removed]",
      "text/plain": [
       "<Figure size 800x400 with 2 Axes>"
      ]
     },
     "metadata": {},
     "output_type": "display_data"
    }
   ],
   "source": [
    "\"\"\"実測値と予測値のプロット\"\"\"\n",
    "from matplotlib import pyplot as plt\n",
    "\n",
    "_, axes = plt.subplots(1, 2, figsize=(8, 4), sharex=True, sharey=True)\n",
    "for ms, ax in zip([ms1, ms2], axes, strict=True):\n",
    "    d_est = calc_quantiles(ms[\"y_pred\"], [10, 50, 90])\n",
    "    ax.errorbar(\n",
    "        rental[\"Y\"],\n",
    "        d_est[\"p50\"],\n",
    "        yerr=[d_est[\"p50\"] - d_est[\"p10\"], d_est[\"p90\"] - d_est[\"p50\"]],\n",
    "        fmt=\"o\",\n",
    "        elinewidth=1,\n",
    "    )\n",
    "    xmin, xmax = ax.get_xlim()\n",
    "    ymin, ymax = ax.get_ylim()\n",
    "    lim = (min(xmin, ymin), max(xmax, ymax))\n",
    "    ax.plot(lim, lim, linestyle=\"dashed\")\n",
    "    plt.setp(ax, xlim=lim, ylim=lim, xlabel=\"Obserbed\", ylabel=\"Predicted\")\n",
    "plt.show()"
   ]
  },
  {
   "cell_type": "code",
   "execution_count": 5,
   "metadata": {},
   "outputs": [
    {
     "name": "stderr",
     "output_type": "stream",
     "text": [
      "06:01:55 - cmdstanpy - INFO - Chain [1] start processing\n"
     ]
    },
    {
     "name": "stderr",
     "output_type": "stream",
     "text": [
      "06:01:55 - cmdstanpy - INFO - Chain [1] done processing\n",
      "06:01:55 - cmdstanpy - INFO - Chain [1] start processing\n",
      "06:01:55 - cmdstanpy - INFO - Chain [1] done processing\n",
      "06:01:55 - cmdstanpy - WARNING - The default behavior of CmdStanMLE.stan_variable() will change in a future release to always return a numpy.ndarray, even for scalar variables.\n",
      "06:01:55 - cmdstanpy - WARNING - The default behavior of CmdStanMLE.stan_variable() will change in a future release to always return a numpy.ndarray, even for scalar variables.\n"
     ]
    },
    {
     "data": {
      "image/png": "[encoded data removed]",
      "text/plain": [
       "<Figure size 800x300 with 2 Axes>"
      ]
     },
     "metadata": {},
     "output_type": "display_data"
    }
   ],
   "source": [
    "import seaborn as sns\n",
    "from matplotlib import pyplot as plt\n",
    "from scipy import stats\n",
    "\n",
    "\"\"\"推定されたノイズの分布\"\"\"\n",
    "def calc_MCMC_noise(Y: pl.Series, mu: np.ndarray) -> pl.DataFrame:  # noqa: N803, N802\n",
    "    \"\"\"ノイズを計算.\"\"\"\n",
    "    return pl.DataFrame(Y.to_numpy() - mu, schema=[\"noise\"])\n",
    "\n",
    "\n",
    "N_mcmc1 = fit1.method_variables()[\"lp__\"].size\n",
    "N_mcmc2 = fit2.method_variables()[\"lp__\"].size\n",
    "\n",
    "\n",
    "MAP_data1 = sm1.optimize(data=data1, jacobian=True, seed=1234)\n",
    "MAP_data2 = sm2.optimize(data=data2, jacobian=True, seed=1234)\n",
    "\n",
    "N_mcmc1 = fit1.method_variables()[\"lp__\"].size\n",
    "N_mcmc2 = fit2.method_variables()[\"lp__\"].size\n",
    "d_noise_MAP1 = calc_MCMC_noise(rental[\"Y\"], MAP_data1.mu)  # noqa: N816\n",
    "d_noise_MAP2 = calc_MCMC_noise(rental[\"Y\"].log10(), MAP_data2.mu)  # noqa: N816\n",
    "\n",
    "\n",
    "_, axes = plt.subplots(1, 2, figsize=(8, 3))\n",
    "for d_noise_MAP, s_Y, ax in zip(  # noqa: N816\n",
    "    [d_noise_MAP1, d_noise_MAP2],\n",
    "    [MAP_data1.s_Y, MAP_data2.s_Y],\n",
    "    axes,\n",
    "    strict=True,\n",
    "):\n",
    "    sns.histplot(\n",
    "        d_noise_MAP[\"noise\"],\n",
    "        ax=ax,\n",
    "        kde=True,\n",
    "        stat=\"density\",\n",
    "        color=\"orange\",\n",
    "        facecolor=\"w\",\n",
    "    )\n",
    "    xdata = ax.lines[0].get_xdata()\n",
    "    ax.plot(xdata, stats.norm.pdf(xdata, scale=s_Y), linestyle=\"dashed\")\n",
    "    plt.setp(ax, xlabel=\"value\")\n",
    "\n",
    "plt.show()"
   ]
  },
  {
   "cell_type": "markdown",
   "metadata": {},
   "source": [
    "これらの図から非対数の数値の場合は、\n",
    "- 80%ベイズ予測区間が負の値を合む(予測分布。実測値-予測値のプロット)\n",
    "- 広くて費用が高い物件(Areaがおよそ70m$^2$以上の物件)に結果が引きずられてノイズの分布が歪んでおり、正規分布と乖離がある(推定されたノイズの分布のプロット)\n",
    "  \n",
    "  この原因は、家賃が高いほどばらつきが大きくなり、非対数のモデルではそれがそのまま反映されるからである。Areaが100m$^2$より大きい数個の点を除くだけで推定結果が大きく変わってしまうだろう。この状況は頑健性が低いと言えるのでなるべく避けたい。\n",
    "\n",
    "対数をとって、回帰を行うことでこれらの問題が改善されているが、実測値-予測値のプロットではAreaが大きいほど80%信頼区間も広くなっている。このように非対数と対数のどちらが正しいとは言えず、あくまで今回はそういう仮定をしたにすぎない。\n",
    "\n",
    "他に指数関数で増えるような現象のメカニズムが背景にあると考えられる場合は対数を取る。複利・細胞分裂など。"
   ]
  },
  {
   "cell_type": "markdown",
   "metadata": {
    "tags": [
     "parameters"
    ]
   },
   "source": [
    "## 7.3 非線形の関係\n",
    "\n",
    "データによっては非線形な曲線を当てはめて回帰を行いたい場合がある。\n",
    "\n",
    "- 二次曲線の例\n",
    "  \n",
    "  ある家庭における夏から冬にかけての一日あたりのエアコン消費電力$Y(kWh)$と、屋外での平均気温$X(℃)$ (data-aircon.txt)\n",
    "\n",
    "このデータの散布図を見てみれば曲線で回帰できる事がわかるが、ここにどのような曲線を当てはめるべきか。本来はメカニズムから考えるが、それが不明な場合もある。その場合はなるべくシンプルで解釈し易い曲線を当てはめるのがよい。つまりここでは二次曲線となる。モデルとしては、この家庭が「快適と感じる温度$x_0$」に対して、消費電力$Y$は$(X - x_0)^2$に従って増えると仮定する。\n",
    "\n",
    "モデル式 7-3 ([model7-3.stan](chap07/model/model7-3.stan))\n",
    "\n",
    "$$\n",
    "Y[n] \\sim \\mathrm{Normal }\\left(a + b (X[n] - x_0)^2, \\sigma_Y \\right) \\qquad n = 1, \\ldots, N\n",
    "$$\n",
    "\n",
    "散布図と回帰曲線のプロットを以下で行う"
   ]
  },
  {
   "cell_type": "code",
   "execution_count": 6,
   "metadata": {},
   "outputs": [
    {
     "name": "stderr",
     "output_type": "stream",
     "text": [
      "06:01:55 - cmdstanpy - INFO - CmdStan start processing\n"
     ]
    },
    {
     "data": {
      "application/vnd.jupyter.widget-view+json": {
       "model_id": "0e73e2b5c6724e7d812f908a7979bff9",
       "version_major": 2,
       "version_minor": 0
      },
      "text/plain": [
       "chain 1 |          | 00:00 Status"
      ]
     },
     "metadata": {},
     "output_type": "display_data"
    },
    {
     "data": {
      "application/vnd.jupyter.widget-view+json": {
       "model_id": "f152d752b2da44679fe0895a5637fd9a",
       "version_major": 2,
       "version_minor": 0
      },
      "text/plain": [
       "chain 2 |          | 00:00 Status"
      ]
     },
     "metadata": {},
     "output_type": "display_data"
    },
    {
     "data": {
      "application/vnd.jupyter.widget-view+json": {
       "model_id": "a4881b693e3e43acb00169a1de98d081",
       "version_major": 2,
       "version_minor": 0
      },
      "text/plain": [
       "chain 3 |          | 00:00 Status"
      ]
     },
     "metadata": {},
     "output_type": "display_data"
    },
    {
     "data": {
      "application/vnd.jupyter.widget-view+json": {
       "model_id": "c030a620af364557a76a47baf750576b",
       "version_major": 2,
       "version_minor": 0
      },
      "text/plain": [
       "chain 4 |          | 00:00 Status"
      ]
     },
     "metadata": {},
     "output_type": "display_data"
    },
    {
     "name": "stdout",
     "output_type": "stream",
     "text": [
      "                                                                                                                                                                                                                                                                                                                                "
     ]
    },
    {
     "name": "stderr",
     "output_type": "stream",
     "text": [
      "06:01:56 - cmdstanpy - INFO - CmdStan done processing.\n"
     ]
    },
    {
     "name": "stdout",
     "output_type": "stream",
     "text": [
      "\n"
     ]
    },
    {
     "data": {
      "text/html": [
       "<div>\n",
       "<style scoped>\n",
       "    .dataframe tbody tr th:only-of-type {\n",
       "        vertical-align: middle;\n",
       "    }\n",
       "\n",
       "    .dataframe tbody tr th {\n",
       "        vertical-align: top;\n",
       "    }\n",
       "\n",
       "    .dataframe thead th {\n",
       "        text-align: right;\n",
       "    }\n",
       "</style>\n",
       "<table border=\"1\" class=\"dataframe\">\n",
       "  <thead>\n",
       "    <tr style=\"text-align: right;\">\n",
       "      <th></th>\n",
       "      <th>Mean</th>\n",
       "      <th>MCSE</th>\n",
       "      <th>StdDev</th>\n",
       "      <th>5%</th>\n",
       "      <th>50%</th>\n",
       "      <th>95%</th>\n",
       "      <th>N_Eff</th>\n",
       "      <th>N_Eff/s</th>\n",
       "      <th>R_hat</th>\n",
       "    </tr>\n",
       "  </thead>\n",
       "  <tbody>\n",
       "    <tr>\n",
       "      <th>lp__</th>\n",
       "      <td>-401.798000</td>\n",
       "      <td>0.033641</td>\n",
       "      <td>1.388530</td>\n",
       "      <td>-404.535000</td>\n",
       "      <td>-401.494000</td>\n",
       "      <td>-400.148000</td>\n",
       "      <td>1703.65</td>\n",
       "      <td>1464.87</td>\n",
       "      <td>1.001940</td>\n",
       "    </tr>\n",
       "    <tr>\n",
       "      <th>a</th>\n",
       "      <td>14.196200</td>\n",
       "      <td>0.013747</td>\n",
       "      <td>0.603876</td>\n",
       "      <td>13.200400</td>\n",
       "      <td>14.203900</td>\n",
       "      <td>15.195100</td>\n",
       "      <td>1929.70</td>\n",
       "      <td>1659.25</td>\n",
       "      <td>0.999500</td>\n",
       "    </tr>\n",
       "    <tr>\n",
       "      <th>b</th>\n",
       "      <td>0.214209</td>\n",
       "      <td>0.000146</td>\n",
       "      <td>0.005654</td>\n",
       "      <td>0.204915</td>\n",
       "      <td>0.213998</td>\n",
       "      <td>0.223555</td>\n",
       "      <td>1504.69</td>\n",
       "      <td>1293.80</td>\n",
       "      <td>1.000760</td>\n",
       "    </tr>\n",
       "    <tr>\n",
       "      <th>x0</th>\n",
       "      <td>18.282300</td>\n",
       "      <td>0.003627</td>\n",
       "      <td>0.153999</td>\n",
       "      <td>18.028100</td>\n",
       "      <td>18.284300</td>\n",
       "      <td>18.539700</td>\n",
       "      <td>1802.51</td>\n",
       "      <td>1549.88</td>\n",
       "      <td>1.000180</td>\n",
       "    </tr>\n",
       "    <tr>\n",
       "      <th>s_Y</th>\n",
       "      <td>5.743110</td>\n",
       "      <td>0.005604</td>\n",
       "      <td>0.310096</td>\n",
       "      <td>5.259220</td>\n",
       "      <td>5.728210</td>\n",
       "      <td>6.281280</td>\n",
       "      <td>3062.24</td>\n",
       "      <td>2633.05</td>\n",
       "      <td>0.999682</td>\n",
       "    </tr>\n",
       "    <tr>\n",
       "      <th>...</th>\n",
       "      <td>...</td>\n",
       "      <td>...</td>\n",
       "      <td>...</td>\n",
       "      <td>...</td>\n",
       "      <td>...</td>\n",
       "      <td>...</td>\n",
       "      <td>...</td>\n",
       "      <td>...</td>\n",
       "      <td>...</td>\n",
       "    </tr>\n",
       "    <tr>\n",
       "      <th>y_new[56]</th>\n",
       "      <td>41.733900</td>\n",
       "      <td>0.096758</td>\n",
       "      <td>5.827560</td>\n",
       "      <td>32.155400</td>\n",
       "      <td>41.720300</td>\n",
       "      <td>51.308400</td>\n",
       "      <td>3627.46</td>\n",
       "      <td>3119.06</td>\n",
       "      <td>1.000970</td>\n",
       "    </tr>\n",
       "    <tr>\n",
       "      <th>y_new[57]</th>\n",
       "      <td>44.683000</td>\n",
       "      <td>0.094563</td>\n",
       "      <td>6.017840</td>\n",
       "      <td>34.370700</td>\n",
       "      <td>44.720700</td>\n",
       "      <td>54.475000</td>\n",
       "      <td>4049.89</td>\n",
       "      <td>3482.28</td>\n",
       "      <td>1.000300</td>\n",
       "    </tr>\n",
       "    <tr>\n",
       "      <th>y_new[58]</th>\n",
       "      <td>47.775700</td>\n",
       "      <td>0.093411</td>\n",
       "      <td>5.872330</td>\n",
       "      <td>38.441700</td>\n",
       "      <td>47.750100</td>\n",
       "      <td>57.480700</td>\n",
       "      <td>3952.09</td>\n",
       "      <td>3398.18</td>\n",
       "      <td>0.999662</td>\n",
       "    </tr>\n",
       "    <tr>\n",
       "      <th>y_new[59]</th>\n",
       "      <td>51.091500</td>\n",
       "      <td>0.102511</td>\n",
       "      <td>6.077600</td>\n",
       "      <td>40.910000</td>\n",
       "      <td>51.119900</td>\n",
       "      <td>61.129600</td>\n",
       "      <td>3514.99</td>\n",
       "      <td>3022.34</td>\n",
       "      <td>1.000260</td>\n",
       "    </tr>\n",
       "    <tr>\n",
       "      <th>y_new[60]</th>\n",
       "      <td>54.572100</td>\n",
       "      <td>0.095393</td>\n",
       "      <td>5.904490</td>\n",
       "      <td>44.940600</td>\n",
       "      <td>54.534400</td>\n",
       "      <td>64.172800</td>\n",
       "      <td>3831.16</td>\n",
       "      <td>3294.21</td>\n",
       "      <td>0.999608</td>\n",
       "    </tr>\n",
       "  </tbody>\n",
       "</table>\n",
       "<p>65 rows × 9 columns</p>\n",
       "</div>"
      ],
      "text/plain": [
       "                 Mean      MCSE    StdDev          5%         50%         95%  \\\n",
       "lp__      -401.798000  0.033641  1.388530 -404.535000 -401.494000 -400.148000   \n",
       "a           14.196200  0.013747  0.603876   13.200400   14.203900   15.195100   \n",
       "b            0.214209  0.000146  0.005654    0.204915    0.213998    0.223555   \n",
       "x0          18.282300  0.003627  0.153999   18.028100   18.284300   18.539700   \n",
       "s_Y          5.743110  0.005604  0.310096    5.259220    5.728210    6.281280   \n",
       "...               ...       ...       ...         ...         ...         ...   \n",
       "y_new[56]   41.733900  0.096758  5.827560   32.155400   41.720300   51.308400   \n",
       "y_new[57]   44.683000  0.094563  6.017840   34.370700   44.720700   54.475000   \n",
       "y_new[58]   47.775700  0.093411  5.872330   38.441700   47.750100   57.480700   \n",
       "y_new[59]   51.091500  0.102511  6.077600   40.910000   51.119900   61.129600   \n",
       "y_new[60]   54.572100  0.095393  5.904490   44.940600   54.534400   64.172800   \n",
       "\n",
       "             N_Eff  N_Eff/s     R_hat  \n",
       "lp__       1703.65  1464.87  1.001940  \n",
       "a          1929.70  1659.25  0.999500  \n",
       "b          1504.69  1293.80  1.000760  \n",
       "x0         1802.51  1549.88  1.000180  \n",
       "s_Y        3062.24  2633.05  0.999682  \n",
       "...            ...      ...       ...  \n",
       "y_new[56]  3627.46  3119.06  1.000970  \n",
       "y_new[57]  4049.89  3482.28  1.000300  \n",
       "y_new[58]  3952.09  3398.18  0.999662  \n",
       "y_new[59]  3514.99  3022.34  1.000260  \n",
       "y_new[60]  3831.16  3294.21  0.999608  \n",
       "\n",
       "[65 rows x 9 columns]"
      ]
     },
     "execution_count": 6,
     "metadata": {},
     "output_type": "execute_result"
    }
   ],
   "source": [
    "import numpy as np\n",
    "import polars as pl\n",
    "from cmdstanpy import CmdStanModel\n",
    "\n",
    "\"\"\"推定\"\"\"\n",
    "aircon = pl.read_csv(\"chap07/input/data-aircon.txt\")\n",
    "\n",
    "N_new = 60\n",
    "X_new = np.linspace(-3, 32, N_new)\n",
    "data = {\n",
    "    \"N\": aircon.shape[0],\n",
    "    \"X\": aircon[\"X\"].to_list(),\n",
    "    \"Y\": aircon[\"Y\"].to_list(),\n",
    "    \"N_new\": N_new,\n",
    "    \"X_new\": X_new,\n",
    "}\n",
    "sm = CmdStanModel(\n",
    "    stan_file=\"chap07/model/model7-3.stan\",\n",
    "    cpp_options={\"STAN_THREADS\": \"TRUE\"},\n",
    ")\n",
    "fit = sm.sample(data=data, seed=1234)\n",
    "fit.summary()"
   ]
  },
  {
   "cell_type": "code",
   "execution_count": 7,
   "metadata": {},
   "outputs": [
    {
     "data": {
      "image/png": "[encoded data removed]",
      "text/plain": [
       "<Figure size 800x300 with 2 Axes>"
      ]
     },
     "metadata": {},
     "output_type": "display_data"
    }
   ],
   "source": [
    "import seaborn as sns\n",
    "from matplotlib import pyplot as plt\n",
    "\n",
    "\"\"\"図7.5\"\"\"\n",
    "def calc_quantiles(y_pred: np.ndarray, prob: list[int | float]) -> pl.DataFrame:\n",
    "    \"\"\"入力された数値のリストから分位数を計算.\"\"\"\n",
    "    return pl.DataFrame(\n",
    "        np.percentile(y_pred, prob, axis=0).T,\n",
    "        schema=[f\"p{p}\" for p in prob],\n",
    "    )\n",
    "\n",
    "\n",
    "_, axes = plt.subplots(1, 2, figsize=(8, 3), sharex=True, sharey=True)\n",
    "for ax in axes:\n",
    "    sns.scatterplot(aircon, x=\"X\", y=\"Y\", ax=ax, alpha=0.4)\n",
    "d_est = calc_quantiles(fit.y_new, [2.5, 25, 50, 75, 97.5])\n",
    "axes[-1].fill_between(X_new, d_est[\"p2.5\"], d_est[\"p97.5\"], alpha=0.3)\n",
    "axes[-1].fill_between(X_new, d_est[\"p25\"], d_est[\"p75\"], alpha=0.5)\n",
    "axes[-1].plot(X_new, d_est[\"p50\"])\n",
    "plt.show()"
   ]
  },
  {
   "cell_type": "markdown",
   "metadata": {},
   "source": [
    "- 時系列データの例\n",
    "  \n",
    "  患者に点滴を投与する。投与からの経過時間$Time(hour)$と薬の血中濃度$Y(mg/mL)$のデータ([data-conc.txt](chap07/input/data-conc.txt))に対して回帰を行う。\n",
    "\n",
    "この現象の背景には微分方程式に従う物理法則$y = a \\{1 - \\exp(-bt) \\}$があると考えられている[<sup>3)</sup>](#fn3)。a,bは曲線の形を決めるパラメータ。tは経過時間。この曲線はt=0のときy=0である。\n",
    "\n",
    "モデル式 7-4 ([model7-4.stan](chap07/model/model7-4.stan))\n",
    "\n",
    "$$\n",
    "Y[t] \\sim \\mathrm{Normal }(a \\{1 - \\exp(-b Time[t]) \\}, \\sigma_Y) \\quad t = 1, \\ldots, T\n",
    "$$\n",
    "\n",
    "- $T$: 測定したタイミングの数\n",
    "- $t$: Tのインデックス\n",
    "- $Time[t]$: 測定時の経過時間\n",
    "- $\\sigma_Y$: 観測誤差を含むノイズの大きさ\n",
    "\n",
    "以上をもとに、データから$a, b, \\sigma_Y$を推定する。\n",
    "\n",
    "> [<sup id=\"fn3\">3)</sup>](#fn3-back) 以下のパラメータを考える。\n",
    "> - $t$: 経過時間\n",
    "> - $y$: 血中濃度\n",
    "> - $A$: 血中への単位時間あたりの薬剤流入量($A \\gt 0$)\n",
    "> - 薬剤が体内で分解される速度は血中濃度に比例すると考えられているので$-by$とおく\n",
    "> \n",
    "> これらをまとめて微分方程式で書くと\n",
    "> $$\n",
    "> \\frac{dy}{dt} = A - by \\\\\n",
    "> $$\n",
    "> ここで$A=b \\times a$と置けるとすると\n",
    "> \n",
    "> $$\n",
    "> \\frac{dy}{dt} = b(a - y)\n",
    "> $$\n",
    "> \n",
    "> となり解は、\n",
    "> \n",
    "> $$\n",
    "> y = a \\{1 - C_0 \\exp(-bt) \\}\n",
    "> $$\n",
    "> \n",
    "> ここで、$t=0の時、y=0$という条件から定数$C_0 = 1$\n"
   ]
  },
  {
   "cell_type": "code",
   "execution_count": 8,
   "metadata": {},
   "outputs": [
    {
     "name": "stderr",
     "output_type": "stream",
     "text": [
      "06:01:57 - cmdstanpy - INFO - CmdStan start processing\n"
     ]
    },
    {
     "data": {
      "application/vnd.jupyter.widget-view+json": {
       "model_id": "51c78eee1f8d40129b74d678b4c82fd3",
       "version_major": 2,
       "version_minor": 0
      },
      "text/plain": [
       "chain 1 |          | 00:00 Status"
      ]
     },
     "metadata": {},
     "output_type": "display_data"
    },
    {
     "data": {
      "application/vnd.jupyter.widget-view+json": {
       "model_id": "08335a8591054e0b981e3c16104e2f69",
       "version_major": 2,
       "version_minor": 0
      },
      "text/plain": [
       "chain 2 |          | 00:00 Status"
      ]
     },
     "metadata": {},
     "output_type": "display_data"
    },
    {
     "data": {
      "application/vnd.jupyter.widget-view+json": {
       "model_id": "962136df4abd4ade8c3b5c5b15330273",
       "version_major": 2,
       "version_minor": 0
      },
      "text/plain": [
       "chain 3 |          | 00:00 Status"
      ]
     },
     "metadata": {},
     "output_type": "display_data"
    },
    {
     "data": {
      "application/vnd.jupyter.widget-view+json": {
       "model_id": "46424251704f4b078abf3152ccf7d1c4",
       "version_major": 2,
       "version_minor": 0
      },
      "text/plain": [
       "chain 4 |          | 00:00 Status"
      ]
     },
     "metadata": {},
     "output_type": "display_data"
    },
    {
     "name": "stdout",
     "output_type": "stream",
     "text": [
      "                                                                                                                                                                                                                                                                                                                                "
     ]
    },
    {
     "name": "stderr",
     "output_type": "stream",
     "text": [
      "06:01:57 - cmdstanpy - INFO - CmdStan done processing.\n",
      "06:01:57 - cmdstanpy - WARNING - Some chains may have failed to converge.\n",
      "\tChain 3 had 2 divergent transitions (0.2%)\n",
      "\tUse the \"diagnose()\" method on the CmdStanMCMC object to see further information.\n"
     ]
    },
    {
     "name": "stdout",
     "output_type": "stream",
     "text": [
      "\n"
     ]
    },
    {
     "data": {
      "text/html": [
       "<div>\n",
       "<style scoped>\n",
       "    .dataframe tbody tr th:only-of-type {\n",
       "        vertical-align: middle;\n",
       "    }\n",
       "\n",
       "    .dataframe tbody tr th {\n",
       "        vertical-align: top;\n",
       "    }\n",
       "\n",
       "    .dataframe thead th {\n",
       "        text-align: right;\n",
       "    }\n",
       "</style>\n",
       "<table border=\"1\" class=\"dataframe\">\n",
       "  <thead>\n",
       "    <tr style=\"text-align: right;\">\n",
       "      <th></th>\n",
       "      <th>Mean</th>\n",
       "      <th>MCSE</th>\n",
       "      <th>StdDev</th>\n",
       "      <th>5%</th>\n",
       "      <th>50%</th>\n",
       "      <th>95%</th>\n",
       "      <th>N_Eff</th>\n",
       "      <th>N_Eff/s</th>\n",
       "      <th>R_hat</th>\n",
       "    </tr>\n",
       "  </thead>\n",
       "  <tbody>\n",
       "    <tr>\n",
       "      <th>lp__</th>\n",
       "      <td>0.018252</td>\n",
       "      <td>0.068322</td>\n",
       "      <td>1.711860</td>\n",
       "      <td>-3.277330</td>\n",
       "      <td>0.458211</td>\n",
       "      <td>1.871080</td>\n",
       "      <td>627.790</td>\n",
       "      <td>2218.34</td>\n",
       "      <td>1.002700</td>\n",
       "    </tr>\n",
       "    <tr>\n",
       "      <th>a</th>\n",
       "      <td>13.117200</td>\n",
       "      <td>0.028270</td>\n",
       "      <td>0.798032</td>\n",
       "      <td>11.896200</td>\n",
       "      <td>13.116100</td>\n",
       "      <td>14.295000</td>\n",
       "      <td>796.888</td>\n",
       "      <td>2815.86</td>\n",
       "      <td>1.002720</td>\n",
       "    </tr>\n",
       "    <tr>\n",
       "      <th>b</th>\n",
       "      <td>0.249288</td>\n",
       "      <td>0.006305</td>\n",
       "      <td>0.175980</td>\n",
       "      <td>0.188253</td>\n",
       "      <td>0.237302</td>\n",
       "      <td>0.314678</td>\n",
       "      <td>779.104</td>\n",
       "      <td>2753.02</td>\n",
       "      <td>1.003240</td>\n",
       "    </tr>\n",
       "    <tr>\n",
       "      <th>s_Y</th>\n",
       "      <td>0.821776</td>\n",
       "      <td>0.020338</td>\n",
       "      <td>0.535351</td>\n",
       "      <td>0.369136</td>\n",
       "      <td>0.681687</td>\n",
       "      <td>1.672450</td>\n",
       "      <td>692.890</td>\n",
       "      <td>2448.38</td>\n",
       "      <td>1.000870</td>\n",
       "    </tr>\n",
       "    <tr>\n",
       "      <th>y_new[1]</th>\n",
       "      <td>0.006425</td>\n",
       "      <td>0.018476</td>\n",
       "      <td>1.034160</td>\n",
       "      <td>-1.412690</td>\n",
       "      <td>0.009911</td>\n",
       "      <td>1.455590</td>\n",
       "      <td>3132.820</td>\n",
       "      <td>11070.00</td>\n",
       "      <td>1.000950</td>\n",
       "    </tr>\n",
       "    <tr>\n",
       "      <th>...</th>\n",
       "      <td>...</td>\n",
       "      <td>...</td>\n",
       "      <td>...</td>\n",
       "      <td>...</td>\n",
       "      <td>...</td>\n",
       "      <td>...</td>\n",
       "      <td>...</td>\n",
       "      <td>...</td>\n",
       "      <td>...</td>\n",
       "    </tr>\n",
       "    <tr>\n",
       "      <th>y_new[56]</th>\n",
       "      <td>13.035200</td>\n",
       "      <td>0.030535</td>\n",
       "      <td>1.191100</td>\n",
       "      <td>11.286600</td>\n",
       "      <td>13.065000</td>\n",
       "      <td>14.705100</td>\n",
       "      <td>1521.550</td>\n",
       "      <td>5376.49</td>\n",
       "      <td>1.001560</td>\n",
       "    </tr>\n",
       "    <tr>\n",
       "      <th>y_new[57]</th>\n",
       "      <td>13.052800</td>\n",
       "      <td>0.026209</td>\n",
       "      <td>1.179040</td>\n",
       "      <td>11.202000</td>\n",
       "      <td>13.059300</td>\n",
       "      <td>14.767100</td>\n",
       "      <td>2023.790</td>\n",
       "      <td>7151.20</td>\n",
       "      <td>1.001460</td>\n",
       "    </tr>\n",
       "    <tr>\n",
       "      <th>y_new[58]</th>\n",
       "      <td>13.036100</td>\n",
       "      <td>0.029787</td>\n",
       "      <td>1.204750</td>\n",
       "      <td>11.222400</td>\n",
       "      <td>13.087400</td>\n",
       "      <td>14.772800</td>\n",
       "      <td>1635.810</td>\n",
       "      <td>5780.26</td>\n",
       "      <td>1.001230</td>\n",
       "    </tr>\n",
       "    <tr>\n",
       "      <th>y_new[59]</th>\n",
       "      <td>13.040600</td>\n",
       "      <td>0.029429</td>\n",
       "      <td>1.206060</td>\n",
       "      <td>11.185800</td>\n",
       "      <td>13.051900</td>\n",
       "      <td>14.847500</td>\n",
       "      <td>1679.510</td>\n",
       "      <td>5934.68</td>\n",
       "      <td>1.001090</td>\n",
       "    </tr>\n",
       "    <tr>\n",
       "      <th>y_new[60]</th>\n",
       "      <td>13.077200</td>\n",
       "      <td>0.030415</td>\n",
       "      <td>1.214730</td>\n",
       "      <td>11.255200</td>\n",
       "      <td>13.089200</td>\n",
       "      <td>14.839900</td>\n",
       "      <td>1595.140</td>\n",
       "      <td>5636.55</td>\n",
       "      <td>0.999895</td>\n",
       "    </tr>\n",
       "  </tbody>\n",
       "</table>\n",
       "<p>64 rows × 9 columns</p>\n",
       "</div>"
      ],
      "text/plain": [
       "                Mean      MCSE    StdDev         5%        50%        95%  \\\n",
       "lp__        0.018252  0.068322  1.711860  -3.277330   0.458211   1.871080   \n",
       "a          13.117200  0.028270  0.798032  11.896200  13.116100  14.295000   \n",
       "b           0.249288  0.006305  0.175980   0.188253   0.237302   0.314678   \n",
       "s_Y         0.821776  0.020338  0.535351   0.369136   0.681687   1.672450   \n",
       "y_new[1]    0.006425  0.018476  1.034160  -1.412690   0.009911   1.455590   \n",
       "...              ...       ...       ...        ...        ...        ...   \n",
       "y_new[56]  13.035200  0.030535  1.191100  11.286600  13.065000  14.705100   \n",
       "y_new[57]  13.052800  0.026209  1.179040  11.202000  13.059300  14.767100   \n",
       "y_new[58]  13.036100  0.029787  1.204750  11.222400  13.087400  14.772800   \n",
       "y_new[59]  13.040600  0.029429  1.206060  11.185800  13.051900  14.847500   \n",
       "y_new[60]  13.077200  0.030415  1.214730  11.255200  13.089200  14.839900   \n",
       "\n",
       "              N_Eff   N_Eff/s     R_hat  \n",
       "lp__        627.790   2218.34  1.002700  \n",
       "a           796.888   2815.86  1.002720  \n",
       "b           779.104   2753.02  1.003240  \n",
       "s_Y         692.890   2448.38  1.000870  \n",
       "y_new[1]   3132.820  11070.00  1.000950  \n",
       "...             ...       ...       ...  \n",
       "y_new[56]  1521.550   5376.49  1.001560  \n",
       "y_new[57]  2023.790   7151.20  1.001460  \n",
       "y_new[58]  1635.810   5780.26  1.001230  \n",
       "y_new[59]  1679.510   5934.68  1.001090  \n",
       "y_new[60]  1595.140   5636.55  0.999895  \n",
       "\n",
       "[64 rows x 9 columns]"
      ]
     },
     "execution_count": 8,
     "metadata": {},
     "output_type": "execute_result"
    }
   ],
   "source": [
    "import numpy as np\n",
    "import polars as pl\n",
    "from cmdstanpy import CmdStanModel\n",
    "\n",
    "\"\"\"図7.6\"\"\"\n",
    "conc = pl.read_csv(\"chap07/input/data-conc.txt\")\n",
    "\n",
    "# 推定\n",
    "T_new = 60\n",
    "Time_new = np.linspace(-0, 24, T_new)\n",
    "data = {\n",
    "    \"T\": conc.shape[0],\n",
    "    \"Time\": conc[\"Time\"].to_list(),\n",
    "    \"Y\": conc[\"Y\"].to_list(),\n",
    "    \"T_new\": T_new,\n",
    "    \"Time_new\": Time_new,\n",
    "}\n",
    "sm = CmdStanModel(\n",
    "    stan_file=\"chap07/model/model7-4.stan\",\n",
    "    cpp_options={\"STAN_THREADS\": \"TRUE\"},\n",
    ")\n",
    "fit = sm.sample(data=data, seed=123)\n",
    "fit.summary()"
   ]
  },
  {
   "cell_type": "code",
   "execution_count": 9,
   "metadata": {},
   "outputs": [
    {
     "data": {
      "image/png": "[encoded data removed]",
      "text/plain": [
       "<Figure size 800x300 with 2 Axes>"
      ]
     },
     "metadata": {},
     "output_type": "display_data"
    }
   ],
   "source": [
    "# グラフ描画\n",
    "import seaborn as sns\n",
    "from matplotlib import pyplot as plt\n",
    "\n",
    "\n",
    "def calc_quantiles(y_pred: np.ndarray, prob: list[int | float]) -> pl.DataFrame:\n",
    "    \"\"\"入力された数値のリストから分位数を計算.\"\"\"\n",
    "    return pl.DataFrame(\n",
    "        np.percentile(y_pred, prob, axis=0).T,\n",
    "        schema=[f\"p{p}\" for p in prob],\n",
    "    )\n",
    "\n",
    "\n",
    "d_est = calc_quantiles(fit.y_new, [2.5, 25, 50, 75, 97.5])\n",
    "_, axes = plt.subplots(1, 2, figsize=(8, 3), sharex=True, sharey=True)\n",
    "sns.lineplot(conc, x=\"Time\", y=\"Y\", marker=\"o\", ax=axes[0])\n",
    "sns.scatterplot(conc, x=\"Time\", y=\"Y\", ax=axes[1])\n",
    "axes[1].fill_between(Time_new, d_est[\"p2.5\"], d_est[\"p97.5\"], alpha=0.3)\n",
    "axes[1].fill_between(Time_new, d_est[\"p25\"], d_est[\"p75\"], alpha=0.5)\n",
    "axes[1].plot(Time_new, d_est[\"p50\"])\n",
    "plt.setp(\n",
    "    axes[1],\n",
    "    xlabel=\"Time (hour)\",\n",
    "    ylabel=\"Y\",\n",
    "    xticks=conc[\"Time\"],\n",
    "    yticks=np.arange(0, 16, 5),\n",
    "    ylim=(-2.5, 16),\n",
    ")\n",
    "plt.show()"
   ]
  },
  {
   "cell_type": "markdown",
   "metadata": {},
   "source": [
    "このように時系列データには非線形関数の応用例が多い。例えば、振り子の振動の幅(空気抵抗などの影響で指数関数で減少)など。\n",
    "\n",
    "他のよく知られている非線形関数の例\n",
    "1. $y = C_0 \\exp(-bt)$ 振り子の振幅[<sup>4)</sup>](#fn4)\n",
    "2. $y = C_0 / \\{1 + a \\exp(-bt) \\}$ S字型に増加する\n",
    "3. $y = C_0 \\{ \\exp(-b_2t) - \\exp(-b_1t) \\}$ ある時点から減少する[<sup>5)</sup>](#fn5)\n",
    "\n",
    "![Alt text](chap07/output/fig7-7.png)\n",
    "\n",
    "> [<sup id=\"fn4\">4)</sup>](#fn4-back) この現象の背後には、常微分方程式で書くと、$dy / dt = -by$ (ただし$b > 0$)という関係があると考えられる。\n",
    "\n",
    "> [<sup id=\"fn5\">5)</sup>](#fn5-back) 前者は$dy/dt = -py^2 + qy$ (ただし$p, q \\gt 0$で、$p, q$と$a,b,C_0$の間には関係式がある)という常微分方程式の解である。後者は以下の連立常微分方程式の解($y_2$の時間変化)である。\n",
    "> $$\n",
    "> \\begin{cases}\n",
    ">     dy_1 / dt = -b_1 y_1 \\\\\n",
    ">     dy_2 / dt = -b_1 y_1 -b_2 y_2\n",
    "> \\end{cases}\n",
    "> ただし(b_1 \\gt b_2 \\gt 0)\n",
    "> $$\n"
   ]
  },
  {
   "cell_type": "markdown",
   "metadata": {},
   "source": [
    "## 7.4 多重共線性\n",
    "\n",
    "重回帰分析において、説明変数間の相関が非常に高いために，回帰係数が収束せずにうまく推定できないことがある。この状況を多重共線性があるといい、マルチコ(multicollinearity)とも呼ばれる。\n",
    "\n",
    "例として相関の高い説明変数$A[n]$と$B[n]$があるとする($B[n] \\cong A[n]$ ほとんど等しい)。この時のモデル式を以下とする。\n",
    "\n",
    "$$\n",
    "\\mu[n] = b + b_2 A[n] + b_3 B[n] \\quad n = 1, \\ldots, N \\\\\n",
    "Y[n] \\sim \\mathrm{Normal}(\\mu[n], \\sigma) \\quad n = 1, \\ldots, N\n",
    "$$\n",
    "これを近似すると以下のように変形される。\n",
    "$$\n",
    "\\mu[n] = b + (b_2 + b_3)A[n] \\quad n = 1, \\ldots, N \\\\\n",
    "Y[n] \\sim \\mathrm{Normal}(\\mu[n], \\sigma) \\quad n = 1, \\ldots, N\n",
    "$$\n",
    "\n",
    "このモデル式からb2とb3の値を推定する場合、一意に値が決まらず収束しない。($b_2 + b_3 = 3が真の値のとき、b_2 = 3, b_3 = 0でも、b_2 = 0, b_3 = 3でも成り立つ$)\n",
    "\n",
    "対策としては、説明変数の背景知識から相関が明らかな場合には片方を捨てるのが簡単。例えば[7.2節](#72-対数を取るか否か)の賃貸物件のデータでは、「物件の広さ(m3)」と「部屋の数」の間の相関が高い場合には「部屋の数」を捨てるなど。\n",
    "\n",
    "説明変数の数が多い場合、説明変数間の相関係数行列を総当りし、相関係数の絶対値がある閾値以上なら、片方の説明変数を捨てる。閾値としては 0.8～0.95ぐらいがしばしば使われるようだ。[<sup>6)</sup>](#fn6)\n",
    "\n",
    "> [<sup id=\"fn6\">6)</sup>](#fn6-back) 相関係数の代わりに分散拡大要因(Variance Inflation Factor, VIF)を使うこともある。この時しきい値は10がよく使われる。\n",
    "> $$VIF = 1 / (1 - 相関係数^2)$$"
   ]
  },
  {
   "cell_type": "markdown",
   "metadata": {},
   "source": [
    "## 7.5 交絡(confounding)\n",
    "\n",
    "モデルに入っていない、応答変数と説明変数の両方に影響を与える変数(交絡変数)が存在すること。この交絡変数が現象の真の原因なのに、説明変数を原因とみなしてしまうという問題が発生する。\n",
    "\n",
    "架空の小学生の50m走のデータ([data-50m.txt](chap07/input/data-50m.txt), 66人分)で、平均秒速Y(m/s)と体重Weight(kg)のグラフを書くと下記のように相関が見られるが、これは年齢Ageが説明変数から抜け落ちているのであり、それを考慮したグラフを見るとむしろ同年齢で体重が増えすぎると速さは落ちる事がわかる。\n",
    "\n",
    "![Alt text](chap07/output/fig7-8-left.png)\n",
    "![Alt text](chap07/output/fig7-8-right.png)\n",
    "\n",
    "この結果と経験則から、\n",
    "- 年齢に比例して体重が増える\n",
    "- 年齢に伴い走る速さが増す(筋肉が増える)\n",
    "- 体重が増えすぎると走る速さが遅くなる\n",
    "\n",
    "これをモデル式で表すと、例えば以下のようなモデル式が立つ。\n",
    "\n",
    "モデル式 7-5\n",
    "\n",
    "$$\n",
    "\\begin{align}\n",
    "\\mu_{Weight}[n] &= c_1 + c_2 Age[n] \\quad &n = 1, \\ldots, N \\nonumber \\\\\n",
    "Weight[n] &\\sim \\mathrm{Normal}(\\mu_{Weight}[n], \\sigma_{W}) \\quad &n = 1, \\ldots, N \\nonumber \\\\\n",
    "\\mu_{Y}[n] &= b_1 + b_2 Age[n] + b_3 Weight[n] &\\quad n = 1, \\ldots, N \\nonumber \\\\\n",
    "Y[n] &\\sim \\mathrm{Normal}(\\mu_{Y}[n], \\sigma_Y) \\quad &n = 1, \\ldots, N \\nonumber \n",
    "\\end{align}\n",
    "$$\n",
    "\n",
    "このモデル式を実装し回帰係数の中央値と95%ベイズ推定を取ると、\n",
    "\n",
    "$$c_2: 3.96 (3.46 \\sim 4.43) \\quad b_2: 0.59 (0.50 \\sim 0.68) \\quad b_3: -0.03 (-0.06 \\sim -0.01)$$\n",
    "\n",
    "となり、体重への年齢の影響$c_2$と速さへの年齢の影響$b_2$が正、速さへの体重の影響$b_3$が負になっていることがわかる。このような複数の回帰を組み合わせて変数間の因果関係を調べる手法を**パス解析(path analysis)**と呼ぶ。\n",
    "\n",
    "はじめはシンプルな仮定を優先し、新たな知見やデータ解析のサイクルから背景知識が増えたときにモデルを更新するといいだろう。\n",
    "\n",
    "以下も参考になる\n",
    "- 因果推論: 岩波データサイエンス vol3\n",
    "- SEM(structural equation modeling): 原因を探る統計学"
   ]
  },
  {
   "cell_type": "code",
   "execution_count": 10,
   "metadata": {},
   "outputs": [
    {
     "data": {
      "image/png": "[encoded data removed]",
      "text/plain": [
       "<Figure size 1600x600 with 2 Axes>"
      ]
     },
     "metadata": {},
     "output_type": "display_data"
    },
    {
     "name": "stderr",
     "output_type": "stream",
     "text": [
      "06:01:58 - cmdstanpy - INFO - CmdStan start processing\n"
     ]
    },
    {
     "data": {
      "application/vnd.jupyter.widget-view+json": {
       "model_id": "71975b4a68364982b00f9f6b7ff26e5c",
       "version_major": 2,
       "version_minor": 0
      },
      "text/plain": [
       "chain 1 |          | 00:00 Status"
      ]
     },
     "metadata": {},
     "output_type": "display_data"
    },
    {
     "data": {
      "application/vnd.jupyter.widget-view+json": {
       "model_id": "cd7682ea876142bfba042b1c2633b39e",
       "version_major": 2,
       "version_minor": 0
      },
      "text/plain": [
       "chain 2 |          | 00:00 Status"
      ]
     },
     "metadata": {},
     "output_type": "display_data"
    },
    {
     "data": {
      "application/vnd.jupyter.widget-view+json": {
       "model_id": "e49abec975244d12b2390cfdf88c8a6d",
       "version_major": 2,
       "version_minor": 0
      },
      "text/plain": [
       "chain 3 |          | 00:00 Status"
      ]
     },
     "metadata": {},
     "output_type": "display_data"
    },
    {
     "data": {
      "application/vnd.jupyter.widget-view+json": {
       "model_id": "f1da39464fca4b72bd008cb658c1840d",
       "version_major": 2,
       "version_minor": 0
      },
      "text/plain": [
       "chain 4 |          | 00:00 Status"
      ]
     },
     "metadata": {},
     "output_type": "display_data"
    },
    {
     "name": "stdout",
     "output_type": "stream",
     "text": [
      "                                                                                                                                                                                                                                                                                                                                "
     ]
    },
    {
     "name": "stderr",
     "output_type": "stream",
     "text": [
      "06:02:00 - cmdstanpy - INFO - CmdStan done processing.\n"
     ]
    },
    {
     "name": "stdout",
     "output_type": "stream",
     "text": [
      "\n"
     ]
    },
    {
     "data": {
      "text/html": [
       "<div>\n",
       "<style scoped>\n",
       "    .dataframe tbody tr th:only-of-type {\n",
       "        vertical-align: middle;\n",
       "    }\n",
       "\n",
       "    .dataframe tbody tr th {\n",
       "        vertical-align: top;\n",
       "    }\n",
       "\n",
       "    .dataframe thead th {\n",
       "        text-align: right;\n",
       "    }\n",
       "</style>\n",
       "<table border=\"1\" class=\"dataframe\">\n",
       "  <thead>\n",
       "    <tr style=\"text-align: right;\">\n",
       "      <th></th>\n",
       "      <th>Mean</th>\n",
       "      <th>MCSE</th>\n",
       "      <th>StdDev</th>\n",
       "      <th>5%</th>\n",
       "      <th>50%</th>\n",
       "      <th>95%</th>\n",
       "      <th>N_Eff</th>\n",
       "      <th>N_Eff/s</th>\n",
       "      <th>R_hat</th>\n",
       "    </tr>\n",
       "  </thead>\n",
       "  <tbody>\n",
       "    <tr>\n",
       "      <th>lp__</th>\n",
       "      <td>-57.27060</td>\n",
       "      <td>0.052316</td>\n",
       "      <td>1.914060</td>\n",
       "      <td>-60.946100</td>\n",
       "      <td>-56.91870</td>\n",
       "      <td>-54.786600</td>\n",
       "      <td>1338.57</td>\n",
       "      <td>525.547</td>\n",
       "      <td>0.999677</td>\n",
       "    </tr>\n",
       "    <tr>\n",
       "      <th>c[1]</th>\n",
       "      <td>19.09090</td>\n",
       "      <td>0.015802</td>\n",
       "      <td>0.753173</td>\n",
       "      <td>17.833200</td>\n",
       "      <td>19.09400</td>\n",
       "      <td>20.351000</td>\n",
       "      <td>2271.66</td>\n",
       "      <td>891.896</td>\n",
       "      <td>1.000040</td>\n",
       "    </tr>\n",
       "    <tr>\n",
       "      <th>c[2]</th>\n",
       "      <td>3.95282</td>\n",
       "      <td>0.005407</td>\n",
       "      <td>0.255181</td>\n",
       "      <td>3.531860</td>\n",
       "      <td>3.95599</td>\n",
       "      <td>4.379440</td>\n",
       "      <td>2227.15</td>\n",
       "      <td>874.421</td>\n",
       "      <td>1.000570</td>\n",
       "    </tr>\n",
       "    <tr>\n",
       "      <th>b[1]</th>\n",
       "      <td>3.40365</td>\n",
       "      <td>0.005032</td>\n",
       "      <td>0.212670</td>\n",
       "      <td>3.049570</td>\n",
       "      <td>3.40876</td>\n",
       "      <td>3.758830</td>\n",
       "      <td>1786.09</td>\n",
       "      <td>701.250</td>\n",
       "      <td>0.999318</td>\n",
       "    </tr>\n",
       "    <tr>\n",
       "      <th>b[2]</th>\n",
       "      <td>0.58899</td>\n",
       "      <td>0.001166</td>\n",
       "      <td>0.047538</td>\n",
       "      <td>0.509592</td>\n",
       "      <td>0.58984</td>\n",
       "      <td>0.665887</td>\n",
       "      <td>1663.43</td>\n",
       "      <td>653.092</td>\n",
       "      <td>0.999689</td>\n",
       "    </tr>\n",
       "    <tr>\n",
       "      <th>...</th>\n",
       "      <td>...</td>\n",
       "      <td>...</td>\n",
       "      <td>...</td>\n",
       "      <td>...</td>\n",
       "      <td>...</td>\n",
       "      <td>...</td>\n",
       "      <td>...</td>\n",
       "      <td>...</td>\n",
       "      <td>...</td>\n",
       "    </tr>\n",
       "    <tr>\n",
       "      <th>mu_Y[62]</th>\n",
       "      <td>4.67800</td>\n",
       "      <td>0.002336</td>\n",
       "      <td>0.112531</td>\n",
       "      <td>4.496650</td>\n",
       "      <td>4.67630</td>\n",
       "      <td>4.861460</td>\n",
       "      <td>2320.66</td>\n",
       "      <td>911.136</td>\n",
       "      <td>1.000010</td>\n",
       "    </tr>\n",
       "    <tr>\n",
       "      <th>mu_Y[63]</th>\n",
       "      <td>4.96869</td>\n",
       "      <td>0.000888</td>\n",
       "      <td>0.061775</td>\n",
       "      <td>4.868390</td>\n",
       "      <td>4.97025</td>\n",
       "      <td>5.069920</td>\n",
       "      <td>4836.29</td>\n",
       "      <td>1898.820</td>\n",
       "      <td>1.000570</td>\n",
       "    </tr>\n",
       "    <tr>\n",
       "      <th>mu_Y[64]</th>\n",
       "      <td>5.03874</td>\n",
       "      <td>0.000990</td>\n",
       "      <td>0.063587</td>\n",
       "      <td>4.932240</td>\n",
       "      <td>5.03998</td>\n",
       "      <td>5.142780</td>\n",
       "      <td>4129.06</td>\n",
       "      <td>1621.140</td>\n",
       "      <td>1.000400</td>\n",
       "    </tr>\n",
       "    <tr>\n",
       "      <th>mu_Y[65]</th>\n",
       "      <td>4.96519</td>\n",
       "      <td>0.000889</td>\n",
       "      <td>0.061878</td>\n",
       "      <td>4.864440</td>\n",
       "      <td>4.96676</td>\n",
       "      <td>5.066800</td>\n",
       "      <td>4842.06</td>\n",
       "      <td>1901.080</td>\n",
       "      <td>1.000570</td>\n",
       "    </tr>\n",
       "    <tr>\n",
       "      <th>mu_Y[66]</th>\n",
       "      <td>4.76556</td>\n",
       "      <td>0.001738</td>\n",
       "      <td>0.091313</td>\n",
       "      <td>4.619190</td>\n",
       "      <td>4.76368</td>\n",
       "      <td>4.917240</td>\n",
       "      <td>2761.90</td>\n",
       "      <td>1084.380</td>\n",
       "      <td>1.000180</td>\n",
       "    </tr>\n",
       "  </tbody>\n",
       "</table>\n",
       "<p>140 rows × 9 columns</p>\n",
       "</div>"
      ],
      "text/plain": [
       "              Mean      MCSE    StdDev         5%       50%        95%  \\\n",
       "lp__     -57.27060  0.052316  1.914060 -60.946100 -56.91870 -54.786600   \n",
       "c[1]      19.09090  0.015802  0.753173  17.833200  19.09400  20.351000   \n",
       "c[2]       3.95282  0.005407  0.255181   3.531860   3.95599   4.379440   \n",
       "b[1]       3.40365  0.005032  0.212670   3.049570   3.40876   3.758830   \n",
       "b[2]       0.58899  0.001166  0.047538   0.509592   0.58984   0.665887   \n",
       "...            ...       ...       ...        ...       ...        ...   \n",
       "mu_Y[62]   4.67800  0.002336  0.112531   4.496650   4.67630   4.861460   \n",
       "mu_Y[63]   4.96869  0.000888  0.061775   4.868390   4.97025   5.069920   \n",
       "mu_Y[64]   5.03874  0.000990  0.063587   4.932240   5.03998   5.142780   \n",
       "mu_Y[65]   4.96519  0.000889  0.061878   4.864440   4.96676   5.066800   \n",
       "mu_Y[66]   4.76556  0.001738  0.091313   4.619190   4.76368   4.917240   \n",
       "\n",
       "            N_Eff   N_Eff/s     R_hat  \n",
       "lp__      1338.57   525.547  0.999677  \n",
       "c[1]      2271.66   891.896  1.000040  \n",
       "c[2]      2227.15   874.421  1.000570  \n",
       "b[1]      1786.09   701.250  0.999318  \n",
       "b[2]      1663.43   653.092  0.999689  \n",
       "...           ...       ...       ...  \n",
       "mu_Y[62]  2320.66   911.136  1.000010  \n",
       "mu_Y[63]  4836.29  1898.820  1.000570  \n",
       "mu_Y[64]  4129.06  1621.140  1.000400  \n",
       "mu_Y[65]  4842.06  1901.080  1.000570  \n",
       "mu_Y[66]  2761.90  1084.380  1.000180  \n",
       "\n",
       "[140 rows x 9 columns]"
      ]
     },
     "execution_count": 10,
     "metadata": {},
     "output_type": "execute_result"
    }
   ],
   "source": [
    "import matplotlib.pyplot as plt\n",
    "import polars as pl\n",
    "import seaborn as sns\n",
    "from cmdstanpy import CmdStanModel\n",
    "\n",
    "d = pl.read_csv(\"chap07/input/data-50m.txt\")\n",
    "d = d.with_columns(pl.col(\"Age\").cast(str).cast(pl.Categorical))\n",
    "_, (ax1, ax2) = plt.subplots(1, 2, figsize=(16, 6), sharex=True, sharey=True)\n",
    "sns.scatterplot(d, x=\"Weight\", y=\"Y\", ax=ax1)\n",
    "sns.scatterplot(d, x=\"Weight\", y=\"Y\", hue=\"Age\", ax=ax2)\n",
    "plt.show()\n",
    "\n",
    "d = d.with_columns(pl.col(\"Age\").cast(int))\n",
    "data = {col: d[col].to_list() for col in d.columns}\n",
    "data[\"N\"] = d.shape[0]\n",
    "sm = CmdStanModel(stan_file=\"chap07/model/model7-5.stan\")\n",
    "fit = sm.sample(data=data, seed=1234)\n",
    "\n",
    "fit.summary()"
   ]
  },
  {
   "cell_type": "markdown",
   "metadata": {},
   "source": [
    "## 7.6 説明変数が多すぎる\n",
    "\n",
    "回帰をするときに説明変数が多すぎて、うまく推定できない場合は理想的には説明変数感の関係を含めてモデリングする。\n",
    "\n",
    "ただし説明変数感の関係の情報がわからない場合も多いため、その時は説明変数を減らすのがよい。以下のような方法がある。\n",
    "\n",
    "- 0/1の二値データだが、片方にデータが偏っている場合。その説明変数を削除。\n",
    "- 説明変数に階層的クラスタリング(例えばRのhclust関数、pythonではscipy.cluster.hierarchy)を行い、類似性の高い説明変数をまとめる。または主要な説明変数だけを使う。\n",
    "- 主成分分析などで次元を減らす。ただし解釈が難しくなる可能性あり。\n",
    "- Bayesian Lasso (least absolute shrinkage and selection operator)を用いた説明変数選択。事前分布として、ラプラス分布(二重指数分布)を用いる。[参考](https://zenn.dev/yoshida0312/articles/ba57a187654bce)\n",
    "  \n",
    "  Lasso推定量はラプラス事前分布を導入した際のMAP推定とみなせる"
   ]
  },
  {
   "cell_type": "markdown",
   "metadata": {},
   "source": [
    "## 7.7 説明変数にノイズを含む\n",
    "\n",
    "4.2節の単回帰の例(年収Yと社員の年齢X)について考える。この時年齢が真の年齢$X_{true}$でなく、顔写真から年齢を予測するアプリの数値(標準偏差±2.5歳)とすると、以下のモデルが考えられる。\n",
    "\n",
    "モデル式 7-5\n",
    "\n",
    "$$\n",
    "\\begin{align}\n",
    "X[n] &\\sim \\mathrm{Normal}(x_{true}[n], 2.5) \\quad &n = 1, \\ldots, N \\nonumber \\\\\n",
    "Y[n] &\\sim \\mathrm{Normal}(a + b x_{true}[n], \\sigma_Y) \\quad &n = 1, \\ldots, N \\nonumber \\\\\n",
    "\\end{align}\n",
    "$$\n",
    "\n",
    "実装例: [model7-6.stan](chap07/model/model7-6.stan)\n",
    "\n",
    "このように説明変数にノイズを含む場合もStanは簡単に扱える。"
   ]
  },
  {
   "cell_type": "code",
   "execution_count": 11,
   "metadata": {},
   "outputs": [
    {
     "name": "stderr",
     "output_type": "stream",
     "text": [
      "06:02:01 - cmdstanpy - INFO - CmdStan start processing\n"
     ]
    },
    {
     "data": {
      "application/vnd.jupyter.widget-view+json": {
       "model_id": "79356fd867af41be9a886cd244cd53f8",
       "version_major": 2,
       "version_minor": 0
      },
      "text/plain": [
       "chain 1 |          | 00:00 Status"
      ]
     },
     "metadata": {},
     "output_type": "display_data"
    },
    {
     "data": {
      "application/vnd.jupyter.widget-view+json": {
       "model_id": "920357aaece84a95b5aec7494188ceac",
       "version_major": 2,
       "version_minor": 0
      },
      "text/plain": [
       "chain 2 |          | 00:00 Status"
      ]
     },
     "metadata": {},
     "output_type": "display_data"
    },
    {
     "data": {
      "application/vnd.jupyter.widget-view+json": {
       "model_id": "a7a062a03d9947dab0ed1f6076d985d0",
       "version_major": 2,
       "version_minor": 0
      },
      "text/plain": [
       "chain 3 |          | 00:00 Status"
      ]
     },
     "metadata": {},
     "output_type": "display_data"
    },
    {
     "data": {
      "application/vnd.jupyter.widget-view+json": {
       "model_id": "ab77ef9c7a214abfa97c8ceeed6a096f",
       "version_major": 2,
       "version_minor": 0
      },
      "text/plain": [
       "chain 4 |          | 00:00 Status"
      ]
     },
     "metadata": {},
     "output_type": "display_data"
    },
    {
     "name": "stdout",
     "output_type": "stream",
     "text": [
      "                                                                                                                                                                                                                                                                                                                                "
     ]
    },
    {
     "name": "stderr",
     "output_type": "stream",
     "text": [
      "06:02:01 - cmdstanpy - INFO - CmdStan done processing.\n",
      "06:02:01 - cmdstanpy - WARNING - Some chains may have failed to converge.\n",
      "\tChain 1 had 478 divergent transitions (47.8%)\n",
      "\tChain 2 had 28 divergent transitions (2.8%)\n",
      "\tChain 3 had 10 divergent transitions (1.0%)\n",
      "\tChain 4 had 7 divergent transitions (0.7%)\n",
      "\tUse the \"diagnose()\" method on the CmdStanMCMC object to see further information.\n"
     ]
    },
    {
     "name": "stdout",
     "output_type": "stream",
     "text": [
      "\n"
     ]
    },
    {
     "data": {
      "text/html": [
       "<div>\n",
       "<style scoped>\n",
       "    .dataframe tbody tr th:only-of-type {\n",
       "        vertical-align: middle;\n",
       "    }\n",
       "\n",
       "    .dataframe tbody tr th {\n",
       "        vertical-align: top;\n",
       "    }\n",
       "\n",
       "    .dataframe thead th {\n",
       "        text-align: right;\n",
       "    }\n",
       "</style>\n",
       "<table border=\"1\" class=\"dataframe\">\n",
       "  <thead>\n",
       "    <tr style=\"text-align: right;\">\n",
       "      <th></th>\n",
       "      <th>Mean</th>\n",
       "      <th>MCSE</th>\n",
       "      <th>StdDev</th>\n",
       "      <th>5%</th>\n",
       "      <th>50%</th>\n",
       "      <th>95%</th>\n",
       "      <th>N_Eff</th>\n",
       "      <th>N_Eff/s</th>\n",
       "      <th>R_hat</th>\n",
       "    </tr>\n",
       "  </thead>\n",
       "  <tbody>\n",
       "    <tr>\n",
       "      <th>lp__</th>\n",
       "      <td>-95.12620</td>\n",
       "      <td>2.505210</td>\n",
       "      <td>6.74161</td>\n",
       "      <td>-105.0660</td>\n",
       "      <td>-95.9166</td>\n",
       "      <td>-80.92650</td>\n",
       "      <td>7.24165</td>\n",
       "      <td>18.52080</td>\n",
       "      <td>1.39754</td>\n",
       "    </tr>\n",
       "    <tr>\n",
       "      <th>a</th>\n",
       "      <td>-121.93900</td>\n",
       "      <td>2.124220</td>\n",
       "      <td>71.66410</td>\n",
       "      <td>-245.2850</td>\n",
       "      <td>-118.5120</td>\n",
       "      <td>-7.31721</td>\n",
       "      <td>1138.16000</td>\n",
       "      <td>2910.91000</td>\n",
       "      <td>1.00544</td>\n",
       "    </tr>\n",
       "    <tr>\n",
       "      <th>b</th>\n",
       "      <td>22.00910</td>\n",
       "      <td>0.045787</td>\n",
       "      <td>1.57844</td>\n",
       "      <td>19.3546</td>\n",
       "      <td>22.0115</td>\n",
       "      <td>24.67330</td>\n",
       "      <td>1188.44000</td>\n",
       "      <td>3039.49000</td>\n",
       "      <td>1.00136</td>\n",
       "    </tr>\n",
       "    <tr>\n",
       "      <th>x_true[1]</th>\n",
       "      <td>25.55390</td>\n",
       "      <td>0.048606</td>\n",
       "      <td>1.93236</td>\n",
       "      <td>22.1793</td>\n",
       "      <td>25.7574</td>\n",
       "      <td>28.58040</td>\n",
       "      <td>1580.49000</td>\n",
       "      <td>4042.18000</td>\n",
       "      <td>1.00581</td>\n",
       "    </tr>\n",
       "    <tr>\n",
       "      <th>x_true[2]</th>\n",
       "      <td>23.85300</td>\n",
       "      <td>0.169110</td>\n",
       "      <td>1.94266</td>\n",
       "      <td>20.7302</td>\n",
       "      <td>23.7118</td>\n",
       "      <td>27.09810</td>\n",
       "      <td>131.96300</td>\n",
       "      <td>337.50100</td>\n",
       "      <td>1.02569</td>\n",
       "    </tr>\n",
       "    <tr>\n",
       "      <th>x_true[3]</th>\n",
       "      <td>25.97970</td>\n",
       "      <td>0.145629</td>\n",
       "      <td>1.84148</td>\n",
       "      <td>23.0618</td>\n",
       "      <td>25.8325</td>\n",
       "      <td>29.05990</td>\n",
       "      <td>159.89600</td>\n",
       "      <td>408.94000</td>\n",
       "      <td>1.02297</td>\n",
       "    </tr>\n",
       "    <tr>\n",
       "      <th>x_true[4]</th>\n",
       "      <td>31.84690</td>\n",
       "      <td>0.107851</td>\n",
       "      <td>1.76526</td>\n",
       "      <td>29.0929</td>\n",
       "      <td>31.7293</td>\n",
       "      <td>34.84460</td>\n",
       "      <td>267.89700</td>\n",
       "      <td>685.15900</td>\n",
       "      <td>1.02428</td>\n",
       "    </tr>\n",
       "    <tr>\n",
       "      <th>x_true[5]</th>\n",
       "      <td>31.51300</td>\n",
       "      <td>0.407373</td>\n",
       "      <td>1.95211</td>\n",
       "      <td>28.6837</td>\n",
       "      <td>31.4236</td>\n",
       "      <td>34.85590</td>\n",
       "      <td>22.96280</td>\n",
       "      <td>58.72840</td>\n",
       "      <td>1.08904</td>\n",
       "    </tr>\n",
       "    <tr>\n",
       "      <th>x_true[6]</th>\n",
       "      <td>38.15470</td>\n",
       "      <td>0.236715</td>\n",
       "      <td>2.01722</td>\n",
       "      <td>34.5554</td>\n",
       "      <td>38.4070</td>\n",
       "      <td>41.03000</td>\n",
       "      <td>72.61950</td>\n",
       "      <td>185.72800</td>\n",
       "      <td>1.03872</td>\n",
       "    </tr>\n",
       "    <tr>\n",
       "      <th>x_true[7]</th>\n",
       "      <td>38.85710</td>\n",
       "      <td>0.033957</td>\n",
       "      <td>1.74893</td>\n",
       "      <td>35.8025</td>\n",
       "      <td>38.9161</td>\n",
       "      <td>41.69850</td>\n",
       "      <td>2652.69000</td>\n",
       "      <td>6784.38000</td>\n",
       "      <td>1.00165</td>\n",
       "    </tr>\n",
       "    <tr>\n",
       "      <th>x_true[8]</th>\n",
       "      <td>36.13250</td>\n",
       "      <td>0.761414</td>\n",
       "      <td>2.44663</td>\n",
       "      <td>31.9176</td>\n",
       "      <td>36.1669</td>\n",
       "      <td>40.17410</td>\n",
       "      <td>10.32510</td>\n",
       "      <td>26.40700</td>\n",
       "      <td>1.20289</td>\n",
       "    </tr>\n",
       "    <tr>\n",
       "      <th>x_true[9]</th>\n",
       "      <td>41.27940</td>\n",
       "      <td>0.039413</td>\n",
       "      <td>1.84270</td>\n",
       "      <td>38.1138</td>\n",
       "      <td>41.4407</td>\n",
       "      <td>44.19980</td>\n",
       "      <td>2185.93000</td>\n",
       "      <td>5590.62000</td>\n",
       "      <td>1.00675</td>\n",
       "    </tr>\n",
       "    <tr>\n",
       "      <th>x_true[10]</th>\n",
       "      <td>42.10040</td>\n",
       "      <td>0.389510</td>\n",
       "      <td>1.91077</td>\n",
       "      <td>39.2978</td>\n",
       "      <td>42.0097</td>\n",
       "      <td>45.37840</td>\n",
       "      <td>24.06460</td>\n",
       "      <td>61.54640</td>\n",
       "      <td>1.10603</td>\n",
       "    </tr>\n",
       "    <tr>\n",
       "      <th>x_true[11]</th>\n",
       "      <td>41.23010</td>\n",
       "      <td>0.094603</td>\n",
       "      <td>1.85580</td>\n",
       "      <td>38.3512</td>\n",
       "      <td>41.1332</td>\n",
       "      <td>44.46080</td>\n",
       "      <td>384.81600</td>\n",
       "      <td>984.18500</td>\n",
       "      <td>1.00899</td>\n",
       "    </tr>\n",
       "    <tr>\n",
       "      <th>x_true[12]</th>\n",
       "      <td>43.70950</td>\n",
       "      <td>0.061767</td>\n",
       "      <td>1.71023</td>\n",
       "      <td>41.0300</td>\n",
       "      <td>43.4953</td>\n",
       "      <td>46.67910</td>\n",
       "      <td>766.65400</td>\n",
       "      <td>1960.75000</td>\n",
       "      <td>1.01510</td>\n",
       "    </tr>\n",
       "    <tr>\n",
       "      <th>x_true[13]</th>\n",
       "      <td>46.25670</td>\n",
       "      <td>0.455848</td>\n",
       "      <td>1.95781</td>\n",
       "      <td>43.5279</td>\n",
       "      <td>46.1562</td>\n",
       "      <td>49.56310</td>\n",
       "      <td>18.44580</td>\n",
       "      <td>47.17610</td>\n",
       "      <td>1.11783</td>\n",
       "    </tr>\n",
       "    <tr>\n",
       "      <th>x_true[14]</th>\n",
       "      <td>51.20250</td>\n",
       "      <td>0.056816</td>\n",
       "      <td>1.82418</td>\n",
       "      <td>48.3831</td>\n",
       "      <td>50.9703</td>\n",
       "      <td>54.38660</td>\n",
       "      <td>1030.85000</td>\n",
       "      <td>2636.45000</td>\n",
       "      <td>1.00917</td>\n",
       "    </tr>\n",
       "    <tr>\n",
       "      <th>x_true[15]</th>\n",
       "      <td>55.46590</td>\n",
       "      <td>0.132516</td>\n",
       "      <td>1.83317</td>\n",
       "      <td>52.7100</td>\n",
       "      <td>55.2204</td>\n",
       "      <td>58.76540</td>\n",
       "      <td>191.36700</td>\n",
       "      <td>489.43100</td>\n",
       "      <td>1.02681</td>\n",
       "    </tr>\n",
       "    <tr>\n",
       "      <th>x_true[16]</th>\n",
       "      <td>53.39520</td>\n",
       "      <td>0.627366</td>\n",
       "      <td>2.24632</td>\n",
       "      <td>50.0850</td>\n",
       "      <td>53.3862</td>\n",
       "      <td>57.31390</td>\n",
       "      <td>12.82040</td>\n",
       "      <td>32.78880</td>\n",
       "      <td>1.16304</td>\n",
       "    </tr>\n",
       "    <tr>\n",
       "      <th>x_true[17]</th>\n",
       "      <td>59.39370</td>\n",
       "      <td>0.204399</td>\n",
       "      <td>1.99378</td>\n",
       "      <td>55.8227</td>\n",
       "      <td>59.6002</td>\n",
       "      <td>62.38510</td>\n",
       "      <td>95.14790</td>\n",
       "      <td>243.34500</td>\n",
       "      <td>1.03262</td>\n",
       "    </tr>\n",
       "    <tr>\n",
       "      <th>x_true[18]</th>\n",
       "      <td>59.07370</td>\n",
       "      <td>0.040370</td>\n",
       "      <td>1.80975</td>\n",
       "      <td>55.9100</td>\n",
       "      <td>59.2272</td>\n",
       "      <td>62.01540</td>\n",
       "      <td>2009.64000</td>\n",
       "      <td>5139.74000</td>\n",
       "      <td>1.00398</td>\n",
       "    </tr>\n",
       "    <tr>\n",
       "      <th>x_true[19]</th>\n",
       "      <td>57.57930</td>\n",
       "      <td>0.330213</td>\n",
       "      <td>1.88877</td>\n",
       "      <td>54.8861</td>\n",
       "      <td>57.4080</td>\n",
       "      <td>60.87000</td>\n",
       "      <td>32.71670</td>\n",
       "      <td>83.67440</td>\n",
       "      <td>1.06409</td>\n",
       "    </tr>\n",
       "    <tr>\n",
       "      <th>x_true[20]</th>\n",
       "      <td>62.20210</td>\n",
       "      <td>0.284210</td>\n",
       "      <td>2.03373</td>\n",
       "      <td>58.6126</td>\n",
       "      <td>62.4653</td>\n",
       "      <td>65.02030</td>\n",
       "      <td>51.20430</td>\n",
       "      <td>130.95700</td>\n",
       "      <td>1.05680</td>\n",
       "    </tr>\n",
       "    <tr>\n",
       "      <th>s_Y</th>\n",
       "      <td>55.36692</td>\n",
       "      <td>8.517870</td>\n",
       "      <td>24.32472</td>\n",
       "      <td>15.0572</td>\n",
       "      <td>55.7217</td>\n",
       "      <td>94.80450</td>\n",
       "      <td>8.15519</td>\n",
       "      <td>20.85726</td>\n",
       "      <td>1.31408</td>\n",
       "    </tr>\n",
       "  </tbody>\n",
       "</table>\n",
       "</div>"
      ],
      "text/plain": [
       "                 Mean      MCSE    StdDev        5%       50%       95%  \\\n",
       "lp__        -95.12620  2.505210   6.74161 -105.0660  -95.9166 -80.92650   \n",
       "a          -121.93900  2.124220  71.66410 -245.2850 -118.5120  -7.31721   \n",
       "b            22.00910  0.045787   1.57844   19.3546   22.0115  24.67330   \n",
       "x_true[1]    25.55390  0.048606   1.93236   22.1793   25.7574  28.58040   \n",
       "x_true[2]    23.85300  0.169110   1.94266   20.7302   23.7118  27.09810   \n",
       "x_true[3]    25.97970  0.145629   1.84148   23.0618   25.8325  29.05990   \n",
       "x_true[4]    31.84690  0.107851   1.76526   29.0929   31.7293  34.84460   \n",
       "x_true[5]    31.51300  0.407373   1.95211   28.6837   31.4236  34.85590   \n",
       "x_true[6]    38.15470  0.236715   2.01722   34.5554   38.4070  41.03000   \n",
       "x_true[7]    38.85710  0.033957   1.74893   35.8025   38.9161  41.69850   \n",
       "x_true[8]    36.13250  0.761414   2.44663   31.9176   36.1669  40.17410   \n",
       "x_true[9]    41.27940  0.039413   1.84270   38.1138   41.4407  44.19980   \n",
       "x_true[10]   42.10040  0.389510   1.91077   39.2978   42.0097  45.37840   \n",
       "x_true[11]   41.23010  0.094603   1.85580   38.3512   41.1332  44.46080   \n",
       "x_true[12]   43.70950  0.061767   1.71023   41.0300   43.4953  46.67910   \n",
       "x_true[13]   46.25670  0.455848   1.95781   43.5279   46.1562  49.56310   \n",
       "x_true[14]   51.20250  0.056816   1.82418   48.3831   50.9703  54.38660   \n",
       "x_true[15]   55.46590  0.132516   1.83317   52.7100   55.2204  58.76540   \n",
       "x_true[16]   53.39520  0.627366   2.24632   50.0850   53.3862  57.31390   \n",
       "x_true[17]   59.39370  0.204399   1.99378   55.8227   59.6002  62.38510   \n",
       "x_true[18]   59.07370  0.040370   1.80975   55.9100   59.2272  62.01540   \n",
       "x_true[19]   57.57930  0.330213   1.88877   54.8861   57.4080  60.87000   \n",
       "x_true[20]   62.20210  0.284210   2.03373   58.6126   62.4653  65.02030   \n",
       "s_Y          55.36692  8.517870  24.32472   15.0572   55.7217  94.80450   \n",
       "\n",
       "                 N_Eff     N_Eff/s    R_hat  \n",
       "lp__           7.24165    18.52080  1.39754  \n",
       "a           1138.16000  2910.91000  1.00544  \n",
       "b           1188.44000  3039.49000  1.00136  \n",
       "x_true[1]   1580.49000  4042.18000  1.00581  \n",
       "x_true[2]    131.96300   337.50100  1.02569  \n",
       "x_true[3]    159.89600   408.94000  1.02297  \n",
       "x_true[4]    267.89700   685.15900  1.02428  \n",
       "x_true[5]     22.96280    58.72840  1.08904  \n",
       "x_true[6]     72.61950   185.72800  1.03872  \n",
       "x_true[7]   2652.69000  6784.38000  1.00165  \n",
       "x_true[8]     10.32510    26.40700  1.20289  \n",
       "x_true[9]   2185.93000  5590.62000  1.00675  \n",
       "x_true[10]    24.06460    61.54640  1.10603  \n",
       "x_true[11]   384.81600   984.18500  1.00899  \n",
       "x_true[12]   766.65400  1960.75000  1.01510  \n",
       "x_true[13]    18.44580    47.17610  1.11783  \n",
       "x_true[14]  1030.85000  2636.45000  1.00917  \n",
       "x_true[15]   191.36700   489.43100  1.02681  \n",
       "x_true[16]    12.82040    32.78880  1.16304  \n",
       "x_true[17]    95.14790   243.34500  1.03262  \n",
       "x_true[18]  2009.64000  5139.74000  1.00398  \n",
       "x_true[19]    32.71670    83.67440  1.06409  \n",
       "x_true[20]    51.20430   130.95700  1.05680  \n",
       "s_Y            8.15519    20.85726  1.31408  "
      ]
     },
     "execution_count": 11,
     "metadata": {},
     "output_type": "execute_result"
    }
   ],
   "source": [
    "import polars as pl\n",
    "from cmdstanpy import CmdStanModel\n",
    "\n",
    "d = pl.read_csv(\"chap04/input/data-salary.txt\")\n",
    "\n",
    "data = {\n",
    "    \"N\": d.shape[0],\n",
    "    \"X\": d[\"X\"].to_list(),\n",
    "    \"Y\": d[\"Y\"].to_list(),\n",
    "}\n",
    "\n",
    "sm = CmdStanModel(stan_file=\"chap07/model/model7-6.stan\")\n",
    "fit = sm.sample(data, seed=1234)\n",
    "\n",
    "fit.summary()"
   ]
  },
  {
   "cell_type": "markdown",
   "metadata": {},
   "source": [
    "## 7.8 打ち切り\n",
    "\n",
    "データ測定に何らかの制限・限界があり、ある値以下(以上)の数値が出てこない時、このようなデータを打ち切り(Censored)ありのデータと呼ばれる。\n",
    "\n",
    "例として、健康診断において、ある人の血中のタンパク質Yの数値(濃度)を6回測定したとする。測定機器には検出の限界(25)があるため、数値が低いと\"<25\"を出力する。[data-protein.txt](chap07/input/data-protein.txt)\n",
    "\n",
    "この血中タンパク質データの平均と標準偏差を推定するとなると以下の問題がある。\n",
    "- \"<25\"のデータを捨てる: 平均値が真の値より高くなる\n",
    "- \"<25\"を\"25\"に置き換える: 数値が25で揃いやすくなり、推定される標準偏差が小さくなる\n",
    "\n",
    "このような状況をStanで効率的に扱う。まずメカニズムを想像すると、\n",
    "- 真の平均値$\\mu$に測定誤差などのノイズが加わって潜在的な測定値yが生成される\n",
    "- 検出限界のしきい値をLとする\n",
    "\n",
    "モデル式7-7\n",
    "$$\n",
    "\\begin{align}\n",
    "&打ち切りがない場合 \\nonumber \\\\\n",
    "&Y[n] \\sim \\mathrm{Normal}(\\mu, \\sigma_Y) &\\quad n = 1, \\ldots, N_{obs} \\nonumber \\\\\n",
    "&打ち切りがある場合 \\nonumber \\\\\n",
    "&y[n] \\sim \\mathrm{Normal}(\\mu, \\sigma_Y) ただし, y[n] \\lt L &\\quad n = 1, \\ldots, N_{cens} \\nonumber \\\\\n",
    "\\end{align}\n",
    "$$\n",
    "\n",
    "添字obsはobserved, censはcensored。\n",
    "\n",
    "次に測定の尤度を考える。\n",
    "- 打ち切りがない場合: $\\mathrm{Normal}(Y|\\mu, \\sigma_Y)$\n",
    "- 打切りがある場合:   $y \\lt L$となる確率 $\\mathrm{Prob}[y \\lt L]$\n",
    "\n",
    "この尤度$\\mathrm{Prob}[y \\lt L]$を以下のように変形する。\n",
    "\n",
    "$$\n",
    "\\begin{align}\n",
    "\\mathrm{Prob}[y \\lt L] &= \\int_{-\\infty}^L \\mathrm{Normal}(y|\\mu, \\sigma_Y) \\nonumber \\\\\n",
    "& = \\int_{-\\infty}^L \\frac{1}{\\sqrt{2\\pi\\sigma}}\\exp \\left[-\\frac{1}{2} \\left(\\frac{y - \\mu}{\\sigma} \\right)^2 \\right]dy \\nonumber \\\\\n",
    "& = \\int_{-\\infty}^{\\frac{L - \\mu}{\\sigma}} \\frac{1}{\\sqrt{2\\pi}}\\exp \\left[-\\frac{1}{2}z^2 \\right]dz\n",
    "= \\int_{-\\infty}^{\\frac{L - \\mu}{\\sigma}} \\phi(z) dz \\nonumber \\\\\n",
    "&= \\Phi \\left(\\frac{L - \\mu}{\\sigma} \\right)\\nonumber\n",
    "\\end{align}\n",
    "$$\n",
    "\n",
    "ここで$\\phi$は標準正規分布の確率密度関数。$\\Phi$はその累積分布関数(cumulative distribution function, CDF)。なのでこの式の最後の値の対数をとり、targetに追加で足せば内部のlp__に打切りがある測定の文の対数尤度を加えることができる(4.3節参照)。\n",
    "\n",
    "実装例: [model7-7.stan](chap07/model/model7-7.stan)\n",
    "\n",
    "4行目: x_obsは打ち切りがない測定値である。\n",
    "14〜16行目: 打ち切りがない場合とある場合を分けて対数尤度を登録している。\n",
    "14～15行目: 打ち切りがない場合は単純である。\n",
    "16行目：normal_lcdf(L|mu, s_x)はStanが用意している便利な関数。$log\\Phi((L - \\mu) / \\sigma_y)$を表す。この行は以下の2行と同じ意味。\n",
    "\n",
    "\n",
    "Rでの実行スクリプト: [run-model7-7.R](chap07/run-model7-7.R)"
   ]
  },
  {
   "cell_type": "code",
   "execution_count": 12,
   "metadata": {},
   "outputs": [
    {
     "name": "stderr",
     "output_type": "stream",
     "text": [
      "06:02:02 - cmdstanpy - INFO - CmdStan start processing\n"
     ]
    },
    {
     "data": {
      "application/vnd.jupyter.widget-view+json": {
       "model_id": "be192429c5fa446ea91563f83c30144c",
       "version_major": 2,
       "version_minor": 0
      },
      "text/plain": [
       "chain 1 |          | 00:00 Status"
      ]
     },
     "metadata": {},
     "output_type": "display_data"
    },
    {
     "data": {
      "application/vnd.jupyter.widget-view+json": {
       "model_id": "637c808bd6774560abf5cc9b369b8441",
       "version_major": 2,
       "version_minor": 0
      },
      "text/plain": [
       "chain 2 |          | 00:00 Status"
      ]
     },
     "metadata": {},
     "output_type": "display_data"
    },
    {
     "data": {
      "application/vnd.jupyter.widget-view+json": {
       "model_id": "34231b98ee0448b0a699107bdd96eeec",
       "version_major": 2,
       "version_minor": 0
      },
      "text/plain": [
       "chain 3 |          | 00:00 Status"
      ]
     },
     "metadata": {},
     "output_type": "display_data"
    },
    {
     "data": {
      "application/vnd.jupyter.widget-view+json": {
       "model_id": "1eeafbeed6f345be97e175c812565182",
       "version_major": 2,
       "version_minor": 0
      },
      "text/plain": [
       "chain 4 |          | 00:00 Status"
      ]
     },
     "metadata": {},
     "output_type": "display_data"
    },
    {
     "name": "stdout",
     "output_type": "stream",
     "text": [
      "                                                                                                                                                                                                                                                                                                                                "
     ]
    },
    {
     "name": "stderr",
     "output_type": "stream",
     "text": [
      "06:02:02 - cmdstanpy - INFO - CmdStan done processing.\n",
      "06:02:02 - cmdstanpy - WARNING - Some chains may have failed to converge.\n",
      "\tChain 2 had 2 divergent transitions (0.2%)\n",
      "\tChain 3 had 2 divergent transitions (0.2%)\n",
      "\tUse the \"diagnose()\" method on the CmdStanMCMC object to see further information.\n"
     ]
    },
    {
     "name": "stdout",
     "output_type": "stream",
     "text": [
      "\n"
     ]
    },
    {
     "data": {
      "text/html": [
       "<div>\n",
       "<style scoped>\n",
       "    .dataframe tbody tr th:only-of-type {\n",
       "        vertical-align: middle;\n",
       "    }\n",
       "\n",
       "    .dataframe tbody tr th {\n",
       "        vertical-align: top;\n",
       "    }\n",
       "\n",
       "    .dataframe thead th {\n",
       "        text-align: right;\n",
       "    }\n",
       "</style>\n",
       "<table border=\"1\" class=\"dataframe\">\n",
       "  <thead>\n",
       "    <tr style=\"text-align: right;\">\n",
       "      <th></th>\n",
       "      <th>Mean</th>\n",
       "      <th>MCSE</th>\n",
       "      <th>StdDev</th>\n",
       "      <th>5%</th>\n",
       "      <th>50%</th>\n",
       "      <th>95%</th>\n",
       "      <th>N_Eff</th>\n",
       "      <th>N_Eff/s</th>\n",
       "      <th>R_hat</th>\n",
       "    </tr>\n",
       "  </thead>\n",
       "  <tbody>\n",
       "    <tr>\n",
       "      <th>lp__</th>\n",
       "      <td>-10.3721</td>\n",
       "      <td>0.088150</td>\n",
       "      <td>1.57044</td>\n",
       "      <td>-13.47920</td>\n",
       "      <td>-9.87432</td>\n",
       "      <td>-8.87687</td>\n",
       "      <td>317.396</td>\n",
       "      <td>4347.89</td>\n",
       "      <td>1.01061</td>\n",
       "    </tr>\n",
       "    <tr>\n",
       "      <th>mu</th>\n",
       "      <td>24.8341</td>\n",
       "      <td>0.890588</td>\n",
       "      <td>13.64870</td>\n",
       "      <td>6.90403</td>\n",
       "      <td>27.13750</td>\n",
       "      <td>35.37380</td>\n",
       "      <td>234.872</td>\n",
       "      <td>3217.43</td>\n",
       "      <td>1.01268</td>\n",
       "    </tr>\n",
       "    <tr>\n",
       "      <th>s_Y</th>\n",
       "      <td>15.9413</td>\n",
       "      <td>1.413410</td>\n",
       "      <td>23.59010</td>\n",
       "      <td>4.33062</td>\n",
       "      <td>10.03990</td>\n",
       "      <td>42.95230</td>\n",
       "      <td>278.563</td>\n",
       "      <td>3815.93</td>\n",
       "      <td>1.01112</td>\n",
       "    </tr>\n",
       "  </tbody>\n",
       "</table>\n",
       "</div>"
      ],
      "text/plain": [
       "         Mean      MCSE    StdDev        5%       50%       95%    N_Eff  \\\n",
       "lp__ -10.3721  0.088150   1.57044 -13.47920  -9.87432  -8.87687  317.396   \n",
       "mu    24.8341  0.890588  13.64870   6.90403  27.13750  35.37380  234.872   \n",
       "s_Y   15.9413  1.413410  23.59010   4.33062  10.03990  42.95230  278.563   \n",
       "\n",
       "      N_Eff/s    R_hat  \n",
       "lp__  4347.89  1.01061  \n",
       "mu    3217.43  1.01268  \n",
       "s_Y   3815.93  1.01112  "
      ]
     },
     "execution_count": 12,
     "metadata": {},
     "output_type": "execute_result"
    }
   ],
   "source": [
    "import polars as pl\n",
    "from cmdstanpy import CmdStanModel\n",
    "\n",
    "protein = pl.read_csv(\"chap07/input/data-protein.txt\")\n",
    "\n",
    "idx = protein[\"Y\"].str.contains(\"<\")\n",
    "Y_obs = protein[\"Y\"].filter(~idx).cast(float)\n",
    "L = protein[\"Y\"].filter(idx).str.replace(\"<\", \"\").cast(float)[0]\n",
    "\n",
    "data = {\n",
    "    \"N_obs\": Y_obs.shape[0],\n",
    "    \"N_cens\": idx.sum(),\n",
    "    \"Y_obs\": Y_obs.to_list(),\n",
    "    \"L\": L,\n",
    "}\n",
    "sm = CmdStanModel(stan_file=\"chap07/model/model7-7.stan\")\n",
    "fit = sm.sample(data, seed=1234)\n",
    "\n",
    "fit.summary()"
   ]
  },
  {
   "cell_type": "markdown",
   "metadata": {},
   "source": [
    "## 7.9 外れ値\n",
    "\n",
    "ある範囲にデータの大多数が収まるが、底から大きく外れたデータを外れ値(outlier)という。外れ値に客観的で厳密な定義はない。\n",
    "\n",
    "統計モデリングにおける外れ値の対処法\n",
    "1. 人為的なミスなどによって生じたことが明らかな場合はそのデータを除外、もしくは修正\n",
    "2. 外れ値を例外と認め以降の解析から除外する\n",
    "3. 稀に大きな値を生成するメカニズムを仮定して、外れ値を含めて解析を進める\n",
    "\n",
    "2, 3についてモデリングを紹介する。\n",
    "\n",
    "- 裾の長いコーシー分布やStudentのt分布を使う方法\n",
    "\n",
    "  使用データ: [data-outlier.txt](chap07/input/data-outlier.txt)\n",
    "    \n",
    "  経験から応答変数Y、説明変数Xに比例関係があるとわかっているデータ。これについて単回帰を行う。\n",
    "  \n",
    "  まずは散布図を見ると、X=3の部分が外れ値のように見える。次に、ノイズの部分に正規部分を使って4.4節の単回帰と同様に回帰する。モデル式は以下\n",
    "  \n",
    "  モデル式7-8 (モデル式4-5の再掲)\n",
    "  $$\n",
    "  Y[n] \\sim \\mathrm{Normal}(a + bX[n], \\sigma) \\quad n= 1, 2, \\ldots, N\n",
    "  $$\n",
    "  \n",
    "  推定結果から予測分布を描くと下図左となり回帰直線の傾きが外れ値に引っ張られている事がわかる。\n",
    "    \n",
    "  次に、ノイズの背後に「たいていの場合は平均に近い値が生成されるが、まれに大きな値を生成する」メカニズムが考えられるとし、正規分布の代わりにコーシー分布を使う(6.14節参照)。モデル式にすると以下になる。\n",
    "  \n",
    "  モデル式 7-9\n",
    "  $$\n",
    "  Y[n] \\sim \\mathrm{Cauchy}(a + bX[n], \\sigma) \\quad n= 1, 2, \\ldots, N\n",
    "  $$\n",
    "\n",
    "  [実装例 model7-9.stan](chap07/model/model7-9.stan)\n",
    "\n",
    "  単回帰のコード([model4-4.stan](chap04/model/model4-4.stan))と大きく変わらない。異なる箇所は17、23行目が正規分布の代わりにコーシー分布であること。予測分布は下図右になる。\n",
    "\n",
    "  傾きが外れ値に引っ張られていない。信頼区間幅も狭くなった。ただし正規分布とコーシー分布のどちらかが正しい訳では無い。"
   ]
  },
  {
   "cell_type": "code",
   "execution_count": 13,
   "metadata": {},
   "outputs": [
    {
     "data": {
      "image/png": "[encoded data removed]",
      "text/plain": [
       "<Figure size 640x480 with 1 Axes>"
      ]
     },
     "metadata": {},
     "output_type": "display_data"
    },
    {
     "name": "stderr",
     "output_type": "stream",
     "text": [
      "06:02:02 - cmdstanpy - INFO - CmdStan start processing\n"
     ]
    },
    {
     "data": {
      "application/vnd.jupyter.widget-view+json": {
       "model_id": "59c5f0633ae944cc9debff6079c30609",
       "version_major": 2,
       "version_minor": 0
      },
      "text/plain": [
       "chain 1 |          | 00:00 Status"
      ]
     },
     "metadata": {},
     "output_type": "display_data"
    },
    {
     "data": {
      "application/vnd.jupyter.widget-view+json": {
       "model_id": "edfc8998c4f54ae98c9c970d0647fe5c",
       "version_major": 2,
       "version_minor": 0
      },
      "text/plain": [
       "chain 2 |          | 00:00 Status"
      ]
     },
     "metadata": {},
     "output_type": "display_data"
    },
    {
     "data": {
      "application/vnd.jupyter.widget-view+json": {
       "model_id": "7f0a40cfb616457c9c228b82011e6e77",
       "version_major": 2,
       "version_minor": 0
      },
      "text/plain": [
       "chain 3 |          | 00:00 Status"
      ]
     },
     "metadata": {},
     "output_type": "display_data"
    },
    {
     "data": {
      "application/vnd.jupyter.widget-view+json": {
       "model_id": "caf92c6788ea4a48b1e7919e711957c7",
       "version_major": 2,
       "version_minor": 0
      },
      "text/plain": [
       "chain 4 |          | 00:00 Status"
      ]
     },
     "metadata": {},
     "output_type": "display_data"
    },
    {
     "name": "stdout",
     "output_type": "stream",
     "text": [
      "                                                                                                                                                                                                                                                                                                                                "
     ]
    },
    {
     "name": "stderr",
     "output_type": "stream",
     "text": [
      "06:02:02 - cmdstanpy - INFO - CmdStan done processing.\n"
     ]
    },
    {
     "name": "stdout",
     "output_type": "stream",
     "text": [
      "\n"
     ]
    },
    {
     "name": "stderr",
     "output_type": "stream",
     "text": [
      "06:02:03 - cmdstanpy - INFO - CmdStan start processing\n"
     ]
    },
    {
     "data": {
      "application/vnd.jupyter.widget-view+json": {
       "model_id": "a1482f883fa74d359e7aa5c5052a8065",
       "version_major": 2,
       "version_minor": 0
      },
      "text/plain": [
       "chain 1 |          | 00:00 Status"
      ]
     },
     "metadata": {},
     "output_type": "display_data"
    },
    {
     "data": {
      "application/vnd.jupyter.widget-view+json": {
       "model_id": "ea8914507bdb4208bec7b4557a03327b",
       "version_major": 2,
       "version_minor": 0
      },
      "text/plain": [
       "chain 2 |          | 00:00 Status"
      ]
     },
     "metadata": {},
     "output_type": "display_data"
    },
    {
     "data": {
      "application/vnd.jupyter.widget-view+json": {
       "model_id": "88b0b99e589a474f8568860382ff676c",
       "version_major": 2,
       "version_minor": 0
      },
      "text/plain": [
       "chain 3 |          | 00:00 Status"
      ]
     },
     "metadata": {},
     "output_type": "display_data"
    },
    {
     "data": {
      "application/vnd.jupyter.widget-view+json": {
       "model_id": "293ecb6de7b1495a9a8a3a854454acad",
       "version_major": 2,
       "version_minor": 0
      },
      "text/plain": [
       "chain 4 |          | 00:00 Status"
      ]
     },
     "metadata": {},
     "output_type": "display_data"
    },
    {
     "name": "stdout",
     "output_type": "stream",
     "text": [
      "                                                                                                                                                                                                                                                                                                                                "
     ]
    },
    {
     "name": "stderr",
     "output_type": "stream",
     "text": [
      "06:02:03 - cmdstanpy - INFO - CmdStan done processing.\n"
     ]
    },
    {
     "name": "stdout",
     "output_type": "stream",
     "text": [
      "\n"
     ]
    },
    {
     "data": {
      "image/png": "[encoded data removed]",
      "text/plain": [
       "<Figure size 1600x600 with 2 Axes>"
      ]
     },
     "metadata": {},
     "output_type": "display_data"
    }
   ],
   "source": [
    "import matplotlib.pyplot as plt\n",
    "import polars as pl\n",
    "import seaborn as sns\n",
    "from cmdstanpy import CmdStanModel\n",
    "\n",
    "# 散布図\n",
    "outlier = pl.read_csv(\"chap07/input/data-outlier.txt\")\n",
    "sns.scatterplot(outlier, x=\"X\", y=\"Y\")\n",
    "plt.show()\n",
    "\n",
    "# 以下予測分布を描画\n",
    "outlier = pl.read_csv(\"chap07/input/data-outlier.txt\")\n",
    "X_new = np.linspace(0, 11, 100)\n",
    "data = {\n",
    "    \"N\": outlier.shape[0],\n",
    "    \"X\": outlier[\"X\"].to_list(),\n",
    "    \"Y\": outlier[\"Y\"].to_list(),\n",
    "    \"N_new\": X_new.size,\n",
    "    \"X_new\": X_new,\n",
    "}\n",
    "\n",
    "# 正規分布ノイズ(左図).\n",
    "sm1 = CmdStanModel(stan_file=\"chap07/model/model7-8.stan\")\n",
    "fit1 = sm1.sample(data=data, seed=1234)\n",
    "d_est1 = np.percentile(fit1.y_new, (2.5, 25, 50, 75, 97.5), axis=0)\n",
    "\n",
    "# コーシー分布ノイズ(右図).\n",
    "sm2 = CmdStanModel(stan_file=\"chap07/model/model7-9.stan\")\n",
    "fit2 = sm2.sample(data=data, seed=1234)\n",
    "d_est2 = np.percentile(fit2.y_new, (2.5, 25, 50, 75, 97.5), axis=0)\n",
    "\n",
    "_, axes = plt.subplots(1, 2, figsize=(16, 6), sharex=True, sharey=True)\n",
    "for ax, d_est in zip(axes, [d_est1, d_est2], strict=True):\n",
    "    sns.scatterplot(outlier, x=\"X\", y=\"Y\", ax=ax)\n",
    "    ax.fill_between(X_new, d_est[0], d_est[-1], alpha=0.2)\n",
    "    ax.fill_between(X_new, d_est[1], d_est[-2], alpha=0.4)\n",
    "    ax.plot(X_new, d_est[2])\n",
    "    plt.setp(ax, xlim=(-0.2, 11.2), ylim=(-25, 75))\n",
    "plt.show()"
   ]
  },
  {
   "cell_type": "markdown",
   "metadata": {},
   "source": [
    "- 混合正規分布や Zero-Inflated Poisson 分布などの分布を使う\n",
    "  \n",
    "  外れ値が多い場合(例えば全体の5%)、ヒストグラムを書くと2つの正規分布が混ざった形になる場合がある。このようなときは混合正規分布を使うという選択肢もある。\n",
    "\n",
    "  来店回数のようなデータでは、常連客とそれ以外を混ぜた分布になる。このときには、Zero-Inflated Poisson分布(ZIP分布)を使うことができる。この分布はベルヌーイ分布とポワソン分布を混ぜたもの。\n",
    "\n",
    "  これらの分布の詳細は11章。"
   ]
  }
 ],
 "metadata": {
  "kernelspec": {
   "display_name": ".venv",
   "language": "python",
   "name": "python3"
  },
  "language_info": {
   "codemirror_mode": {
    "name": "ipython",
    "version": 3
   },
   "file_extension": ".py",
   "mimetype": "text/x-python",
   "name": "python",
   "nbconvert_exporter": "python",
   "pygments_lexer": "ipython3",
   "version": "3.12.0"
  },
  "orig_nbformat": 4
 },
 "nbformat": 4,
 "nbformat_minor": 2
}
