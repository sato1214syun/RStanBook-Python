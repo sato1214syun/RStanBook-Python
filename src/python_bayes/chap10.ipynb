{
 "cells": [
  {
   "cell_type": "markdown",
   "metadata": {},
   "source": [
    "# Chapter 10 収束しない場合の対処法\n",
    "\n",
    "MCMCが収束しない理由は、ほとんどの場合モデルが原因である。この章では収束しない主な原因として以下の4つの場合を挙げ、対処法を説明する。\n",
    "- パラメータが識別不可能: モデル式を整理して入念に検討することで対処する[(10.1節)](#101-パラメーターの識別可能性)\n",
    "- データが少ないにもかかわらずモデルが複雑すぎる、あるいはパラメータに制約がない: 弱情報事前分布で対処する[(10.2節)](#102-弱事前情報分布)\n",
    "- パラメータ間の依存が強く、事後分布がいびつ: 再パラメータ化で対処する[(10.3節)](#103-再パラメータ化)\n",
    "- その他: 例えば、微分が不連続な関数を使ったモデルや、局所最適が多いため事後分布を求めるのが難しいモデルの場合。モデル式の変形や発展的手法によって対処できることがある[(10.4節)](#104-その他の場合)\n",
    "\n",
    "## 10.1 パラメータの識別可能性\n",
    "\n",
    "### 10.1.1 識別可能とは\n",
    "\n",
    "識別可能(identifiable)について、モデル4-3を例に説明する。\n",
    "\n",
    "モデル式 4-3(再掲)\n",
    "\n",
    "$$\n",
    "\\begin{align}\n",
    "&Y[n] = a + bX[n] + cX[n] + \\varepsilon[n] &n= 1, ..., N \\nonumber \\\\\n",
    "&\\varepsilon[n] \\sim Normal(0, \\sigma) &n= 1, ..., N \\nonumber\n",
    "\\end{align}\n",
    "$$\n",
    "\n",
    "ここで$\\epsilon[n]$は、平均0・標準偏差$\\sigma$の正規分布から生成されるとしているが、これをあるパラメータcを導入して、平均$cX[n]$・標準偏差$\\sigma$の正規分布から生成されると考える。すると、モデル式4-3は以下のモデル式に変形できる。\n",
    "\n",
    "モデル式 10-1\n",
    "\n",
    "$$\n",
    "\\begin{align}\n",
    "&Y[n] = a + bX[n] + cX[n] + \\varepsilon'[n] \\nonumber \\\\\n",
    "&Y[n] = a + (b + c)X[n] + \\varepsilon'[n] &n= 1, ..., N \\nonumber \\\\\n",
    "&\\varepsilon'[n] \\sim Normal(0, \\sigma) &n= 1, ..., N \\nonumber\n",
    "\\end{align}\n",
    "$$\n",
    "\n",
    "ここでa,b,cの事前分布は同じ無情報分布を設定し、データから推測する。\n",
    "\n",
    "傾きが3.0だとした場合、\n",
    "モデル式 4-3では$b=3.0$になればよいが、モデル式 10-1では$(b + c)=3.0$を満たす必要があり、$(b, c)$の組み合わせは無数に存在する。このため、bとcは識別不可能である。MCMCを実行しても収束しない。\n",
    "\n",
    "書き直すと、\n",
    "- あるパラメータの値$a$において、事後確率を$p(\\theta = a | Y)$とする\n",
    "- $p(\\theta = a | Y) = p(\\theta = b | Y)$となる別のパラメータ$b$が存在しない時、パラメータ$\\theta$は識別可能である\n",
    "- 逆に今回のように別のパラメータbが存在する場合は識別不可能\n",
    "\n",
    "バラメータが識別不可能なときの対処法\n",
    "- b, cどちらかのパラメータを削除する\n",
    "- b, cの事前分布をを異なるものにする\n",
    "\n",
    "モデル式をきちんと書いて、数式を整理する癖をつけること。\n",
    "\n",
    "### 10.1.2 個人差\n",
    "\n",
    "[5.1節](chap05.ipynb#51-重回帰)の重回帰では以下のモデル式を考えた。\n",
    "\n",
    "モデル式 5-1(再掲)\n",
    "\n",
    "$$\n",
    "\\begin{align}\n",
    "Y &= b_1 + b_2A[n] + b_3Score[n] + \\varepsilon[n] \\quad &n=1, ..., N \\nonumber \\\\\n",
    "\\epsilon[n] &\\sim Normal(0, \\sigma) \\quad &n=1, ..., N \\nonumber\n",
    "\\end{align}\n",
    "$$\n",
    "\n",
    "ここで出席率の個人差$b_{個人差}[n]$を考慮すると、以下のモデル式になる。\n",
    "\n",
    "$$\n",
    "\\begin{align}\n",
    "Y[n] &= b_1 + b_2A[n] + b_3Score[n] + b_{個人差}[n] + \\varepsilon[n] \\quad &n=1, ..., N \\nonumber \\\\\n",
    "b_{個人差}[n] &\\sim \\mathrm{Normal}(0, \\sigma_b) \\quad &n=1,..., N \\nonumber \\\\\n",
    "\\epsilon[n] &\\sim \\mathrm{Normal}(0, \\sigma) \\quad &n=1, ..., N \\nonumber\n",
    "\\end{align}\n",
    "$$\n",
    "\n",
    "$\\sigma_b$と$\\sigma$の事前分布が同じ無情報事前分布とすると、$b_{個人差}[n]$と$\\varepsilon[n]$は添字も同じで従う分布も全く同じであり、識別不可能。データが各個人に一つずつしかないため、説明変数以外の影響を個人差とノイズに切り分けて推定できないのだ。この状況もモデル式をきちんと書いて数式を整理すれば気づくことができるだろう。\n",
    "\n",
    "### 10.1.3 ラベルスイッチング\n",
    "\n",
    "パラメータが識別不可能な典型例がラベルスイッチング(label switching)である。\n",
    "\n",
    "例として、下図10.1のようにヒストグラムを描くと山が二つあるデータに対し、2つの正規分布($\\mathrm{N}(\\mu_1, \\sigma_1), \\mathrm{N}(\\mu_2, \\sigma_2)$)を特定の割合($a:1-a$)で混ぜた混合正規分布を考える。\n",
    "\n",
    "この分布の式は以下となる\n",
    "$$\n",
    "\\mathrm{Normal\\_Mixture}(y|a, \\mu_1, \\sigma_1, \\mu_2, \\sigma_2) = a \\times \\mathrm{N}(y|\\mu_1, \\sigma_1) + (1 - a) \\times \\mathrm{N}(y|\\mu_2, \\sigma_2)\n",
    "$$\n",
    "\n",
    "![Alt text](chap10/output/fig10-1.png)\n",
    "\n",
    "例えば、以下の組み合わせは結果的に同一の分布を表すので識別不可能\n",
    "- $(a, \\mu_1, \\sigma_1, \\mu_2, \\sigma_2) = (0.3, 0, 2, -4, 1)$\n",
    "- $(a, \\mu_1, \\sigma_1, \\mu_2, \\sigma_2) = (0.7, -4, 1, 0, 2)$\n",
    "\n",
    "つまり分布$\\mathrm{N}(\\mu_1, \\sigma_1)$は左の山を表してもいいし、右の山でもいい事になる。これがラベルスイッチングである。\n",
    "\n",
    "MCMC実行時の不具合\n",
    "- 一つのMCMCサンプル列を見ても、$(0.3, 0, 2，-4, 1)$の近傍と$(0.7，-4, 1, 0, 2)$の近傍の間を振動する状況となり、サンプリングがうまくいかない\n",
    "- 二つの正規分布が合体して、$(\\mu_1, \\sigma_1)$と$(\\mu_2, \\sigma_2)$が同じ値になってしまう\n",
    "- chainによって別々の値へ収束するため$\\hat{R}$が適切に計算できない\n",
    "\n",
    "対処法としては、Stanコードでordered型を使い、ordered[2] mu と宣言。$\\mu1 \\lt \\mu2$ の制限を入れる。しかし一般的にラベルスイッチングを解決することは難しい場合が多い。\n",
    "\n",
    "### 10.1.4 多項ロジスティクス\n",
    "\n",
    "[6.5項](chap06.ipynb#65-カテゴリカル分布)で挙げた例を使う。\n",
    "\n",
    "データファイル 10.1[data-category.txt](chap10/input/data-category.txt)\n",
    "\n",
    "ここで\n",
    "- $\\mathrm{K}$: カテゴリー数 = 6\n",
    "- $Age$: 購入者の年齢\n",
    "- $Sex$: 購入者の性別(0＝男性、1＝女性)\n",
    "- $Income$: 購入者の年収(万円)\n",
    "- $Y$: 購入した商品のカテゴリーのインデックス(1～Kのいずれかの整数値)\n",
    "\n",
    "解析の目的は、\n",
    "- どのような年齢・性別・年収の人がどのカテゴリーを選びやすいかを知ること\n",
    "\n",
    "モデル式6-2では、各カテゴリーを選ぶ確率百は説明変数である年齢・性別・年収の線形結合で決まるとし、以下のような多項ロジスティック回帰を考えた。\n",
    "\n",
    "モデル式 10-2 (モデル式6-2の再掲)\n",
    "$$\n",
    "\\begin{align}\n",
    "&\\overrightarrow{\\mu[n]} = \\overrightarrow{b_1} + \\overrightarrow{b_2}Age[n] + \\overrightarrow{b_3}Sex[n] + \\overrightarrow{b_4}Income[n] & n = 1, ..., N \\nonumber \\\\\n",
    "&\\overrightarrow{\\theta[n]} = \\mathrm{softmax } (\\overrightarrow{\\mu[n]}) & n = 1, ..., N \\nonumber \\\\\n",
    "&Y[n] \\sim \\mathrm{Categorical } (\\overrightarrow{\\theta[n]}) & n = 1, ..., N \\nonumber\n",
    "\\end{align}\n",
    "$$\n",
    "\n",
    "ここで、$\\overrightarrow{\\mu[n]}, \\overrightarrow{\\theta[n]}, \\overrightarrow{b_1}, \\overrightarrow{b_2}, \\overrightarrow{b_3}, \\overrightarrow{b_4}$はそれぞれ長さKのベクトルであり、$\\overrightarrow{b_1} \\sim \\overrightarrow{b_4}$をデータから推定する。[6.5節](chap06.ipynb#65-カテゴリカル分布)で説明したように、$(-\\infty,\\infty)$である説明変数の線形結合$\\overrightarrow{\\mu}$から、simplexである$\\overrightarrow{\\theta}$を作るには以下のsoftmax関数を使うと便利。\n",
    "\n",
    "$$\n",
    "\\vec{\\theta} = \\mathrm{softmax } \\left( \\frac{\\exp(x_1)}{\\sum_{k'=1}^K \\exp(x_{k'})} \\cdots \\frac{\\exp(x_K)}{\\sum_{k'=1}^K \\exp(x_{k'})} \\right)^T\n",
    "$$\n",
    "\n",
    "$\\vec{\\mu}$の各要素は、各カテゴリーを選ぶ「強さ」と見なすことができる。\n",
    "\n",
    "ここで、すべてのカテゴリーの$\\mu_k$を$\\mu_k + 1$に変更してみよう。すると、\n",
    "$$\n",
    "\\theta_{k}=\\frac{\\exp\\left(\\mu_{k}+1\\right)}{\\sum_{k^{\\prime}=1}^{K}\\exp\\left(\\mu_{k^{\\prime}}+1\\right)}=\\frac{\\exp\\left(\\mu_{k}\\right)\\exp\\left(1\\right)}{\\sum_{k^{\\prime}=1}^{K}\\left[\\exp\\left(\\mu_{k^{\\prime}}\\right)\\exp\\left(1\\right)\\right]}=\\frac{\\exp\\left(\\mu_{k}\\right)}{\\sum_{k^{\\prime}=1}^{K}\\exp\\left(\\mu_{k^{\\prime}}\\right)}\n",
    "$$\n",
    "となって元の形に戻る。各$\\mu_k$が平行移動しても$\\vec{\\theta}$は変わらないのである。つまり、各$\\mu_k$は一意に決まらず説別不可能である。ここでは識別できるように、カテゴリー1を選ぶ「強さ」を0に固定する。すると残りのカテゴリーを選ぶ「強さ」はカテゴリー1との比較から決まる。実装するには$\\mu_{1}=0$に固定すればよい。すなわち、ベクトル$\\vec{b_1}$の1番目の要素を$b_{1,1}$と書くことにすると、$b_{1,1}=b_{2,1}=b_{3,1}=b_{4,1}=0$に固定すればよい。\n",
    "\n",
    "[モデル式10-2の実装例](chap10/model/model10-2.stan)\n",
    "\n",
    "9～12行目: transformed dataブロックはデータをStanコードの中で作るためのブロックである。データをR側から渡すのが面倒な場合や、Stanの関数で加工したい場合などに活用するとよい。ここでは、$b_{1,1}=b_{2,1}=b_{3,1}=b_{4,1}=0$にするためのゼロベクトルを作っている。rep_vector(x、m)関数はxをm個繰り返し並べたvectorを作る関数である。\n",
    "\n",
    "19,21行目: ゼロベクトルの列とD行K-1列の行列をappend_col関数で横に並べてD行K列の行列であるbを作っている。このように一部が固定値を持つパラメータはtransformed parametersブロックで作るとよい。\n",
    "\n",
    "27行目: softmax関数を使ってsimplexにしている。softmax関数はvector型しか引数にとることができない。しかし、mu[m,]は行列のn行目でrow_vector型なので、転置演算子である「,」(シングルクォート)を使ってvector型にしている。\n",
    "\n",
    "なお、Stanでは内部的にsoftmaxを実行する、安定かつ高速である便利なcategorical_logit関数が用意されているので、それを使うと27行目は以下のように書くことができる。\n",
    "$$\n",
    "\\mathrm{Y[n]}\\ \\sim\\ \\mathrm{Categorical\\_logit}\\left(\\mathrm{mu[n,]}' \\right);\n",
    "$$\n",
    "\n",
    "\n",
    "### 10.1.5 ウサギとカメ\n",
    "\n",
    "識別可能性に関する例をもう一つ挙げる。ウサギとカメのマラソンの勝敗結果からウサギとカメの「強さ」を推定する。30試合分の勝敗結果を記録した。カンマ区切りのファイルがあるとする。\n",
    "\n",
    "[データファイル10.2: data-usagitokame.txt](chap10/input/data-usagitokame.txt)\n",
    "\n",
    "- 1行が1試合分\n",
    "- Loser: 負けたプレイヤー(敗者)のインデックス\n",
    "- Winner: 勝ったプレイヤー(勝者)のインデックス\n",
    "- インデックス1がカメ、2がウサギ\n",
    "\n",
    "モデリングすると\n",
    "- 試合(game)ごとに発揮できた強さをパフォーマンスとする\n",
    "- パフォーマンスは正規分布に従うとする\n",
    "- カメのパフォーマンス: 平均(強さ)$\\mu[1]$・標準偏差(勝負ムラ)$\\sigma[1]$の正規分布\n",
    "- ウサギのパフォーマンス: 平均(強さ)$\\mu[2]$・標準偏差(勝負ムラ)$\\sigma[2]$の正規分布\n",
    "- この時点では勝負ムラは$\\sigma[1] = \\sigma[2] = \\sigma$で共通とする\n",
    "\n",
    "尤度を考える場合に注意するポイント: パフォーマンスの差だけが勝敗に影響する単純なモデルなので、各々の強さ($\\mu$)を変更しても同じ尤度になる。識別できるようにするためにまず[10.1.4項](#1014-多項ロジスティクス)と同じように片方の強さを0に固定する\n",
    "\n",
    "- $\\mu[1]=0$\n",
    "\n",
    "パフォーマンスのスケール(大きさのオーダー)が決まっていないのでこのままではまだ識別できない。例えば$(\\mu[2], \\sigma) = (3, 2)$と$(\\mu[2], \\sigma) = (6, 4)は同じ尤度になる。そこでさらに勝負ムラを固定する。\n",
    "\n",
    "- $\\sigma = 1$\n",
    "\n",
    "パフォーマンスは観測されないパラメータであり、大小関係がある。このような場合にはStanでorderd型を使うと便利。([9.4.3項](#943-)参照)\n",
    "\n",
    "モデル式\n",
    "$$\n",
    "\\begin{align}\n",
    "performance[g, 1] &\\sim \\mathrm{Normal}\\left(\\mu[{Loser}[g]], 1\\right) \\quad &g = 1, \\ldots, G \\nonumber \\\\\n",
    "performance[g, 2] &\\sim \\mathrm{Normal}\\left(\\mu[{Winner}[g]], 1\\right) \\quad &g = 1, \\ldots, G \\nonumber \\\\\n",
    "performance[g, 1] &\\lt performance[g, 2] \\quad &g = 1, \\ldots, G \\nonumber \\\\\n",
    "\\mu[1] &= 0 \\nonumber\n",
    "\\end{align}\n",
    "$$\n",
    "\n",
    "ここで、\n",
    "- $G$: 試合数\n",
    "- $g$: 試合のインデックス\n",
    "- $performance[g, 1]$: 敗者のパフォーマンス\n",
    "- $performance[g, 2]$: 勝者のパフォーマンス\n",
    "- Loser[g], Winner [g]: 敗者/勝者のインデックス\n",
    "- モデル式の３行目は変数の制約を表す\n",
    "\n",
    "データから$\\mu[2]$および$performance[g, 1]、 performance[g, 2]$を推定する。\n",
    "\n",
    "この例のように、「データの分布の確認」と「メカニズムの想像」がつながりにくい場合には、シミュレーションが特に大切である。仮に$\\mu[2]＝1.5$として、パフォーマンスを生成して勝敗の集計をとるコードは以下となる。\n",
    "\n",
    "[元のRコード](chap10/sim-model10-3.R)\n",
    "\n",
    "さらに生成した勝敗のデータを使用して、モデル式10-3のstanで$\\mu[2]$の推定を行ってみる。\n",
    "\n",
    "[model10-3.stan](chap10/model/model10-3.stan)\n",
    "\n",
    "最後にデータファイル10.2を用いた推定の結果、カメの強さを0とした時のウサギの強さであるbの中央値と95%ベイズ信頼区間は1.60(0.84~2.47)となり、強さの幅まで知ることができた。\n"
   ]
  },
  {
   "cell_type": "code",
   "execution_count": 16,
   "metadata": {},
   "outputs": [
    {
     "name": "stderr",
     "output_type": "stream",
     "text": [
      "17:24:55 - cmdstanpy - INFO - CmdStan start processing\n"
     ]
    },
    {
     "data": {
      "application/vnd.jupyter.widget-view+json": {
       "model_id": "c7dd66ce094a406ca97e33c96dfd8e5c",
       "version_major": 2,
       "version_minor": 0
      },
      "text/plain": [
       "chain 1 |          | 00:00 Status"
      ]
     },
     "metadata": {},
     "output_type": "display_data"
    },
    {
     "data": {
      "application/vnd.jupyter.widget-view+json": {
       "model_id": "1c59928601e84b2a815f3d96afded478",
       "version_major": 2,
       "version_minor": 0
      },
      "text/plain": [
       "chain 2 |          | 00:00 Status"
      ]
     },
     "metadata": {},
     "output_type": "display_data"
    },
    {
     "data": {
      "application/vnd.jupyter.widget-view+json": {
       "model_id": "0b3d7c429cd3475da265f92eac23bb95",
       "version_major": 2,
       "version_minor": 0
      },
      "text/plain": [
       "chain 3 |          | 00:00 Status"
      ]
     },
     "metadata": {},
     "output_type": "display_data"
    },
    {
     "data": {
      "application/vnd.jupyter.widget-view+json": {
       "model_id": "c9de4abd1d844c10817f8e65649b0328",
       "version_major": 2,
       "version_minor": 0
      },
      "text/plain": [
       "chain 4 |          | 00:00 Status"
      ]
     },
     "metadata": {},
     "output_type": "display_data"
    },
    {
     "name": "stdout",
     "output_type": "stream",
     "text": [
      "                                                                                                                                                                                                                                                                                                                                "
     ]
    },
    {
     "name": "stderr",
     "output_type": "stream",
     "text": [
      "17:25:11 - cmdstanpy - INFO - CmdStan done processing.\n"
     ]
    },
    {
     "name": "stdout",
     "output_type": "stream",
     "text": [
      "\n"
     ]
    },
    {
     "data": {
      "text/html": [
       "<div>\n",
       "<style scoped>\n",
       "    .dataframe tbody tr th:only-of-type {\n",
       "        vertical-align: middle;\n",
       "    }\n",
       "\n",
       "    .dataframe tbody tr th {\n",
       "        vertical-align: top;\n",
       "    }\n",
       "\n",
       "    .dataframe thead th {\n",
       "        text-align: right;\n",
       "    }\n",
       "</style>\n",
       "<table border=\"1\" class=\"dataframe\">\n",
       "  <thead>\n",
       "    <tr style=\"text-align: right;\">\n",
       "      <th></th>\n",
       "      <th>Mean</th>\n",
       "      <th>MCSE</th>\n",
       "      <th>StdDev</th>\n",
       "      <th>5%</th>\n",
       "      <th>50%</th>\n",
       "      <th>95%</th>\n",
       "      <th>N_Eff</th>\n",
       "      <th>N_Eff/s</th>\n",
       "      <th>R_hat</th>\n",
       "    </tr>\n",
       "  </thead>\n",
       "  <tbody>\n",
       "    <tr>\n",
       "      <th>lp__</th>\n",
       "      <td>-454.125000</td>\n",
       "      <td>0.080070</td>\n",
       "      <td>3.302490</td>\n",
       "      <td>-460.034000</td>\n",
       "      <td>-453.832000</td>\n",
       "      <td>-449.372000</td>\n",
       "      <td>1701.15</td>\n",
       "      <td>54.9609</td>\n",
       "      <td>1.000630</td>\n",
       "    </tr>\n",
       "    <tr>\n",
       "      <th>b_raw[1,1]</th>\n",
       "      <td>-0.195715</td>\n",
       "      <td>0.027469</td>\n",
       "      <td>1.088050</td>\n",
       "      <td>-1.948450</td>\n",
       "      <td>-0.199471</td>\n",
       "      <td>1.608200</td>\n",
       "      <td>1568.93</td>\n",
       "      <td>50.6892</td>\n",
       "      <td>0.999927</td>\n",
       "    </tr>\n",
       "    <tr>\n",
       "      <th>b_raw[1,2]</th>\n",
       "      <td>0.188815</td>\n",
       "      <td>0.039182</td>\n",
       "      <td>1.802670</td>\n",
       "      <td>-2.758160</td>\n",
       "      <td>0.198663</td>\n",
       "      <td>3.143070</td>\n",
       "      <td>2116.75</td>\n",
       "      <td>68.3880</td>\n",
       "      <td>1.000590</td>\n",
       "    </tr>\n",
       "    <tr>\n",
       "      <th>b_raw[1,3]</th>\n",
       "      <td>-1.044070</td>\n",
       "      <td>0.028791</td>\n",
       "      <td>1.211040</td>\n",
       "      <td>-3.016280</td>\n",
       "      <td>-1.014190</td>\n",
       "      <td>0.897333</td>\n",
       "      <td>1769.37</td>\n",
       "      <td>57.1648</td>\n",
       "      <td>1.001000</td>\n",
       "    </tr>\n",
       "    <tr>\n",
       "      <th>b_raw[1,4]</th>\n",
       "      <td>2.209350</td>\n",
       "      <td>0.057974</td>\n",
       "      <td>2.773310</td>\n",
       "      <td>-2.267730</td>\n",
       "      <td>2.185750</td>\n",
       "      <td>6.743440</td>\n",
       "      <td>2288.37</td>\n",
       "      <td>73.9330</td>\n",
       "      <td>1.002920</td>\n",
       "    </tr>\n",
       "    <tr>\n",
       "      <th>...</th>\n",
       "      <td>...</td>\n",
       "      <td>...</td>\n",
       "      <td>...</td>\n",
       "      <td>...</td>\n",
       "      <td>...</td>\n",
       "      <td>...</td>\n",
       "      <td>...</td>\n",
       "      <td>...</td>\n",
       "      <td>...</td>\n",
       "    </tr>\n",
       "    <tr>\n",
       "      <th>mu[300,2]</th>\n",
       "      <td>1.285610</td>\n",
       "      <td>0.012622</td>\n",
       "      <td>0.568396</td>\n",
       "      <td>0.363606</td>\n",
       "      <td>1.279450</td>\n",
       "      <td>2.228030</td>\n",
       "      <td>2027.82</td>\n",
       "      <td>65.5149</td>\n",
       "      <td>0.999673</td>\n",
       "    </tr>\n",
       "    <tr>\n",
       "      <th>mu[300,3]</th>\n",
       "      <td>-0.698246</td>\n",
       "      <td>0.018621</td>\n",
       "      <td>0.965972</td>\n",
       "      <td>-2.329110</td>\n",
       "      <td>-0.676966</td>\n",
       "      <td>0.853544</td>\n",
       "      <td>2690.95</td>\n",
       "      <td>86.9394</td>\n",
       "      <td>1.000120</td>\n",
       "    </tr>\n",
       "    <tr>\n",
       "      <th>mu[300,4]</th>\n",
       "      <td>1.485700</td>\n",
       "      <td>0.012663</td>\n",
       "      <td>0.598442</td>\n",
       "      <td>0.517745</td>\n",
       "      <td>1.470820</td>\n",
       "      <td>2.503300</td>\n",
       "      <td>2233.24</td>\n",
       "      <td>72.1518</td>\n",
       "      <td>1.000700</td>\n",
       "    </tr>\n",
       "    <tr>\n",
       "      <th>mu[300,5]</th>\n",
       "      <td>-5.587480</td>\n",
       "      <td>0.036804</td>\n",
       "      <td>1.990750</td>\n",
       "      <td>-9.082070</td>\n",
       "      <td>-5.447230</td>\n",
       "      <td>-2.553790</td>\n",
       "      <td>2925.84</td>\n",
       "      <td>94.5284</td>\n",
       "      <td>1.000840</td>\n",
       "    </tr>\n",
       "    <tr>\n",
       "      <th>mu[300,6]</th>\n",
       "      <td>0.896495</td>\n",
       "      <td>0.013681</td>\n",
       "      <td>0.629816</td>\n",
       "      <td>-0.136987</td>\n",
       "      <td>0.879696</td>\n",
       "      <td>1.950470</td>\n",
       "      <td>2119.32</td>\n",
       "      <td>68.4711</td>\n",
       "      <td>0.999838</td>\n",
       "    </tr>\n",
       "  </tbody>\n",
       "</table>\n",
       "<p>1845 rows × 9 columns</p>\n",
       "</div>"
      ],
      "text/plain": [
       "                  Mean      MCSE    StdDev  ...    N_Eff  N_Eff/s     R_hat\n",
       "lp__       -454.125000  0.080070  3.302490  ...  1701.15  54.9609  1.000630\n",
       "b_raw[1,1]   -0.195715  0.027469  1.088050  ...  1568.93  50.6892  0.999927\n",
       "b_raw[1,2]    0.188815  0.039182  1.802670  ...  2116.75  68.3880  1.000590\n",
       "b_raw[1,3]   -1.044070  0.028791  1.211040  ...  1769.37  57.1648  1.001000\n",
       "b_raw[1,4]    2.209350  0.057974  2.773310  ...  2288.37  73.9330  1.002920\n",
       "...                ...       ...       ...  ...      ...      ...       ...\n",
       "mu[300,2]     1.285610  0.012622  0.568396  ...  2027.82  65.5149  0.999673\n",
       "mu[300,3]    -0.698246  0.018621  0.965972  ...  2690.95  86.9394  1.000120\n",
       "mu[300,4]     1.485700  0.012663  0.598442  ...  2233.24  72.1518  1.000700\n",
       "mu[300,5]    -5.587480  0.036804  1.990750  ...  2925.84  94.5284  1.000840\n",
       "mu[300,6]     0.896495  0.013681  0.629816  ...  2119.32  68.4711  0.999838\n",
       "\n",
       "[1845 rows x 9 columns]"
      ]
     },
     "execution_count": 16,
     "metadata": {},
     "output_type": "execute_result"
    }
   ],
   "source": [
    "import polars as pl\n",
    "from cmdstanpy import CmdStanModel\n",
    "\n",
    "\"\"\"モデル式10-2の実行.\"\"\"\n",
    "category = pl.read_csv(\"./chap10/input/data-category.txt\")\n",
    "X = category.select(\n",
    "    pl.lit(1).alias(\"const\"),\n",
    "    pl.col(\"Age\") / 100,\n",
    "    pl.col(\"Sex\"),\n",
    "    pl.col(\"Income\") / 1000,\n",
    ")\n",
    "\n",
    "data = {\n",
    "    \"N\": category.shape[0],\n",
    "    \"D\": X.shape[1],  # 1(切片項)+説明変数の数。(N,D)のmatrix型作成用\n",
    "    \"K\": category[\"Y\"].n_unique(),\n",
    "    \"X\": X.to_numpy(),\n",
    "    \"Y\": category[\"Y\"].to_list(),\n",
    "}\n",
    "sm = CmdStanModel(stan_file=\"./chap10/model/model10-2.stan\")\n",
    "fit = sm.sample(data=data, seed=1234)\n",
    "fit.summary()"
   ]
  },
  {
   "cell_type": "code",
   "execution_count": 39,
   "metadata": {},
   "outputs": [
    {
     "name": "stderr",
     "output_type": "stream",
     "text": [
      "18:08:20 - cmdstanpy - INFO - CmdStan start processing\n"
     ]
    },
    {
     "name": "stdout",
     "output_type": "stream",
     "text": [
      "shape: (2, 3)\n",
      "┌───────┬─────┬─────┐\n",
      "│ Loser ┆ 1   ┆ 2   │\n",
      "│ ---   ┆ --- ┆ --- │\n",
      "│ i64   ┆ u32 ┆ u32 │\n",
      "╞═══════╪═════╪═════╡\n",
      "│ 1     ┆ 0   ┆ 23  │\n",
      "│ 2     ┆ 7   ┆ 0   │\n",
      "└───────┴─────┴─────┘\n"
     ]
    },
    {
     "data": {
      "application/vnd.jupyter.widget-view+json": {
       "model_id": "6459713f45454166a99197fc1e4ee1f4",
       "version_major": 2,
       "version_minor": 0
      },
      "text/plain": [
       "chain 1 |          | 00:00 Status"
      ]
     },
     "metadata": {},
     "output_type": "display_data"
    },
    {
     "data": {
      "application/vnd.jupyter.widget-view+json": {
       "model_id": "69c7a90712544698b8cafc1ee8e6caa9",
       "version_major": 2,
       "version_minor": 0
      },
      "text/plain": [
       "chain 2 |          | 00:00 Status"
      ]
     },
     "metadata": {},
     "output_type": "display_data"
    },
    {
     "data": {
      "application/vnd.jupyter.widget-view+json": {
       "model_id": "a34e8a5e4f7d414080b48f7225fabee0",
       "version_major": 2,
       "version_minor": 0
      },
      "text/plain": [
       "chain 3 |          | 00:00 Status"
      ]
     },
     "metadata": {},
     "output_type": "display_data"
    },
    {
     "data": {
      "application/vnd.jupyter.widget-view+json": {
       "model_id": "2cd0c602ed94427a90b2a7c4469a2396",
       "version_major": 2,
       "version_minor": 0
      },
      "text/plain": [
       "chain 4 |          | 00:00 Status"
      ]
     },
     "metadata": {},
     "output_type": "display_data"
    },
    {
     "name": "stdout",
     "output_type": "stream",
     "text": [
      "                                                                                                                                                                                                                                                                                                                                "
     ]
    },
    {
     "name": "stderr",
     "output_type": "stream",
     "text": [
      "18:08:21 - cmdstanpy - INFO - CmdStan done processing.\n"
     ]
    },
    {
     "name": "stdout",
     "output_type": "stream",
     "text": [
      "\n"
     ]
    },
    {
     "data": {
      "text/html": [
       "<div>\n",
       "<style scoped>\n",
       "    .dataframe tbody tr th:only-of-type {\n",
       "        vertical-align: middle;\n",
       "    }\n",
       "\n",
       "    .dataframe tbody tr th {\n",
       "        vertical-align: top;\n",
       "    }\n",
       "\n",
       "    .dataframe thead th {\n",
       "        text-align: right;\n",
       "    }\n",
       "</style>\n",
       "<table border=\"1\" class=\"dataframe\">\n",
       "  <thead>\n",
       "    <tr style=\"text-align: right;\">\n",
       "      <th></th>\n",
       "      <th>Mean</th>\n",
       "      <th>MCSE</th>\n",
       "      <th>StdDev</th>\n",
       "      <th>2%</th>\n",
       "      <th>50%</th>\n",
       "      <th>97%</th>\n",
       "      <th>N_Eff</th>\n",
       "      <th>N_Eff/s</th>\n",
       "      <th>R_hat</th>\n",
       "    </tr>\n",
       "  </thead>\n",
       "  <tbody>\n",
       "    <tr>\n",
       "      <th>lp__</th>\n",
       "      <td>-31.408100</td>\n",
       "      <td>0.183970</td>\n",
       "      <td>6.127630</td>\n",
       "      <td>-45.115800</td>\n",
       "      <td>-31.161400</td>\n",
       "      <td>-20.83210</td>\n",
       "      <td>1109.400000</td>\n",
       "      <td>826.062000</td>\n",
       "      <td>1.003080</td>\n",
       "    </tr>\n",
       "    <tr>\n",
       "      <th>performance[1,1]</th>\n",
       "      <td>-0.279039</td>\n",
       "      <td>0.012420</td>\n",
       "      <td>0.901818</td>\n",
       "      <td>-2.234450</td>\n",
       "      <td>-0.244403</td>\n",
       "      <td>1.39338</td>\n",
       "      <td>5271.990000</td>\n",
       "      <td>3925.530000</td>\n",
       "      <td>0.999589</td>\n",
       "    </tr>\n",
       "    <tr>\n",
       "      <th>performance[1,2]</th>\n",
       "      <td>1.333460</td>\n",
       "      <td>0.014661</td>\n",
       "      <td>0.920861</td>\n",
       "      <td>-0.525269</td>\n",
       "      <td>1.305030</td>\n",
       "      <td>3.09461</td>\n",
       "      <td>3944.840000</td>\n",
       "      <td>2937.330000</td>\n",
       "      <td>0.999893</td>\n",
       "    </tr>\n",
       "    <tr>\n",
       "      <th>performance[2,1]</th>\n",
       "      <td>-0.301520</td>\n",
       "      <td>0.011924</td>\n",
       "      <td>0.890385</td>\n",
       "      <td>-2.136480</td>\n",
       "      <td>-0.281830</td>\n",
       "      <td>1.33052</td>\n",
       "      <td>5576.020000</td>\n",
       "      <td>4151.910000</td>\n",
       "      <td>0.999626</td>\n",
       "    </tr>\n",
       "    <tr>\n",
       "      <th>performance[2,2]</th>\n",
       "      <td>1.349170</td>\n",
       "      <td>0.014962</td>\n",
       "      <td>0.918483</td>\n",
       "      <td>-0.462399</td>\n",
       "      <td>1.317810</td>\n",
       "      <td>3.11505</td>\n",
       "      <td>3768.270000</td>\n",
       "      <td>2805.860000</td>\n",
       "      <td>1.001550</td>\n",
       "    </tr>\n",
       "    <tr>\n",
       "      <th>...</th>\n",
       "      <td>...</td>\n",
       "      <td>...</td>\n",
       "      <td>...</td>\n",
       "      <td>...</td>\n",
       "      <td>...</td>\n",
       "      <td>...</td>\n",
       "      <td>...</td>\n",
       "      <td>...</td>\n",
       "      <td>...</td>\n",
       "    </tr>\n",
       "    <tr>\n",
       "      <th>performance[30,1]</th>\n",
       "      <td>-0.286501</td>\n",
       "      <td>0.012021</td>\n",
       "      <td>0.893767</td>\n",
       "      <td>-2.172130</td>\n",
       "      <td>-0.251584</td>\n",
       "      <td>1.33504</td>\n",
       "      <td>5527.950000</td>\n",
       "      <td>4116.120000</td>\n",
       "      <td>0.999575</td>\n",
       "    </tr>\n",
       "    <tr>\n",
       "      <th>performance[30,2]</th>\n",
       "      <td>1.340800</td>\n",
       "      <td>0.014488</td>\n",
       "      <td>0.914551</td>\n",
       "      <td>-0.437788</td>\n",
       "      <td>1.311420</td>\n",
       "      <td>3.13196</td>\n",
       "      <td>3984.570000</td>\n",
       "      <td>2966.920000</td>\n",
       "      <td>0.999909</td>\n",
       "    </tr>\n",
       "    <tr>\n",
       "      <th>b</th>\n",
       "      <td>1.041629</td>\n",
       "      <td>0.007195</td>\n",
       "      <td>0.356182</td>\n",
       "      <td>0.326264</td>\n",
       "      <td>1.037610</td>\n",
       "      <td>1.73846</td>\n",
       "      <td>2450.748608</td>\n",
       "      <td>1824.831428</td>\n",
       "      <td>1.001969</td>\n",
       "    </tr>\n",
       "    <tr>\n",
       "      <th>mu[1]</th>\n",
       "      <td>0.000000</td>\n",
       "      <td>NaN</td>\n",
       "      <td>0.000000</td>\n",
       "      <td>0.000000</td>\n",
       "      <td>0.000000</td>\n",
       "      <td>0.00000</td>\n",
       "      <td>NaN</td>\n",
       "      <td>NaN</td>\n",
       "      <td>NaN</td>\n",
       "    </tr>\n",
       "    <tr>\n",
       "      <th>mu[2]</th>\n",
       "      <td>1.041630</td>\n",
       "      <td>0.007195</td>\n",
       "      <td>0.356182</td>\n",
       "      <td>0.326264</td>\n",
       "      <td>1.037610</td>\n",
       "      <td>1.73846</td>\n",
       "      <td>2450.750000</td>\n",
       "      <td>1824.830000</td>\n",
       "      <td>1.001970</td>\n",
       "    </tr>\n",
       "  </tbody>\n",
       "</table>\n",
       "<p>64 rows × 9 columns</p>\n",
       "</div>"
      ],
      "text/plain": [
       "                        Mean      MCSE  ...      N_Eff/s     R_hat\n",
       "lp__              -31.408100  0.183970  ...   826.062000  1.003080\n",
       "performance[1,1]   -0.279039  0.012420  ...  3925.530000  0.999589\n",
       "performance[1,2]    1.333460  0.014661  ...  2937.330000  0.999893\n",
       "performance[2,1]   -0.301520  0.011924  ...  4151.910000  0.999626\n",
       "performance[2,2]    1.349170  0.014962  ...  2805.860000  1.001550\n",
       "...                      ...       ...  ...          ...       ...\n",
       "performance[30,1]  -0.286501  0.012021  ...  4116.120000  0.999575\n",
       "performance[30,2]   1.340800  0.014488  ...  2966.920000  0.999909\n",
       "b                   1.041629  0.007195  ...  1824.831428  1.001969\n",
       "mu[1]               0.000000       NaN  ...          NaN       NaN\n",
       "mu[2]               1.041630  0.007195  ...  1824.830000  1.001970\n",
       "\n",
       "[64 rows x 9 columns]"
      ]
     },
     "execution_count": 39,
     "metadata": {},
     "output_type": "execute_result"
    }
   ],
   "source": [
    "import numpy as np\n",
    "import polars as pl\n",
    "\n",
    "\"\"\"勝敗の集計とmuの推定.\"\"\"\n",
    "rand_gen = np.random.default_rng(seed=123)\n",
    "\n",
    "G = 30\n",
    "mu_pf = (0, 1.5)\n",
    "pf = rand_gen.normal(loc=mu_pf, scale=1, size=(G, 2))\n",
    "d = pl.DataFrame(np.argsort(pf, axis=1) + 1, schema=(\"Loser\", \"Winner\"))\n",
    "tbl = d.pivot(  # noqa: PD010\n",
    "    \"Winner\",\n",
    "    \"Loser\",\n",
    "    \"Winner\",\n",
    "    aggregate_function=\"count\",\n",
    "    sort_columns=True,\n",
    ").fill_null(0)\n",
    "print(tbl)  # noqa: T201\n",
    "\n",
    "data = {\n",
    "    \"N\": d.shape[1],\n",
    "    \"G\": d.shape[0],\n",
    "    \"LW\": d.to_numpy(),\n",
    "}\n",
    "sm = CmdStanModel(stan_file=\"./chap10/model/model10-3.stan\")\n",
    "fit = sm.sample(data=data, seed=1234)\n",
    "fit.summary(percentiles=[2, 50, 97])"
   ]
  },
  {
   "cell_type": "code",
   "execution_count": 40,
   "metadata": {},
   "outputs": [
    {
     "name": "stderr",
     "output_type": "stream",
     "text": [
      "18:08:41 - cmdstanpy - INFO - CmdStan start processing\n"
     ]
    },
    {
     "data": {
      "application/vnd.jupyter.widget-view+json": {
       "model_id": "f81fd3d038ba440eb8012d5cf150173f",
       "version_major": 2,
       "version_minor": 0
      },
      "text/plain": [
       "chain 1 |          | 00:00 Status"
      ]
     },
     "metadata": {},
     "output_type": "display_data"
    },
    {
     "data": {
      "application/vnd.jupyter.widget-view+json": {
       "model_id": "81f37db621fa446197db4279cd340a70",
       "version_major": 2,
       "version_minor": 0
      },
      "text/plain": [
       "chain 2 |          | 00:00 Status"
      ]
     },
     "metadata": {},
     "output_type": "display_data"
    },
    {
     "data": {
      "application/vnd.jupyter.widget-view+json": {
       "model_id": "e37b812c234745a49576567b13bbc83a",
       "version_major": 2,
       "version_minor": 0
      },
      "text/plain": [
       "chain 3 |          | 00:00 Status"
      ]
     },
     "metadata": {},
     "output_type": "display_data"
    },
    {
     "data": {
      "application/vnd.jupyter.widget-view+json": {
       "model_id": "28c48d3d44b94a01923dd0bd12a979d3",
       "version_major": 2,
       "version_minor": 0
      },
      "text/plain": [
       "chain 4 |          | 00:00 Status"
      ]
     },
     "metadata": {},
     "output_type": "display_data"
    },
    {
     "name": "stdout",
     "output_type": "stream",
     "text": [
      "                                                                                                                                                                                                                                                                                                                                "
     ]
    },
    {
     "name": "stderr",
     "output_type": "stream",
     "text": [
      "18:08:42 - cmdstanpy - INFO - CmdStan done processing.\n"
     ]
    },
    {
     "name": "stdout",
     "output_type": "stream",
     "text": [
      "\n"
     ]
    },
    {
     "data": {
      "text/html": [
       "<div>\n",
       "<style scoped>\n",
       "    .dataframe tbody tr th:only-of-type {\n",
       "        vertical-align: middle;\n",
       "    }\n",
       "\n",
       "    .dataframe tbody tr th {\n",
       "        vertical-align: top;\n",
       "    }\n",
       "\n",
       "    .dataframe thead th {\n",
       "        text-align: right;\n",
       "    }\n",
       "</style>\n",
       "<table border=\"1\" class=\"dataframe\">\n",
       "  <thead>\n",
       "    <tr style=\"text-align: right;\">\n",
       "      <th></th>\n",
       "      <th>Mean</th>\n",
       "      <th>MCSE</th>\n",
       "      <th>StdDev</th>\n",
       "      <th>2%</th>\n",
       "      <th>50%</th>\n",
       "      <th>97%</th>\n",
       "      <th>N_Eff</th>\n",
       "      <th>N_Eff/s</th>\n",
       "      <th>R_hat</th>\n",
       "    </tr>\n",
       "  </thead>\n",
       "  <tbody>\n",
       "    <tr>\n",
       "      <th>lp__</th>\n",
       "      <td>-23.732700</td>\n",
       "      <td>0.193295</td>\n",
       "      <td>6.506140</td>\n",
       "      <td>-38.154100</td>\n",
       "      <td>-23.516500</td>\n",
       "      <td>-12.34750</td>\n",
       "      <td>1132.940000</td>\n",
       "      <td>870.820000</td>\n",
       "      <td>1.004180</td>\n",
       "    </tr>\n",
       "    <tr>\n",
       "      <th>performance[1,1]</th>\n",
       "      <td>-0.149877</td>\n",
       "      <td>0.013167</td>\n",
       "      <td>0.919167</td>\n",
       "      <td>-2.039060</td>\n",
       "      <td>-0.124059</td>\n",
       "      <td>1.50861</td>\n",
       "      <td>4873.030000</td>\n",
       "      <td>3745.600000</td>\n",
       "      <td>0.999661</td>\n",
       "    </tr>\n",
       "    <tr>\n",
       "      <th>performance[1,2]</th>\n",
       "      <td>1.761610</td>\n",
       "      <td>0.017241</td>\n",
       "      <td>1.012550</td>\n",
       "      <td>-0.208184</td>\n",
       "      <td>1.712290</td>\n",
       "      <td>3.74261</td>\n",
       "      <td>3449.160000</td>\n",
       "      <td>2651.160000</td>\n",
       "      <td>1.000470</td>\n",
       "    </tr>\n",
       "    <tr>\n",
       "      <th>performance[2,1]</th>\n",
       "      <td>-0.178659</td>\n",
       "      <td>0.013728</td>\n",
       "      <td>0.940936</td>\n",
       "      <td>-2.164030</td>\n",
       "      <td>-0.168229</td>\n",
       "      <td>1.52617</td>\n",
       "      <td>4697.580000</td>\n",
       "      <td>3610.750000</td>\n",
       "      <td>0.999965</td>\n",
       "    </tr>\n",
       "    <tr>\n",
       "      <th>performance[2,2]</th>\n",
       "      <td>1.796390</td>\n",
       "      <td>0.017336</td>\n",
       "      <td>0.997137</td>\n",
       "      <td>-0.129637</td>\n",
       "      <td>1.767820</td>\n",
       "      <td>3.74008</td>\n",
       "      <td>3308.330000</td>\n",
       "      <td>2542.910000</td>\n",
       "      <td>1.000450</td>\n",
       "    </tr>\n",
       "    <tr>\n",
       "      <th>...</th>\n",
       "      <td>...</td>\n",
       "      <td>...</td>\n",
       "      <td>...</td>\n",
       "      <td>...</td>\n",
       "      <td>...</td>\n",
       "      <td>...</td>\n",
       "      <td>...</td>\n",
       "      <td>...</td>\n",
       "      <td>...</td>\n",
       "    </tr>\n",
       "    <tr>\n",
       "      <th>performance[30,1]</th>\n",
       "      <td>-0.190789</td>\n",
       "      <td>0.012622</td>\n",
       "      <td>0.921185</td>\n",
       "      <td>-2.169940</td>\n",
       "      <td>-0.153437</td>\n",
       "      <td>1.50050</td>\n",
       "      <td>5326.830000</td>\n",
       "      <td>4094.410000</td>\n",
       "      <td>0.999488</td>\n",
       "    </tr>\n",
       "    <tr>\n",
       "      <th>performance[30,2]</th>\n",
       "      <td>1.762770</td>\n",
       "      <td>0.016893</td>\n",
       "      <td>0.994284</td>\n",
       "      <td>-0.176920</td>\n",
       "      <td>1.719660</td>\n",
       "      <td>3.70966</td>\n",
       "      <td>3464.110000</td>\n",
       "      <td>2662.650000</td>\n",
       "      <td>0.999506</td>\n",
       "    </tr>\n",
       "    <tr>\n",
       "      <th>b</th>\n",
       "      <td>1.602507</td>\n",
       "      <td>0.009037</td>\n",
       "      <td>0.420424</td>\n",
       "      <td>0.770170</td>\n",
       "      <td>1.600410</td>\n",
       "      <td>2.42637</td>\n",
       "      <td>2164.203888</td>\n",
       "      <td>1663.492612</td>\n",
       "      <td>1.000625</td>\n",
       "    </tr>\n",
       "    <tr>\n",
       "      <th>mu[1]</th>\n",
       "      <td>0.000000</td>\n",
       "      <td>NaN</td>\n",
       "      <td>0.000000</td>\n",
       "      <td>0.000000</td>\n",
       "      <td>0.000000</td>\n",
       "      <td>0.00000</td>\n",
       "      <td>NaN</td>\n",
       "      <td>NaN</td>\n",
       "      <td>NaN</td>\n",
       "    </tr>\n",
       "    <tr>\n",
       "      <th>mu[2]</th>\n",
       "      <td>1.602510</td>\n",
       "      <td>0.009037</td>\n",
       "      <td>0.420424</td>\n",
       "      <td>0.770170</td>\n",
       "      <td>1.600410</td>\n",
       "      <td>2.42637</td>\n",
       "      <td>2164.200000</td>\n",
       "      <td>1663.490000</td>\n",
       "      <td>1.000620</td>\n",
       "    </tr>\n",
       "  </tbody>\n",
       "</table>\n",
       "<p>64 rows × 9 columns</p>\n",
       "</div>"
      ],
      "text/plain": [
       "                        Mean      MCSE  ...      N_Eff/s     R_hat\n",
       "lp__              -23.732700  0.193295  ...   870.820000  1.004180\n",
       "performance[1,1]   -0.149877  0.013167  ...  3745.600000  0.999661\n",
       "performance[1,2]    1.761610  0.017241  ...  2651.160000  1.000470\n",
       "performance[2,1]   -0.178659  0.013728  ...  3610.750000  0.999965\n",
       "performance[2,2]    1.796390  0.017336  ...  2542.910000  1.000450\n",
       "...                      ...       ...  ...          ...       ...\n",
       "performance[30,1]  -0.190789  0.012622  ...  4094.410000  0.999488\n",
       "performance[30,2]   1.762770  0.016893  ...  2662.650000  0.999506\n",
       "b                   1.602507  0.009037  ...  1663.492612  1.000625\n",
       "mu[1]               0.000000       NaN  ...          NaN       NaN\n",
       "mu[2]               1.602510  0.009037  ...  1663.490000  1.000620\n",
       "\n",
       "[64 rows x 9 columns]"
      ]
     },
     "execution_count": 40,
     "metadata": {},
     "output_type": "execute_result"
    }
   ],
   "source": [
    "import polars as pl\n",
    "from cmdstanpy import CmdStanModel\n",
    "\n",
    "\"\"\"データファイル10.2を用いた。パラメータの推定.\"\"\"\n",
    "usagitokame = pl.read_csv(\"./chap10/input/data-usagitokame.txt\")\n",
    "data = {\n",
    "    \"N\": usagitokame.shape[1],\n",
    "    \"G\": usagitokame.shape[0],\n",
    "    \"LW\": usagitokame.to_numpy(),\n",
    "}\n",
    "sm = CmdStanModel(stan_file=\"./chap10/model/model10-3.stan\")\n",
    "fit = sm.sample(data=data, seed=1234)\n",
    "fit.summary(percentiles=[2, 50, 97])"
   ]
  },
  {
   "cell_type": "markdown",
   "metadata": {},
   "source": [
    "## 10.2 弱情報事前分布\n",
    "\n",
    "- 複雑なモデルに対してデータが少なく収束しない場合: シンプルなモデルから徐々にに構築していくことで、どの仮定に無理があったか調べる。\n",
    "- 複雑なモデルを使わざるを得ない場合や、パラメータの制約が全くないため収束しにくかったり常識や経験からは考えにくい推定値になる場合: 無情報事前分布の代わりに弱情報事前分布(weakly informative prior)を使う。ただしはじめは無情報事前分布を使い問題があれば少しずつ弱情報事前分布に変えてみて、頑健性があるか確認する。\n",
    "\n",
    "### 10.2.1 $(-\\infty, \\infty)$の範囲のパラメータ\n",
    "\n",
    "一般的に$(-\\infty, \\infty)$の範囲のパラメータには${\\mathrm{Normal}}(0,100)$のような平らな無情報事前分布を使うが、背景知識から弱情報事前分布を使う場合がある。\n",
    "\n",
    "- パラメータの値が特定の範囲$[a, b]$である可能性が高い場合\n",
    "  弱情報事前分布$\\mathrm{Uniform}(a, b)$という一様分布を使うと考えるかもしれないが注意が必要。推定されたMCMCサンプルが境界(a, b)付近に存在し、事後分布の密度関数が境界で切断されたようになっているなら、境界の指定の仕方によって推定結果が大きく異なるので頑健性がない。一様分布を使うとこのような懸念点がある。\n",
    "  Stan開発チームは$\\mathrm{Uniform}(a, b)$の代わりに、境界のない平均$(a+b)/2$・標準偏差$(b-a)/2$の正規分布を使うことを推奨している。この正規分布を$[a, b]$の範囲で積分すると範囲内の確率は0.67、範囲外は0.33の可能性が残っているとも解釈できる。\n",
    "\n",
    "- 回帰係数\n",
    "  絶対値の大きい回帰係数は「あり得ない」または「過学習の恐れがある」と考えられる場合がしばしばある。この場合には、回帰係数の事前分布に弱情報事前分布を設定して、絶対値の大きい推定値にペナルティを課すとよい。特にロジスティック回帰で使われることが多い。弱情報事前分布としては、Stan開発チームはStudentの分布$(\\mathrm{Student\\text{-}t} (\\nu=\\nu_{0},\\mu=0,\\sigma=\\sigma_{0} ))$を推奨している。ここで、自由度$\\nu$は$[3, 7]$の範囲の固定値$\\nu_0$である。スケール$\\sigma$は「回帰係数の絶対値は高々$\\sigma_0$程度だろう」という背景知識から固定値$\\sigma_0$に決める。すると、例えば自由度4の場合には、$\\mathrm{Student\\_t}(4,0,\\sigma_{0})$を$[-\\sigma_{0},\\sigma_{0}]$の範囲で積分して求めた確率は0.63になるので、$[-\\sigma_{0},\\sigma_{0}]$の範囲外にも0.37の可能性を残しているとも解釈できる。\n",
    "  さらに情報を強めたい場合は、平均$0$・標準偏差$\\sigma_0$の正規分布を使う。これは機械学習の枠組みでは係数の2乗の和をペナルティとしたridge回帰に相当する。これは回帰係数bをvector型とすると、「b ~ normal(0, 10)」と「対数事後確率lp__に$-0.5\\times\\sum(b_{k}/10)^2$を加えること」が同じだからである([4.3節参照](chap04.ipynb#43))。\n",
    "\n",
    "  ### 10.2.2 正の値を持つパラメータ\n",
    "\n",
    "正の値を持つパラメータの事前分布には$\\mathrm{Uriform}(0,\\,1000)$のような十分に幅が広い一様分布(無情報事前分布)を使うのが第一選択肢であるが、データが少ない場合などは、そのパラメータの事後分布が、背景知識から外れて大きな値へ長く尾を引いてしまうことがある。この要な場合には弱情報事前分布を使う。\n",
    "- 標準偏差\n",
    "  過去には分散のパラメータ対し逆ガンマ分布(共役事前分布)が紙と鉛筆で計算できるため使われていたが、頑健性が下がるケースが有る(個人間の分散が0に近い場合)。\n",
    "  なぜなら、逆ガンマ分布は原点を必ず通るので、例えばこの分布使った二つの事前分布${\\mathrm{invGamma~(0.1,~0.1)~}}\\geq{\\mathrm{~invGamma~(0.001,~0.001)}}$を比較すると、0の近くで大きく確率密度が異なり、事後分布も0の近くで大きく形が変わってしまうため(図10.2)。つまり分布のハイパーパラメータの選び方で結果が大きく変わる。対数正規分布の場合も同様。\n",
    "  \\\n",
    "  対策: 分散ではなく標準偏差のパラメータの弱情報事前分布として、半t分布$(\\mathrm{Stuadent\\_t^+}(\\nu = \\nu_0, \\; \\mu = 0, \\; \\sigma=\\sigma_0))$を設定(図10.3)\n",
    "  - 0の近くにも確率密度が十分ある\n",
    "  - 自由度$\\nu$は3か4の固定値を使うことが多い\n",
    "  - スケール$\\sigma=\\sigma_0$(「標準偏差のパラメータは高々$\\sigma_0$程度」という背景知識)\n",
    "  - さらに情報を強めたい場合: 半正規分布$(\\mathrm{Normal^+}(0,\\sigma_0))$を使うとよい\n",
    "  \n",
    "  なお、これらの正の値に制限された半分布をStanで表現するには、parametersブロックで<lower=0>を指定するだけでよい([9.4.4項参照](chap09.ipynb#944))。\n",
    "  \\\n",
    "  階層モデルの例: [model8-4.stan](chap08/model/model8-4.stan)での「新卒の基本年収」の会社差のバラツキ(s_a)のMCMCサンプルのヒストグラム(図10.4(左))は大きな値へ尾を引いている。ここに会社差のばらつきは高々100万円だろいうという背景知識を追加する。\n",
    "  $$\n",
    "  \\sigma_a \\sim \\mathrm{Stuadent\\_t^+}(4, 0, 100)\n",
    "  $$\n",
    "  このとき$\\sigma_a$(s_a)のMCMCサンプルのヒストグラムは図10.4(右)となる。\n",
    "  - stanモデルのmodel欄に以下を追加を[model8-4b.stan](chap10/model/model8-4b.stan)\n",
    "    ```s_a ~ student_t(4, 0, 100);```\n",
    "  - 尾が抑えられている\n",
    "  - 中央値と95%ベイズ信頼区間が変化\n",
    "  \n",
    "  この推定が頑健か確認するために半t分布をいろいろ変更して推定するとよい"
   ]
  },
  {
   "cell_type": "code",
   "execution_count": 1,
   "metadata": {},
   "outputs": [
    {
     "data": {
      "image/png": "[encoded data removed]",
      "text/plain": [
       "<Figure size 800x300 with 2 Axes>"
      ]
     },
     "metadata": {},
     "output_type": "display_data"
    }
   ],
   "source": [
    "import matplotlib.pyplot as plt\n",
    "import numpy as np\n",
    "from scipy import stats\n",
    "\n",
    "\"\"\"図10.2.\"\"\"\n",
    "x = np.logspace(-10, 1, 600)\n",
    "p1 = stats.invgamma.pdf(x, a=0.001, scale=0.001)\n",
    "p2 = stats.invgamma.pdf(x, a=0.1, scale=0.1)\n",
    "\n",
    "_, axes = plt.subplots(1, 2, figsize=(8, 3))\n",
    "for i, ax in enumerate(axes):\n",
    "    ax.plot(x, p1, c=\"k\", linestyle=\"dashed\")\n",
    "    ax.plot(x, p2, c=\"k\")\n",
    "    plt.setp(\n",
    "        ax,\n",
    "        xlabel=\"y\",\n",
    "        ylabel=\"probability density\",\n",
    "        xlim=(0, 0.01) if i == 1 else None,\n",
    "    )\n",
    "plt.tight_layout()\n",
    "plt.show()"
   ]
  },
  {
   "cell_type": "code",
   "execution_count": 2,
   "metadata": {},
   "outputs": [
    {
     "data": {
      "image/png": "[encoded data removed]",
      "text/plain": [
       "<Figure size 400x300 with 1 Axes>"
      ]
     },
     "metadata": {},
     "output_type": "display_data"
    }
   ],
   "source": [
    "import matplotlib.pyplot as plt\n",
    "import numpy as np\n",
    "from scipy import stats\n",
    "\n",
    "\"\"\"図10.3.\"\"\"\n",
    "x = np.linspace(0, 5, 101)\n",
    "p1 = 2 * stats.t.pdf(x, df=4)\n",
    "p2 = 2 * stats.norm.pdf(x)\n",
    "\n",
    "plt.figure(figsize=(4, 3))\n",
    "ax = plt.axes()\n",
    "ax.plot(x, p1, c=\"k\")\n",
    "ax.plot(x, p2, c=\"k\", linestyle=\"dashed\")\n",
    "plt.setp(ax, xlabel=\"y\", ylabel=\"probability density\")\n",
    "plt.show()"
   ]
  },
  {
   "cell_type": "code",
   "execution_count": 26,
   "metadata": {},
   "outputs": [
    {
     "name": "stderr",
     "output_type": "stream",
     "text": [
      "17:51:43 - cmdstanpy - INFO - compiling stan file /Users/sean/Documents/myscript/python-bayes/src/python_bayes/chap09/model/model8-4b.stan to exe file /Users/sean/Documents/myscript/python-bayes/src/python_bayes/chap09/model/model8-4b\n",
      "17:51:52 - cmdstanpy - INFO - compiled model executable: /Users/sean/Documents/myscript/python-bayes/src/python_bayes/chap09/model/model8-4b\n",
      "17:51:52 - cmdstanpy - INFO - compiling stan file /Users/sean/Documents/myscript/python-bayes/src/python_bayes/chap10/model/model8-4d.stan to exe file /Users/sean/Documents/myscript/python-bayes/src/python_bayes/chap10/model/model8-4d\n",
      "17:51:57 - cmdstanpy - INFO - compiled model executable: /Users/sean/Documents/myscript/python-bayes/src/python_bayes/chap10/model/model8-4d\n",
      "17:51:57 - cmdstanpy - INFO - CmdStan start processing\n"
     ]
    },
    {
     "data": {
      "application/vnd.jupyter.widget-view+json": {
       "model_id": "6e6158c1b8cb43639f8ce9feac480aa2",
       "version_major": 2,
       "version_minor": 0
      },
      "text/plain": [
       "chain 1 |          | 00:00 Status"
      ]
     },
     "metadata": {},
     "output_type": "display_data"
    },
    {
     "data": {
      "application/vnd.jupyter.widget-view+json": {
       "model_id": "613cf5b99bb64ccfb455485dbf62dda2",
       "version_major": 2,
       "version_minor": 0
      },
      "text/plain": [
       "chain 2 |          | 00:00 Status"
      ]
     },
     "metadata": {},
     "output_type": "display_data"
    },
    {
     "data": {
      "application/vnd.jupyter.widget-view+json": {
       "model_id": "f59da365c1d04c9e9e4e03d0c94f15ca",
       "version_major": 2,
       "version_minor": 0
      },
      "text/plain": [
       "chain 3 |          | 00:00 Status"
      ]
     },
     "metadata": {},
     "output_type": "display_data"
    },
    {
     "data": {
      "application/vnd.jupyter.widget-view+json": {
       "model_id": "217a726816804be7bed7cf1502559816",
       "version_major": 2,
       "version_minor": 0
      },
      "text/plain": [
       "chain 4 |          | 00:00 Status"
      ]
     },
     "metadata": {},
     "output_type": "display_data"
    },
    {
     "name": "stdout",
     "output_type": "stream",
     "text": [
      "                                                                                                                                                                                                                                                                                                                                "
     ]
    },
    {
     "name": "stderr",
     "output_type": "stream",
     "text": [
      "17:51:58 - cmdstanpy - INFO - CmdStan done processing.\n",
      "17:51:58 - cmdstanpy - WARNING - Some chains may have failed to converge.\n",
      "\tChain 1 had 30 divergent transitions (3.0%)\n",
      "\tChain 2 had 24 divergent transitions (2.4%)\n",
      "\tChain 3 had 4 divergent transitions (0.4%)\n",
      "\tChain 4 had 7 divergent transitions (0.7%)\n",
      "\tUse the \"diagnose()\" method on the CmdStanMCMC object to see further information.\n"
     ]
    },
    {
     "name": "stdout",
     "output_type": "stream",
     "text": [
      "\n"
     ]
    },
    {
     "name": "stderr",
     "output_type": "stream",
     "text": [
      "17:51:58 - cmdstanpy - INFO - CmdStan start processing\n"
     ]
    },
    {
     "data": {
      "application/vnd.jupyter.widget-view+json": {
       "model_id": "8593a587400b450a845260af7f626843",
       "version_major": 2,
       "version_minor": 0
      },
      "text/plain": [
       "chain 1 |          | 00:00 Status"
      ]
     },
     "metadata": {},
     "output_type": "display_data"
    },
    {
     "data": {
      "application/vnd.jupyter.widget-view+json": {
       "model_id": "b65bc4e4f40b49f4a20a9a3109cd6608",
       "version_major": 2,
       "version_minor": 0
      },
      "text/plain": [
       "chain 2 |          | 00:00 Status"
      ]
     },
     "metadata": {},
     "output_type": "display_data"
    },
    {
     "data": {
      "application/vnd.jupyter.widget-view+json": {
       "model_id": "8ed3dd1bfbc74b7e89fc919a99bcf31e",
       "version_major": 2,
       "version_minor": 0
      },
      "text/plain": [
       "chain 3 |          | 00:00 Status"
      ]
     },
     "metadata": {},
     "output_type": "display_data"
    },
    {
     "data": {
      "application/vnd.jupyter.widget-view+json": {
       "model_id": "86111527566d46c29f653798bcbd2b41",
       "version_major": 2,
       "version_minor": 0
      },
      "text/plain": [
       "chain 4 |          | 00:00 Status"
      ]
     },
     "metadata": {},
     "output_type": "display_data"
    },
    {
     "name": "stdout",
     "output_type": "stream",
     "text": [
      "                                                                                                                                                                                                                                                                                                                                "
     ]
    },
    {
     "name": "stderr",
     "output_type": "stream",
     "text": [
      "17:51:58 - cmdstanpy - INFO - CmdStan done processing.\n",
      "17:51:58 - cmdstanpy - WARNING - Some chains may have failed to converge.\n",
      "\tChain 1 had 13 divergent transitions (1.3%)\n",
      "\tChain 2 had 6 divergent transitions (0.6%)\n",
      "\tChain 3 had 5 divergent transitions (0.5%)\n",
      "\tChain 4 had 3 divergent transitions (0.3%)\n",
      "\tUse the \"diagnose()\" method on the CmdStanMCMC object to see further information.\n"
     ]
    },
    {
     "name": "stdout",
     "output_type": "stream",
     "text": [
      "\n"
     ]
    },
    {
     "data": {
      "image/png": "[encoded data removed]",
      "text/plain": [
       "<Figure size 800x300 with 2 Axes>"
      ]
     },
     "metadata": {},
     "output_type": "display_data"
    }
   ],
   "source": [
    "import matplotlib.pyplot as plt\n",
    "import polars as pl\n",
    "import seaborn as sns\n",
    "from cmdstanpy import CmdStanModel\n",
    "\n",
    "\"\"\"図10.4\"\"\"\n",
    "salary2_df = pl.read_csv(\"./chap08/input/data-salary-2.txt\")\n",
    "\n",
    "data = {\n",
    "    \"N\": salary2_df.shape[0],\n",
    "    \"K\": salary2_df[\"KID\"].max(),\n",
    "    \"X\": salary2_df[\"X\"].to_list(),\n",
    "    \"Y\": salary2_df[\"Y\"].to_list(),\n",
    "    \"KID\": salary2_df[\"KID\"].to_list(),\n",
    "}\n",
    "\n",
    "sm1 = CmdStanModel(stan_file=\"./chap09/model/model8-4b.stan\")\n",
    "sm2 = CmdStanModel(stan_file=\"./chap10/model/model8-4d.stan\")\n",
    "fit1 = sm1.sample(data=data, seed=1234)\n",
    "fit2 = sm2.sample(data=data, seed=1234)\n",
    "\n",
    "_, axes = plt.subplots(1, 2, figsize=(8, 3), sharex=True, sharey=True)\n",
    "for fit, ax in zip([fit1, fit2], axes, strict=True):\n",
    "    sns.histplot(fit.s_a, kde=True, binwidth=20, stat=\"density\", ax=ax)\n",
    "    plt.setp(ax, xlim=(-50, 700), xlabel=\"sigma_a\", ylabel=\"probability density\")\n",
    "plt.show()"
   ]
  },
  {
   "cell_type": "markdown",
   "metadata": {},
   "source": [
    "- その他の場合(標準偏差以外に、正の値のみをとるパラメータとその使い方)\n",
    "  - 指数分布\n",
    "    1. パラメータ$\\beta$に固定値を与える → 収束しやすいが強い仮定であり客観性が減る\n",
    "    2. $\\beta$も何らかの確率分布に従うとして$\\mathrm{Exponential}(\\beta)$とする\n",
    "  - ガンマ分布\n",
    "    1. shapeパラメータ$\\alpha$、rateパラメータ$\\beta$に固定値を与える\n",
    "    2. $\\alpha$と$\\beta$のいづれかか両方が確率分布に従うとして$\\mathrm{Gamma}(\\alpha,\\beta)$を使う\n",
    "  \n",
    "  いずれにせよ、分布を実際に描き、意図した事前情報となっているかチェックすることが大切である。\n",
    "  指数分布と比べると、ガンマ分布の方が様々な形の事前分布を実現できる一方、設定が難しくなり、解釈もしにくいことが多い。\n",
    "  \\\n",
    "  実例\n",
    "  将棋のプロ棋士の勝敗データから各棋士の「強さ」と「勝負ムラ」を推定する例を使う。\n",
    "  球技などと同様、1ゲーム毎に点数をやり取りするレーティングによって強さが数値化される。このレーティングの欠点は以下。\n",
    "  - 初期値からはじめ、レーティングの数値が落ち着くまでに適正な評価が難しい\n",
    "  - 評価のタイミングに左右されやすい\n",
    "  - インフレしやすい\n",
    "  \n",
    "  \\\n",
    "  [10.1.5項のウサギとカメ](#1015-ウサギとカメ)のモデルを拡張してこの決定を克服することを目的とする。\n",
    "  \\\n",
    "  [データファイル10.3](chap10/input/data-shogi-player.txt)\n",
    "\n",
    "  パラメータ\n",
    "  - 各棋士の強さ: $\\mu[n] \\sim \\mathrm{Normal}(0, \\sigma_\\mu)$ とする。棋士が多い(166人)ためすべての棋士と対戦している棋士は存在しない。なので特定の棋士の強さを基準$\\mu=0$に固定することができない代わりに、「各棋士の強さ川別は特定の分布に従う」というゆるい制約を入れている\n",
    "  - 勝負ムラ: $\\sigma[n] \\sim \\mathrm{Gamma}(10, 10)$ (平均1・標準偏差0.32)のガンマ分布に従うという弱情報事前分布を設定。これでパフォーマンスのスケールが勝負ムラ1程度に決まる\n",
    "  - 1回の勝負で発揮する力(パフォーマンス) $\\sim \\mathrm{Normal}(\\mu[n], \\sigma[n])$\n",
    "  - 各棋士の強さ: $\\mu[n]$\n",
    "  - 各棋士の強さ: $\\mu[n]$\n",
    "  \\\n",
    "  モデル式10-4\n",
    "  - N: 棋士の人数\n",
    "  - n: 棋士のインデックス\n",
    "  - データから$\\mu[n], \\sigma[n], \\sigma_\\muとperformance[g, 1], performance[g, 2]$を推定する\n",
    "  $$\n",
    "  \\begin{align}\n",
    "  performance[g, 1] &\\sim \\mathrm{Normal}(\\mu [Loser[g]], \\sigma[Loser[g]]) &g = 1, \\ldots, G \\nonumber \\\\\n",
    "  performance[g, 2] &\\sim \\mathrm{Normal}(\\mu [Winner[g]], \\sigma[Winner[g]]) &g = 1, \\ldots, G \\nonumber \\\\\n",
    "  performance[g, 1] &\\lt performance[g, 2] &g = 1, \\ldots, G \\nonumber \\\\\n",
    "  \\mu[n] &\\sim \\mathrm{Normal}(0, \\sigma_\\mu) &n = 1, \\ldots, N \\nonumber \\\\\n",
    "  \\sigma[n] &\\sim \\mathrm{Gamma}(10, 10) &n = 1, \\ldots, N \\nonumber\n",
    "  \\end{align}\n",
    "  $$\n",
    "  \\\n",
    "  モデル式10-4の実装例\n",
    "  [model10-4.stan](chap10/model/model10-4.stan)\n",
    "  プレイヤーが増えたので9, 11行目でパラメータをベクトル化している"
   ]
  },
  {
   "cell_type": "code",
   "execution_count": 19,
   "metadata": {},
   "outputs": [
    {
     "name": "stderr",
     "output_type": "stream",
     "text": [
      "14:15:18 - cmdstanpy - INFO - compiling stan file /Users/sean/Documents/myscript/python-bayes/src/python_bayes/chap10/model/model10-4.stan to exe file /Users/sean/Documents/myscript/python-bayes/src/python_bayes/chap10/model/model10-4\n",
      "14:15:57 - cmdstanpy - INFO - compiled model executable: /Users/sean/Documents/myscript/python-bayes/src/python_bayes/chap10/model/model10-4\n",
      "14:15:57 - cmdstanpy - WARNING - Stan compiler has produced 1 warnings:\n",
      "14:15:57 - cmdstanpy - WARNING - \n",
      "--- Translating Stan model to C++ code ---\n",
      "bin/stanc --filename-in-msg=model10-4.stan --o=/Users/sean/Documents/myscript/python-bayes/src/python_bayes/chap10/model/model10-4.hpp /Users/sean/Documents/myscript/python-bayes/src/python_bayes/chap10/model/model10-4.stan\n",
      "Warning in 'model10-4.stan', line 8, column 2: Declaration of arrays by\n",
      "    placing brackets after a variable name is deprecated and will be removed\n",
      "    in Stan 2.33.0. Instead use the array keyword before the type. This can\n",
      "    be changed automatically using the auto-format flag to stanc\n",
      "\n",
      "--- Compiling, linking C++ code ---\n",
      "clang++ -std=c++1y -Wno-unknown-warning-option -Wno-tautological-compare -Wno-sign-compare -D_REENTRANT -Wno-ignored-attributes      -I stan/lib/stan_math/lib/tbb_2020.3/include    -O3 -I src -I stan/src -I stan/lib/rapidjson_1.1.0/ -I lib/CLI11-1.9.1/ -I stan/lib/stan_math/ -I stan/lib/stan_math/lib/eigen_3.4.0 -I stan/lib/stan_math/lib/boost_1.78.0 -I stan/lib/stan_math/lib/sundials_6.1.1/include -I stan/lib/stan_math/lib/sundials_6.1.1/src/sundials    -DBOOST_DISABLE_ASSERTS          -c -include-pch stan/src/stan/model/model_header.hpp.gch -x c++ -o /Users/sean/Documents/myscript/python-bayes/src/python_bayes/chap10/model/model10-4.o /Users/sean/Documents/myscript/python-bayes/src/python_bayes/chap10/model/model10-4.hpp\n",
      "In file included from /Users/sean/Documents/myscript/python-bayes/src/python_bayes/chap10/model/model10-4.hpp:1:\n",
      "In file included from /Users/sean/.cmdstan/cmdstan-2.32.2/stan/src/stan/model/model_header.hpp:4:\n",
      "In file included from /Users/sean/.cmdstan/cmdstan-2.32.2/stan/lib/stan_math/stan/math.hpp:19:\n",
      "In file included from /Users/sean/.cmdstan/cmdstan-2.32.2/stan/lib/stan_math/stan/math/rev.hpp:10:\n",
      "In file included from /Users/sean/.cmdstan/cmdstan-2.32.2/stan/lib/stan_math/stan/math/rev/fun.hpp:198:\n",
      "In file included from /Users/sean/.cmdstan/cmdstan-2.32.2/stan/lib/stan_math/stan/math/prim/functor.hpp:15:\n",
      "In file included from /Users/sean/.cmdstan/cmdstan-2.32.2/stan/lib/stan_math/stan/math/prim/functor/integrate_ode_rk45.hpp:6:\n",
      "In file included from /Users/sean/.cmdstan/cmdstan-2.32.2/stan/lib/stan_math/stan/math/prim/functor/ode_rk45.hpp:9:\n",
      "In file included from /Users/sean/.cmdstan/cmdstan-2.32.2/stan/lib/stan_math/lib/boost_1.78.0/boost/numeric/odeint.hpp:76:\n",
      "In file included from /Users/sean/.cmdstan/cmdstan-2.32.2/stan/lib/stan_math/lib/boost_1.78.0/boost/numeric/odeint/integrate/observer_collection.hpp:23:\n",
      "In file included from /Users/sean/.cmdstan/cmdstan-2.32.2/stan/lib/stan_math/lib/boost_1.78.0/boost/function.hpp:30:\n",
      "In file included from /Users/sean/.cmdstan/cmdstan-2.32.2/stan/lib/stan_math/lib/boost_1.78.0/boost/function/detail/prologue.hpp:17:\n",
      "In file included from /Users/sean/.cmdstan/cmdstan-2.32.2/stan/lib/stan_math/lib/boost_1.78.0/boost/function/function_base.hpp:21:\n",
      "In file included from /Users/sean/.cmdstan/cmdstan-2.32.2/stan/lib/stan_math/lib/boost_1.78.0/boost/type_index.hpp:29:\n",
      "In file included from /Users/sean/.cmdstan/cmdstan-2.32.2/stan/lib/stan_math/lib/boost_1.78.0/boost/type_index/stl_type_index.hpp:47:\n",
      "/Users/sean/.cmdstan/cmdstan-2.32.2/stan/lib/stan_math/lib/boost_1.78.0/boost/container_hash/hash.hpp:132:33: warning: 'unary_function<const std::error_category *, unsigned long>' is deprecated [-Wdeprecated-declarations]\n",
      "        struct hash_base : std::unary_function<T, std::size_t> {};\n",
      "                                ^\n",
      "/Users/sean/.cmdstan/cmdstan-2.32.2/stan/lib/stan_math/lib/boost_1.78.0/boost/container_hash/hash.hpp:692:18: note: in instantiation of template class 'boost::hash_detail::hash_base<const std::error_category *>' requested here\n",
      "        : public boost::hash_detail::hash_base<T*>\n",
      "                 ^\n",
      "/Users/sean/.cmdstan/cmdstan-2.32.2/stan/lib/stan_math/lib/boost_1.78.0/boost/container_hash/hash.hpp:420:24: note: in instantiation of template class 'boost::hash<const std::error_category *>' requested here\n",
      "        boost::hash<T> hasher;\n",
      "                       ^\n",
      "/Users/sean/.cmdstan/cmdstan-2.32.2/stan/lib/stan_math/lib/boost_1.78.0/boost/container_hash/hash.hpp:551:9: note: in instantiation of function template specialization 'boost::hash_combine<const std::error_category *>' requested here\n",
      "        hash_combine(seed, &v.category());\n",
      "        ^\n",
      "/Applications/Xcode.app/Contents/Developer/Platforms/MacOSX.platform/Developer/SDKs/MacOSX.sdk/usr/include/c++/v1/__functional/unary_function.h:23:29: note: 'unary_function<const std::error_category *, unsigned long>' has been explicitly marked deprecated here\n",
      "struct _LIBCPP_TEMPLATE_VIS _LIBCPP_DEPRECATED_IN_CXX11 unary_function\n",
      "                            ^\n",
      "/Applications/Xcode.app/Contents/Developer/Platforms/MacOSX.platform/Developer/SDKs/MacOSX.sdk/usr/include/c++/v1/__config:850:41: note: expanded from macro '_LIBCPP_DEPRECATED_IN_CXX11'\n",
      "#    define _LIBCPP_DEPRECATED_IN_CXX11 _LIBCPP_DEPRECATED\n",
      "                                        ^\n",
      "/Applications/Xcode.app/Contents/Developer/Platforms/MacOSX.platform/Developer/SDKs/MacOSX.sdk/usr/include/c++/v1/__config:835:49: note: expanded from macro '_LIBCPP_DEPRECATED'\n",
      "#      define _LIBCPP_DEPRECATED __attribute__((deprecated))\n",
      "                                                ^\n",
      "1 warning generated.\n",
      "clang++ -std=c++1y -Wno-unknown-warning-option -Wno-tautological-compare -Wno-sign-compare -D_REENTRANT -Wno-ignored-attributes      -I stan/lib/stan_math/lib/tbb_2020.3/include    -O3 -I src -I stan/src -I stan/lib/rapidjson_1.1.0/ -I lib/CLI11-1.9.1/ -I stan/lib/stan_math/ -I stan/lib/stan_math/lib/eigen_3.4.0 -I stan/lib/stan_math/lib/boost_1.78.0 -I stan/lib/stan_math/lib/sundials_6.1.1/include -I stan/lib/stan_math/lib/sundials_6.1.1/src/sundials    -DBOOST_DISABLE_ASSERTS               -Wl,-L,\"/Users/sean/.cmdstan/cmdstan-2.32.2/stan/lib/stan_math/lib/tbb\" -Wl,-rpath,\"/Users/sean/.cmdstan/cmdstan-2.32.2/stan/lib/stan_math/lib/tbb\"        /Users/sean/Documents/myscript/python-bayes/src/python_bayes/chap10/model/model10-4.o src/cmdstan/main.o       -Wl,-L,\"/Users/sean/.cmdstan/cmdstan-2.32.2/stan/lib/stan_math/lib/tbb\" -Wl,-rpath,\"/Users/sean/.cmdstan/cmdstan-2.32.2/stan/lib/stan_math/lib/tbb\"     stan/lib/stan_math/lib/sundials_6.1.1/lib/libsundials_nvecserial.a stan/lib/stan_math/lib/sundials_6.1.1/lib/libsundials_cvodes.a stan/lib/stan_math/lib/sundials_6.1.1/lib/libsundials_idas.a stan/lib/stan_math/lib/sundials_6.1.1/lib/libsundials_kinsol.a  stan/lib/stan_math/lib/tbb/libtbb.dylib stan/lib/stan_math/lib/tbb/libtbbmalloc.dylib stan/lib/stan_math/lib/tbb/libtbbmalloc_proxy.dylib -o /Users/sean/Documents/myscript/python-bayes/src/python_bayes/chap10/model/model10-4\n",
      "ld: warning: duplicate -rpath '/Users/sean/.cmdstan/cmdstan-2.32.2/stan/lib/stan_math/lib/tbb' ignored\n",
      "rm -f /Users/sean/Documents/myscript/python-bayes/src/python_bayes/chap10/model/model10-4.o\n",
      "\n",
      "14:15:57 - cmdstanpy - INFO - CmdStan start processing\n"
     ]
    },
    {
     "data": {
      "application/vnd.jupyter.widget-view+json": {
       "model_id": "68f9d2295139498ca3a397e710327d69",
       "version_major": 2,
       "version_minor": 0
      },
      "text/plain": [
       "chain 1 |          | 00:00 Status"
      ]
     },
     "metadata": {},
     "output_type": "display_data"
    },
    {
     "data": {
      "application/vnd.jupyter.widget-view+json": {
       "model_id": "fd610e257c1b41ac8dadc3ab8029d4a1",
       "version_major": 2,
       "version_minor": 0
      },
      "text/plain": [
       "chain 2 |          | 00:00 Status"
      ]
     },
     "metadata": {},
     "output_type": "display_data"
    },
    {
     "data": {
      "application/vnd.jupyter.widget-view+json": {
       "model_id": "d73834e0c2f140d2a98a84a9bc400eb7",
       "version_major": 2,
       "version_minor": 0
      },
      "text/plain": [
       "chain 3 |          | 00:00 Status"
      ]
     },
     "metadata": {},
     "output_type": "display_data"
    },
    {
     "data": {
      "application/vnd.jupyter.widget-view+json": {
       "model_id": "ca13df9eccd6473da1ec01f2964fdf22",
       "version_major": 2,
       "version_minor": 0
      },
      "text/plain": [
       "chain 4 |          | 00:00 Status"
      ]
     },
     "metadata": {},
     "output_type": "display_data"
    },
    {
     "name": "stderr",
     "output_type": "stream",
     "text": [
      "0.01s - Debugger warning: It seems that frozen modules are being used, which may\n",
      "0.00s - make the debugger miss breakpoints. Please pass -Xfrozen_modules=off\n",
      "0.00s - to python to disable frozen modules.\n",
      "0.00s - Note: Debugging will proceed. Set PYDEVD_DISABLE_FILE_VALIDATION=1 to disable this validation.\n"
     ]
    },
    {
     "name": "stdout",
     "output_type": "stream",
     "text": [
      "                                                                                                                                                                                                                                                                                                                                "
     ]
    },
    {
     "name": "stderr",
     "output_type": "stream",
     "text": [
      "14:36:44 - cmdstanpy - INFO - CmdStan done processing.\n",
      "14:36:44 - cmdstanpy - WARNING - Non-fatal error during sampling:\n",
      "Exception: gamma_lpdf: Random variable[3] is inf, but must be positive finite! (in '/Users/sean/Documents/myscript/python-bayes/src/python_bayes/chap10/model/model10-4.stan', line 20, column 2 to column 23)\n",
      "\tException: gamma_lpdf: Random variable[3] is inf, but must be positive finite! (in '/Users/sean/Documents/myscript/python-bayes/src/python_bayes/chap10/model/model10-4.stan', line 20, column 2 to column 23)\n",
      "\tException: gamma_lpdf: Random variable[3] is inf, but must be positive finite! (in '/Users/sean/Documents/myscript/python-bayes/src/python_bayes/chap10/model/model10-4.stan', line 20, column 2 to column 23)\n",
      "\tException: gamma_lpdf: Random variable[37] is inf, but must be positive finite! (in '/Users/sean/Documents/myscript/python-bayes/src/python_bayes/chap10/model/model10-4.stan', line 20, column 2 to column 23)\n",
      "\tException: normal_lpdf: Scale parameter is 0, but must be positive! (in '/Users/sean/Documents/myscript/python-bayes/src/python_bayes/chap10/model/model10-4.stan', line 17, column 6 to column 60)\n",
      "\tException: gamma_lpdf: Random variable[1] is inf, but must be positive finite! (in '/Users/sean/Documents/myscript/python-bayes/src/python_bayes/chap10/model/model10-4.stan', line 20, column 2 to column 23)\n",
      "Exception: gamma_lpdf: Random variable[17] is inf, but must be positive finite! (in '/Users/sean/Documents/myscript/python-bayes/src/python_bayes/chap10/model/model10-4.stan', line 20, column 2 to column 23)\n",
      "\tException: gamma_lpdf: Random variable[17] is inf, but must be positive finite! (in '/Users/sean/Documents/myscript/python-bayes/src/python_bayes/chap10/model/model10-4.stan', line 20, column 2 to column 23)\n",
      "\tException: gamma_lpdf: Random variable[20] is inf, but must be positive finite! (in '/Users/sean/Documents/myscript/python-bayes/src/python_bayes/chap10/model/model10-4.stan', line 20, column 2 to column 23)\n",
      "\tException: gamma_lpdf: Random variable[68] is inf, but must be positive finite! (in '/Users/sean/Documents/myscript/python-bayes/src/python_bayes/chap10/model/model10-4.stan', line 20, column 2 to column 23)\n",
      "\tException: normal_lpdf: Scale parameter is 0, but must be positive! (in '/Users/sean/Documents/myscript/python-bayes/src/python_bayes/chap10/model/model10-4.stan', line 17, column 6 to column 60)\n",
      "\tException: gamma_lpdf: Random variable[1] is inf, but must be positive finite! (in '/Users/sean/Documents/myscript/python-bayes/src/python_bayes/chap10/model/model10-4.stan', line 20, column 2 to column 23)\n",
      "Exception: gamma_lpdf: Random variable[11] is inf, but must be positive finite! (in '/Users/sean/Documents/myscript/python-bayes/src/python_bayes/chap10/model/model10-4.stan', line 20, column 2 to column 23)\n",
      "\tException: gamma_lpdf: Random variable[11] is inf, but must be positive finite! (in '/Users/sean/Documents/myscript/python-bayes/src/python_bayes/chap10/model/model10-4.stan', line 20, column 2 to column 23)\n",
      "\tException: gamma_lpdf: Random variable[23] is inf, but must be positive finite! (in '/Users/sean/Documents/myscript/python-bayes/src/python_bayes/chap10/model/model10-4.stan', line 20, column 2 to column 23)\n",
      "\tException: gamma_lpdf: Random variable[64] is inf, but must be positive finite! (in '/Users/sean/Documents/myscript/python-bayes/src/python_bayes/chap10/model/model10-4.stan', line 20, column 2 to column 23)\n",
      "\tException: normal_lpdf: Scale parameter is 0, but must be positive! (in '/Users/sean/Documents/myscript/python-bayes/src/python_bayes/chap10/model/model10-4.stan', line 17, column 6 to column 60)\n",
      "\tException: gamma_lpdf: Random variable[4] is inf, but must be positive finite! (in '/Users/sean/Documents/myscript/python-bayes/src/python_bayes/chap10/model/model10-4.stan', line 20, column 2 to column 23)\n",
      "Exception: gamma_lpdf: Random variable[6] is inf, but must be positive finite! (in '/Users/sean/Documents/myscript/python-bayes/src/python_bayes/chap10/model/model10-4.stan', line 20, column 2 to column 23)\n",
      "\tException: gamma_lpdf: Random variable[6] is inf, but must be positive finite! (in '/Users/sean/Documents/myscript/python-bayes/src/python_bayes/chap10/model/model10-4.stan', line 20, column 2 to column 23)\n",
      "\tException: gamma_lpdf: Random variable[13] is inf, but must be positive finite! (in '/Users/sean/Documents/myscript/python-bayes/src/python_bayes/chap10/model/model10-4.stan', line 20, column 2 to column 23)\n",
      "\tException: gamma_lpdf: Random variable[22] is inf, but must be positive finite! (in '/Users/sean/Documents/myscript/python-bayes/src/python_bayes/chap10/model/model10-4.stan', line 20, column 2 to column 23)\n",
      "\tException: normal_lpdf: Scale parameter is 0, but must be positive! (in '/Users/sean/Documents/myscript/python-bayes/src/python_bayes/chap10/model/model10-4.stan', line 17, column 6 to column 60)\n",
      "\tException: gamma_lpdf: Random variable[6] is inf, but must be positive finite! (in '/Users/sean/Documents/myscript/python-bayes/src/python_bayes/chap10/model/model10-4.stan', line 20, column 2 to column 23)\n",
      "Consider re-running with show_console=True if the above output is unclear!\n"
     ]
    },
    {
     "name": "stdout",
     "output_type": "stream",
     "text": [
      "\n"
     ]
    }
   ],
   "source": [
    "import polars as pl\n",
    "from cmdstanpy import CmdStanModel\n",
    "\n",
    "\"\"\"棋士の強さ\"\"\"\n",
    "shogi_player = pl.read_csv(\"chap10/input/data-shogi-player.txt\")\n",
    "shogi_player_name = pl.read_csv(\n",
    "    \"chap10/input/data-shogi-player-name.txt\",\n",
    "    separator=\"\\t\",\n",
    ")\n",
    "N = shogi_player_name[\"kname\"].n_unique()\n",
    "data = {\n",
    "    \"N\": N,  # プレイヤー数\n",
    "    \"G\": shogi_player.shape[0],  # 対局数\n",
    "    \"LW\": shogi_player.to_numpy(),  # 勝敗データ\n",
    "}\n",
    "\n",
    "sm = CmdStanModel(stan_file=\"chap10/model/model10-4.stan\")\n",
    "fit = sm.sample(data=data, seed=1234)"
   ]
  },
  {
   "cell_type": "code",
   "execution_count": 20,
   "metadata": {},
   "outputs": [
    {
     "name": "stdout",
     "output_type": "stream",
     "text": [
      "shape: (5, 4)\n",
      "┌─────┬──────────┬─────┬──────────┐\n",
      "│ nid ┆ median   ┆ kid ┆ kname    │\n",
      "│ --- ┆ ---      ┆ --- ┆ ---      │\n",
      "│ i64 ┆ f64      ┆ i64 ┆ str      │\n",
      "╞═════╪══════════╪═════╪══════════╡\n",
      "│ 47  ┆ 1.85224  ┆ 175 ┆ 羽生善治 │\n",
      "│ 105 ┆ 1.603225 ┆ 235 ┆ 渡辺明   │\n",
      "│ 134 ┆ 1.33345  ┆ 264 ┆ 豊島将之 │\n",
      "│ 78  ┆ 1.30165  ┆ 208 ┆ 行方尚史 │\n",
      "│ 65  ┆ 1.27708  ┆ 195 ┆ 郷田真隆 │\n",
      "└─────┴──────────┴─────┴──────────┘\n",
      "shape: (3, 4)\n",
      "┌─────┬──────────┬─────┬──────────┐\n",
      "│ nid ┆ median   ┆ kid ┆ kname    │\n",
      "│ --- ┆ ---      ┆ --- ┆ ---      │\n",
      "│ i64 ┆ f64      ┆ i64 ┆ str      │\n",
      "╞═════╪══════════╪═════╪══════════╡\n",
      "│ 155 ┆ 1.304515 ┆ 285 ┆ 藤森哲也 │\n",
      "│ 130 ┆ 1.217955 ┆ 260 ┆ 糸谷哲郎 │\n",
      "│ 116 ┆ 1.217875 ┆ 246 ┆ 横山泰明 │\n",
      "└─────┴──────────┴─────┴──────────┘\n",
      "shape: (3, 4)\n",
      "┌─────┬──────────┬─────┬──────────┐\n",
      "│ nid ┆ median   ┆ kid ┆ kname    │\n",
      "│ --- ┆ ---      ┆ --- ┆ ---      │\n",
      "│ i64 ┆ f64      ┆ i64 ┆ str      │\n",
      "╞═════╪══════════╪═════╪══════════╡\n",
      "│ 106 ┆ 0.685188 ┆ 236 ┆ 飯島栄治 │\n",
      "│ 78  ┆ 0.777017 ┆ 208 ┆ 行方尚史 │\n",
      "│ 162 ┆ 0.792671 ┆ 292 ┆ 竹内雄悟 │\n",
      "└─────┴──────────┴─────┴──────────┘\n"
     ]
    }
   ],
   "source": [
    "import numpy as np\n",
    "\n",
    "mu_median = (\n",
    "    pl.DataFrame(\n",
    "        np.median(fit.mu.T, axis=1),\n",
    "        schema=[\"median\"],\n",
    "    )\n",
    "    .with_row_count(name=\"nid\", offset=1)\n",
    "    .with_columns(pl.col(\"nid\").cast(pl.Int64))\n",
    "    .join(shogi_player_name, on=\"nid\")\n",
    "    .sort(\"median\", descending=True)\n",
    ")\n",
    "print(mu_median.head(5))  # noqa: T201\n",
    "\n",
    "s_pf_median = (\n",
    "    pl.DataFrame(\n",
    "        np.median(fit.s_pf.T, axis=1),\n",
    "        schema=[\"median\"],\n",
    "    )\n",
    "    .with_row_count(name=\"nid\", offset=1)\n",
    "    .with_columns(pl.col(\"nid\").cast(pl.Int64))\n",
    "    .join(shogi_player_name, on=\"nid\")\n",
    "    .sort(\"median\", descending=True)\n",
    ")\n",
    "print(s_pf_median.head(3))  # noqa: T201\n",
    "print(s_pf_median.tail(3).sort(by=\"median\"))  # noqa: T201"
   ]
  },
  {
   "cell_type": "markdown",
   "metadata": {},
   "source": [
    "### 10.2.3 確率など$[0, 1]$の範囲のパラメータ\n",
    "\n",
    "確率など$[0, 1]$の値のパラメータに設定する弱情報事前分布にはベータ分布やディリクレ分布がある。ここではディリクレ分布を使う例を先に説明する。\n",
    "[9.4.2項](./chap09.ipynb#942_)の例題では、K面サイコロの各目が出る確率を、simplex型の変数thetaで定義した。thetaには事前分布を設定しなかったので無情報事前分布であった(要素がすべて1である長さ$k$のベクトルを面として、ディリクレ分布$\\mathrm{Dirichlet}(\\vec{a_0})$が事前分布に設定されたのと同義)。この分布は一様分布に相当する分布。\n",
    "\n",
    "ここで、出目の出現率が偏ったサイコロを使っているという背景知識を持っているとする。この場合に要素がすべて1.0以下である長さKのベクトルを$\\vec{a_0}$として、$\\mathrm{Dirichlet}(\\vec{a_0})$を事前分布に設定する選択肢もある([6.7節参照](./chap06.ipynb#67-ディリクレ分布))。\n",
    "\n",
    "コインのように出目が2つの場合にはベータ分布を使う。$\\mathrm{Beta}(1, 1)$は一様分布$\\mathrm{Uniform}(0, 1)$と完全に等しい。一方で$\\mathrm{Beta}(0.5, 0.5)は0や1に近い極端なpが作られやすく歪なコインができやすい分布となる([6.4節参照](./chap06.ipynb#64-ベータ分布))。\n",
    "\n",
    "### 10.2.4 分散共分散行列\n",
    "\n",
    "階層モデルを二変量正規分布で拡張する。[8.1.6項](./chap08.ipynb#816-階層モデルの等価な表現)から、モデル式8-4は以下だった。\n",
    "\n",
    "モデル式 8-4(再掲)\n",
    "\n",
    "$$\n",
    "\\begin{align}\n",
    "Y[n] &\\sim \\mathrm{Normal }(a[KID[n]] + b[KID[n]] X[n], \\sigma_Y) \\quad &n = 1, \\ldots, N \\nonumber \\\\\n",
    "a[k] &\\sim \\mathrm{Normal }(a_{全体平均}, \\sigma_a) \\quad &k = 1, \\ldots, K \\nonumber \\\\\n",
    "b[k] &\\sim \\mathrm{Normal }(b_{全体平均}, \\sigma_b) \\quad &k = 1, \\ldots, K \\nonumber \\\\\n",
    "\\end{align}\n",
    "$$\n",
    "\n",
    "ここで、\n",
    "- $a[k]$: 新卒の基本年収\n",
    "- $b[k]$: 年齢に伴う昇給額\n",
    "\n",
    "はそれぞれ独立の正規分布に従う。ここで新たな背景知識により、a[k]が高い会社はb[k]が低いという相関関係を入れてモデル式を更新する。\n",
    "\n",
    "モデル式10-5\n",
    "\n",
    "$$\n",
    "\\begin{align}\n",
    "Y[n] &\\sim \\mathrm{Normal }(a[KID[n]] + b[KID[n]] X[n], \\sigma_Y) \\quad &n = 1, \\ldots, N \\nonumber \\\\\n",
    "\\left( \\begin{array}{c} a[k] \\\\ b[k] \\end{array} \\right) &\\sim \\mathrm{MultiNormal } \\left( \\left( \\begin{array}{c} a_{全体平均} \\\\ b_{全体平均} \\end{array} \\right), \\Sigma \\right) \\quad &k = 1, \\ldots, K \\nonumber \\\\\n",
    "\\end{align}\n",
    "$$\n",
    "\n",
    "- $\\Sigma$: 分散共分散行列であり、無情報事前分布に従うとしてデータから推測する\n",
    "\n",
    "stanの実装例 [model10-5.stan](chap10/model/model10-5.stan)\n",
    "- 左辺のベクトル → ab\n",
    "- 右辺の平均ベクトル → ab0\n",
    "- 共産共分散$\\Sigma$ → cov\n",
    "\n",
    "このモデル10-5では収束しない。モデルが複雑でパラメータの制限が少ない事に対しデータが不十分と思われる。そこで共産共分散に弱情報事前分布を設定する。かつては逆ウィシャーと分布を使っていたが[10.2.2項](#1022-正の値を持つパラメータ)の逆ガンマ分布と同じ欠点があるかつ、逆ウィシャート分布のパラメータ分布設定が難しい。標準偏差と相関から分散共分散行列を構成する方法と、LKJ分布を使う方法(Stan開発チーム推奨)の2つの方法がある。\n",
    "\n",
    "- 分散共分散を使う方法\n",
    "  \n",
    "  分散共分散は以下で表される。これの式を用いつつ、$\\sigma_a$, $\\sigma_b$に弱情報事前分布を設定する\n",
    "  \n",
    "  $$\n",
    "  \\Sigma = \n",
    "  \\left(\n",
    "  \\begin{array}{cc}\n",
    "          {\\sigma^2_a} & {\\sigma_a\\sigma_b\\rho} \\\\\n",
    "          {\\sigma_a \\sigma_b \\rho} & \\sigma^2_b\n",
    "  \\end{array}\n",
    "  \\right)\n",
    "  $$\n",
    "  \n",
    "  また、$a_{全体平均}$と$b_{全体平均}$に対しても弱情報事前分布を設定すると、モデル式は以下となる\n",
    "  \n",
    "  \\\n",
    "  モデル式10-6\n",
    "  \n",
    "  $$\n",
    "  \\begin{align}\n",
    "  Y[n] &\\sim \\mathrm{Normal }(a[KID[n]] + b[KID[n]] X[n], \\sigma_Y) \\quad &n = 1, \\ldots, N \\nonumber \\\\\n",
    "  \\left( \n",
    "      \\begin{array}{c}\n",
    "          a[k] \\\\\n",
    "          b[k]\n",
    "      \\end{array}\n",
    "  \\right)\n",
    "  &\\sim \\mathrm{MultiNormal } \\left(\n",
    "      \\left( \n",
    "          \\begin{array}{c}\n",
    "              a_{全体平均} \\\\\n",
    "              b_{全体平均}\n",
    "          \\end{array}\n",
    "      \\right),\n",
    "      \\left( \n",
    "          \\begin{array}{cc}\n",
    "              {\\sigma^2_a} & {\\sigma_a\\sigma_b\\rho} \\\\\n",
    "          {\\sigma_a \\sigma_b \\rho} & \\sigma^2_b\n",
    "          \\end{array}\n",
    "      \\right)\n",
    "  \\right) \\quad &k = 1, \\ldots, K \\nonumber \\\\\n",
    "  a_{全体平均} &\\sim \\mathrm{Normal}(400, 200) \\nonumber \\\\\n",
    "  b_{全体平均} &\\sim \\mathrm{Normal}(15, 15) \\nonumber \\\\\n",
    "  \\sigma_a &\\sim \\mathrm{Student\\_t^+}(4, 0, 200) \\nonumber \\\\\n",
    "  \\sigma_b &\\sim \\mathrm{Student\\_t^+}(4, 0, 20) \\nonumber \\\\\n",
    "  \\end{align}\n",
    "  $$\n",
    "  \n",
    "  それぞれの説明変数の弱事前情報分布の意味\n",
    "  - $a_{全体平均}$: 新卒の基本年収の全体平均は200万円~600万円の範囲である可能性が高い\n",
    "  - $b_{全体平均}$: 年齢に伴う昇給額の全体平均は0万円~30万円の範囲である可能性が高い\n",
    "  - $\\sigma_a$: 新卒の基本年収の会社差のバラツキは高々200万円だろう\n",
    "  - $\\sigma_b$: 年齢に伴う昇給額の会社差のバラツキは高々20万円だろう\n",
    "  \n",
    "  モデル式10-6の実装[model10-6.stan](chap10/model/model10-6.stan)\n",
    "\n",
    "この方法だと、分散共分散行列のサイズが増えた場合に対応が難しい。例えば回帰係数のすべての係数ではなく、どれかは不明だが一部の係数のみに相関があるだろうと考えたい場合がある。このような場合、LKJ分布を使用する事ができる。\n",
    "\n",
    "- LKJ相関分布を使う方法\n",
    "  - 標準偏差に対してはmodel10-6.stanと同様に設定\n",
    "  - 相関行列に対してはLKJ相関分布で事前分布を設定\n",
    "  - 行列演算から分散共分散行列を作る。\n",
    "  \n",
    "  行列演算が少し難しいが、計算も速く実用性が高い。モデル式にすると以下になる。\n",
    "  \\\n",
    "  モデル式10-7\n",
    "\n",
    "  $$\n",
    "  \\begin{align}\n",
    "  Y[n] &\\sim \\mathrm{Normal }(a[KID[n]] + b[KID[n]] X[n], \\sigma_Y) \\quad &n = 1, \\ldots, N \\nonumber \\\\\n",
    "  \\left( \n",
    "      \\begin{array}{c}\n",
    "          a[k] \\\\\n",
    "          b[k]\n",
    "      \\end{array}\n",
    "  \\right)\n",
    "  &\\sim \\mathrm{MultiNormal\\_Cholesky} \\left(\n",
    "      \\left( \n",
    "          \\begin{array}{c}\n",
    "              a_{全体平均} \\\\\n",
    "              b_{全体平均}\n",
    "          \\end{array}\n",
    "      \\right),\n",
    "      \\Sigma_{\\mathrm{chol}}\n",
    "  \\right) \\quad &k = 1, \\ldots, K \\nonumber \\\\\n",
    "  \\Sigma_{\\mathrm{chol}} &= \\left(\n",
    "      \\begin{array}{cc}\n",
    "        \\sigma_a & 0 \\\\\n",
    "        0 & \\sigma_b\n",
    "      \\end{array}\n",
    "  \\right) \\Omega_{\\mathrm{chol}} \\nonumber \\\\\n",
    "  a_{全体平均} &\\sim \\mathrm{Normal}(400, 200) \\nonumber \\\\\n",
    "  b_{全体平均} &\\sim \\mathrm{Normal}(15, 15) \\nonumber \\\\\n",
    "  \\sigma_a &\\sim \\mathrm{Student\\_t^+}(4, 0, 200) \\nonumber \\\\\n",
    "  \\sigma_b &\\sim \\mathrm{Student\\_t^+}(4, 0, 20) \\nonumber \\\\\n",
    "  \\Omega_{\\mathrm{chol}} &\\sim \\mathrm{LKJcorr\\_Cholesky}(\\nu) \\nonumber \\\\\n",
    "  \\end{align}\n",
    "  $$\n",
    "\n",
    "  ここで、\n",
    "  - $\\Sigma_{\\mathrm{chol}}$: 分散共分散行列のコレスキー因子[<sup>2)</sup>](#fn2)\n",
    "  - $\\Omega_{\\mathrm{chol}}$: 相関行列のコレスキー因子\n",
    "  - $\\mathrm{MultiNormal\\_Cholesky}$分布: 多変量正規分布(ただし分散共分散行列のかわりにそのコレスキー因子をとる)\n",
    "  - $\\mathrm{LKJcorr\\_Cholesky}$分布: 相関行列のコレスキー因子を生成する分布。$\\Omega_{\\mathrm{chol}}$の事前分布\n",
    "  - $\\nu$: $\\mathrm{LKJcorr\\_Cholesky}$分布のshapeパラメータで1以上の値を取る。$\\nu=1$の場合は相関行列に対し、一様分布に相当する相当する無情報分布となる。大きくなると一部の行と列の組み合わせのみに相関が出るような相関行列が生成される。$\\nu=2,4$がよく使われる\n",
    "\n",
    "  モデル式10-7の実装[model10-7.stan](chap10/model/model10-7.stan)\n",
    "\n",
    "ここで初出の行列演算関数を下表にまとめる。\n",
    "\n",
    "表10.2 model10-7.stanで行列演算を行う関数\n",
    "| 関数                                        | 説明                                                                                                           |\n",
    "| ------------------------------------------- | -------------------------------------------------------------------------------------------------------------- |\n",
    "| diag_pre_multiply(vector v, matrix m)       | diag_matrix(v) * mを計算してmatrix型で返す                                                                     |\n",
    "| diag_matrix(vector v)                       | vの各要素を対角線上に並べた対角行列をmatrix型で返す                                                            |\n",
    "| multiply_lower_tri_self_transpose(matrix m) | mの対角成分と下三角成分だけを抜き出した行列を$\\bold{L}$とすると、$\\bold{L}\\bold{L}^T$ を計算してmatrix型で返す |\n",
    "\n",
    "\n",
    ">[<sup>2)</sup>](#fn2-back) 分散共分散行列をコレスキー分解して得られる行列をさす。コレスキー分解は行列演算の一つで、ここでは推定の高速化のために利用している。\n",
    "\n"
   ]
  },
  {
   "cell_type": "code",
   "execution_count": 25,
   "metadata": {},
   "outputs": [
    {
     "name": "stderr",
     "output_type": "stream",
     "text": [
      "17:29:27 - cmdstanpy - INFO - CmdStan start processing\n"
     ]
    },
    {
     "data": {
      "application/vnd.jupyter.widget-view+json": {
       "model_id": "a075df4f778a41b7be53283bd8b0974e",
       "version_major": 2,
       "version_minor": 0
      },
      "text/plain": [
       "chain 1 |          | 00:00 Status"
      ]
     },
     "metadata": {},
     "output_type": "display_data"
    },
    {
     "data": {
      "application/vnd.jupyter.widget-view+json": {
       "model_id": "bdf4e929809444de96485d623f18e740",
       "version_major": 2,
       "version_minor": 0
      },
      "text/plain": [
       "chain 2 |          | 00:00 Status"
      ]
     },
     "metadata": {},
     "output_type": "display_data"
    },
    {
     "data": {
      "application/vnd.jupyter.widget-view+json": {
       "model_id": "7d264b30200240d198919fcef0d3e915",
       "version_major": 2,
       "version_minor": 0
      },
      "text/plain": [
       "chain 3 |          | 00:00 Status"
      ]
     },
     "metadata": {},
     "output_type": "display_data"
    },
    {
     "data": {
      "application/vnd.jupyter.widget-view+json": {
       "model_id": "c7362fd1e629454f9bf267b91a2f0794",
       "version_major": 2,
       "version_minor": 0
      },
      "text/plain": [
       "chain 4 |          | 00:00 Status"
      ]
     },
     "metadata": {},
     "output_type": "display_data"
    },
    {
     "name": "stdout",
     "output_type": "stream",
     "text": [
      "                                                                                                                                                                                                                                                                                                                                "
     ]
    },
    {
     "name": "stderr",
     "output_type": "stream",
     "text": [
      "17:29:34 - cmdstanpy - INFO - CmdStan done processing.\n",
      "17:29:34 - cmdstanpy - WARNING - Non-fatal error during sampling:\n",
      "Exception: multi_normal_lpdf: Covariance matrix is not symmetric. Covariance matrix[1,2] = nan, but Covariance matrix[2,1] = nan (in '/Users/sean/Documents/myscript/python-bayes/src/python_bayes/chap10/model/model10-5.stan', line 26, column 2 to column 30)\n",
      "\tException: multi_normal_lpdf: LDLT_Factor of covariance parameter is not positive definite.  last conditional variance is nan. (in '/Users/sean/Documents/myscript/python-bayes/src/python_bayes/chap10/model/model10-5.stan', line 26, column 2 to column 30)\n",
      "Exception: multi_normal_lpdf: LDLT_Factor of covariance parameter is not positive definite.  last conditional variance is nan. (in '/Users/sean/Documents/myscript/python-bayes/src/python_bayes/chap10/model/model10-5.stan', line 26, column 2 to column 30)\n",
      "Exception: multi_normal_lpdf: Covariance matrix is not symmetric. Covariance matrix[1,2] = nan, but Covariance matrix[2,1] = nan (in '/Users/sean/Documents/myscript/python-bayes/src/python_bayes/chap10/model/model10-5.stan', line 26, column 2 to column 30)\n",
      "Exception: multi_normal_lpdf: Covariance matrix is not symmetric. Covariance matrix[1,2] = nan, but Covariance matrix[2,1] = nan (in '/Users/sean/Documents/myscript/python-bayes/src/python_bayes/chap10/model/model10-5.stan', line 26, column 2 to column 30)\n",
      "Consider re-running with show_console=True if the above output is unclear!\n",
      "17:29:35 - cmdstanpy - WARNING - Some chains may have failed to converge.\n",
      "\tChain 1 had 88 divergent transitions (8.8%)\n",
      "\tChain 1 had 909 iterations at max treedepth (90.9%)\n",
      "\tChain 2 had 716 divergent transitions (71.6%)\n",
      "\tChain 3 had 306 divergent transitions (30.6%)\n",
      "\tChain 3 had 517 iterations at max treedepth (51.7%)\n",
      "\tChain 4 had 201 divergent transitions (20.1%)\n",
      "\tChain 4 had 746 iterations at max treedepth (74.6%)\n",
      "\tUse the \"diagnose()\" method on the CmdStanMCMC object to see further information.\n"
     ]
    },
    {
     "name": "stdout",
     "output_type": "stream",
     "text": [
      "\n"
     ]
    },
    {
     "name": "stderr",
     "output_type": "stream",
     "text": [
      "17:29:35 - cmdstanpy - INFO - CmdStan start processing\n"
     ]
    },
    {
     "name": "stdout",
     "output_type": "stream",
     "text": [
      "                  Mean          MCSE        StdDev            5%  \\\n",
      "lp__     -1.760980e+02  2.229890e+00  4.127840e+00 -1.838470e+02   \n",
      "ab[1,1]   3.856980e+02  4.489060e+00  1.307440e+01  3.693630e+02   \n",
      "ab[1,2]   7.629180e+00  2.719300e-01  8.238250e-01  6.072980e+00   \n",
      "ab[2,1]   3.264030e+02  2.652050e+00  1.440020e+01  3.062070e+02   \n",
      "ab[2,2]   1.999000e+01  1.242190e-01  1.058090e+00  1.811660e+01   \n",
      "ab[3,1]   3.177370e+02  2.823730e+00  2.722700e+01  2.702040e+02   \n",
      "ab[3,2]   1.229960e+01  1.373230e-01  1.327110e+00  1.014660e+01   \n",
      "ab[4,1]   7.402060e+02  6.284720e+01  1.613180e+02  5.262230e+02   \n",
      "ab[4,2]  -8.373250e-01  2.270020e+00  6.326690e+00 -1.212250e+01   \n",
      "ab0[1]   -5.424170e+05  1.543431e+06  2.434643e+06 -3.966680e+06   \n",
      "ab0[2]   -1.434650e+05  1.183830e+05  1.782620e+05 -4.833490e+05   \n",
      "cov[1,1]  2.130465e+18  2.598645e+18  3.682565e+18  9.718380e+10   \n",
      "cov[1,2]  3.906775e+15  5.103176e+15  7.233534e+15 -9.837860e+14   \n",
      "cov[2,1]  3.906775e+15  5.103176e+15  7.233534e+15 -9.837860e+14   \n",
      "cov[2,2]  3.299687e+13  1.200281e+13  4.419994e+13  4.355690e+11   \n",
      "s_Y       2.751111e+01  4.039700e-01  2.979190e+00  2.308660e+01   \n",
      "a[1]      3.856980e+02  4.489060e+00  1.307440e+01  3.693630e+02   \n",
      "a[2]      3.264030e+02  2.652050e+00  1.440020e+01  3.062070e+02   \n",
      "a[3]      3.177370e+02  2.823730e+00  2.722700e+01  2.702040e+02   \n",
      "a[4]      7.402060e+02  6.284720e+01  1.613180e+02  5.262230e+02   \n",
      "b[1]      7.629180e+00  2.719300e-01  8.238250e-01  6.072980e+00   \n",
      "b[2]      1.999000e+01  1.242190e-01  1.058090e+00  1.811660e+01   \n",
      "b[3]      1.229960e+01  1.373230e-01  1.327110e+00  1.014660e+01   \n",
      "b[4]     -8.373250e-01  2.270020e+00  6.326690e+00 -1.212250e+01   \n",
      "\n",
      "                   50%           95%     N_Eff   N_Eff/s     R_hat  \n",
      "lp__     -1.749160e+02 -1.709850e+02   3.42671  0.310898   1.58313  \n",
      "ab[1,1]   3.839980e+02  4.091170e+02   8.48270  0.769615   1.18681  \n",
      "ab[1,2]   7.762000e+00  8.669240e+00   9.17812  0.832710   1.17879  \n",
      "ab[2,1]   3.220970e+02  3.520970e+02  29.48290  2.674910   1.08347  \n",
      "ab[2,2]   2.035370e+01  2.159060e+01  72.55590  6.582820   1.05411  \n",
      "ab[3,1]   3.199970e+02  3.608770e+02  92.97270  8.435190   1.04737  \n",
      "ab[3,2]   1.232760e+01  1.455250e+01  93.39590  8.473590   1.04541  \n",
      "ab[4,1]   7.187920e+02  1.024260e+03   6.58861  0.597769   1.29155  \n",
      "ab[4,2]   2.300150e-01  7.899370e+00   7.76772  0.704747   1.25689  \n",
      "ab0[1]    7.124030e+04  3.949630e+06   2.48826  0.225754   2.50130  \n",
      "ab0[2]   -2.713750e+04  4.352710e+04   2.26747  0.205722   3.20114  \n",
      "cov[1,1]  2.251680e+15  8.737820e+18   2.00820  0.182199  39.73710  \n",
      "cov[1,2] -1.878130e+13  1.669240e+16   2.00919  0.182289  28.86560  \n",
      "cov[2,1] -1.878130e+13  1.669240e+16   2.00919  0.182289  28.86560  \n",
      "cov[2,2]  2.705720e+13  1.248810e+14  13.56050  1.230320   1.44786  \n",
      "s_Y       2.642480e+01  3.286350e+01  54.38726  4.934430   1.08796  \n",
      "a[1]      3.839980e+02  4.091170e+02   8.48270  0.769615   1.18681  \n",
      "a[2]      3.220970e+02  3.520970e+02  29.48290  2.674910   1.08347  \n",
      "a[3]      3.199970e+02  3.608770e+02  92.97270  8.435190   1.04737  \n",
      "a[4]      7.187920e+02  1.024260e+03   6.58861  0.597769   1.29155  \n",
      "b[1]      7.762000e+00  8.669240e+00   9.17812  0.832710   1.17879  \n",
      "b[2]      2.035370e+01  2.159060e+01  72.55590  6.582820   1.05411  \n",
      "b[3]      1.232760e+01  1.455250e+01  93.39590  8.473590   1.04541  \n",
      "b[4]      2.300150e-01  7.899370e+00   7.76772  0.704747   1.25689  \n"
     ]
    },
    {
     "data": {
      "application/vnd.jupyter.widget-view+json": {
       "model_id": "892aece0518d43aa9eafa0d3f482435f",
       "version_major": 2,
       "version_minor": 0
      },
      "text/plain": [
       "chain 1 |          | 00:00 Status"
      ]
     },
     "metadata": {},
     "output_type": "display_data"
    },
    {
     "data": {
      "application/vnd.jupyter.widget-view+json": {
       "model_id": "c14c8289e6f745028db5c77918e14170",
       "version_major": 2,
       "version_minor": 0
      },
      "text/plain": [
       "chain 2 |          | 00:00 Status"
      ]
     },
     "metadata": {},
     "output_type": "display_data"
    },
    {
     "data": {
      "application/vnd.jupyter.widget-view+json": {
       "model_id": "012dfbd73c7c4a11acd6ae2e0dde6e9c",
       "version_major": 2,
       "version_minor": 0
      },
      "text/plain": [
       "chain 3 |          | 00:00 Status"
      ]
     },
     "metadata": {},
     "output_type": "display_data"
    },
    {
     "data": {
      "application/vnd.jupyter.widget-view+json": {
       "model_id": "ba111ef0e9af4424a21a041cc6b75f3c",
       "version_major": 2,
       "version_minor": 0
      },
      "text/plain": [
       "chain 4 |          | 00:00 Status"
      ]
     },
     "metadata": {},
     "output_type": "display_data"
    },
    {
     "name": "stdout",
     "output_type": "stream",
     "text": [
      "                                                                                                                                                                                                                                                                                                                                "
     ]
    },
    {
     "name": "stderr",
     "output_type": "stream",
     "text": [
      "17:29:36 - cmdstanpy - INFO - CmdStan done processing.\n",
      "17:29:36 - cmdstanpy - WARNING - Non-fatal error during sampling:\n",
      "Exception: multi_normal_lpdf: LDLT_Factor of covariance parameter is not positive definite.  last conditional variance is 0. (in '/Users/sean/Documents/myscript/python-bayes/src/python_bayes/chap10/model/model10-6.stan', line 35, column 2 to column 30)\n",
      "\tException: multi_normal_lpdf: LDLT_Factor of covariance parameter is not positive definite.  last conditional variance is 0. (in '/Users/sean/Documents/myscript/python-bayes/src/python_bayes/chap10/model/model10-6.stan', line 35, column 2 to column 30)\n",
      "Exception: multi_normal_lpdf: Covariance matrix is not symmetric. Covariance matrix[1,2] = -inf, but Covariance matrix[2,1] = -inf (in '/Users/sean/Documents/myscript/python-bayes/src/python_bayes/chap10/model/model10-6.stan', line 35, column 2 to column 30)\n",
      "\tException: multi_normal_lpdf: LDLT_Factor of covariance parameter is not positive definite.  last conditional variance is 0. (in '/Users/sean/Documents/myscript/python-bayes/src/python_bayes/chap10/model/model10-6.stan', line 35, column 2 to column 30)\n",
      "Exception: multi_normal_lpdf: Covariance matrix is not symmetric. Covariance matrix[1,2] = inf, but Covariance matrix[2,1] = inf (in '/Users/sean/Documents/myscript/python-bayes/src/python_bayes/chap10/model/model10-6.stan', line 35, column 2 to column 30)\n",
      "Exception: multi_normal_lpdf: Covariance matrix is not symmetric. Covariance matrix[1,2] = inf, but Covariance matrix[2,1] = inf (in '/Users/sean/Documents/myscript/python-bayes/src/python_bayes/chap10/model/model10-6.stan', line 35, column 2 to column 30)\n",
      "\tException: multi_normal_lpdf: LDLT_Factor of covariance parameter is not positive definite.  last conditional variance is 0. (in '/Users/sean/Documents/myscript/python-bayes/src/python_bayes/chap10/model/model10-6.stan', line 35, column 2 to column 30)\n",
      "Consider re-running with show_console=True if the above output is unclear!\n",
      "17:29:36 - cmdstanpy - WARNING - Some chains may have failed to converge.\n",
      "\tChain 1 had 8 divergent transitions (0.8%)\n",
      "\tChain 2 had 33 divergent transitions (3.3%)\n",
      "\tChain 3 had 29 divergent transitions (2.9%)\n",
      "\tChain 4 had 17 divergent transitions (1.7%)\n",
      "\tUse the \"diagnose()\" method on the CmdStanMCMC object to see further information.\n"
     ]
    },
    {
     "name": "stdout",
     "output_type": "stream",
     "text": [
      "\n",
      "                 Mean        MCSE       StdDev          5%         50%  \\\n",
      "lp__       -172.83500    0.133194      3.40282  -179.00100  -172.50900   \n",
      "ab[1,1]     382.20900    0.649800     16.45000   354.42300   382.89800   \n",
      "ab[1,2]       7.82960    0.038080      1.01975     6.16589     7.79667   \n",
      "ab[2,1]     335.80900    0.419589     17.58170   306.93600   336.13300   \n",
      "ab[2,2]      19.30400    0.032055      1.31824    17.16280    19.29070   \n",
      "ab[3,1]     332.77100    0.892215     32.83000   274.35600   335.38300   \n",
      "ab[3,2]      11.56740    0.042996      1.61158     9.06313    11.47100   \n",
      "ab[4,1]     430.14400    3.498750    102.81900   318.98400   397.83800   \n",
      "ab[4,2]      11.80540    0.139379      4.16538     3.28837    13.02220   \n",
      "ab0[1]      368.81800    1.325930     53.03920   296.33700   363.38400   \n",
      "ab0[2]       12.81230    0.112823      4.41022     5.61868    12.85330   \n",
      "s_a          85.60816    2.513510     71.59406    13.23340    65.11730   \n",
      "s_b           8.59465    0.141850      5.53225     3.55474     7.17260   \n",
      "rho          -0.31989    0.015590      0.46051    -0.92845    -0.40220   \n",
      "s_Y          29.17035    0.097780      3.99080    23.26950    28.85640   \n",
      "a[1]        382.20900    0.649800     16.45000   354.42300   382.89800   \n",
      "a[2]        335.80900    0.419589     17.58170   306.93600   336.13300   \n",
      "a[3]        332.77100    0.892215     32.83000   274.35600   335.38300   \n",
      "a[4]        430.14400    3.498750    102.81900   318.98400   397.83800   \n",
      "b[1]          7.82960    0.038080      1.01975     6.16589     7.79667   \n",
      "b[2]         19.30400    0.032055      1.31824    17.16280    19.29070   \n",
      "b[3]         11.56740    0.042996      1.61158     9.06313    11.47100   \n",
      "b[4]         11.80540    0.139379      4.16538     3.28837    13.02220   \n",
      "cov[1,1]  12453.20000  671.747000  24216.70000   175.12200  4240.26000   \n",
      "cov[1,2]   -243.61900   23.545700   1157.87000 -1398.70000  -117.52000   \n",
      "cov[2,1]   -243.61900   23.545700   1157.87000 -1398.70000  -117.52000   \n",
      "cov[2,2]    104.46600    6.035240    260.71800    12.63610    51.44630   \n",
      "\n",
      "                  95%       N_Eff     N_Eff/s     R_hat  \n",
      "lp__       -167.87100   652.69300   769.68500  1.006400  \n",
      "ab[1,1]     408.73600   640.87500   755.74900  1.007150  \n",
      "ab[1,2]       9.59296   717.13600   845.67900  1.005940  \n",
      "ab[2,1]     363.39800  1755.79000  2070.51000  1.002070  \n",
      "ab[2,2]      21.43780  1691.23000  1994.38000  1.003050  \n",
      "ab[3,1]     383.04400  1353.95000  1596.64000  1.001660  \n",
      "ab[3,2]      14.36550  1404.90000  1656.73000  1.001420  \n",
      "ab[4,1]     641.25100   863.62400  1018.42000  1.003880  \n",
      "ab[4,2]      16.49420   893.13700  1053.23000  1.003340  \n",
      "ab0[1]      464.55500  1600.13000  1886.95000  0.999996  \n",
      "ab0[2]       19.89420  1528.01000  1801.90000  1.000970  \n",
      "s_a         222.04400   811.32034   956.74568  1.002160  \n",
      "s_b          18.26650  1520.97513  1793.60275  1.000910  \n",
      "rho           0.52659   872.53980  1028.93844  1.005500  \n",
      "s_Y          36.09450  1665.84825  1964.44370  0.999690  \n",
      "a[1]        408.73600   640.87500   755.74900  1.007150  \n",
      "a[2]        363.39800  1755.79000  2070.51000  1.002070  \n",
      "a[3]        383.04400  1353.95000  1596.64000  1.001660  \n",
      "a[4]        641.25100   863.62400  1018.42000  1.003880  \n",
      "b[1]          9.59296   717.13600   845.67900  1.005940  \n",
      "b[2]         21.43780  1691.23000  1994.38000  1.003050  \n",
      "b[3]         14.36550  1404.90000  1656.73000  1.001420  \n",
      "b[4]         16.49420   893.13700  1053.23000  1.003340  \n",
      "cov[1,1]  49303.60000  1299.63000  1532.58000  1.000180  \n",
      "cov[1,2]    423.76500  2418.22000  2851.67000  1.000980  \n",
      "cov[2,1]    423.76500  2418.22000  2851.67000  1.000980  \n",
      "cov[2,2]    333.66600  1866.18000  2200.69000  1.000560  \n"
     ]
    },
    {
     "name": "stderr",
     "output_type": "stream",
     "text": [
      "17:29:36 - cmdstanpy - INFO - CmdStan start processing\n"
     ]
    },
    {
     "data": {
      "application/vnd.jupyter.widget-view+json": {
       "model_id": "453554e6bd7344dbadd70d9b41ec61d7",
       "version_major": 2,
       "version_minor": 0
      },
      "text/plain": [
       "chain 1 |          | 00:00 Status"
      ]
     },
     "metadata": {},
     "output_type": "display_data"
    },
    {
     "data": {
      "application/vnd.jupyter.widget-view+json": {
       "model_id": "36aa831bec1b4c3eb858e30af998ab22",
       "version_major": 2,
       "version_minor": 0
      },
      "text/plain": [
       "chain 2 |          | 00:00 Status"
      ]
     },
     "metadata": {},
     "output_type": "display_data"
    },
    {
     "data": {
      "application/vnd.jupyter.widget-view+json": {
       "model_id": "71a2ab5ebd24475c8fe0709c1c48e7fc",
       "version_major": 2,
       "version_minor": 0
      },
      "text/plain": [
       "chain 3 |          | 00:00 Status"
      ]
     },
     "metadata": {},
     "output_type": "display_data"
    },
    {
     "data": {
      "application/vnd.jupyter.widget-view+json": {
       "model_id": "e4749fbfd9af467e9cee14a8c68613c3",
       "version_major": 2,
       "version_minor": 0
      },
      "text/plain": [
       "chain 4 |          | 00:00 Status"
      ]
     },
     "metadata": {},
     "output_type": "display_data"
    },
    {
     "name": "stdout",
     "output_type": "stream",
     "text": [
      "                                                                                                                                                                                                                                                                                                                                "
     ]
    },
    {
     "name": "stderr",
     "output_type": "stream",
     "text": [
      "17:29:37 - cmdstanpy - INFO - CmdStan done processing.\n",
      "17:29:37 - cmdstanpy - WARNING - Non-fatal error during sampling:\n",
      "Exception: model10_7_model_namespace::log_prob: cov_chol[2] is 0, but must be positive! (in '/Users/sean/Documents/myscript/python-bayes/src/python_bayes/chap10/model/model10-7.stan', line 21, column 2 to column 34)\n",
      "\tException: model10_7_model_namespace::log_prob: cov_chol[2] is 0, but must be positive! (in '/Users/sean/Documents/myscript/python-bayes/src/python_bayes/chap10/model/model10-7.stan', line 21, column 2 to column 34)\n",
      "\tException: model10_7_model_namespace::log_prob: cov_chol[2] is 0, but must be positive! (in '/Users/sean/Documents/myscript/python-bayes/src/python_bayes/chap10/model/model10-7.stan', line 21, column 2 to column 34)\n",
      "\tException: model10_7_model_namespace::log_prob: cov_chol[2] is nan, but must be positive! (in '/Users/sean/Documents/myscript/python-bayes/src/python_bayes/chap10/model/model10-7.stan', line 21, column 2 to column 34)\n",
      "\tException: model10_7_model_namespace::log_prob: cov_chol[2] is nan, but must be positive! (in '/Users/sean/Documents/myscript/python-bayes/src/python_bayes/chap10/model/model10-7.stan', line 21, column 2 to column 34)\n",
      "Exception: model10_7_model_namespace::log_prob: cov_chol[2] is 0, but must be positive! (in '/Users/sean/Documents/myscript/python-bayes/src/python_bayes/chap10/model/model10-7.stan', line 21, column 2 to column 34)\n",
      "Exception: model10_7_model_namespace::log_prob: cov_chol[2] is 0, but must be positive! (in '/Users/sean/Documents/myscript/python-bayes/src/python_bayes/chap10/model/model10-7.stan', line 21, column 2 to column 34)\n",
      "\tException: model10_7_model_namespace::log_prob: cov_chol[2] is 0, but must be positive! (in '/Users/sean/Documents/myscript/python-bayes/src/python_bayes/chap10/model/model10-7.stan', line 21, column 2 to column 34)\n",
      "\tException: model10_7_model_namespace::log_prob: cov_chol is not lower triangular; cov_chol[1,2]=nan (in '/Users/sean/Documents/myscript/python-bayes/src/python_bayes/chap10/model/model10-7.stan', line 21, column 2 to column 34)\n",
      "\tException: model10_7_model_namespace::log_prob: cov_chol[2] is 0, but must be positive! (in '/Users/sean/Documents/myscript/python-bayes/src/python_bayes/chap10/model/model10-7.stan', line 21, column 2 to column 34)\n",
      "Exception: model10_7_model_namespace::log_prob: cov_chol[2] is 0, but must be positive! (in '/Users/sean/Documents/myscript/python-bayes/src/python_bayes/chap10/model/model10-7.stan', line 21, column 2 to column 34)\n",
      "\tException: model10_7_model_namespace::log_prob: cov_chol[2] is 0, but must be positive! (in '/Users/sean/Documents/myscript/python-bayes/src/python_bayes/chap10/model/model10-7.stan', line 21, column 2 to column 34)\n",
      "\tException: model10_7_model_namespace::log_prob: cov_chol is not lower triangular; cov_chol[1,2]=nan (in '/Users/sean/Documents/myscript/python-bayes/src/python_bayes/chap10/model/model10-7.stan', line 21, column 2 to column 34)\n",
      "\tException: model10_7_model_namespace::log_prob: cov_chol[2] is 0, but must be positive! (in '/Users/sean/Documents/myscript/python-bayes/src/python_bayes/chap10/model/model10-7.stan', line 21, column 2 to column 34)\n",
      "Consider re-running with show_console=True if the above output is unclear!\n",
      "17:29:37 - cmdstanpy - WARNING - Some chains may have failed to converge.\n",
      "\tChain 1 had 8 divergent transitions (0.8%)\n",
      "\tChain 2 had 8 divergent transitions (0.8%)\n",
      "\tChain 3 had 126 divergent transitions (12.6%)\n",
      "\tChain 4 had 1 divergent transitions (0.1%)\n",
      "\tUse the \"diagnose()\" method on the CmdStanMCMC object to see further information.\n"
     ]
    },
    {
     "name": "stdout",
     "output_type": "stream",
     "text": [
      "\n",
      "                        Mean        MCSE        StdDev           5%  \\\n",
      "lp__             -172.422000    0.178135  3.280390e+00  -178.197000   \n",
      "ab[1,1]           381.592000    1.142680  1.597490e+01   353.298000   \n",
      "ab[1,2]             7.870420    0.088962  1.019370e+00     6.276470   \n",
      "ab[2,1]           336.116000    0.478603  1.771380e+01   307.222000   \n",
      "ab[2,2]            19.301100    0.034520  1.313840e+00    17.221100   \n",
      "ab[3,1]           329.500000    0.883503  3.276410e+01   273.174000   \n",
      "ab[3,2]            11.695900    0.057440  1.643940e+00     9.214670   \n",
      "ab[4,1]           440.654000    4.900080  1.119980e+02   319.698000   \n",
      "ab[4,2]            11.459300    0.225555  4.568690e+00     2.068310   \n",
      "ab0[1]            373.549000    1.616880  5.768800e+01   299.913000   \n",
      "ab0[2]             12.703600    0.099787  4.209260e+00     6.104710   \n",
      "corr_chol[1,1]      1.000000         NaN  6.000000e-16     1.000000   \n",
      "corr_chol[1,2]      0.000000         NaN  0.000000e+00     0.000000   \n",
      "corr_chol[2,1]     -0.187051    0.031974  4.112980e-01    -0.791884   \n",
      "corr_chol[2,2]      0.882114    0.003574  1.332930e-01     0.606485   \n",
      "sigma_vec[1]       88.412700    3.571640  7.357010e+01     8.912770   \n",
      "sigma_vec[2]        8.320770    0.108412  4.681130e+00     3.497900   \n",
      "s_Y                29.037200    0.129660  4.011980e+00    23.164900   \n",
      "a[1]              381.592000    1.142680  1.597490e+01   353.298000   \n",
      "a[2]              336.116000    0.478603  1.771380e+01   307.222000   \n",
      "a[3]              329.500000    0.883503  3.276410e+01   273.174000   \n",
      "a[4]              440.654000    4.900080  1.119980e+02   319.698000   \n",
      "b[1]                7.870420    0.088962  1.019370e+00     6.276470   \n",
      "b[2]               19.301100    0.034520  1.313840e+00    17.221100   \n",
      "b[3]               11.695900    0.057440  1.643940e+00     9.214670   \n",
      "b[4]               11.459300    0.225555  4.568690e+00     2.068310   \n",
      "cov_chol[1,1]      88.412700    3.571640  7.357010e+01     8.912770   \n",
      "cov_chol[1,2]       0.000000         NaN  0.000000e+00     0.000000   \n",
      "cov_chol[2,1]      -1.479620    0.220934  4.101520e+00    -7.971050   \n",
      "cov_chol[2,2]       7.297610    0.099904  4.345660e+00     3.012640   \n",
      "corr[1,1]           1.000000         NaN  6.000000e-16     1.000000   \n",
      "corr[1,2]          -0.187051    0.031974  4.112980e-01    -0.791884   \n",
      "corr[2,1]          -0.187051    0.031974  4.112980e-01    -0.791884   \n",
      "corr[2,2]           1.000000         NaN  6.000000e-16     1.000000   \n",
      "cov[1,1]        13228.000000  767.979000  2.481790e+04    79.437500   \n",
      "cov[1,2]         -179.030000   14.701000  6.006500e+02 -1057.890000   \n",
      "cov[2,1]         -179.030000   14.701000  6.006500e+02 -1057.890000   \n",
      "cov[2,2]           91.142700    2.915630  1.344690e+02    12.235300   \n",
      "\n",
      "                        50%           95%      N_Eff     N_Eff/s    R_hat  \n",
      "lp__            -172.126000   -167.465000   339.1200   333.12300  1.01007  \n",
      "ab[1,1]          382.204000    407.043000   195.4450   191.98900  1.01915  \n",
      "ab[1,2]            7.821700      9.939270   131.2950   128.97300  1.02720  \n",
      "ab[2,1]          336.086000    364.812000  1369.8500  1345.63000  1.00411  \n",
      "ab[2,2]           19.278500     21.453100  1448.6200  1423.01000  1.00366  \n",
      "ab[3,1]          331.464000    379.320000  1375.2400  1350.93000  1.00452  \n",
      "ab[3,2]           11.661300     14.524700   819.1210   804.63700  1.00803  \n",
      "ab[4,1]          406.324000    675.367000   522.4150   513.17800  1.01222  \n",
      "ab[4,2]           12.690300     16.549800   410.2780   403.02300  1.01500  \n",
      "ab0[1]           363.756000    478.161000  1272.9500  1250.45000  1.00274  \n",
      "ab0[2]            12.658000     19.479100  1779.3700  1747.90000  1.00088  \n",
      "corr_chol[1,1]     1.000000      1.000000        NaN         NaN      NaN  \n",
      "corr_chol[1,2]     0.000000      0.000000        NaN         NaN      NaN  \n",
      "corr_chol[2,1]    -0.225543      0.574280   165.4660   162.54000  1.02662  \n",
      "corr_chol[2,2]     0.931615      0.999453  1390.5700  1365.98000  1.00199  \n",
      "sigma_vec[1]      68.399000    232.182000   424.2940   416.79200  1.01066  \n",
      "sigma_vec[2]       7.271330     16.946100  1864.4400  1831.47000  1.00120  \n",
      "s_Y               28.654400     35.833600   957.4614   940.53183  1.00660  \n",
      "a[1]             382.204000    407.043000   195.4450   191.98900  1.01915  \n",
      "a[2]             336.086000    364.812000  1369.8500  1345.63000  1.00411  \n",
      "a[3]             331.464000    379.320000  1375.2400  1350.93000  1.00452  \n",
      "a[4]             406.324000    675.367000   522.4150   513.17800  1.01222  \n",
      "b[1]               7.821700      9.939270   131.2950   128.97300  1.02720  \n",
      "b[2]              19.278500     21.453100  1448.6200  1423.01000  1.00366  \n",
      "b[3]              11.661300     14.524700   819.1210   804.63700  1.00803  \n",
      "b[4]              12.690300     16.549800   410.2780   403.02300  1.01500  \n",
      "cov_chol[1,1]     68.399000    232.182000   424.2940   416.79200  1.01066  \n",
      "cov_chol[1,2]      0.000000      0.000000        NaN         NaN      NaN  \n",
      "cov_chol[2,1]     -1.397750      5.180460   344.6380   338.54400  1.01632  \n",
      "cov_chol[2,2]      6.049520     15.270300  1892.1100  1858.66000  1.00118  \n",
      "corr[1,1]          1.000000      1.000000        NaN         NaN      NaN  \n",
      "corr[1,2]         -0.225543      0.574280   165.4660   162.54000  1.02662  \n",
      "corr[2,1]         -0.225543      0.574280   165.4660   162.54000  1.02662  \n",
      "corr[2,2]          1.000000      1.000000        NaN         NaN      NaN  \n",
      "cov[1,1]        4678.420000  53908.700000  1044.3100  1025.85000  1.00476  \n",
      "cov[1,2]         -64.454000    422.499000  1669.3600  1639.84000  1.00108  \n",
      "cov[2,1]         -64.454000    422.499000  1669.3600  1639.84000  1.00108  \n",
      "cov[2,2]          52.872200    287.171000  2127.0800  2089.47000  1.00087  \n"
     ]
    }
   ],
   "source": [
    "import polars as pl\n",
    "from cmdstanpy import CmdStanModel\n",
    "\n",
    "\"\"\"二変量正規分布\"\"\"\n",
    "\n",
    "salary2_df = pl.read_csv(\"./chap08/input/data-salary-2.txt\")\n",
    "\n",
    "data = {\n",
    "    \"N\": salary2_df.shape[0],\n",
    "    \"K\": salary2_df[\"KID\"].max(),\n",
    "    \"X\": salary2_df[\"X\"].to_list(),\n",
    "    \"Y\": salary2_df[\"Y\"].to_list(),\n",
    "    \"KID\": salary2_df[\"KID\"].to_list(),\n",
    "}\n",
    "\n",
    "\"\"\"モデル10-5. 収束しない.\"\"\"\n",
    "sm10_5 = CmdStanModel(stan_file=\"./chap10/model/model10-5.stan\")\n",
    "fit10_5 = sm10_5.sample(data=data, seed=1234)\n",
    "print(fit10_5.summary())  # noqa: T201\n",
    "\n",
    "\n",
    "sm10_6 = CmdStanModel(stan_file=\"./chap10/model/model10-6.stan\")\n",
    "fit10_6 = sm10_6.sample(data=data, seed=1234)\n",
    "print(fit10_6.summary())  # noqa: T201\n",
    "\n",
    "sm10_7 = CmdStanModel(stan_file=\"./chap10/model/model10-7.stan\")\n",
    "data[\"Nu\"] = 2\n",
    "fit10_7 = sm10_7.sample(data=data, seed=1234)\n",
    "print(fit10_7.summary())  # noqa: T201"
   ]
  },
  {
   "cell_type": "markdown",
   "metadata": {},
   "source": [
    "## 10.3 再パラメータ化\n",
    "\n",
    "モデル式に含まれるパラメータを工夫して変数変換する事によって、サンプリングを効率的にする方法を再パラメータ化という。[5.1.6項](./chap05.ipynb#516-データのスケーリング)で使ったデータのスケーリングもこの一種。ここでは「Nealの漏斗」と呼ばれる極端な例からはじめ、その後階層モデルの例を説明する。\n",
    "\n",
    "### 10.3.1 Nealの漏斗\n",
    "\n",
    "この問題では、データはなく事前分布がそのまま事後分布となる。以下で示すモデル式の$a$と$r[n]$を推定する。\n",
    "\n",
    "モデル式10-8\n",
    "\n",
    "$$\n",
    "\\begin{align}\n",
    "a &\\sim \\mathrm{Normal}(0, 3) \\nonumber \\\\\n",
    "r[n] &\\sim \\mathrm{Normal}(0, \\exp(a/2)) \\quad n = 1, \\ldots, 1000 \\nonumber \\\\\n",
    "\\end{align}\n",
    "$$\n",
    "\n",
    "このモデル式の対数事後分布は漏斗のような形状になる。2次元に落としてその形を見てみる。例えば横軸に$r[1]$・縦軸にaをとって、対数周辺事後分布($\\log{p}(r[1], a)$)の等高線を描くと図10.5の等高線になる。色が明るい部分は対数事後分布の値が大きい箇所であり、$r[1]$が0付近で$a$が0以下の漏斗の先の方である。\n",
    "\n",
    "Stanの実装例[model10-8a.stan](chap10/model/model10-8a.stan)\n",
    "\n",
    "データがない場合はdataブロックは不要。この推定結果のMCMCサンプルと等高線を重ねたのが図10.5(左)。本来は対数事後分布の大きいところは比例してサンプリング数を大きくするべきだが、対数事後分布の大きい漏斗の先端付近からほとんどサンプリングできていない。対数事後分布が極端に歪な形なので、まんべんなくスムーズにパラメータを探索できていないからだ。この問題の場合はrの分布の形状(スケール)がaに強く依存していることが原因。\n",
    "\n",
    "ここで再パラメータ化を実行する。具体的には以下となる。\n",
    "- raw(生の)パラメータがスケールを固定した分布に従うとする → $\\mathrm{Normal}(0, 1)$や$\\mathrm{Uniform}(0, 1)$を使うことが多い\n",
    "- rawパラメータにスケールを掛けることで元のパラメータを表現する\n",
    "\n",
    "これを踏まえてStanの実装例は、[model10-8b.stan](chap10/model/model10-8b.stan)となる\n",
    "\n",
    "Normal(0, 1)に従い互いに独立なrawパラメータa_rawとr_rawを用意して、transformed parameterブロック内で、それらからそれぞれaとrを作ってサンプリングする。このように再パラメータ化してスケールを分離すると、a_rawとr_rawの空間では漏斗の形が解消されているので、サンプリングの効率が劇的に改善する。推定結果のMCMCサンプルを図10.5(左)と同じ空間で描くと図10.5(右)となる。"
   ]
  },
  {
   "cell_type": "code",
   "execution_count": 33,
   "metadata": {},
   "outputs": [
    {
     "name": "stderr",
     "output_type": "stream",
     "text": [
      "21:42:20 - cmdstanpy - INFO - CmdStan start processing\n"
     ]
    },
    {
     "data": {
      "application/vnd.jupyter.widget-view+json": {
       "model_id": "fdea04a39286491580ba85ee1a224e34",
       "version_major": 2,
       "version_minor": 0
      },
      "text/plain": [
       "chain 1 |          | 00:00 Status"
      ]
     },
     "metadata": {},
     "output_type": "display_data"
    },
    {
     "name": "stdout",
     "output_type": "stream",
     "text": [
      "                                                                                "
     ]
    },
    {
     "name": "stderr",
     "output_type": "stream",
     "text": [
      "21:42:24 - cmdstanpy - INFO - CmdStan done processing.\n"
     ]
    },
    {
     "name": "stdout",
     "output_type": "stream",
     "text": [
      "\n"
     ]
    },
    {
     "name": "stderr",
     "output_type": "stream",
     "text": [
      "21:42:24 - cmdstanpy - INFO - CmdStan start processing\n"
     ]
    },
    {
     "data": {
      "application/vnd.jupyter.widget-view+json": {
       "model_id": "36ad0d43d72444dd8b3e9bb20219008d",
       "version_major": 2,
       "version_minor": 0
      },
      "text/plain": [
       "chain 1 |          | 00:00 Status"
      ]
     },
     "metadata": {},
     "output_type": "display_data"
    },
    {
     "name": "stdout",
     "output_type": "stream",
     "text": [
      "                                                                                "
     ]
    },
    {
     "name": "stderr",
     "output_type": "stream",
     "text": [
      "21:42:28 - cmdstanpy - INFO - CmdStan done processing.\n"
     ]
    },
    {
     "name": "stdout",
     "output_type": "stream",
     "text": [
      "\n"
     ]
    },
    {
     "name": "stderr",
     "output_type": "stream",
     "text": [
      "/var/folders/f5/_tj1zvq95fx0wllynn0tpq800000gn/T/ipykernel_3381/2047754478.py:14: RuntimeWarning: divide by zero encountered in log\n",
      "  lp = np.log(stats.norm.pdf(y, loc=0, scale=3)) + np.log(\n"
     ]
    },
    {
     "data": {
      "image/png": "[encoded data removed]",
      "text/plain": [
       "<Figure size 800x400 with 2 Axes>"
      ]
     },
     "metadata": {},
     "output_type": "display_data"
    }
   ],
   "source": [
    "import numpy as np\n",
    "from cmdstanpy import CmdStanModel\n",
    "from scipy import stats\n",
    "\n",
    "\"\"\"図10.5\"\"\"\n",
    "sm_a = CmdStanModel(stan_file=\"./chap10/model/model10-8a.stan\")\n",
    "fit_a = sm_a.sample(chains=1, iter_warmup=2000, iter_sampling=4000, seed=123)\n",
    "sm_b = CmdStanModel(stan_file=\"./chap10/model/model10-8b.stan\")\n",
    "fit_b = sm_b.sample(chains=1, iter_warmup=2000, iter_sampling=4000, seed=123)\n",
    "\n",
    "xx, yy = np.mgrid[-5:5:30j, -5:5:30j]\n",
    "points = np.c_[xx.ravel(), yy.ravel()]\n",
    "x, y = points[:, 0], points[:, 1]\n",
    "lp = np.log(stats.norm.pdf(y, loc=0, scale=3)) + np.log(\n",
    "    stats.norm.pdf(x, loc=0, scale=np.exp(y / 2)),\n",
    ")\n",
    "lp[lp < -15] = -15\n",
    "\n",
    "_, axes = plt.subplots(1, 2, figsize=(8, 4), sharex=True, sharey=True)\n",
    "for fit, ax in zip([fit_a, fit_b], axes, strict=True):\n",
    "    cs = ax.contourf(xx, yy, lp.reshape(xx.shape), vmin=-15, vmax=0)\n",
    "    xlim = (-5, 5)\n",
    "    ylim = (-5, 5)\n",
    "    ax.scatter(fit.r[:, 0], fit.a, s=1, c=\"k\")\n",
    "    plt.setp(ax, xlabel=\"r[1]\", ylabel=\"a\", xlim=xlim, ylim=ylim)\n",
    "plt.show()"
   ]
  },
  {
   "cell_type": "markdown",
   "metadata": {},
   "source": [
    "### 10.3.2 階層モデル\n",
    "\n",
    "階層モデルにおいても再パラメータ化が有用な場合がある。[model8-4b.stan](chap09/model/model8-4b.stan)を再パラメータ化してみる。\n",
    "\n",
    "実装例[model8-4c.stan](chap10/model/model8-4c.stan)\n",
    "\n",
    "model8-4b.stanからの変更点\n",
    "- parameterブロックのa, bをrawパラメータa_raw, b_rawへ変更\n",
    "- transformed parametersブロックにて、rawパラメータa_raw, b_rawにそれぞれスケールs_a, s_bを掛けて、平均a0, b0を加えてa, bを作る\n",
    "- raw_パラメータa_raw, b_rawは$\\mathrm{Normal}(0, 1)$に従うことをmodelブロックに記述\n",
    "\n",
    "再パラメータ化により階層モデルの収束が改善する事があるが、計算が遅くなる場合もある。再パラメータ化を行うケースとして、\n",
    "- データが少ない場合に再パラメータ化を試す\n",
    "- ある階層・あるグループだけ部分的にデータが少ない場合はその部分だけの再パラメータ化を検討する\n",
    "\n",
    "## 10.4 その他の場合\n",
    "\n",
    "[10.1節](#101-パラメータの識別可能性)~[10.3節](#103-再パラメータ化)の方法では改善しない場合。例えば、\n",
    "- 微分が不連続な関数を使ったモデル\n",
    "  モデルの中に、パラメータを引数としたstep関数・abs関数・fmax関数・ceil関数[<sup>5)</sup>](#fn5)などの微分が不連続な関数や、パラメータの値に応じた条件分があると、偏微分の計算が効率的にできなくなり、推定計算が遅くなる上に収束しにくい場合がある。\n",
    "\n",
    "  そのような場合には、モデル式の変形で微分が不連続な関数を消去できないか検討する、あるいは微分が不連続な関数を含まないモデル式を代わりに考えるとよいだろう。\n",
    "- 局所最適解が多いモデル\n",
    "  問題によってはパラメータに深い局所最値が多数存在する場合がある。そのような場合には、今までの手法ではうまく行かない可能性がある。レプリカ交換法(replica exchange method, parallel temperingとも呼ぶ)などの発展的方法を使うと解決する場合がある。R側で工夫するとそれらの方法を実装することもできる。[<sup>6)</sup>](#fn6)\n",
    "\n",
    "## 補足と文献案内\n",
    "\n",
    "パラメータの識別可能性の例は、Stanのマニュアルの「Problematic Posteriors」の章に複数掲載されている。\n",
    "\n",
    "弱情報事前分布についてはStanのWikiページ「Prior Choice Recommendations[<sup>7)</sup>](#fn7)」を参考にした。有益な情報が多く必読である。また、WinBUGSに付属している例題をStanで実装し直したものが公式のGitHubのリポジトリにある[<sup>8)</sup>](#fn8)。WinBUGSのドキュメントを読んで問題の背景を理解したあとで、弱事前情報分布を使った Stanコードを読むと参考になるだろう(例えばvol1のpumps).LKJ相関分布について興味ある読者は、Stanのマニュアルの「Multivariate Priors for Hierarchical Models」の節や「Correlation Matrix Distributions」の章を参照してほしい。\n",
    "\n",
    "再パラメータ化については Stanのマニュアルが詳しい．「Reparameterization & Change of Variables」の章が用意されている他。例えば「Optimizing Stan Code」の章には多変量正規分布に従う変数を再パラメータ化する場合が載っている。\n",
    "\n",
    "レプリカ交換法について興味ある読者は[13](伊庭幸入ら. (2005). 計算統計II. 岩波書店.)を読むとよいだろう。\n",
    "\n",
    "  >[<sup>5)</sup>](#fn5-back) 詳しく知りたい読者はStanのマニュアルの「Step-like Functions」の節を参照してほしい。\n",
    "  >\n",
    "  >[<sup>6)</sup>](#fn6-back) http://statmodeling.hatenablog.com/entry/stan-parallel-tempering\n",
    "  >\n",
    "  >[<sup>7)</sup>](#fn7-back) https://github.com/stan-dev/stan/wiki/Prior-Choice-Recommendations\n",
    "  >\n",
    "  >[<sup>8)</sup>](#fn8-back) https://github.com/stan-dev/example-models"
   ]
  }
 ],
 "metadata": {
  "kernelspec": {
   "display_name": ".venv",
   "language": "python",
   "name": "python3"
  },
  "language_info": {
   "codemirror_mode": {
    "name": "ipython",
    "version": 3
   },
   "file_extension": ".py",
   "mimetype": "text/x-python",
   "name": "python",
   "nbconvert_exporter": "python",
   "pygments_lexer": "ipython3",
   "version": "3.12.0"
  }
 },
 "nbformat": 4,
 "nbformat_minor": 2
}
